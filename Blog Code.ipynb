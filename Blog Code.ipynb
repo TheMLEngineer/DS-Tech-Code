{
 "cells": [
  {
   "cell_type": "code",
   "execution_count": 4,
   "metadata": {},
   "outputs": [],
   "source": [
    "a = 1,\"fg\""
   ]
  },
  {
   "cell_type": "code",
   "execution_count": 5,
   "metadata": {},
   "outputs": [
    {
     "data": {
      "text/plain": [
       "(1, 'fg')"
      ]
     },
     "execution_count": 5,
     "metadata": {},
     "output_type": "execute_result"
    }
   ],
   "source": [
    "a"
   ]
  },
  {
   "cell_type": "code",
   "execution_count": 6,
   "metadata": {},
   "outputs": [
    {
     "data": {
      "text/plain": [
       "tuple"
      ]
     },
     "execution_count": 6,
     "metadata": {},
     "output_type": "execute_result"
    }
   ],
   "source": [
    "type(a)"
   ]
  },
  {
   "cell_type": "code",
   "execution_count": 23,
   "metadata": {},
   "outputs": [
    {
     "name": "stdout",
     "output_type": "stream",
     "text": [
      "Blah Blah Blah before the function is called.\n",
      "Hello\n",
      "Blah Blah Blah after the function is called.\n",
      "None"
     ]
    }
   ],
   "source": [
    "def actual_function(func):\n",
    "    def inside_wrapper_function():\n",
    "        print(\"Blah Blah Blah before the function is called.\")\n",
    "        func()\n",
    "        print(\"Blah Blah Blah after the function is called.\")\n",
    "    return inside_wrapper_function\n",
    "def hello():\n",
    "    print('Hello')\n",
    "\n",
    "say_hello = actual_function(hello)\n",
    "print(say_hello() , end = '')\n"
   ]
  },
  {
   "cell_type": "code",
   "execution_count": 26,
   "metadata": {},
   "outputs": [
    {
     "name": "stdout",
     "output_type": "stream",
     "text": [
      "Blah Blah Blah before the function is called.\n",
      "Hello\n",
      "Blah Blah Blah after the function is called.\n",
      "None\n"
     ]
    }
   ],
   "source": [
    "def actual_function(func):\n",
    "    def inside_wrapper_function():\n",
    "        print(\"Blah Blah Blah before the function is called.\")\n",
    "        func()\n",
    "        print(\"Blah Blah Blah after the function is called.\")\n",
    "    return inside_wrapper_function\n",
    "@actual_function\n",
    "def say_hello():\n",
    "    print('Hello')\n",
    "print(say_hello())"
   ]
  },
  {
   "cell_type": "code",
   "execution_count": 14,
   "metadata": {},
   "outputs": [
    {
     "data": {
      "text/plain": [
       "<function __main__.actual_function.<locals>.inside_wrapper_function()>"
      ]
     },
     "execution_count": 14,
     "metadata": {},
     "output_type": "execute_result"
    }
   ],
   "source": [
    "actual_function(hello)"
   ]
  },
  {
   "cell_type": "code",
   "execution_count": 15,
   "metadata": {},
   "outputs": [
    {
     "name": "stdout",
     "output_type": "stream",
     "text": [
      "Blah Blah Blah before the function is called.\n",
      "Hello\n",
      "Blah Blah Blah after the function is called.\n",
      "None\n"
     ]
    }
   ],
   "source": [
    "say_hello = actual_function(hello)\n",
    "print(say_hello())"
   ]
  },
  {
   "cell_type": "code",
   "execution_count": 16,
   "metadata": {},
   "outputs": [
    {
     "name": "stdout",
     "output_type": "stream",
     "text": [
      "Blah Blah Blah before the function is called.\n",
      "Hello\n",
      "Blah Blah Blah after the function is called.\n"
     ]
    }
   ],
   "source": [
    "say_hello = actual_function(hello)\n",
    "say_hello()"
   ]
  },
  {
   "cell_type": "code",
   "execution_count": 19,
   "metadata": {},
   "outputs": [
    {
     "name": "stdout",
     "output_type": "stream",
     "text": [
      "Blah Blah Blah before the function is called.\n",
      "Hello\n",
      "Blah Blah Blah after the function is called.\n",
      "None\n"
     ]
    }
   ],
   "source": [
    "print(say_hello())"
   ]
  },
  {
   "cell_type": "code",
   "execution_count": 27,
   "metadata": {},
   "outputs": [
    {
     "name": "stdout",
     "output_type": "stream",
     "text": [
      "Hello World\n"
     ]
    }
   ],
   "source": [
    "# First Order Function\n",
    "def print_function(string_to_print):\n",
    "    print(string_to_print)\n",
    "print_function('Hello World')"
   ]
  },
  {
   "cell_type": "code",
   "execution_count": 29,
   "metadata": {},
   "outputs": [
    {
     "name": "stdout",
     "output_type": "stream",
     "text": [
      "**********\n",
      "Hello World\n",
      "**********\n"
     ]
    }
   ],
   "source": [
    "# Higher Order Function that takes function as input\n",
    "def print_function(string_to_print):\n",
    "    print(string_to_print)\n",
    "def second_print_function(string_to_print , print_function):\n",
    "    print('*' * 10)\n",
    "    print_function(string_to_print)\n",
    "    print('*' * 10)\n",
    "second_print_function('Hello World' , print_function )"
   ]
  },
  {
   "cell_type": "code",
   "execution_count": 31,
   "metadata": {},
   "outputs": [
    {
     "name": "stdout",
     "output_type": "stream",
     "text": [
      "3\n"
     ]
    }
   ],
   "source": [
    "def return_3():\n",
    "    return 3\n",
    "def return_return_3():\n",
    "    return return_3()\n",
    "print(return_return_3())"
   ]
  },
  {
   "cell_type": "code",
   "execution_count": 13,
   "metadata": {},
   "outputs": [
    {
     "name": "stdout",
     "output_type": "stream",
     "text": [
      "0\n",
      "1\n",
      "2\n",
      "Number has reached required value 3\n"
     ]
    }
   ],
   "source": [
    "# Recursion\n",
    "def function(number):\n",
    "    # Base Condition\n",
    "    if number >= 3:\n",
    "        return 'Number has reached required value 3'\n",
    "    # Here we call function inside function\n",
    "    else:\n",
    "        # printing number here so we can follow what changes are happening to number variable\n",
    "        print(number)\n",
    "        return function(number + 1)\n",
    "\n",
    "print(function(0))"
   ]
  },
  {
   "cell_type": "code",
   "execution_count": 10,
   "metadata": {},
   "outputs": [
    {
     "name": "stdout",
     "output_type": "stream",
     "text": [
      "0\n",
      "1\n",
      "2\n"
     ]
    },
    {
     "data": {
      "text/plain": [
       "'Number has reached required value 3'"
      ]
     },
     "execution_count": 10,
     "metadata": {},
     "output_type": "execute_result"
    }
   ],
   "source": [
    "function(0)"
   ]
  },
  {
   "cell_type": "code",
   "execution_count": 11,
   "metadata": {},
   "outputs": [
    {
     "name": "stdout",
     "output_type": "stream",
     "text": [
      "0\n",
      "1\n",
      "2\n",
      "Number has reached required value 3\n"
     ]
    }
   ],
   "source": [
    "print(function(0))"
   ]
  },
  {
   "cell_type": "code",
   "execution_count": 14,
   "metadata": {},
   "outputs": [
    {
     "ename": "NameError",
     "evalue": "name 'random_function_name' is not defined",
     "output_type": "error",
     "traceback": [
      "\u001b[0;31m---------------------------------------------------------------------------\u001b[0m",
      "\u001b[0;31mNameError\u001b[0m                                 Traceback (most recent call last)",
      "\u001b[0;32m/tmp/ipykernel_13451/3830254607.py\u001b[0m in \u001b[0;36m<module>\u001b[0;34m\u001b[0m\n\u001b[0;32m----> 1\u001b[0;31m \u001b[0;34m@\u001b[0m\u001b[0mrandom_function_name\u001b[0m\u001b[0;34m\u001b[0m\u001b[0;34m\u001b[0m\u001b[0m\n\u001b[0m\u001b[1;32m      2\u001b[0m \u001b[0;32mdef\u001b[0m \u001b[0msay_hi\u001b[0m\u001b[0;34m(\u001b[0m\u001b[0;34m)\u001b[0m\u001b[0;34m:\u001b[0m\u001b[0;34m\u001b[0m\u001b[0;34m\u001b[0m\u001b[0m\n\u001b[1;32m      3\u001b[0m     \u001b[0mprint\u001b[0m\u001b[0;34m(\u001b[0m\u001b[0;34m'Hi'\u001b[0m\u001b[0;34m)\u001b[0m\u001b[0;34m\u001b[0m\u001b[0;34m\u001b[0m\u001b[0m\n",
      "\u001b[0;31mNameError\u001b[0m: name 'random_function_name' is not defined"
     ]
    }
   ],
   "source": [
    "@random_function_name\n",
    "def say_hi():\n",
    "    print('Hi')"
   ]
  },
  {
   "cell_type": "code",
   "execution_count": 15,
   "metadata": {},
   "outputs": [
    {
     "name": "stdout",
     "output_type": "stream",
     "text": [
      "Blah Blah Blah before the function is called.\n",
      ";) ;) ;) before the function is called.\n",
      "Hello\n",
      ";) ;) ;) after the function is called.\n",
      "Blah Blah Blah after the function is called.\n",
      "None\n"
     ]
    }
   ],
   "source": [
    "def blah(func):\n",
    "    def inside_wrapper_function():\n",
    "        print(\"Blah Blah Blah before the function is called.\")\n",
    "        func()\n",
    "        print(\"Blah Blah Blah after the function is called.\")\n",
    "    return inside_wrapper_function\n",
    "def semi_colon(func):\n",
    "    def inside_wrapper_function_1():\n",
    "        print(\";) ;) ;) before the function is called.\")\n",
    "        func()\n",
    "        print(\";) ;) ;) after the function is called.\")\n",
    "    return inside_wrapper_function_1\n",
    "@blah\n",
    "@semi_colon\n",
    "def say_hello():\n",
    "    print('Hello')\n",
    "print(say_hello())"
   ]
  },
  {
   "cell_type": "code",
   "execution_count": 16,
   "metadata": {},
   "outputs": [
    {
     "name": "stdout",
     "output_type": "stream",
     "text": [
      "Blah Blah Blah before the function is called.\n",
      ";) ;) ;) before the function is called.\n",
      "Hello\n",
      ";) ;) ;) after the function is called.\n",
      "Blah Blah Blah after the function is called.\n",
      "None\n"
     ]
    }
   ],
   "source": [
    "# Using two decorators on one function\n",
    "\n",
    "def blah(func):\n",
    "    def inside_wrapper_function():\n",
    "        print(\"Blah Blah Blah before the function is called.\")\n",
    "        func()\n",
    "        print(\"Blah Blah Blah after the function is called.\")\n",
    "    return inside_wrapper_function\n",
    "def semi_colon(func):\n",
    "    def inside_wrapper_function_1():\n",
    "        print(\";) ;) ;) before the function is called.\")\n",
    "        func()\n",
    "        print(\";) ;) ;) after the function is called.\")\n",
    "    return inside_wrapper_function_1\n",
    "@blah\n",
    "@semi_colon\n",
    "def say_hello():\n",
    "    print('Hello')\n",
    "print(say_hello())"
   ]
  },
  {
   "cell_type": "code",
   "execution_count": 18,
   "metadata": {},
   "outputs": [
    {
     "name": "stdout",
     "output_type": "stream",
     "text": [
      "[]\n",
      "**************************************************\n",
      "[1, 2]\n",
      "**************************************************\n",
      "1\n",
      "2\n",
      "**************************************************\n",
      "[2]\n",
      "**************************************************\n"
     ]
    }
   ],
   "source": [
    "# CRUD Operations on list\n",
    "# Creating an empty list\n",
    "list_variable = []\n",
    "print(list_variable)\n",
    "print('*'*50)\n",
    "# Adding values to list without using built in methods\n",
    "list_variable = list_variable + [1,2]\n",
    "print(list_variable)\n",
    "print('*'*50)\n",
    "# Reading every element from list\n",
    "for element in list_variable:\n",
    "    print(element)\n",
    "print('*'*50)\n",
    "# Deleting First List element\n",
    "del list_variable[0]\n",
    "print(list_variable)\n",
    "print('*'*50)"
   ]
  },
  {
   "cell_type": "code",
   "execution_count": 39,
   "metadata": {},
   "outputs": [
    {
     "name": "stdout",
     "output_type": "stream",
     "text": [
      "[3, {5, 6, 7}]\n",
      "**************************************************\n",
      "[3, {5, 6, 7}, 44]\n",
      "**************************************************\n"
     ]
    }
   ],
   "source": [
    "# List built in methods\n",
    "# Method : Append\n",
    "# What It Does : Add an item to the end of the list.\n",
    "list_variable = []\n",
    "list_variable.append(3)\n",
    "# append method can be used to append other built in data types like sets , dictionary , tuples etc\n",
    "list_variable.append({5,6,7})\n",
    "print(list_variable)\n",
    "print('*'*50)\n",
    "# Achieveing list appending without using append() method\n",
    "list_variable[len(list_variable) : ] = [44]\n",
    "print(list_variable)\n",
    "print('*'*50)"
   ]
  },
  {
   "cell_type": "code",
   "execution_count": 46,
   "metadata": {},
   "outputs": [
    {
     "name": "stdout",
     "output_type": "stream",
     "text": [
      "[1, 2, 3]\n",
      "**************************************************\n",
      "Type Error has occured while trying to use extend function on an non iterable variable like integer : 'int' object is not iterable\n",
      "**************************************************\n",
      "[1, 2, 3, [4, 5, 6], [7, 8, 9]]\n",
      "**************************************************\n",
      "[1, 2, 3, [4, 5, 6], [7, 8, 9], 10, 11]\n",
      "**************************************************\n"
     ]
    }
   ],
   "source": [
    "# List built in methods\n",
    "# Method : Extend\n",
    "# What It Does : Extend the list by appending all the items from the iterable.\n",
    "list_variable = []\n",
    "list_variable.extend([1,2,3])\n",
    "# If you see in append , the whole list element is appended at the end as one item\n",
    "# In extend we iterate through the iterable and add each item at the end of list\n",
    "print(list_variable)\n",
    "print('*'*50)\n",
    "# What if we use extend function on an non iterable variable like integer ?\n",
    "try:\n",
    "    list_variable.extend(3)\n",
    "except Exception as e:\n",
    "    print('Type Error has occured while trying to use extend function on an non iterable variable like integer :' ,e)\n",
    "print('*'*50)\n",
    "# What happens if we try to append Nested lists ?\n",
    "list_variable.extend([[4,5,6] , [7,8,9]])\n",
    "# Extend only iterate though once\n",
    "# So even if the element inside an iterator is an iterator it won't unpack the second iterator\n",
    "print(list_variable)\n",
    "print('*'*50)\n",
    "# Achieveing list extending without using extend() method\n",
    "list_variable[len(list_variable) : ] = [10 , 11]\n",
    "print(list_variable)\n",
    "print('*'*50)"
   ]
  },
  {
   "cell_type": "code",
   "execution_count": 64,
   "metadata": {},
   "outputs": [
    {
     "name": "stdout",
     "output_type": "stream",
     "text": [
      "['first element', 'element 1', 'element 2', 'element 3']\n",
      "**************************************************\n",
      "['first element', 'element 1', 'element 2', 'element 3', 'latest element']\n",
      "**************************************************\n"
     ]
    }
   ],
   "source": [
    "# List built in methods\n",
    "# Method : Insert\n",
    "# What It Does : To Insert an item at a given position. \n",
    "list_variable = ['element 1' , 'element 2' , 'element 3']\n",
    "# Here 0 is the index(Index can be positive index or negative index) and 'first element' is the value we are inserting\n",
    "# You can insert any values like int , flot , lists , tuple etc.\n",
    "list_variable.insert(0 , 'first element')\n",
    "print(list_variable)\n",
    "print('*'*50)\n",
    "# What if index we are inserting in does not exist in list\n",
    "list_variable.insert(44 , 'latest element')\n",
    "# Index 44 does not exist in list\n",
    "# Still insert method added the value at the end of the list\n",
    "print(list_variable)\n",
    "print('*'*50)"
   ]
  },
  {
   "cell_type": "code",
   "execution_count": 70,
   "metadata": {},
   "outputs": [
    {
     "name": "stdout",
     "output_type": "stream",
     "text": [
      "List content at begining : [1, 2, 3, 2]\n",
      "**************************************************\n",
      "List content after removing 1 : [2, 3, 2]\n",
      "**************************************************\n",
      "When Trying to remove a value that does not exist Value Error Occured :  list.remove(x): x not in list\n",
      "**************************************************\n",
      "List content after removing a duplicate element : [3, 2]\n",
      "**************************************************\n"
     ]
    }
   ],
   "source": [
    "# List built in methods\n",
    "# Method : Remove\n",
    "# What It Does : To Remove an item in the list\n",
    "list_variable = [1,2,3,2]\n",
    "print('List content at begining :' , list_variable)\n",
    "print('*'*50)\n",
    "list_variable.remove(1)\n",
    "print('List content after removing 1 :' , list_variable)\n",
    "print('*'*50)\n",
    "# Trying to remove a value that does not exist\n",
    "try:\n",
    "    list_variable.remove('Non existant value in list')\n",
    "except Exception as e:\n",
    "    print('When Trying to remove a value that does not exist Value Error Occured : ' , e)\n",
    "print('*'*50)\n",
    "# What if list has duplicate elements ?\n",
    "list_variable.remove(2)\n",
    "# If a list contains duplicate elements, the remove() method only removes the first matching element\n",
    "print('List content after removing a duplicate element :' , list_variable)\n",
    "print('*'*50)\n"
   ]
  },
  {
   "cell_type": "code",
   "execution_count": 5,
   "metadata": {},
   "outputs": [
    {
     "name": "stdout",
     "output_type": "stream",
     "text": [
      "List content at begining : [1, 2, 3, 4]\n",
      "**************************************************\n",
      "List content after popping value at index 1 : [1, 3, 4]\n",
      "Popped value : 2\n",
      "**************************************************\n",
      "List content after popping with no arguments : [1, 3]\n",
      "Popped value : 4\n",
      "**************************************************\n",
      "IndexError: pop index out of range error occured pop index out of range\n",
      "**************************************************\n"
     ]
    }
   ],
   "source": [
    "# List built in methods\n",
    "# Method : Pop\n",
    "# What It Does : Pop removes the item at the given position in the list, and return it.If no index is specified, a.pop() removes and returns the last item in the list.\n",
    "list_variable = [1,2,3,4]\n",
    "print('List content at begining :' , list_variable)\n",
    "print('*'*50)\n",
    "# Popping value at index 1\n",
    "popped_value = list_variable.pop(1)\n",
    "print('List content after popping value at index 1 :' , list_variable)\n",
    "print('Popped value :' , popped_value)\n",
    "print('*'*50)\n",
    "# Popping without index\n",
    "# If no index is specified, a.pop() removes and returns the last item in the list.\n",
    "popped_value = list_variable.pop()\n",
    "print('List content after popping with no arguments :' , list_variable)\n",
    "print('Popped value :' , popped_value)\n",
    "print('*'*50)\n",
    "# If the index passed to the method is not in range, it throws IndexError: pop index out of range exception.\n",
    "try:\n",
    "    # tryinh to pop value at index 1000\n",
    "    popped_value = list_variable.pop(1000)\n",
    "except Exception as e :\n",
    "    print('IndexError: pop index out of range error occured' , e)\n",
    "print('*'*50)\n"
   ]
  },
  {
   "cell_type": "code",
   "execution_count": 6,
   "metadata": {},
   "outputs": [
    {
     "name": "stdout",
     "output_type": "stream",
     "text": [
      "List content at begining : [1, 2, 3, 4]\n",
      "**************************************************\n",
      "List content after clear() method : []\n",
      "**************************************************\n"
     ]
    }
   ],
   "source": [
    "# List built in methods\n",
    "# Method : Clear\n",
    "# What It Does : Clear Remove all items from the list\n",
    "list_variable = [1,2,3,4]\n",
    "print('List content at begining :' , list_variable)\n",
    "print('*'*50)\n",
    "list_variable.clear()\n",
    "print('List content after clear() method :' , list_variable)\n",
    "print('*'*50)"
   ]
  },
  {
   "cell_type": "code",
   "execution_count": 10,
   "metadata": {},
   "outputs": [
    {
     "name": "stdout",
     "output_type": "stream",
     "text": [
      "List content at begining : [1, 2, 3, 4]\n",
      "**************************************************\n",
      "Index Of Element 1 in List : 0\n",
      "**************************************************\n",
      "ValueError: 1 is not in list has occured :  1 is not in list\n",
      "**************************************************\n"
     ]
    }
   ],
   "source": [
    "# List built in methods\n",
    "# Method : Index\n",
    "# What It Does : Return zero-based index in the list of the first item whose value is equal to x. Raises a ValueError if there is no such item.\n",
    "list_variable = [1,2,3,4]\n",
    "print('List content at begining :' , list_variable)\n",
    "print('*'*50)\n",
    "# index of element 1\n",
    "index_of_1 = list_variable.index(1)\n",
    "print('Index Of Element 1 in List :' , index_of_1)\n",
    "print('*'*50)\n",
    "# 3 parameters of list.index()\n",
    "# 1) element - the element to be searched\n",
    "# 2) start (optional) - start searching from this index\n",
    "# 3) end (optional) - search the element up to this index\n",
    "# Here we search for 1 in [3,4] , By setting up args accordingly\n",
    "try:\n",
    "    index_of_1 = list_variable.index(1 , 2 , -1)\n",
    "except Exception as e:\n",
    "    print('ValueError: 1 is not in list has occured : ' , e)\n",
    "print('*'*50)"
   ]
  },
  {
   "cell_type": "code",
   "execution_count": 11,
   "metadata": {},
   "outputs": [
    {
     "name": "stdout",
     "output_type": "stream",
     "text": [
      "List content at begining : [1, 2, 3, 4, 1, 1, 2, 2, 3]\n",
      "**************************************************\n",
      "number_of_times_one_have_occured in the list are : 3\n",
      "**************************************************\n"
     ]
    }
   ],
   "source": [
    "# List built in methods\n",
    "# Method : Count\n",
    "# What It Does : Returns the number of times an element appears in the list.\n",
    "list_variable = [1,2,3,4,1,1,2,2,3]\n",
    "print('List content at begining :' , list_variable)\n",
    "print('*'*50)\n",
    "number_of_times_one_have_occured = list_variable.count(1)\n",
    "print('number_of_times_one_have_occured in the list are :' , number_of_times_one_have_occured)\n",
    "print('*'*50)"
   ]
  },
  {
   "cell_type": "code",
   "execution_count": 18,
   "metadata": {},
   "outputs": [
    {
     "name": "stdout",
     "output_type": "stream",
     "text": [
      "List content at begining : ['a', 'zz', 'f', 'hhhh', 't']\n",
      "**************************************************\n",
      "List content after using sort() : ['a', 'f', 'hhhh', 't', 'zz']\n",
      "**************************************************\n",
      "List content after using sort() with reverse as True : ['zz', 't', 'hhhh', 'f', 'a']\n",
      "**************************************************\n",
      "List content after using sort() with len() key function : ['t', 'f', 'a', 'zz', 'hhhh']\n",
      "**************************************************\n"
     ]
    }
   ],
   "source": [
    "# List built in methods\n",
    "# Method : Sort\n",
    "# What It Does : Sort the items of the list in place.\n",
    "list_variable = ['a' , 'zz' , 'f' , 'hhhh' , 't']\n",
    "print('List content at begining :' , list_variable)\n",
    "print('*'*50)\n",
    "# sort() changes the list directly and doesn't return any value\n",
    "list_variable.sort()\n",
    "print('List content after using sort() :' , list_variable)\n",
    "print('*'*50)\n",
    "# Using reverse argument\n",
    "list_variable.sort(reverse=True)\n",
    "print('List content after using sort() with reverse as True :' , list_variable)\n",
    "print('*'*50)\n",
    "# Using key argument (It accepts a function as key and sorts based on the key function)\n",
    "# Here we'll use built in len function\n",
    "\n",
    "list_variable.sort(key = len)\n",
    "print('List content after using sort() with len() key function :' , list_variable)\n",
    "print('*'*50)"
   ]
  },
  {
   "cell_type": "code",
   "execution_count": 21,
   "metadata": {},
   "outputs": [
    {
     "name": "stdout",
     "output_type": "stream",
     "text": [
      "List content at begining : [4, 7, 2, 4, 6, 7, 8, 98, 3]\n",
      "**************************************************\n",
      "List content after using reverse() : [3, 98, 8, 7, 6, 4, 2, 7, 4]\n",
      "**************************************************\n"
     ]
    }
   ],
   "source": [
    "# List built in methods\n",
    "# Method : Reverse\n",
    "# What It Does : Reverse the elements of the list in place.\n",
    "list_variable = [4,7,2,4,6,7,8,98,3]\n",
    "print('List content at begining :' , list_variable)\n",
    "print('*'*50)\n",
    "# Using reverse()\n",
    "# reverse() changes the list directly and doesn't return any value\n",
    "list_variable.reverse()\n",
    "print('List content after using reverse() :' , list_variable)\n",
    "print('*'*50)\n",
    "# Reverse method does not sort descending , It just reverses the values in list in opposite order"
   ]
  },
  {
   "cell_type": "code",
   "execution_count": 30,
   "metadata": {},
   "outputs": [
    {
     "name": "stdout",
     "output_type": "stream",
     "text": [
      "Original List content at begining : [1, 2, 3]\n",
      "**************************************************\n",
      "Original List content after copying : [1, 2, 3]\n",
      "Copied List content using copy() :  [1, 2, 3]\n",
      "Copied List content using \"=\" sign :  [1, 2, 3]\n",
      "**************************************************\n",
      "Original List content after appending 4 : [1, 2, 3, 4]\n",
      "Copied List content using copy() after appending 3 :  [1, 2, 3, 3]\n",
      "Copied List content using \"=\" sign after appending 4 :  [1, 2, 3, 4]\n",
      "**************************************************\n",
      "We can understand that if we do copy using = sign if we change the copied list content , original list content also changes. But in .copy() the original list content does not change even if you change the copied list content.\n",
      "\n",
      "**************************************************\n"
     ]
    }
   ],
   "source": [
    "# List built in methods\n",
    "# Method : Copy\n",
    "# What It Does : Return a shallow copy of the list\n",
    "list_variable = [1,2,3]\n",
    "print('Original List content at begining :' , list_variable)\n",
    "print('*'*50)\n",
    "copy_of_list = list_variable.copy()\n",
    "copy_using_equal_sign_list = list_variable\n",
    "print('Original List content after copying :' , list_variable)\n",
    "print('Copied List content using copy() : ' , copy_of_list)\n",
    "print('Copied List content using \"=\" sign : ' , copy_using_equal_sign_list)\n",
    "print('*'*50)\n",
    "# Changing values in both copied lists\n",
    "copy_of_list.append(3)\n",
    "copy_using_equal_sign_list.append(4)\n",
    "print('Original List content after appending 4 :' , list_variable)\n",
    "print('Copied List content using copy() after appending 3 : ' , copy_of_list)\n",
    "print('Copied List content using \"=\" sign after appending 4 : ' , copy_using_equal_sign_list)\n",
    "print('*'*50)\n",
    "# We can understand that if we do copy using = sign if we change the copied list content , original list content also changes\n",
    "# But in .copy() the original list content does not change even if you change the copied list content.\n",
    "print('''We can understand that if we do copy using = sign if we change the copied list content , original list content also changes. But in .copy() the original list content does not change even if you change the copied list content.\n",
    "''')\n",
    "print('*'*50)"
   ]
  },
  {
   "cell_type": "code",
   "execution_count": 32,
   "metadata": {},
   "outputs": [
    {
     "name": "stdout",
     "output_type": "stream",
     "text": [
      "Original List content at begining : ['a', 'b', 'c', 'd', 'e', 'f']\n",
      "**************************************************\n",
      "Accessing 'c' using Positive Indexing\n",
      "c\n",
      "**************************************************\n",
      "Accessing 'c' using Negative Indexing\n",
      "c\n",
      "**************************************************\n"
     ]
    }
   ],
   "source": [
    "# List Indexing\n",
    "list_variable = ['a' , 'b' , 'c' , 'd' , 'e' , 'f']\n",
    "print('Original List content at begining :' , list_variable)\n",
    "print('*'*50)\n",
    "\n",
    "# Accessing 'c' using Positive Indexing\n",
    "print(\"Accessing 'c' using Positive Indexing\")\n",
    "print(list_variable[2])\n",
    "print('*'*50)\n",
    "# Accessing 'c' using Negative Indexing\n",
    "print(\"Accessing 'c' using Negative Indexing\")\n",
    "print(list_variable[-4])\n",
    "print('*'*50)"
   ]
  },
  {
   "cell_type": "code",
   "execution_count": 33,
   "metadata": {},
   "outputs": [
    {
     "name": "stdout",
     "output_type": "stream",
     "text": [
      "Original List content at begining : ['a', 'b', 'c', 'd', 'e', 'f']\n",
      "**************************************************\n",
      "Printing 'b' to 'e' using slicing\n",
      "['b', 'c', 'd', 'e']\n"
     ]
    }
   ],
   "source": [
    "# List Slicing\n",
    "list_variable = ['a' , 'b' , 'c' , 'd' , 'e' , 'f']\n",
    "print('Original List content at begining :' , list_variable)\n",
    "print('*'*50)\n",
    "# Printing 'b' to 'e' using slicing\n",
    "print(\"Printing 'b' to 'e' using slicing\")\n",
    "print(list_variable[1:5])\n",
    "print('*'*50)"
   ]
  },
  {
   "cell_type": "code",
   "execution_count": 37,
   "metadata": {},
   "outputs": [
    {
     "name": "stdout",
     "output_type": "stream",
     "text": [
      "List comprehension using only variable : [0, 1, 2, 3, 4, 5, 6, 7, 8, 9]\n",
      "**************************************************\n",
      "List comprehension using actions on variable (Here multiplying variable with variable): [0, 1, 4, 9, 16, 25, 36, 49, 64, 81]\n",
      "**************************************************\n",
      "List comprehension using actions and conditions on variable (Here multiplying variable with variable if variable is even number): [0, 4, 16, 36, 64]\n",
      "**************************************************\n"
     ]
    }
   ],
   "source": [
    "# List Comprehension\n",
    "# Only having variable\n",
    "list_variable = [i for i in range(10)]\n",
    "print('List comprehension using only variable :' , list_variable)\n",
    "print('*'*50)\n",
    "# Actions on variable\n",
    "list_variable = [i * i for i in range(10)]\n",
    "print('List comprehension using actions on variable (Here multiplying variable with variable):' , list_variable)\n",
    "print('*'*50)\n",
    "# Actions and conditions on variable\n",
    "list_variable = [i * i for i in range(10) if i % 2 == 0]\n",
    "print('List comprehension using actions and conditions on variable (Here multiplying variable with variable if variable is even number):' , list_variable)\n",
    "print('*'*50)"
   ]
  },
  {
   "cell_type": "code",
   "execution_count": 38,
   "metadata": {},
   "outputs": [
    {
     "name": "stdout",
     "output_type": "stream",
     "text": [
      "Original List content at begining : ['a', 'b', 'c', 'd', 'e', 'f']\n",
      "**************************************************\n",
      "Iteration Using for loop\n",
      "a\n",
      "b\n",
      "c\n",
      "d\n",
      "e\n",
      "f\n",
      "**************************************************\n",
      "Iteration Using while loop\n",
      "a\n",
      "b\n",
      "c\n",
      "d\n",
      "e\n",
      "f\n",
      "**************************************************\n"
     ]
    }
   ],
   "source": [
    "# List Iterate\n",
    "list_variable = ['a' , 'b' , 'c' , 'd' , 'e' , 'f']\n",
    "print('Original List content at begining :' , list_variable)\n",
    "print('*'*50)\n",
    "# Using for loop\n",
    "print('Iteration Using for loop')\n",
    "for element in list_variable:\n",
    "    print(element)\n",
    "print('*'*50)\n",
    "# Using while loop\n",
    "print('Iteration Using while loop')\n",
    "while len(list_variable) != 0:\n",
    "    first_element = list_variable.pop(0)\n",
    "    print(first_element)\n",
    "print('*'*50)"
   ]
  },
  {
   "cell_type": "code",
   "execution_count": 44,
   "metadata": {},
   "outputs": [
    {
     "name": "stdout",
     "output_type": "stream",
     "text": [
      "isinstance function returns True if the value and datatype passed match if not it returns False\n",
      "Checking if 'a' is of String type : True\n",
      "**************************************************\n",
      "'a' is of string type\n",
      "**************************************************\n"
     ]
    }
   ],
   "source": [
    "# isinstance function\n",
    "# Used to check data type\n",
    "print('isinstance function returns True if the value and datatype passed match if not it returns False')\n",
    "print(\"Checking if 'a' is of String type :\" , isinstance('a' , str))\n",
    "print('*'*50)\n",
    "# As isinstance function returns boolean True or False it can be used in conditional statement\n",
    "if isinstance('a' , str):\n",
    "    print(\"'a' is of string type\")\n",
    "else:\n",
    "    print(\"'a' is not string type\")\n",
    "print('*'*50)"
   ]
  },
  {
   "cell_type": "code",
   "execution_count": 76,
   "metadata": {},
   "outputs": [
    {
     "name": "stdout",
     "output_type": "stream",
     "text": [
      "gfg"
     ]
    },
    {
     "name": "stderr",
     "output_type": "stream",
     "text": [
      "ABC"
     ]
    },
    {
     "data": {
      "text/plain": [
       "3"
      ]
     },
     "execution_count": 76,
     "metadata": {},
     "output_type": "execute_result"
    }
   ],
   "source": [
    "# sys.stdout\n",
    "import sys\n",
    "sys.stdout.write('gfg')\n",
    "sys.stderr.write('ABC')"
   ]
  },
  {
   "cell_type": "code",
   "execution_count": 53,
   "metadata": {},
   "outputs": [
    {
     "name": "stdout",
     "output_type": "stream",
     "text": [
      "{'__name__': '__main__', '__doc__': 'Automatically created module for IPython interactive environment', '__package__': None, '__loader__': None, '__spec__': None, '__builtin__': <module 'builtins' (built-in)>, '__builtins__': <module 'builtins' (built-in)>, '_ih': ['', '# List built in methods\\n# Method : Pop\\n# What It Does : Pop removes the item at the given position in the list, and return it.If no index is specified, a.pop() removes and returns the last item in the list.\\nlist_variable = [1,2,3,2]\\npopped_value = list_variable.pop(123)', \"# List built in methods\\n# Method : Pop\\n# What It Does : Pop removes the item at the given position in the list, and return it.If no index is specified, a.pop() removes and returns the last item in the list.\\nlist_variable = [1,2,3,4]\\nprint('List content at begining :' , list_variable)\\nprint('*'*50)\\n# Popping value at index 1\\npopped_value = list_variable.pop(1)\\nprint('List content after popping value at index 1 :' , list_variable)\\nprint('Popped value :' , popped_value)\\nprint('*'*50)\\n# If the index passed to the method is not in range, it throws IndexError: pop index out of range exception.\\ntry:\\n    # tryinh to pop value at index 1000\\n    popped_value = list_variable.pop(1000)\\nexcept Exception as e :\\n    print('IndexError: pop index out of range error occured' , e)\", \"# List built in methods\\n# Method : Pop\\n# What It Does : Pop removes the item at the given position in the list, and return it.If no index is specified, a.pop() removes and returns the last item in the list.\\nlist_variable = [1,2,3,4]\\nprint('List content at begining :' , list_variable)\\nprint('*'*50)\\n# Popping value at index 1\\npopped_value = list_variable.pop(1)\\nprint('List content after popping value at index 1 :' , list_variable)\\nprint('Popped value :' , popped_value)\\nprint('*'*50)\\n# If the index passed to the method is not in range, it throws IndexError: pop index out of range exception.\\ntry:\\n    # tryinh to pop value at index 1000\\n    popped_value = list_variable.pop(1000)\\nexcept Exception as e :\\n    print('IndexError: pop index out of range error occured' , e)\\nprint('*'*50)\", \"# List built in methods\\n# Method : Pop\\n# What It Does : Pop removes the item at the given position in the list, and return it.If no index is specified, a.pop() removes and returns the last item in the list.\\nlist_variable = [1,2,3,4]\\nprint('List content at begining :' , list_variable)\\nprint('*'*50)\\n# Popping value at index 1\\npopped_value = list_variable.pop(1)\\nprint('List content after popping value at index 1 :' , list_variable)\\nprint('Popped value :' , popped_value)\\nprint('*'*50)\\n# Popping without index\\npopped_value = list_variable.pop()\\nprint('List content after popping with no arguments :' , list_variable)\\nprint('Popped value :' , popped_value)\\nprint('*'*50)\\n# If the index passed to the method is not in range, it throws IndexError: pop index out of range exception.\\ntry:\\n    # tryinh to pop value at index 1000\\n    popped_value = list_variable.pop(1000)\\nexcept Exception as e :\\n    print('IndexError: pop index out of range error occured' , e)\\nprint('*'*50)\", \"# List built in methods\\n# Method : Pop\\n# What It Does : Pop removes the item at the given position in the list, and return it.If no index is specified, a.pop() removes and returns the last item in the list.\\nlist_variable = [1,2,3,4]\\nprint('List content at begining :' , list_variable)\\nprint('*'*50)\\n# Popping value at index 1\\npopped_value = list_variable.pop(1)\\nprint('List content after popping value at index 1 :' , list_variable)\\nprint('Popped value :' , popped_value)\\nprint('*'*50)\\n# Popping without index\\n# If no index is specified, a.pop() removes and returns the last item in the list.\\npopped_value = list_variable.pop()\\nprint('List content after popping with no arguments :' , list_variable)\\nprint('Popped value :' , popped_value)\\nprint('*'*50)\\n# If the index passed to the method is not in range, it throws IndexError: pop index out of range exception.\\ntry:\\n    # tryinh to pop value at index 1000\\n    popped_value = list_variable.pop(1000)\\nexcept Exception as e :\\n    print('IndexError: pop index out of range error occured' , e)\\nprint('*'*50)\", \"# List built in methods\\n# Method : Clear\\n# What It Does : Clear Remove all items from the list\\nlist_variable = [1,2,3,4]\\nprint('List content at begining :' , list_variable)\\nprint('*'*50)\\nlist_variable.clear()\\nprint('List content after clear() method :' , list_variable)\\nprint('*'*50)\", \"# List built in methods\\n# Method : Index\\n# What It Does : Return zero-based index in the list of the first item whose value is equal to x. Raises a ValueError if there is no such item.\\nlist_variable = [1,2,3,4]\\nprint('List content at begining :' , list_variable)\\nprint('*'*50)\\n# index of element 1\\nindex_of_1 = list_variable.index(element = 1)\\nprint('Index Od Element 1 in List :' , index_of_1)\\nprint('*'*50)\\n# 3 parameters of list.index()\\n# 1) element - the element to be searched\\n# 2) start (optional) - start searching from this index\\n# 3) end (optional) - search the element up to this index\", \"# List built in methods\\n# Method : Index\\n# What It Does : Return zero-based index in the list of the first item whose value is equal to x. Raises a ValueError if there is no such item.\\nlist_variable = [1,2,3,4]\\nprint('List content at begining :' , list_variable)\\nprint('*'*50)\\n# index of element 1\\nindex_of_1 = list_variable.index(1)\\nprint('Index Od Element 1 in List :' , index_of_1)\\nprint('*'*50)\\n# 3 parameters of list.index()\\n# 1) element - the element to be searched\\n# 2) start (optional) - start searching from this index\\n# 3) end (optional) - search the element up to this index\", \"# List built in methods\\n# Method : Index\\n# What It Does : Return zero-based index in the list of the first item whose value is equal to x. Raises a ValueError if there is no such item.\\nlist_variable = [1,2,3,4]\\nprint('List content at begining :' , list_variable)\\nprint('*'*50)\\n# index of element 1\\nindex_of_1 = list_variable.index(1)\\nprint('Index Of Element 1 in List :' , index_of_1)\\nprint('*'*50)\\n# 3 parameters of list.index()\\n# 1) element - the element to be searched\\n# 2) start (optional) - start searching from this index\\n# 3) end (optional) - search the element up to this index\\nindex_of_1 = list_variable.index(1 , 2 , -1)\\n\\nindex_of_1\", \"# List built in methods\\n# Method : Index\\n# What It Does : Return zero-based index in the list of the first item whose value is equal to x. Raises a ValueError if there is no such item.\\nlist_variable = [1,2,3,4]\\nprint('List content at begining :' , list_variable)\\nprint('*'*50)\\n# index of element 1\\nindex_of_1 = list_variable.index(1)\\nprint('Index Of Element 1 in List :' , index_of_1)\\nprint('*'*50)\\n# 3 parameters of list.index()\\n# 1) element - the element to be searched\\n# 2) start (optional) - start searching from this index\\n# 3) end (optional) - search the element up to this index\\n# Here we search for 1 in [3,4] , By setting up args accordingly\\ntry:\\n    index_of_1 = list_variable.index(1 , 2 , -1)\\nexcept Exception as e:\\n    print('ValueError: 1 is not in list has occured : ' , e)\\nprint('*'*50)\", \"# List built in methods\\n# Method : Count\\n# What It Does : Returns the number of times an element appears in the list.\\nlist_variable = [1,2,3,4,1,1,2,2,3]\\nprint('List content at begining :' , list_variable)\\nprint('*'*50)\\nnumber_of_times_one_have_occured = list_variable.count(1)\\nprint('number_of_times_one_have_occured in the list are :' , number_of_times_one_have_occured)\\nprint('*'*50)\", \"# List built in methods\\n# Method : Sort\\n# What It Does : Sort the items of the list in place.\\nlist_variable = [4,5,2,3,7,5,1]\\nprint('List content at begining :' , list_variable)\\nprint('*'*50)\", \"# List built in methods\\n# Method : Sort\\n# What It Does : Sort the items of the list in place.\\nlist_variable = [4,5,2,3,7,5,1]\\nprint('List content at begining :' , list_variable)\\nprint('*'*50)\\nlist_variable.sort()\\nprint('List content after using sort() :' , list_variable)\\nprint('*'*50)\", \"# List built in methods\\n# Method : Sort\\n# What It Does : Sort the items of the list in place.\\nlist_variable = [4,5,2,3,7,5,1]\\nprint('List content at begining :' , list_variable)\\nprint('*'*50)\\n# sort() changes the list directly and doesn't return any value\\nlist_variable.sort()\\nprint('List content after using sort() :' , list_variable)\\nprint('*'*50)\\n# Using reverse argument\\nlist_variable.sort(reverse=True)\\nprint('List content after using sort() with reverse as True :' , list_variable)\\nprint('*'*50)\", \"# List built in methods\\n# Method : Sort\\n# What It Does : Sort the items of the list in place.\\nlist_variable = [4,5,2,3,7,5,1]\\nprint('List content at begining :' , list_variable)\\nprint('*'*50)\\n# sort() changes the list directly and doesn't return any value\\nlist_variable.sort()\\nprint('List content after using sort() :' , list_variable)\\nprint('*'*50)\\n# Using reverse argument\\nlist_variable.sort(reverse=True)\\nprint('List content after using sort() with reverse as True :' , list_variable)\\nprint('*'*50)\\n# Using key argument (It accepts a function as key and sorts based on the key function)\\n# Here we'll use built in len function\\nlist_variable.sort(key = len)\\nprint('List content after using sort() with key function :' , list_variable)\\nprint('*'*50)\", \"# List built in methods\\n# Method : Sort\\n# What It Does : Sort the items of the list in place.\\nlist_variable = ['a' , 'z' , 'f' , 'h' , 't']\\nprint('List content at begining :' , list_variable)\\nprint('*'*50)\\n# sort() changes the list directly and doesn't return any value\\nlist_variable.sort()\\nprint('List content after using sort() :' , list_variable)\\nprint('*'*50)\\n# Using reverse argument\\nlist_variable.sort(reverse=True)\\nprint('List content after using sort() with reverse as True :' , list_variable)\\nprint('*'*50)\\n# Using key argument (It accepts a function as key and sorts based on the key function)\\n# Here we'll use built in len function\\n\\nlist_variable.sort(key = len)\\nprint('List content after using sort() with key function :' , list_variable)\\nprint('*'*50)\", \"# List built in methods\\n# Method : Sort\\n# What It Does : Sort the items of the list in place.\\nlist_variable = ['a' , 'zz' , 'f' , 'hhhh' , 't']\\nprint('List content at begining :' , list_variable)\\nprint('*'*50)\\n# sort() changes the list directly and doesn't return any value\\nlist_variable.sort()\\nprint('List content after using sort() :' , list_variable)\\nprint('*'*50)\\n# Using reverse argument\\nlist_variable.sort(reverse=True)\\nprint('List content after using sort() with reverse as True :' , list_variable)\\nprint('*'*50)\\n# Using key argument (It accepts a function as key and sorts based on the key function)\\n# Here we'll use built in len function\\n\\nlist_variable.sort(key = len)\\nprint('List content after using sort() with key function :' , list_variable)\\nprint('*'*50)\", \"# List built in methods\\n# Method : Sort\\n# What It Does : Sort the items of the list in place.\\nlist_variable = ['a' , 'zz' , 'f' , 'hhhh' , 't']\\nprint('List content at begining :' , list_variable)\\nprint('*'*50)\\n# sort() changes the list directly and doesn't return any value\\nlist_variable.sort()\\nprint('List content after using sort() :' , list_variable)\\nprint('*'*50)\\n# Using reverse argument\\nlist_variable.sort(reverse=True)\\nprint('List content after using sort() with reverse as True :' , list_variable)\\nprint('*'*50)\\n# Using key argument (It accepts a function as key and sorts based on the key function)\\n# Here we'll use built in len function\\n\\nlist_variable.sort(key = len)\\nprint('List content after using sort() with len() key function :' , list_variable)\\nprint('*'*50)\", \"# List built in methods\\n# Method : Reverse\\n# What It Does : Reverse the elements of the list in place.\\nlist_variable = [4,7,2,4,6,7,8,98,3]\\nprint('List content at begining :' , list_variable)\\nprint('*'*50)\", \"# List built in methods\\n# Method : Reverse\\n# What It Does : Reverse the elements of the list in place.\\nlist_variable = [4,7,2,4,6,7,8,98,3]\\nprint('List content at begining :' , list_variable)\\nprint('*'*50)\\n# Using reverse()\\nlist_variable.reverse()\\nprint('List content after using reverse() :' , list_variable)\\nprint('*'*50)\", \"# List built in methods\\n# Method : Reverse\\n# What It Does : Reverse the elements of the list in place.\\nlist_variable = [4,7,2,4,6,7,8,98,3]\\nprint('List content at begining :' , list_variable)\\nprint('*'*50)\\n# Using reverse()\\n# reverse() changes the list directly and doesn't return any value\\nlist_variable.reverse()\\nprint('List content after using reverse() :' , list_variable)\\nprint('*'*50)\\n# Reverse method does not sort descending , It just reverses the values in list in opposite order\", \"# List built in methods\\n# Method : Copy\\n# What It Does : Return a shallow copy of the list\\nlist_variable = [1,2,3]\\nprint('List content at begining :' , list_variable)\\nprint('*'*50)\", \"# List built in methods\\n# Method : Copy\\n# What It Does : Return a shallow copy of the list\\nlist_variable = [1,2,3]\\nprint('Original List content at begining :' , list_variable)\\nprint('*'*50)\\ncopy_of_list = list_variable.copy()\\nprint('Original List content after copying :' , list_variable)\\nprint('Copied List content : ' , copy_of_list)\\nprint('*'*50)\", '# List built in methods\\n# Method : Copy\\n# What It Does : Return a shallow copy of the list\\nlist_variable = [1,2,3]\\nprint(\\'Original List content at begining :\\' , list_variable)\\nprint(\\'*\\'*50)\\ncopy_of_list = list_variable.copy()\\ncopy_using_equal_sign_list = list_variable\\nprint(\\'Original List content after copying :\\' , list_variable)\\nprint(\\'Copied List content using copy() : \\' , copy_of_list)\\nprint(\\'Copied List content using \"=\" sign : \\' , copy_using_equal_sign_list)\\nprint(\\'*\\'*50)', '# List built in methods\\n# Method : Copy\\n# What It Does : Return a shallow copy of the list\\nlist_variable = [1,2,3]\\nprint(\\'Original List content at begining :\\' , list_variable)\\nprint(\\'*\\'*50)\\ncopy_of_list = list_variable.copy()\\ncopy_using_equal_sign_list = list_variable\\nprint(\\'Original List content after copying :\\' , list_variable)\\nprint(\\'Copied List content using copy() : \\' , copy_of_list)\\nprint(\\'Copied List content using \"=\" sign : \\' , copy_using_equal_sign_list)\\nprint(\\'*\\'*50)\\n# Changing values in both copied lists\\ncopy_of_list.append(4)\\ncopy_using_equal_sign_list.append(4)\\nprint(\\'Original List content after appending 4 :\\' , list_variable)\\nprint(\\'Copied List content using copy() after appending 4 : \\' , copy_of_list)\\nprint(\\'Copied List content using \"=\" sign after appending 4 : \\' , copy_using_equal_sign_list)\\nprint(\\'*\\'*50)', '# List built in methods\\n# Method : Copy\\n# What It Does : Return a shallow copy of the list\\nlist_variable = [1,2,3]\\nprint(\\'Original List content at begining :\\' , list_variable)\\nprint(\\'*\\'*50)\\ncopy_of_list = list_variable.copy()\\ncopy_using_equal_sign_list = list_variable\\nprint(\\'Original List content after copying :\\' , list_variable)\\nprint(\\'Copied List content using copy() : \\' , copy_of_list)\\nprint(\\'Copied List content using \"=\" sign : \\' , copy_using_equal_sign_list)\\nprint(\\'*\\'*50)\\n# Changing values in both copied lists\\ncopy_of_list.append(3)\\ncopy_using_equal_sign_list.append(4)\\nprint(\\'Original List content after appending 4 :\\' , list_variable)\\nprint(\\'Copied List content using copy() after appending 3 : \\' , copy_of_list)\\nprint(\\'Copied List content using \"=\" sign after appending 4 : \\' , copy_using_equal_sign_list)\\nprint(\\'*\\'*50)', '# List built in methods\\n# Method : Copy\\n# What It Does : Return a shallow copy of the list\\nlist_variable = [1,2,3]\\nprint(\\'Original List content at begining :\\' , list_variable)\\nprint(\\'*\\'*50)\\ncopy_of_list = list_variable.copy()\\ncopy_using_equal_sign_list = list_variable\\nprint(\\'Original List content after copying :\\' , list_variable)\\nprint(\\'Copied List content using copy() : \\' , copy_of_list)\\nprint(\\'Copied List content using \"=\" sign : \\' , copy_using_equal_sign_list)\\nprint(\\'*\\'*50)\\n# Changing values in both copied lists\\ncopy_of_list.append(3)\\ncopy_using_equal_sign_list.append(4)\\nprint(\\'Original List content after appending 4 :\\' , list_variable)\\nprint(\\'Copied List content using copy() after appending 3 : \\' , copy_of_list)\\nprint(\\'Copied List content using \"=\" sign after appending 4 : \\' , copy_using_equal_sign_list)\\nprint(\\'*\\'*50)\\n# We can understand that if we do copy using = sign if we change the copied list content , original list content also changes\\n# But in .copy() the original list content does not change even if you change the copied list content.\\nprint(\\'\\'\\'\\nWe can understand that if we do copy using = sign if we change the copied list content , original list content also changes\\nBut in .copy() the original list content does not change even if you change the copied list content.\\n\\'\\'\\')', '# List built in methods\\n# Method : Copy\\n# What It Does : Return a shallow copy of the list\\nlist_variable = [1,2,3]\\nprint(\\'Original List content at begining :\\' , list_variable)\\nprint(\\'*\\'*50)\\ncopy_of_list = list_variable.copy()\\ncopy_using_equal_sign_list = list_variable\\nprint(\\'Original List content after copying :\\' , list_variable)\\nprint(\\'Copied List content using copy() : \\' , copy_of_list)\\nprint(\\'Copied List content using \"=\" sign : \\' , copy_using_equal_sign_list)\\nprint(\\'*\\'*50)\\n# Changing values in both copied lists\\ncopy_of_list.append(3)\\ncopy_using_equal_sign_list.append(4)\\nprint(\\'Original List content after appending 4 :\\' , list_variable)\\nprint(\\'Copied List content using copy() after appending 3 : \\' , copy_of_list)\\nprint(\\'Copied List content using \"=\" sign after appending 4 : \\' , copy_using_equal_sign_list)\\nprint(\\'*\\'*50)\\n# We can understand that if we do copy using = sign if we change the copied list content , original list content also changes\\n# But in .copy() the original list content does not change even if you change the copied list content.\\nprint(\\'\\'\\'\\nWe can understand that if we do copy using = sign if we change the copied list content , original list content also changes. But in .copy() the original list content does not change even if you change the copied list content.\\n\\'\\'\\')', '# List built in methods\\n# Method : Copy\\n# What It Does : Return a shallow copy of the list\\nlist_variable = [1,2,3]\\nprint(\\'Original List content at begining :\\' , list_variable)\\nprint(\\'*\\'*50)\\ncopy_of_list = list_variable.copy()\\ncopy_using_equal_sign_list = list_variable\\nprint(\\'Original List content after copying :\\' , list_variable)\\nprint(\\'Copied List content using copy() : \\' , copy_of_list)\\nprint(\\'Copied List content using \"=\" sign : \\' , copy_using_equal_sign_list)\\nprint(\\'*\\'*50)\\n# Changing values in both copied lists\\ncopy_of_list.append(3)\\ncopy_using_equal_sign_list.append(4)\\nprint(\\'Original List content after appending 4 :\\' , list_variable)\\nprint(\\'Copied List content using copy() after appending 3 : \\' , copy_of_list)\\nprint(\\'Copied List content using \"=\" sign after appending 4 : \\' , copy_using_equal_sign_list)\\nprint(\\'*\\'*50)\\n# We can understand that if we do copy using = sign if we change the copied list content , original list content also changes\\n# But in .copy() the original list content does not change even if you change the copied list content.\\nprint(\\'\\'\\'We can understand that if we do copy using = sign if we change the copied list content , original list content also changes. But in .copy() the original list content does not change even if you change the copied list content.\\n\\'\\'\\')', '# List built in methods\\n# Method : Copy\\n# What It Does : Return a shallow copy of the list\\nlist_variable = [1,2,3]\\nprint(\\'Original List content at begining :\\' , list_variable)\\nprint(\\'*\\'*50)\\ncopy_of_list = list_variable.copy()\\ncopy_using_equal_sign_list = list_variable\\nprint(\\'Original List content after copying :\\' , list_variable)\\nprint(\\'Copied List content using copy() : \\' , copy_of_list)\\nprint(\\'Copied List content using \"=\" sign : \\' , copy_using_equal_sign_list)\\nprint(\\'*\\'*50)\\n# Changing values in both copied lists\\ncopy_of_list.append(3)\\ncopy_using_equal_sign_list.append(4)\\nprint(\\'Original List content after appending 4 :\\' , list_variable)\\nprint(\\'Copied List content using copy() after appending 3 : \\' , copy_of_list)\\nprint(\\'Copied List content using \"=\" sign after appending 4 : \\' , copy_using_equal_sign_list)\\nprint(\\'*\\'*50)\\n# We can understand that if we do copy using = sign if we change the copied list content , original list content also changes\\n# But in .copy() the original list content does not change even if you change the copied list content.\\nprint(\\'\\'\\'We can understand that if we do copy using = sign if we change the copied list content , original list content also changes. But in .copy() the original list content does not change even if you change the copied list content.\\n\\'\\'\\')\\nprint(\\'*\\'*50)', \"# List Indexing\\nlist_variable = ['a' , 'b' , 'c' , 'd' , 'e' , 'f']\\nprint('Original List content at begining :' , list_variable)\\nprint('*'*50)\", '# List Indexing\\nlist_variable = [\\'a\\' , \\'b\\' , \\'c\\' , \\'d\\' , \\'e\\' , \\'f\\']\\nprint(\\'Original List content at begining :\\' , list_variable)\\nprint(\\'*\\'*50)\\n\\n# Accessing \\'c\\' using Positive Indexing\\nprint(\"Accessing \\'c\\' using Positive Indexing\")\\nprint(list_variable[2])\\nprint(\\'*\\'*50)\\n# Accessing \\'c\\' using Negative Indexing\\nprint(\"Accessing \\'c\\' using Negative Indexing\")\\nprint(list_variable[-4])\\nprint(\\'*\\'*50)', '# List Slicing\\nlist_variable = [\\'a\\' , \\'b\\' , \\'c\\' , \\'d\\' , \\'e\\' , \\'f\\']\\nprint(\\'Original List content at begining :\\' , list_variable)\\nprint(\\'*\\'*50)\\n# Printing \\'b\\' to \\'e\\' using slicing\\nprint(\"Printing \\'b\\' to \\'e\\' using slicing\")\\nprint(list_variable[1:5])', \"# List Comprehension\\n# Only having variable\\nlist_variable = [i for i in range(10)]\\nprint('List comprehension using only variable :' , list_variable)\\nprint('*'*50)\\n# Actions on variable\\nlist_variable = [i ** i for i in range(10)]\\nprint('List comprehension using actions on variable :' , list_variable)\\nprint('*'*50)\\n# Actions and conditions on variable\\nlist_variable = [i ** i for i in range(10) if i % 2 == 0]\\nprint('List comprehension using actions and conditions on variable :' , list_variable)\\nprint('*'*50)\", \"# List Comprehension\\n# Only having variable\\nlist_variable = [i for i in range(10)]\\nprint('List comprehension using only variable :' , list_variable)\\nprint('*'*50)\\n# Actions on variable\\nlist_variable = [i + i for i in range(10)]\\nprint('List comprehension using actions on variable :' , list_variable)\\nprint('*'*50)\\n# Actions and conditions on variable\\nlist_variable = [i ** i for i in range(10) if i % 2 == 0]\\nprint('List comprehension using actions and conditions on variable :' , list_variable)\\nprint('*'*50)\", \"# List Comprehension\\n# Only having variable\\nlist_variable = [i for i in range(10)]\\nprint('List comprehension using only variable :' , list_variable)\\nprint('*'*50)\\n# Actions on variable\\nlist_variable = [i * i for i in range(10)]\\nprint('List comprehension using actions on variable :' , list_variable)\\nprint('*'*50)\\n# Actions and conditions on variable\\nlist_variable = [i * i for i in range(10) if i % 2 == 0]\\nprint('List comprehension using actions and conditions on variable :' , list_variable)\\nprint('*'*50)\", \"# List Comprehension\\n# Only having variable\\nlist_variable = [i for i in range(10)]\\nprint('List comprehension using only variable :' , list_variable)\\nprint('*'*50)\\n# Actions on variable\\nlist_variable = [i * i for i in range(10)]\\nprint('List comprehension using actions on variable (Here multiplying variable with variable):' , list_variable)\\nprint('*'*50)\\n# Actions and conditions on variable\\nlist_variable = [i * i for i in range(10) if i % 2 == 0]\\nprint('List comprehension using actions and conditions on variable (Here multiplying variable with variable if variable is even number):' , list_variable)\\nprint('*'*50)\", \"# List Iterate\\nlist_variable = ['a' , 'b' , 'c' , 'd' , 'e' , 'f']\\nprint('Original List content at begining :' , list_variable)\\nprint('*'*50)\\n# Using for loop\\nprint('Iteration Using for loop')\\nfor element in list_variable:\\n    print(element)\\nprint('*'*50)\\n# Using while loop\\nprint('Iteration Using while loop')\\nwhile len(list_variable) != 0:\\n    first_element = list_variable.pop(0)\\n    print(first_element)\\nprint('*'*50)\", \"# isinstance\\n'a' isinstance str\", \"# isinstance\\nisinstance('a' , str)\", \"# isinstance function\\n# Used to check data type\\nprint('isinstance function returns True if the value and datatype passed match if not it returns False')\\nprint(isinstance('a' , str))\\nprint('*'*50)\", '# isinstance function\\n# Used to check data type\\nprint(\\'isinstance function returns True if the value and datatype passed match if not it returns False\\')\\nprint(\"Checking if \\'a\\' is of String type :\" , isinstance(\\'a\\' , str))\\nprint(\\'*\\'*50)', '# isinstance function\\n# Used to check data type\\nprint(\\'isinstance function returns True if the value and datatype passed match if not it returns False\\')\\nprint(\"Checking if \\'a\\' is of String type :\" , isinstance(\\'a\\' , str))\\nprint(\\'*\\'*50)\\n# As isinstance function returns boolean True or False it can be used in conditional statement\\nif isinstance(\\'a\\' , str):\\n    print(\"\\'a\\' is og string type\")\\nelse:\\n    print(\"\\'a\\' is not string type\")', '# isinstance function\\n# Used to check data type\\nprint(\\'isinstance function returns True if the value and datatype passed match if not it returns False\\')\\nprint(\"Checking if \\'a\\' is of String type :\" , isinstance(\\'a\\' , str))\\nprint(\\'*\\'*50)\\n# As isinstance function returns boolean True or False it can be used in conditional statement\\nif isinstance(\\'a\\' , str):\\n    print(\"\\'a\\' is of string type\")\\nelse:\\n    print(\"\\'a\\' is not string type\")\\nprint(\\'*\\'*50)', \"# sys.stdout\\nimport sys\\nsys.stdout.write('gfg')\", \"# sys.stdout\\nimport sys\\nsys.stdout.write('gfg')\\nvariable = sys.stdin('ABC')\", \"# sys.stdout\\nimport sys\\nsys.stdout.write('gfg')\\nsys.stdin('ABC')\", \"# sys.stdout\\nimport sys\\nsys.stdout.write('gfg')\\nsys.stdin.write('ABC')\", \"# sys.stdout\\nimport sys\\nsys.stdout.write('gfg')\\na = sys.stdin.write('ABC')\", \"# sys.stdout\\nimport sys\\nsys.stdout.write('gfg')\\nsys.stderr.write('ABC')\", 'locals()', 'print(locals())', 'print(locals())'], '_oh': {40: True, 45: 3, 50: 3, 51: {...}}, '_dh': ['/home/karthik/Documents/DS Tech Code'], 'In': ['', '# List built in methods\\n# Method : Pop\\n# What It Does : Pop removes the item at the given position in the list, and return it.If no index is specified, a.pop() removes and returns the last item in the list.\\nlist_variable = [1,2,3,2]\\npopped_value = list_variable.pop(123)', \"# List built in methods\\n# Method : Pop\\n# What It Does : Pop removes the item at the given position in the list, and return it.If no index is specified, a.pop() removes and returns the last item in the list.\\nlist_variable = [1,2,3,4]\\nprint('List content at begining :' , list_variable)\\nprint('*'*50)\\n# Popping value at index 1\\npopped_value = list_variable.pop(1)\\nprint('List content after popping value at index 1 :' , list_variable)\\nprint('Popped value :' , popped_value)\\nprint('*'*50)\\n# If the index passed to the method is not in range, it throws IndexError: pop index out of range exception.\\ntry:\\n    # tryinh to pop value at index 1000\\n    popped_value = list_variable.pop(1000)\\nexcept Exception as e :\\n    print('IndexError: pop index out of range error occured' , e)\", \"# List built in methods\\n# Method : Pop\\n# What It Does : Pop removes the item at the given position in the list, and return it.If no index is specified, a.pop() removes and returns the last item in the list.\\nlist_variable = [1,2,3,4]\\nprint('List content at begining :' , list_variable)\\nprint('*'*50)\\n# Popping value at index 1\\npopped_value = list_variable.pop(1)\\nprint('List content after popping value at index 1 :' , list_variable)\\nprint('Popped value :' , popped_value)\\nprint('*'*50)\\n# If the index passed to the method is not in range, it throws IndexError: pop index out of range exception.\\ntry:\\n    # tryinh to pop value at index 1000\\n    popped_value = list_variable.pop(1000)\\nexcept Exception as e :\\n    print('IndexError: pop index out of range error occured' , e)\\nprint('*'*50)\", \"# List built in methods\\n# Method : Pop\\n# What It Does : Pop removes the item at the given position in the list, and return it.If no index is specified, a.pop() removes and returns the last item in the list.\\nlist_variable = [1,2,3,4]\\nprint('List content at begining :' , list_variable)\\nprint('*'*50)\\n# Popping value at index 1\\npopped_value = list_variable.pop(1)\\nprint('List content after popping value at index 1 :' , list_variable)\\nprint('Popped value :' , popped_value)\\nprint('*'*50)\\n# Popping without index\\npopped_value = list_variable.pop()\\nprint('List content after popping with no arguments :' , list_variable)\\nprint('Popped value :' , popped_value)\\nprint('*'*50)\\n# If the index passed to the method is not in range, it throws IndexError: pop index out of range exception.\\ntry:\\n    # tryinh to pop value at index 1000\\n    popped_value = list_variable.pop(1000)\\nexcept Exception as e :\\n    print('IndexError: pop index out of range error occured' , e)\\nprint('*'*50)\", \"# List built in methods\\n# Method : Pop\\n# What It Does : Pop removes the item at the given position in the list, and return it.If no index is specified, a.pop() removes and returns the last item in the list.\\nlist_variable = [1,2,3,4]\\nprint('List content at begining :' , list_variable)\\nprint('*'*50)\\n# Popping value at index 1\\npopped_value = list_variable.pop(1)\\nprint('List content after popping value at index 1 :' , list_variable)\\nprint('Popped value :' , popped_value)\\nprint('*'*50)\\n# Popping without index\\n# If no index is specified, a.pop() removes and returns the last item in the list.\\npopped_value = list_variable.pop()\\nprint('List content after popping with no arguments :' , list_variable)\\nprint('Popped value :' , popped_value)\\nprint('*'*50)\\n# If the index passed to the method is not in range, it throws IndexError: pop index out of range exception.\\ntry:\\n    # tryinh to pop value at index 1000\\n    popped_value = list_variable.pop(1000)\\nexcept Exception as e :\\n    print('IndexError: pop index out of range error occured' , e)\\nprint('*'*50)\", \"# List built in methods\\n# Method : Clear\\n# What It Does : Clear Remove all items from the list\\nlist_variable = [1,2,3,4]\\nprint('List content at begining :' , list_variable)\\nprint('*'*50)\\nlist_variable.clear()\\nprint('List content after clear() method :' , list_variable)\\nprint('*'*50)\", \"# List built in methods\\n# Method : Index\\n# What It Does : Return zero-based index in the list of the first item whose value is equal to x. Raises a ValueError if there is no such item.\\nlist_variable = [1,2,3,4]\\nprint('List content at begining :' , list_variable)\\nprint('*'*50)\\n# index of element 1\\nindex_of_1 = list_variable.index(element = 1)\\nprint('Index Od Element 1 in List :' , index_of_1)\\nprint('*'*50)\\n# 3 parameters of list.index()\\n# 1) element - the element to be searched\\n# 2) start (optional) - start searching from this index\\n# 3) end (optional) - search the element up to this index\", \"# List built in methods\\n# Method : Index\\n# What It Does : Return zero-based index in the list of the first item whose value is equal to x. Raises a ValueError if there is no such item.\\nlist_variable = [1,2,3,4]\\nprint('List content at begining :' , list_variable)\\nprint('*'*50)\\n# index of element 1\\nindex_of_1 = list_variable.index(1)\\nprint('Index Od Element 1 in List :' , index_of_1)\\nprint('*'*50)\\n# 3 parameters of list.index()\\n# 1) element - the element to be searched\\n# 2) start (optional) - start searching from this index\\n# 3) end (optional) - search the element up to this index\", \"# List built in methods\\n# Method : Index\\n# What It Does : Return zero-based index in the list of the first item whose value is equal to x. Raises a ValueError if there is no such item.\\nlist_variable = [1,2,3,4]\\nprint('List content at begining :' , list_variable)\\nprint('*'*50)\\n# index of element 1\\nindex_of_1 = list_variable.index(1)\\nprint('Index Of Element 1 in List :' , index_of_1)\\nprint('*'*50)\\n# 3 parameters of list.index()\\n# 1) element - the element to be searched\\n# 2) start (optional) - start searching from this index\\n# 3) end (optional) - search the element up to this index\\nindex_of_1 = list_variable.index(1 , 2 , -1)\\n\\nindex_of_1\", \"# List built in methods\\n# Method : Index\\n# What It Does : Return zero-based index in the list of the first item whose value is equal to x. Raises a ValueError if there is no such item.\\nlist_variable = [1,2,3,4]\\nprint('List content at begining :' , list_variable)\\nprint('*'*50)\\n# index of element 1\\nindex_of_1 = list_variable.index(1)\\nprint('Index Of Element 1 in List :' , index_of_1)\\nprint('*'*50)\\n# 3 parameters of list.index()\\n# 1) element - the element to be searched\\n# 2) start (optional) - start searching from this index\\n# 3) end (optional) - search the element up to this index\\n# Here we search for 1 in [3,4] , By setting up args accordingly\\ntry:\\n    index_of_1 = list_variable.index(1 , 2 , -1)\\nexcept Exception as e:\\n    print('ValueError: 1 is not in list has occured : ' , e)\\nprint('*'*50)\", \"# List built in methods\\n# Method : Count\\n# What It Does : Returns the number of times an element appears in the list.\\nlist_variable = [1,2,3,4,1,1,2,2,3]\\nprint('List content at begining :' , list_variable)\\nprint('*'*50)\\nnumber_of_times_one_have_occured = list_variable.count(1)\\nprint('number_of_times_one_have_occured in the list are :' , number_of_times_one_have_occured)\\nprint('*'*50)\", \"# List built in methods\\n# Method : Sort\\n# What It Does : Sort the items of the list in place.\\nlist_variable = [4,5,2,3,7,5,1]\\nprint('List content at begining :' , list_variable)\\nprint('*'*50)\", \"# List built in methods\\n# Method : Sort\\n# What It Does : Sort the items of the list in place.\\nlist_variable = [4,5,2,3,7,5,1]\\nprint('List content at begining :' , list_variable)\\nprint('*'*50)\\nlist_variable.sort()\\nprint('List content after using sort() :' , list_variable)\\nprint('*'*50)\", \"# List built in methods\\n# Method : Sort\\n# What It Does : Sort the items of the list in place.\\nlist_variable = [4,5,2,3,7,5,1]\\nprint('List content at begining :' , list_variable)\\nprint('*'*50)\\n# sort() changes the list directly and doesn't return any value\\nlist_variable.sort()\\nprint('List content after using sort() :' , list_variable)\\nprint('*'*50)\\n# Using reverse argument\\nlist_variable.sort(reverse=True)\\nprint('List content after using sort() with reverse as True :' , list_variable)\\nprint('*'*50)\", \"# List built in methods\\n# Method : Sort\\n# What It Does : Sort the items of the list in place.\\nlist_variable = [4,5,2,3,7,5,1]\\nprint('List content at begining :' , list_variable)\\nprint('*'*50)\\n# sort() changes the list directly and doesn't return any value\\nlist_variable.sort()\\nprint('List content after using sort() :' , list_variable)\\nprint('*'*50)\\n# Using reverse argument\\nlist_variable.sort(reverse=True)\\nprint('List content after using sort() with reverse as True :' , list_variable)\\nprint('*'*50)\\n# Using key argument (It accepts a function as key and sorts based on the key function)\\n# Here we'll use built in len function\\nlist_variable.sort(key = len)\\nprint('List content after using sort() with key function :' , list_variable)\\nprint('*'*50)\", \"# List built in methods\\n# Method : Sort\\n# What It Does : Sort the items of the list in place.\\nlist_variable = ['a' , 'z' , 'f' , 'h' , 't']\\nprint('List content at begining :' , list_variable)\\nprint('*'*50)\\n# sort() changes the list directly and doesn't return any value\\nlist_variable.sort()\\nprint('List content after using sort() :' , list_variable)\\nprint('*'*50)\\n# Using reverse argument\\nlist_variable.sort(reverse=True)\\nprint('List content after using sort() with reverse as True :' , list_variable)\\nprint('*'*50)\\n# Using key argument (It accepts a function as key and sorts based on the key function)\\n# Here we'll use built in len function\\n\\nlist_variable.sort(key = len)\\nprint('List content after using sort() with key function :' , list_variable)\\nprint('*'*50)\", \"# List built in methods\\n# Method : Sort\\n# What It Does : Sort the items of the list in place.\\nlist_variable = ['a' , 'zz' , 'f' , 'hhhh' , 't']\\nprint('List content at begining :' , list_variable)\\nprint('*'*50)\\n# sort() changes the list directly and doesn't return any value\\nlist_variable.sort()\\nprint('List content after using sort() :' , list_variable)\\nprint('*'*50)\\n# Using reverse argument\\nlist_variable.sort(reverse=True)\\nprint('List content after using sort() with reverse as True :' , list_variable)\\nprint('*'*50)\\n# Using key argument (It accepts a function as key and sorts based on the key function)\\n# Here we'll use built in len function\\n\\nlist_variable.sort(key = len)\\nprint('List content after using sort() with key function :' , list_variable)\\nprint('*'*50)\", \"# List built in methods\\n# Method : Sort\\n# What It Does : Sort the items of the list in place.\\nlist_variable = ['a' , 'zz' , 'f' , 'hhhh' , 't']\\nprint('List content at begining :' , list_variable)\\nprint('*'*50)\\n# sort() changes the list directly and doesn't return any value\\nlist_variable.sort()\\nprint('List content after using sort() :' , list_variable)\\nprint('*'*50)\\n# Using reverse argument\\nlist_variable.sort(reverse=True)\\nprint('List content after using sort() with reverse as True :' , list_variable)\\nprint('*'*50)\\n# Using key argument (It accepts a function as key and sorts based on the key function)\\n# Here we'll use built in len function\\n\\nlist_variable.sort(key = len)\\nprint('List content after using sort() with len() key function :' , list_variable)\\nprint('*'*50)\", \"# List built in methods\\n# Method : Reverse\\n# What It Does : Reverse the elements of the list in place.\\nlist_variable = [4,7,2,4,6,7,8,98,3]\\nprint('List content at begining :' , list_variable)\\nprint('*'*50)\", \"# List built in methods\\n# Method : Reverse\\n# What It Does : Reverse the elements of the list in place.\\nlist_variable = [4,7,2,4,6,7,8,98,3]\\nprint('List content at begining :' , list_variable)\\nprint('*'*50)\\n# Using reverse()\\nlist_variable.reverse()\\nprint('List content after using reverse() :' , list_variable)\\nprint('*'*50)\", \"# List built in methods\\n# Method : Reverse\\n# What It Does : Reverse the elements of the list in place.\\nlist_variable = [4,7,2,4,6,7,8,98,3]\\nprint('List content at begining :' , list_variable)\\nprint('*'*50)\\n# Using reverse()\\n# reverse() changes the list directly and doesn't return any value\\nlist_variable.reverse()\\nprint('List content after using reverse() :' , list_variable)\\nprint('*'*50)\\n# Reverse method does not sort descending , It just reverses the values in list in opposite order\", \"# List built in methods\\n# Method : Copy\\n# What It Does : Return a shallow copy of the list\\nlist_variable = [1,2,3]\\nprint('List content at begining :' , list_variable)\\nprint('*'*50)\", \"# List built in methods\\n# Method : Copy\\n# What It Does : Return a shallow copy of the list\\nlist_variable = [1,2,3]\\nprint('Original List content at begining :' , list_variable)\\nprint('*'*50)\\ncopy_of_list = list_variable.copy()\\nprint('Original List content after copying :' , list_variable)\\nprint('Copied List content : ' , copy_of_list)\\nprint('*'*50)\", '# List built in methods\\n# Method : Copy\\n# What It Does : Return a shallow copy of the list\\nlist_variable = [1,2,3]\\nprint(\\'Original List content at begining :\\' , list_variable)\\nprint(\\'*\\'*50)\\ncopy_of_list = list_variable.copy()\\ncopy_using_equal_sign_list = list_variable\\nprint(\\'Original List content after copying :\\' , list_variable)\\nprint(\\'Copied List content using copy() : \\' , copy_of_list)\\nprint(\\'Copied List content using \"=\" sign : \\' , copy_using_equal_sign_list)\\nprint(\\'*\\'*50)', '# List built in methods\\n# Method : Copy\\n# What It Does : Return a shallow copy of the list\\nlist_variable = [1,2,3]\\nprint(\\'Original List content at begining :\\' , list_variable)\\nprint(\\'*\\'*50)\\ncopy_of_list = list_variable.copy()\\ncopy_using_equal_sign_list = list_variable\\nprint(\\'Original List content after copying :\\' , list_variable)\\nprint(\\'Copied List content using copy() : \\' , copy_of_list)\\nprint(\\'Copied List content using \"=\" sign : \\' , copy_using_equal_sign_list)\\nprint(\\'*\\'*50)\\n# Changing values in both copied lists\\ncopy_of_list.append(4)\\ncopy_using_equal_sign_list.append(4)\\nprint(\\'Original List content after appending 4 :\\' , list_variable)\\nprint(\\'Copied List content using copy() after appending 4 : \\' , copy_of_list)\\nprint(\\'Copied List content using \"=\" sign after appending 4 : \\' , copy_using_equal_sign_list)\\nprint(\\'*\\'*50)', '# List built in methods\\n# Method : Copy\\n# What It Does : Return a shallow copy of the list\\nlist_variable = [1,2,3]\\nprint(\\'Original List content at begining :\\' , list_variable)\\nprint(\\'*\\'*50)\\ncopy_of_list = list_variable.copy()\\ncopy_using_equal_sign_list = list_variable\\nprint(\\'Original List content after copying :\\' , list_variable)\\nprint(\\'Copied List content using copy() : \\' , copy_of_list)\\nprint(\\'Copied List content using \"=\" sign : \\' , copy_using_equal_sign_list)\\nprint(\\'*\\'*50)\\n# Changing values in both copied lists\\ncopy_of_list.append(3)\\ncopy_using_equal_sign_list.append(4)\\nprint(\\'Original List content after appending 4 :\\' , list_variable)\\nprint(\\'Copied List content using copy() after appending 3 : \\' , copy_of_list)\\nprint(\\'Copied List content using \"=\" sign after appending 4 : \\' , copy_using_equal_sign_list)\\nprint(\\'*\\'*50)', '# List built in methods\\n# Method : Copy\\n# What It Does : Return a shallow copy of the list\\nlist_variable = [1,2,3]\\nprint(\\'Original List content at begining :\\' , list_variable)\\nprint(\\'*\\'*50)\\ncopy_of_list = list_variable.copy()\\ncopy_using_equal_sign_list = list_variable\\nprint(\\'Original List content after copying :\\' , list_variable)\\nprint(\\'Copied List content using copy() : \\' , copy_of_list)\\nprint(\\'Copied List content using \"=\" sign : \\' , copy_using_equal_sign_list)\\nprint(\\'*\\'*50)\\n# Changing values in both copied lists\\ncopy_of_list.append(3)\\ncopy_using_equal_sign_list.append(4)\\nprint(\\'Original List content after appending 4 :\\' , list_variable)\\nprint(\\'Copied List content using copy() after appending 3 : \\' , copy_of_list)\\nprint(\\'Copied List content using \"=\" sign after appending 4 : \\' , copy_using_equal_sign_list)\\nprint(\\'*\\'*50)\\n# We can understand that if we do copy using = sign if we change the copied list content , original list content also changes\\n# But in .copy() the original list content does not change even if you change the copied list content.\\nprint(\\'\\'\\'\\nWe can understand that if we do copy using = sign if we change the copied list content , original list content also changes\\nBut in .copy() the original list content does not change even if you change the copied list content.\\n\\'\\'\\')', '# List built in methods\\n# Method : Copy\\n# What It Does : Return a shallow copy of the list\\nlist_variable = [1,2,3]\\nprint(\\'Original List content at begining :\\' , list_variable)\\nprint(\\'*\\'*50)\\ncopy_of_list = list_variable.copy()\\ncopy_using_equal_sign_list = list_variable\\nprint(\\'Original List content after copying :\\' , list_variable)\\nprint(\\'Copied List content using copy() : \\' , copy_of_list)\\nprint(\\'Copied List content using \"=\" sign : \\' , copy_using_equal_sign_list)\\nprint(\\'*\\'*50)\\n# Changing values in both copied lists\\ncopy_of_list.append(3)\\ncopy_using_equal_sign_list.append(4)\\nprint(\\'Original List content after appending 4 :\\' , list_variable)\\nprint(\\'Copied List content using copy() after appending 3 : \\' , copy_of_list)\\nprint(\\'Copied List content using \"=\" sign after appending 4 : \\' , copy_using_equal_sign_list)\\nprint(\\'*\\'*50)\\n# We can understand that if we do copy using = sign if we change the copied list content , original list content also changes\\n# But in .copy() the original list content does not change even if you change the copied list content.\\nprint(\\'\\'\\'\\nWe can understand that if we do copy using = sign if we change the copied list content , original list content also changes. But in .copy() the original list content does not change even if you change the copied list content.\\n\\'\\'\\')', '# List built in methods\\n# Method : Copy\\n# What It Does : Return a shallow copy of the list\\nlist_variable = [1,2,3]\\nprint(\\'Original List content at begining :\\' , list_variable)\\nprint(\\'*\\'*50)\\ncopy_of_list = list_variable.copy()\\ncopy_using_equal_sign_list = list_variable\\nprint(\\'Original List content after copying :\\' , list_variable)\\nprint(\\'Copied List content using copy() : \\' , copy_of_list)\\nprint(\\'Copied List content using \"=\" sign : \\' , copy_using_equal_sign_list)\\nprint(\\'*\\'*50)\\n# Changing values in both copied lists\\ncopy_of_list.append(3)\\ncopy_using_equal_sign_list.append(4)\\nprint(\\'Original List content after appending 4 :\\' , list_variable)\\nprint(\\'Copied List content using copy() after appending 3 : \\' , copy_of_list)\\nprint(\\'Copied List content using \"=\" sign after appending 4 : \\' , copy_using_equal_sign_list)\\nprint(\\'*\\'*50)\\n# We can understand that if we do copy using = sign if we change the copied list content , original list content also changes\\n# But in .copy() the original list content does not change even if you change the copied list content.\\nprint(\\'\\'\\'We can understand that if we do copy using = sign if we change the copied list content , original list content also changes. But in .copy() the original list content does not change even if you change the copied list content.\\n\\'\\'\\')', '# List built in methods\\n# Method : Copy\\n# What It Does : Return a shallow copy of the list\\nlist_variable = [1,2,3]\\nprint(\\'Original List content at begining :\\' , list_variable)\\nprint(\\'*\\'*50)\\ncopy_of_list = list_variable.copy()\\ncopy_using_equal_sign_list = list_variable\\nprint(\\'Original List content after copying :\\' , list_variable)\\nprint(\\'Copied List content using copy() : \\' , copy_of_list)\\nprint(\\'Copied List content using \"=\" sign : \\' , copy_using_equal_sign_list)\\nprint(\\'*\\'*50)\\n# Changing values in both copied lists\\ncopy_of_list.append(3)\\ncopy_using_equal_sign_list.append(4)\\nprint(\\'Original List content after appending 4 :\\' , list_variable)\\nprint(\\'Copied List content using copy() after appending 3 : \\' , copy_of_list)\\nprint(\\'Copied List content using \"=\" sign after appending 4 : \\' , copy_using_equal_sign_list)\\nprint(\\'*\\'*50)\\n# We can understand that if we do copy using = sign if we change the copied list content , original list content also changes\\n# But in .copy() the original list content does not change even if you change the copied list content.\\nprint(\\'\\'\\'We can understand that if we do copy using = sign if we change the copied list content , original list content also changes. But in .copy() the original list content does not change even if you change the copied list content.\\n\\'\\'\\')\\nprint(\\'*\\'*50)', \"# List Indexing\\nlist_variable = ['a' , 'b' , 'c' , 'd' , 'e' , 'f']\\nprint('Original List content at begining :' , list_variable)\\nprint('*'*50)\", '# List Indexing\\nlist_variable = [\\'a\\' , \\'b\\' , \\'c\\' , \\'d\\' , \\'e\\' , \\'f\\']\\nprint(\\'Original List content at begining :\\' , list_variable)\\nprint(\\'*\\'*50)\\n\\n# Accessing \\'c\\' using Positive Indexing\\nprint(\"Accessing \\'c\\' using Positive Indexing\")\\nprint(list_variable[2])\\nprint(\\'*\\'*50)\\n# Accessing \\'c\\' using Negative Indexing\\nprint(\"Accessing \\'c\\' using Negative Indexing\")\\nprint(list_variable[-4])\\nprint(\\'*\\'*50)', '# List Slicing\\nlist_variable = [\\'a\\' , \\'b\\' , \\'c\\' , \\'d\\' , \\'e\\' , \\'f\\']\\nprint(\\'Original List content at begining :\\' , list_variable)\\nprint(\\'*\\'*50)\\n# Printing \\'b\\' to \\'e\\' using slicing\\nprint(\"Printing \\'b\\' to \\'e\\' using slicing\")\\nprint(list_variable[1:5])', \"# List Comprehension\\n# Only having variable\\nlist_variable = [i for i in range(10)]\\nprint('List comprehension using only variable :' , list_variable)\\nprint('*'*50)\\n# Actions on variable\\nlist_variable = [i ** i for i in range(10)]\\nprint('List comprehension using actions on variable :' , list_variable)\\nprint('*'*50)\\n# Actions and conditions on variable\\nlist_variable = [i ** i for i in range(10) if i % 2 == 0]\\nprint('List comprehension using actions and conditions on variable :' , list_variable)\\nprint('*'*50)\", \"# List Comprehension\\n# Only having variable\\nlist_variable = [i for i in range(10)]\\nprint('List comprehension using only variable :' , list_variable)\\nprint('*'*50)\\n# Actions on variable\\nlist_variable = [i + i for i in range(10)]\\nprint('List comprehension using actions on variable :' , list_variable)\\nprint('*'*50)\\n# Actions and conditions on variable\\nlist_variable = [i ** i for i in range(10) if i % 2 == 0]\\nprint('List comprehension using actions and conditions on variable :' , list_variable)\\nprint('*'*50)\", \"# List Comprehension\\n# Only having variable\\nlist_variable = [i for i in range(10)]\\nprint('List comprehension using only variable :' , list_variable)\\nprint('*'*50)\\n# Actions on variable\\nlist_variable = [i * i for i in range(10)]\\nprint('List comprehension using actions on variable :' , list_variable)\\nprint('*'*50)\\n# Actions and conditions on variable\\nlist_variable = [i * i for i in range(10) if i % 2 == 0]\\nprint('List comprehension using actions and conditions on variable :' , list_variable)\\nprint('*'*50)\", \"# List Comprehension\\n# Only having variable\\nlist_variable = [i for i in range(10)]\\nprint('List comprehension using only variable :' , list_variable)\\nprint('*'*50)\\n# Actions on variable\\nlist_variable = [i * i for i in range(10)]\\nprint('List comprehension using actions on variable (Here multiplying variable with variable):' , list_variable)\\nprint('*'*50)\\n# Actions and conditions on variable\\nlist_variable = [i * i for i in range(10) if i % 2 == 0]\\nprint('List comprehension using actions and conditions on variable (Here multiplying variable with variable if variable is even number):' , list_variable)\\nprint('*'*50)\", \"# List Iterate\\nlist_variable = ['a' , 'b' , 'c' , 'd' , 'e' , 'f']\\nprint('Original List content at begining :' , list_variable)\\nprint('*'*50)\\n# Using for loop\\nprint('Iteration Using for loop')\\nfor element in list_variable:\\n    print(element)\\nprint('*'*50)\\n# Using while loop\\nprint('Iteration Using while loop')\\nwhile len(list_variable) != 0:\\n    first_element = list_variable.pop(0)\\n    print(first_element)\\nprint('*'*50)\", \"# isinstance\\n'a' isinstance str\", \"# isinstance\\nisinstance('a' , str)\", \"# isinstance function\\n# Used to check data type\\nprint('isinstance function returns True if the value and datatype passed match if not it returns False')\\nprint(isinstance('a' , str))\\nprint('*'*50)\", '# isinstance function\\n# Used to check data type\\nprint(\\'isinstance function returns True if the value and datatype passed match if not it returns False\\')\\nprint(\"Checking if \\'a\\' is of String type :\" , isinstance(\\'a\\' , str))\\nprint(\\'*\\'*50)', '# isinstance function\\n# Used to check data type\\nprint(\\'isinstance function returns True if the value and datatype passed match if not it returns False\\')\\nprint(\"Checking if \\'a\\' is of String type :\" , isinstance(\\'a\\' , str))\\nprint(\\'*\\'*50)\\n# As isinstance function returns boolean True or False it can be used in conditional statement\\nif isinstance(\\'a\\' , str):\\n    print(\"\\'a\\' is og string type\")\\nelse:\\n    print(\"\\'a\\' is not string type\")', '# isinstance function\\n# Used to check data type\\nprint(\\'isinstance function returns True if the value and datatype passed match if not it returns False\\')\\nprint(\"Checking if \\'a\\' is of String type :\" , isinstance(\\'a\\' , str))\\nprint(\\'*\\'*50)\\n# As isinstance function returns boolean True or False it can be used in conditional statement\\nif isinstance(\\'a\\' , str):\\n    print(\"\\'a\\' is of string type\")\\nelse:\\n    print(\"\\'a\\' is not string type\")\\nprint(\\'*\\'*50)', \"# sys.stdout\\nimport sys\\nsys.stdout.write('gfg')\", \"# sys.stdout\\nimport sys\\nsys.stdout.write('gfg')\\nvariable = sys.stdin('ABC')\", \"# sys.stdout\\nimport sys\\nsys.stdout.write('gfg')\\nsys.stdin('ABC')\", \"# sys.stdout\\nimport sys\\nsys.stdout.write('gfg')\\nsys.stdin.write('ABC')\", \"# sys.stdout\\nimport sys\\nsys.stdout.write('gfg')\\na = sys.stdin.write('ABC')\", \"# sys.stdout\\nimport sys\\nsys.stdout.write('gfg')\\nsys.stderr.write('ABC')\", 'locals()', 'print(locals())', 'print(locals())'], 'Out': {40: True, 45: 3, 50: 3, 51: {...}}, 'get_ipython': <bound method InteractiveShell.get_ipython of <ipykernel.zmqshell.ZMQInteractiveShell object at 0x7f63b72107c0>>, 'exit': <IPython.core.autocall.ZMQExitAutocall object at 0x7f63b4174d00>, 'quit': <IPython.core.autocall.ZMQExitAutocall object at 0x7f63b4174d00>, '_': {...}, '__': 3, '___': 3, 'site': <module 'site' from '/home/karthik/anaconda3/lib/python3.9/site.py'>, 'os': <module 'os' from '/home/karthik/anaconda3/lib/python3.9/os.py'>, 'sys': <module 'sys' (built-in)>, '__vsc_ipynb_file__': '/home/karthik/Documents/DS Tech Code/Blog Code.ipynb', '_i': 'print(locals())', '_ii': 'locals()', '_iii': \"# sys.stdout\\nimport sys\\nsys.stdout.write('gfg')\\nsys.stderr.write('ABC')\", '_i1': '# List built in methods\\n# Method : Pop\\n# What It Does : Pop removes the item at the given position in the list, and return it.If no index is specified, a.pop() removes and returns the last item in the list.\\nlist_variable = [1,2,3,2]\\npopped_value = list_variable.pop(123)', 'list_variable': [], '_i2': \"# List built in methods\\n# Method : Pop\\n# What It Does : Pop removes the item at the given position in the list, and return it.If no index is specified, a.pop() removes and returns the last item in the list.\\nlist_variable = [1,2,3,4]\\nprint('List content at begining :' , list_variable)\\nprint('*'*50)\\n# Popping value at index 1\\npopped_value = list_variable.pop(1)\\nprint('List content after popping value at index 1 :' , list_variable)\\nprint('Popped value :' , popped_value)\\nprint('*'*50)\\n# If the index passed to the method is not in range, it throws IndexError: pop index out of range exception.\\ntry:\\n    # tryinh to pop value at index 1000\\n    popped_value = list_variable.pop(1000)\\nexcept Exception as e :\\n    print('IndexError: pop index out of range error occured' , e)\", 'popped_value': 4, '_i3': \"# List built in methods\\n# Method : Pop\\n# What It Does : Pop removes the item at the given position in the list, and return it.If no index is specified, a.pop() removes and returns the last item in the list.\\nlist_variable = [1,2,3,4]\\nprint('List content at begining :' , list_variable)\\nprint('*'*50)\\n# Popping value at index 1\\npopped_value = list_variable.pop(1)\\nprint('List content after popping value at index 1 :' , list_variable)\\nprint('Popped value :' , popped_value)\\nprint('*'*50)\\n# If the index passed to the method is not in range, it throws IndexError: pop index out of range exception.\\ntry:\\n    # tryinh to pop value at index 1000\\n    popped_value = list_variable.pop(1000)\\nexcept Exception as e :\\n    print('IndexError: pop index out of range error occured' , e)\\nprint('*'*50)\", '_i4': \"# List built in methods\\n# Method : Pop\\n# What It Does : Pop removes the item at the given position in the list, and return it.If no index is specified, a.pop() removes and returns the last item in the list.\\nlist_variable = [1,2,3,4]\\nprint('List content at begining :' , list_variable)\\nprint('*'*50)\\n# Popping value at index 1\\npopped_value = list_variable.pop(1)\\nprint('List content after popping value at index 1 :' , list_variable)\\nprint('Popped value :' , popped_value)\\nprint('*'*50)\\n# Popping without index\\npopped_value = list_variable.pop()\\nprint('List content after popping with no arguments :' , list_variable)\\nprint('Popped value :' , popped_value)\\nprint('*'*50)\\n# If the index passed to the method is not in range, it throws IndexError: pop index out of range exception.\\ntry:\\n    # tryinh to pop value at index 1000\\n    popped_value = list_variable.pop(1000)\\nexcept Exception as e :\\n    print('IndexError: pop index out of range error occured' , e)\\nprint('*'*50)\", '_i5': \"# List built in methods\\n# Method : Pop\\n# What It Does : Pop removes the item at the given position in the list, and return it.If no index is specified, a.pop() removes and returns the last item in the list.\\nlist_variable = [1,2,3,4]\\nprint('List content at begining :' , list_variable)\\nprint('*'*50)\\n# Popping value at index 1\\npopped_value = list_variable.pop(1)\\nprint('List content after popping value at index 1 :' , list_variable)\\nprint('Popped value :' , popped_value)\\nprint('*'*50)\\n# Popping without index\\n# If no index is specified, a.pop() removes and returns the last item in the list.\\npopped_value = list_variable.pop()\\nprint('List content after popping with no arguments :' , list_variable)\\nprint('Popped value :' , popped_value)\\nprint('*'*50)\\n# If the index passed to the method is not in range, it throws IndexError: pop index out of range exception.\\ntry:\\n    # tryinh to pop value at index 1000\\n    popped_value = list_variable.pop(1000)\\nexcept Exception as e :\\n    print('IndexError: pop index out of range error occured' , e)\\nprint('*'*50)\", '_i6': \"# List built in methods\\n# Method : Clear\\n# What It Does : Clear Remove all items from the list\\nlist_variable = [1,2,3,4]\\nprint('List content at begining :' , list_variable)\\nprint('*'*50)\\nlist_variable.clear()\\nprint('List content after clear() method :' , list_variable)\\nprint('*'*50)\", '_i7': \"# List built in methods\\n# Method : Index\\n# What It Does : Return zero-based index in the list of the first item whose value is equal to x. Raises a ValueError if there is no such item.\\nlist_variable = [1,2,3,4]\\nprint('List content at begining :' , list_variable)\\nprint('*'*50)\\n# index of element 1\\nindex_of_1 = list_variable.index(element = 1)\\nprint('Index Od Element 1 in List :' , index_of_1)\\nprint('*'*50)\\n# 3 parameters of list.index()\\n# 1) element - the element to be searched\\n# 2) start (optional) - start searching from this index\\n# 3) end (optional) - search the element up to this index\", '_i8': \"# List built in methods\\n# Method : Index\\n# What It Does : Return zero-based index in the list of the first item whose value is equal to x. Raises a ValueError if there is no such item.\\nlist_variable = [1,2,3,4]\\nprint('List content at begining :' , list_variable)\\nprint('*'*50)\\n# index of element 1\\nindex_of_1 = list_variable.index(1)\\nprint('Index Od Element 1 in List :' , index_of_1)\\nprint('*'*50)\\n# 3 parameters of list.index()\\n# 1) element - the element to be searched\\n# 2) start (optional) - start searching from this index\\n# 3) end (optional) - search the element up to this index\", 'index_of_1': 0, '_i9': \"# List built in methods\\n# Method : Index\\n# What It Does : Return zero-based index in the list of the first item whose value is equal to x. Raises a ValueError if there is no such item.\\nlist_variable = [1,2,3,4]\\nprint('List content at begining :' , list_variable)\\nprint('*'*50)\\n# index of element 1\\nindex_of_1 = list_variable.index(1)\\nprint('Index Of Element 1 in List :' , index_of_1)\\nprint('*'*50)\\n# 3 parameters of list.index()\\n# 1) element - the element to be searched\\n# 2) start (optional) - start searching from this index\\n# 3) end (optional) - search the element up to this index\\nindex_of_1 = list_variable.index(1 , 2 , -1)\\n\\nindex_of_1\", '_i10': \"# List built in methods\\n# Method : Index\\n# What It Does : Return zero-based index in the list of the first item whose value is equal to x. Raises a ValueError if there is no such item.\\nlist_variable = [1,2,3,4]\\nprint('List content at begining :' , list_variable)\\nprint('*'*50)\\n# index of element 1\\nindex_of_1 = list_variable.index(1)\\nprint('Index Of Element 1 in List :' , index_of_1)\\nprint('*'*50)\\n# 3 parameters of list.index()\\n# 1) element - the element to be searched\\n# 2) start (optional) - start searching from this index\\n# 3) end (optional) - search the element up to this index\\n# Here we search for 1 in [3,4] , By setting up args accordingly\\ntry:\\n    index_of_1 = list_variable.index(1 , 2 , -1)\\nexcept Exception as e:\\n    print('ValueError: 1 is not in list has occured : ' , e)\\nprint('*'*50)\", '_i11': \"# List built in methods\\n# Method : Count\\n# What It Does : Returns the number of times an element appears in the list.\\nlist_variable = [1,2,3,4,1,1,2,2,3]\\nprint('List content at begining :' , list_variable)\\nprint('*'*50)\\nnumber_of_times_one_have_occured = list_variable.count(1)\\nprint('number_of_times_one_have_occured in the list are :' , number_of_times_one_have_occured)\\nprint('*'*50)\", 'number_of_times_one_have_occured': 3, '_i12': \"# List built in methods\\n# Method : Sort\\n# What It Does : Sort the items of the list in place.\\nlist_variable = [4,5,2,3,7,5,1]\\nprint('List content at begining :' , list_variable)\\nprint('*'*50)\", '_i13': \"# List built in methods\\n# Method : Sort\\n# What It Does : Sort the items of the list in place.\\nlist_variable = [4,5,2,3,7,5,1]\\nprint('List content at begining :' , list_variable)\\nprint('*'*50)\\nlist_variable.sort()\\nprint('List content after using sort() :' , list_variable)\\nprint('*'*50)\", '_i14': \"# List built in methods\\n# Method : Sort\\n# What It Does : Sort the items of the list in place.\\nlist_variable = [4,5,2,3,7,5,1]\\nprint('List content at begining :' , list_variable)\\nprint('*'*50)\\n# sort() changes the list directly and doesn't return any value\\nlist_variable.sort()\\nprint('List content after using sort() :' , list_variable)\\nprint('*'*50)\\n# Using reverse argument\\nlist_variable.sort(reverse=True)\\nprint('List content after using sort() with reverse as True :' , list_variable)\\nprint('*'*50)\", '_i15': \"# List built in methods\\n# Method : Sort\\n# What It Does : Sort the items of the list in place.\\nlist_variable = [4,5,2,3,7,5,1]\\nprint('List content at begining :' , list_variable)\\nprint('*'*50)\\n# sort() changes the list directly and doesn't return any value\\nlist_variable.sort()\\nprint('List content after using sort() :' , list_variable)\\nprint('*'*50)\\n# Using reverse argument\\nlist_variable.sort(reverse=True)\\nprint('List content after using sort() with reverse as True :' , list_variable)\\nprint('*'*50)\\n# Using key argument (It accepts a function as key and sorts based on the key function)\\n# Here we'll use built in len function\\nlist_variable.sort(key = len)\\nprint('List content after using sort() with key function :' , list_variable)\\nprint('*'*50)\", '_i16': \"# List built in methods\\n# Method : Sort\\n# What It Does : Sort the items of the list in place.\\nlist_variable = ['a' , 'z' , 'f' , 'h' , 't']\\nprint('List content at begining :' , list_variable)\\nprint('*'*50)\\n# sort() changes the list directly and doesn't return any value\\nlist_variable.sort()\\nprint('List content after using sort() :' , list_variable)\\nprint('*'*50)\\n# Using reverse argument\\nlist_variable.sort(reverse=True)\\nprint('List content after using sort() with reverse as True :' , list_variable)\\nprint('*'*50)\\n# Using key argument (It accepts a function as key and sorts based on the key function)\\n# Here we'll use built in len function\\n\\nlist_variable.sort(key = len)\\nprint('List content after using sort() with key function :' , list_variable)\\nprint('*'*50)\", '_i17': \"# List built in methods\\n# Method : Sort\\n# What It Does : Sort the items of the list in place.\\nlist_variable = ['a' , 'zz' , 'f' , 'hhhh' , 't']\\nprint('List content at begining :' , list_variable)\\nprint('*'*50)\\n# sort() changes the list directly and doesn't return any value\\nlist_variable.sort()\\nprint('List content after using sort() :' , list_variable)\\nprint('*'*50)\\n# Using reverse argument\\nlist_variable.sort(reverse=True)\\nprint('List content after using sort() with reverse as True :' , list_variable)\\nprint('*'*50)\\n# Using key argument (It accepts a function as key and sorts based on the key function)\\n# Here we'll use built in len function\\n\\nlist_variable.sort(key = len)\\nprint('List content after using sort() with key function :' , list_variable)\\nprint('*'*50)\", '_i18': \"# List built in methods\\n# Method : Sort\\n# What It Does : Sort the items of the list in place.\\nlist_variable = ['a' , 'zz' , 'f' , 'hhhh' , 't']\\nprint('List content at begining :' , list_variable)\\nprint('*'*50)\\n# sort() changes the list directly and doesn't return any value\\nlist_variable.sort()\\nprint('List content after using sort() :' , list_variable)\\nprint('*'*50)\\n# Using reverse argument\\nlist_variable.sort(reverse=True)\\nprint('List content after using sort() with reverse as True :' , list_variable)\\nprint('*'*50)\\n# Using key argument (It accepts a function as key and sorts based on the key function)\\n# Here we'll use built in len function\\n\\nlist_variable.sort(key = len)\\nprint('List content after using sort() with len() key function :' , list_variable)\\nprint('*'*50)\", '_i19': \"# List built in methods\\n# Method : Reverse\\n# What It Does : Reverse the elements of the list in place.\\nlist_variable = [4,7,2,4,6,7,8,98,3]\\nprint('List content at begining :' , list_variable)\\nprint('*'*50)\", '_i20': \"# List built in methods\\n# Method : Reverse\\n# What It Does : Reverse the elements of the list in place.\\nlist_variable = [4,7,2,4,6,7,8,98,3]\\nprint('List content at begining :' , list_variable)\\nprint('*'*50)\\n# Using reverse()\\nlist_variable.reverse()\\nprint('List content after using reverse() :' , list_variable)\\nprint('*'*50)\", '_i21': \"# List built in methods\\n# Method : Reverse\\n# What It Does : Reverse the elements of the list in place.\\nlist_variable = [4,7,2,4,6,7,8,98,3]\\nprint('List content at begining :' , list_variable)\\nprint('*'*50)\\n# Using reverse()\\n# reverse() changes the list directly and doesn't return any value\\nlist_variable.reverse()\\nprint('List content after using reverse() :' , list_variable)\\nprint('*'*50)\\n# Reverse method does not sort descending , It just reverses the values in list in opposite order\", '_i22': \"# List built in methods\\n# Method : Copy\\n# What It Does : Return a shallow copy of the list\\nlist_variable = [1,2,3]\\nprint('List content at begining :' , list_variable)\\nprint('*'*50)\", '_i23': \"# List built in methods\\n# Method : Copy\\n# What It Does : Return a shallow copy of the list\\nlist_variable = [1,2,3]\\nprint('Original List content at begining :' , list_variable)\\nprint('*'*50)\\ncopy_of_list = list_variable.copy()\\nprint('Original List content after copying :' , list_variable)\\nprint('Copied List content : ' , copy_of_list)\\nprint('*'*50)\", 'copy_of_list': [1, 2, 3, 3], '_i24': '# List built in methods\\n# Method : Copy\\n# What It Does : Return a shallow copy of the list\\nlist_variable = [1,2,3]\\nprint(\\'Original List content at begining :\\' , list_variable)\\nprint(\\'*\\'*50)\\ncopy_of_list = list_variable.copy()\\ncopy_using_equal_sign_list = list_variable\\nprint(\\'Original List content after copying :\\' , list_variable)\\nprint(\\'Copied List content using copy() : \\' , copy_of_list)\\nprint(\\'Copied List content using \"=\" sign : \\' , copy_using_equal_sign_list)\\nprint(\\'*\\'*50)', 'copy_using_equal_sign_list': [1, 2, 3, 4], '_i25': '# List built in methods\\n# Method : Copy\\n# What It Does : Return a shallow copy of the list\\nlist_variable = [1,2,3]\\nprint(\\'Original List content at begining :\\' , list_variable)\\nprint(\\'*\\'*50)\\ncopy_of_list = list_variable.copy()\\ncopy_using_equal_sign_list = list_variable\\nprint(\\'Original List content after copying :\\' , list_variable)\\nprint(\\'Copied List content using copy() : \\' , copy_of_list)\\nprint(\\'Copied List content using \"=\" sign : \\' , copy_using_equal_sign_list)\\nprint(\\'*\\'*50)\\n# Changing values in both copied lists\\ncopy_of_list.append(4)\\ncopy_using_equal_sign_list.append(4)\\nprint(\\'Original List content after appending 4 :\\' , list_variable)\\nprint(\\'Copied List content using copy() after appending 4 : \\' , copy_of_list)\\nprint(\\'Copied List content using \"=\" sign after appending 4 : \\' , copy_using_equal_sign_list)\\nprint(\\'*\\'*50)', '_i26': '# List built in methods\\n# Method : Copy\\n# What It Does : Return a shallow copy of the list\\nlist_variable = [1,2,3]\\nprint(\\'Original List content at begining :\\' , list_variable)\\nprint(\\'*\\'*50)\\ncopy_of_list = list_variable.copy()\\ncopy_using_equal_sign_list = list_variable\\nprint(\\'Original List content after copying :\\' , list_variable)\\nprint(\\'Copied List content using copy() : \\' , copy_of_list)\\nprint(\\'Copied List content using \"=\" sign : \\' , copy_using_equal_sign_list)\\nprint(\\'*\\'*50)\\n# Changing values in both copied lists\\ncopy_of_list.append(3)\\ncopy_using_equal_sign_list.append(4)\\nprint(\\'Original List content after appending 4 :\\' , list_variable)\\nprint(\\'Copied List content using copy() after appending 3 : \\' , copy_of_list)\\nprint(\\'Copied List content using \"=\" sign after appending 4 : \\' , copy_using_equal_sign_list)\\nprint(\\'*\\'*50)', '_i27': '# List built in methods\\n# Method : Copy\\n# What It Does : Return a shallow copy of the list\\nlist_variable = [1,2,3]\\nprint(\\'Original List content at begining :\\' , list_variable)\\nprint(\\'*\\'*50)\\ncopy_of_list = list_variable.copy()\\ncopy_using_equal_sign_list = list_variable\\nprint(\\'Original List content after copying :\\' , list_variable)\\nprint(\\'Copied List content using copy() : \\' , copy_of_list)\\nprint(\\'Copied List content using \"=\" sign : \\' , copy_using_equal_sign_list)\\nprint(\\'*\\'*50)\\n# Changing values in both copied lists\\ncopy_of_list.append(3)\\ncopy_using_equal_sign_list.append(4)\\nprint(\\'Original List content after appending 4 :\\' , list_variable)\\nprint(\\'Copied List content using copy() after appending 3 : \\' , copy_of_list)\\nprint(\\'Copied List content using \"=\" sign after appending 4 : \\' , copy_using_equal_sign_list)\\nprint(\\'*\\'*50)\\n# We can understand that if we do copy using = sign if we change the copied list content , original list content also changes\\n# But in .copy() the original list content does not change even if you change the copied list content.\\nprint(\\'\\'\\'\\nWe can understand that if we do copy using = sign if we change the copied list content , original list content also changes\\nBut in .copy() the original list content does not change even if you change the copied list content.\\n\\'\\'\\')', '_i28': '# List built in methods\\n# Method : Copy\\n# What It Does : Return a shallow copy of the list\\nlist_variable = [1,2,3]\\nprint(\\'Original List content at begining :\\' , list_variable)\\nprint(\\'*\\'*50)\\ncopy_of_list = list_variable.copy()\\ncopy_using_equal_sign_list = list_variable\\nprint(\\'Original List content after copying :\\' , list_variable)\\nprint(\\'Copied List content using copy() : \\' , copy_of_list)\\nprint(\\'Copied List content using \"=\" sign : \\' , copy_using_equal_sign_list)\\nprint(\\'*\\'*50)\\n# Changing values in both copied lists\\ncopy_of_list.append(3)\\ncopy_using_equal_sign_list.append(4)\\nprint(\\'Original List content after appending 4 :\\' , list_variable)\\nprint(\\'Copied List content using copy() after appending 3 : \\' , copy_of_list)\\nprint(\\'Copied List content using \"=\" sign after appending 4 : \\' , copy_using_equal_sign_list)\\nprint(\\'*\\'*50)\\n# We can understand that if we do copy using = sign if we change the copied list content , original list content also changes\\n# But in .copy() the original list content does not change even if you change the copied list content.\\nprint(\\'\\'\\'\\nWe can understand that if we do copy using = sign if we change the copied list content , original list content also changes. But in .copy() the original list content does not change even if you change the copied list content.\\n\\'\\'\\')', '_i29': '# List built in methods\\n# Method : Copy\\n# What It Does : Return a shallow copy of the list\\nlist_variable = [1,2,3]\\nprint(\\'Original List content at begining :\\' , list_variable)\\nprint(\\'*\\'*50)\\ncopy_of_list = list_variable.copy()\\ncopy_using_equal_sign_list = list_variable\\nprint(\\'Original List content after copying :\\' , list_variable)\\nprint(\\'Copied List content using copy() : \\' , copy_of_list)\\nprint(\\'Copied List content using \"=\" sign : \\' , copy_using_equal_sign_list)\\nprint(\\'*\\'*50)\\n# Changing values in both copied lists\\ncopy_of_list.append(3)\\ncopy_using_equal_sign_list.append(4)\\nprint(\\'Original List content after appending 4 :\\' , list_variable)\\nprint(\\'Copied List content using copy() after appending 3 : \\' , copy_of_list)\\nprint(\\'Copied List content using \"=\" sign after appending 4 : \\' , copy_using_equal_sign_list)\\nprint(\\'*\\'*50)\\n# We can understand that if we do copy using = sign if we change the copied list content , original list content also changes\\n# But in .copy() the original list content does not change even if you change the copied list content.\\nprint(\\'\\'\\'We can understand that if we do copy using = sign if we change the copied list content , original list content also changes. But in .copy() the original list content does not change even if you change the copied list content.\\n\\'\\'\\')', '_i30': '# List built in methods\\n# Method : Copy\\n# What It Does : Return a shallow copy of the list\\nlist_variable = [1,2,3]\\nprint(\\'Original List content at begining :\\' , list_variable)\\nprint(\\'*\\'*50)\\ncopy_of_list = list_variable.copy()\\ncopy_using_equal_sign_list = list_variable\\nprint(\\'Original List content after copying :\\' , list_variable)\\nprint(\\'Copied List content using copy() : \\' , copy_of_list)\\nprint(\\'Copied List content using \"=\" sign : \\' , copy_using_equal_sign_list)\\nprint(\\'*\\'*50)\\n# Changing values in both copied lists\\ncopy_of_list.append(3)\\ncopy_using_equal_sign_list.append(4)\\nprint(\\'Original List content after appending 4 :\\' , list_variable)\\nprint(\\'Copied List content using copy() after appending 3 : \\' , copy_of_list)\\nprint(\\'Copied List content using \"=\" sign after appending 4 : \\' , copy_using_equal_sign_list)\\nprint(\\'*\\'*50)\\n# We can understand that if we do copy using = sign if we change the copied list content , original list content also changes\\n# But in .copy() the original list content does not change even if you change the copied list content.\\nprint(\\'\\'\\'We can understand that if we do copy using = sign if we change the copied list content , original list content also changes. But in .copy() the original list content does not change even if you change the copied list content.\\n\\'\\'\\')\\nprint(\\'*\\'*50)', '_i31': \"# List Indexing\\nlist_variable = ['a' , 'b' , 'c' , 'd' , 'e' , 'f']\\nprint('Original List content at begining :' , list_variable)\\nprint('*'*50)\", '_i32': '# List Indexing\\nlist_variable = [\\'a\\' , \\'b\\' , \\'c\\' , \\'d\\' , \\'e\\' , \\'f\\']\\nprint(\\'Original List content at begining :\\' , list_variable)\\nprint(\\'*\\'*50)\\n\\n# Accessing \\'c\\' using Positive Indexing\\nprint(\"Accessing \\'c\\' using Positive Indexing\")\\nprint(list_variable[2])\\nprint(\\'*\\'*50)\\n# Accessing \\'c\\' using Negative Indexing\\nprint(\"Accessing \\'c\\' using Negative Indexing\")\\nprint(list_variable[-4])\\nprint(\\'*\\'*50)', '_i33': '# List Slicing\\nlist_variable = [\\'a\\' , \\'b\\' , \\'c\\' , \\'d\\' , \\'e\\' , \\'f\\']\\nprint(\\'Original List content at begining :\\' , list_variable)\\nprint(\\'*\\'*50)\\n# Printing \\'b\\' to \\'e\\' using slicing\\nprint(\"Printing \\'b\\' to \\'e\\' using slicing\")\\nprint(list_variable[1:5])', '_i34': \"# List Comprehension\\n# Only having variable\\nlist_variable = [i for i in range(10)]\\nprint('List comprehension using only variable :' , list_variable)\\nprint('*'*50)\\n# Actions on variable\\nlist_variable = [i ** i for i in range(10)]\\nprint('List comprehension using actions on variable :' , list_variable)\\nprint('*'*50)\\n# Actions and conditions on variable\\nlist_variable = [i ** i for i in range(10) if i % 2 == 0]\\nprint('List comprehension using actions and conditions on variable :' , list_variable)\\nprint('*'*50)\", '_i35': \"# List Comprehension\\n# Only having variable\\nlist_variable = [i for i in range(10)]\\nprint('List comprehension using only variable :' , list_variable)\\nprint('*'*50)\\n# Actions on variable\\nlist_variable = [i + i for i in range(10)]\\nprint('List comprehension using actions on variable :' , list_variable)\\nprint('*'*50)\\n# Actions and conditions on variable\\nlist_variable = [i ** i for i in range(10) if i % 2 == 0]\\nprint('List comprehension using actions and conditions on variable :' , list_variable)\\nprint('*'*50)\", '_i36': \"# List Comprehension\\n# Only having variable\\nlist_variable = [i for i in range(10)]\\nprint('List comprehension using only variable :' , list_variable)\\nprint('*'*50)\\n# Actions on variable\\nlist_variable = [i * i for i in range(10)]\\nprint('List comprehension using actions on variable :' , list_variable)\\nprint('*'*50)\\n# Actions and conditions on variable\\nlist_variable = [i * i for i in range(10) if i % 2 == 0]\\nprint('List comprehension using actions and conditions on variable :' , list_variable)\\nprint('*'*50)\", '_i37': \"# List Comprehension\\n# Only having variable\\nlist_variable = [i for i in range(10)]\\nprint('List comprehension using only variable :' , list_variable)\\nprint('*'*50)\\n# Actions on variable\\nlist_variable = [i * i for i in range(10)]\\nprint('List comprehension using actions on variable (Here multiplying variable with variable):' , list_variable)\\nprint('*'*50)\\n# Actions and conditions on variable\\nlist_variable = [i * i for i in range(10) if i % 2 == 0]\\nprint('List comprehension using actions and conditions on variable (Here multiplying variable with variable if variable is even number):' , list_variable)\\nprint('*'*50)\", '_i38': \"# List Iterate\\nlist_variable = ['a' , 'b' , 'c' , 'd' , 'e' , 'f']\\nprint('Original List content at begining :' , list_variable)\\nprint('*'*50)\\n# Using for loop\\nprint('Iteration Using for loop')\\nfor element in list_variable:\\n    print(element)\\nprint('*'*50)\\n# Using while loop\\nprint('Iteration Using while loop')\\nwhile len(list_variable) != 0:\\n    first_element = list_variable.pop(0)\\n    print(first_element)\\nprint('*'*50)\", 'element': 'f', 'first_element': 'f', '_i39': \"# isinstance\\n'a' isinstance str\", '_i40': \"# isinstance\\nisinstance('a' , str)\", '_40': True, '_i41': \"# isinstance function\\n# Used to check data type\\nprint('isinstance function returns True if the value and datatype passed match if not it returns False')\\nprint(isinstance('a' , str))\\nprint('*'*50)\", '_i42': '# isinstance function\\n# Used to check data type\\nprint(\\'isinstance function returns True if the value and datatype passed match if not it returns False\\')\\nprint(\"Checking if \\'a\\' is of String type :\" , isinstance(\\'a\\' , str))\\nprint(\\'*\\'*50)', '_i43': '# isinstance function\\n# Used to check data type\\nprint(\\'isinstance function returns True if the value and datatype passed match if not it returns False\\')\\nprint(\"Checking if \\'a\\' is of String type :\" , isinstance(\\'a\\' , str))\\nprint(\\'*\\'*50)\\n# As isinstance function returns boolean True or False it can be used in conditional statement\\nif isinstance(\\'a\\' , str):\\n    print(\"\\'a\\' is og string type\")\\nelse:\\n    print(\"\\'a\\' is not string type\")', '_i44': '# isinstance function\\n# Used to check data type\\nprint(\\'isinstance function returns True if the value and datatype passed match if not it returns False\\')\\nprint(\"Checking if \\'a\\' is of String type :\" , isinstance(\\'a\\' , str))\\nprint(\\'*\\'*50)\\n# As isinstance function returns boolean True or False it can be used in conditional statement\\nif isinstance(\\'a\\' , str):\\n    print(\"\\'a\\' is of string type\")\\nelse:\\n    print(\"\\'a\\' is not string type\")\\nprint(\\'*\\'*50)', '_i45': \"# sys.stdout\\nimport sys\\nsys.stdout.write('gfg')\", '_45': 3, '_i46': \"# sys.stdout\\nimport sys\\nsys.stdout.write('gfg')\\nvariable = sys.stdin('ABC')\", '_i47': \"# sys.stdout\\nimport sys\\nsys.stdout.write('gfg')\\nsys.stdin('ABC')\", '_i48': \"# sys.stdout\\nimport sys\\nsys.stdout.write('gfg')\\nsys.stdin.write('ABC')\", '_i49': \"# sys.stdout\\nimport sys\\nsys.stdout.write('gfg')\\na = sys.stdin.write('ABC')\", '_i50': \"# sys.stdout\\nimport sys\\nsys.stdout.write('gfg')\\nsys.stderr.write('ABC')\", '_50': 3, '_i51': 'locals()', '_51': {...}, '_i52': 'print(locals())', '_i53': 'print(locals())'}\n"
     ]
    }
   ],
   "source": [
    "print(locals())"
   ]
  },
  {
   "cell_type": "code",
   "execution_count": 54,
   "metadata": {},
   "outputs": [
    {
     "name": "stdout",
     "output_type": "stream",
     "text": [
      "{'__name__': '__main__', '__doc__': 'Automatically created module for IPython interactive environment', '__package__': None, '__loader__': None, '__spec__': None, '__builtin__': <module 'builtins' (built-in)>, '__builtins__': <module 'builtins' (built-in)>, '_ih': ['', '# List built in methods\\n# Method : Pop\\n# What It Does : Pop removes the item at the given position in the list, and return it.If no index is specified, a.pop() removes and returns the last item in the list.\\nlist_variable = [1,2,3,2]\\npopped_value = list_variable.pop(123)', \"# List built in methods\\n# Method : Pop\\n# What It Does : Pop removes the item at the given position in the list, and return it.If no index is specified, a.pop() removes and returns the last item in the list.\\nlist_variable = [1,2,3,4]\\nprint('List content at begining :' , list_variable)\\nprint('*'*50)\\n# Popping value at index 1\\npopped_value = list_variable.pop(1)\\nprint('List content after popping value at index 1 :' , list_variable)\\nprint('Popped value :' , popped_value)\\nprint('*'*50)\\n# If the index passed to the method is not in range, it throws IndexError: pop index out of range exception.\\ntry:\\n    # tryinh to pop value at index 1000\\n    popped_value = list_variable.pop(1000)\\nexcept Exception as e :\\n    print('IndexError: pop index out of range error occured' , e)\", \"# List built in methods\\n# Method : Pop\\n# What It Does : Pop removes the item at the given position in the list, and return it.If no index is specified, a.pop() removes and returns the last item in the list.\\nlist_variable = [1,2,3,4]\\nprint('List content at begining :' , list_variable)\\nprint('*'*50)\\n# Popping value at index 1\\npopped_value = list_variable.pop(1)\\nprint('List content after popping value at index 1 :' , list_variable)\\nprint('Popped value :' , popped_value)\\nprint('*'*50)\\n# If the index passed to the method is not in range, it throws IndexError: pop index out of range exception.\\ntry:\\n    # tryinh to pop value at index 1000\\n    popped_value = list_variable.pop(1000)\\nexcept Exception as e :\\n    print('IndexError: pop index out of range error occured' , e)\\nprint('*'*50)\", \"# List built in methods\\n# Method : Pop\\n# What It Does : Pop removes the item at the given position in the list, and return it.If no index is specified, a.pop() removes and returns the last item in the list.\\nlist_variable = [1,2,3,4]\\nprint('List content at begining :' , list_variable)\\nprint('*'*50)\\n# Popping value at index 1\\npopped_value = list_variable.pop(1)\\nprint('List content after popping value at index 1 :' , list_variable)\\nprint('Popped value :' , popped_value)\\nprint('*'*50)\\n# Popping without index\\npopped_value = list_variable.pop()\\nprint('List content after popping with no arguments :' , list_variable)\\nprint('Popped value :' , popped_value)\\nprint('*'*50)\\n# If the index passed to the method is not in range, it throws IndexError: pop index out of range exception.\\ntry:\\n    # tryinh to pop value at index 1000\\n    popped_value = list_variable.pop(1000)\\nexcept Exception as e :\\n    print('IndexError: pop index out of range error occured' , e)\\nprint('*'*50)\", \"# List built in methods\\n# Method : Pop\\n# What It Does : Pop removes the item at the given position in the list, and return it.If no index is specified, a.pop() removes and returns the last item in the list.\\nlist_variable = [1,2,3,4]\\nprint('List content at begining :' , list_variable)\\nprint('*'*50)\\n# Popping value at index 1\\npopped_value = list_variable.pop(1)\\nprint('List content after popping value at index 1 :' , list_variable)\\nprint('Popped value :' , popped_value)\\nprint('*'*50)\\n# Popping without index\\n# If no index is specified, a.pop() removes and returns the last item in the list.\\npopped_value = list_variable.pop()\\nprint('List content after popping with no arguments :' , list_variable)\\nprint('Popped value :' , popped_value)\\nprint('*'*50)\\n# If the index passed to the method is not in range, it throws IndexError: pop index out of range exception.\\ntry:\\n    # tryinh to pop value at index 1000\\n    popped_value = list_variable.pop(1000)\\nexcept Exception as e :\\n    print('IndexError: pop index out of range error occured' , e)\\nprint('*'*50)\", \"# List built in methods\\n# Method : Clear\\n# What It Does : Clear Remove all items from the list\\nlist_variable = [1,2,3,4]\\nprint('List content at begining :' , list_variable)\\nprint('*'*50)\\nlist_variable.clear()\\nprint('List content after clear() method :' , list_variable)\\nprint('*'*50)\", \"# List built in methods\\n# Method : Index\\n# What It Does : Return zero-based index in the list of the first item whose value is equal to x. Raises a ValueError if there is no such item.\\nlist_variable = [1,2,3,4]\\nprint('List content at begining :' , list_variable)\\nprint('*'*50)\\n# index of element 1\\nindex_of_1 = list_variable.index(element = 1)\\nprint('Index Od Element 1 in List :' , index_of_1)\\nprint('*'*50)\\n# 3 parameters of list.index()\\n# 1) element - the element to be searched\\n# 2) start (optional) - start searching from this index\\n# 3) end (optional) - search the element up to this index\", \"# List built in methods\\n# Method : Index\\n# What It Does : Return zero-based index in the list of the first item whose value is equal to x. Raises a ValueError if there is no such item.\\nlist_variable = [1,2,3,4]\\nprint('List content at begining :' , list_variable)\\nprint('*'*50)\\n# index of element 1\\nindex_of_1 = list_variable.index(1)\\nprint('Index Od Element 1 in List :' , index_of_1)\\nprint('*'*50)\\n# 3 parameters of list.index()\\n# 1) element - the element to be searched\\n# 2) start (optional) - start searching from this index\\n# 3) end (optional) - search the element up to this index\", \"# List built in methods\\n# Method : Index\\n# What It Does : Return zero-based index in the list of the first item whose value is equal to x. Raises a ValueError if there is no such item.\\nlist_variable = [1,2,3,4]\\nprint('List content at begining :' , list_variable)\\nprint('*'*50)\\n# index of element 1\\nindex_of_1 = list_variable.index(1)\\nprint('Index Of Element 1 in List :' , index_of_1)\\nprint('*'*50)\\n# 3 parameters of list.index()\\n# 1) element - the element to be searched\\n# 2) start (optional) - start searching from this index\\n# 3) end (optional) - search the element up to this index\\nindex_of_1 = list_variable.index(1 , 2 , -1)\\n\\nindex_of_1\", \"# List built in methods\\n# Method : Index\\n# What It Does : Return zero-based index in the list of the first item whose value is equal to x. Raises a ValueError if there is no such item.\\nlist_variable = [1,2,3,4]\\nprint('List content at begining :' , list_variable)\\nprint('*'*50)\\n# index of element 1\\nindex_of_1 = list_variable.index(1)\\nprint('Index Of Element 1 in List :' , index_of_1)\\nprint('*'*50)\\n# 3 parameters of list.index()\\n# 1) element - the element to be searched\\n# 2) start (optional) - start searching from this index\\n# 3) end (optional) - search the element up to this index\\n# Here we search for 1 in [3,4] , By setting up args accordingly\\ntry:\\n    index_of_1 = list_variable.index(1 , 2 , -1)\\nexcept Exception as e:\\n    print('ValueError: 1 is not in list has occured : ' , e)\\nprint('*'*50)\", \"# List built in methods\\n# Method : Count\\n# What It Does : Returns the number of times an element appears in the list.\\nlist_variable = [1,2,3,4,1,1,2,2,3]\\nprint('List content at begining :' , list_variable)\\nprint('*'*50)\\nnumber_of_times_one_have_occured = list_variable.count(1)\\nprint('number_of_times_one_have_occured in the list are :' , number_of_times_one_have_occured)\\nprint('*'*50)\", \"# List built in methods\\n# Method : Sort\\n# What It Does : Sort the items of the list in place.\\nlist_variable = [4,5,2,3,7,5,1]\\nprint('List content at begining :' , list_variable)\\nprint('*'*50)\", \"# List built in methods\\n# Method : Sort\\n# What It Does : Sort the items of the list in place.\\nlist_variable = [4,5,2,3,7,5,1]\\nprint('List content at begining :' , list_variable)\\nprint('*'*50)\\nlist_variable.sort()\\nprint('List content after using sort() :' , list_variable)\\nprint('*'*50)\", \"# List built in methods\\n# Method : Sort\\n# What It Does : Sort the items of the list in place.\\nlist_variable = [4,5,2,3,7,5,1]\\nprint('List content at begining :' , list_variable)\\nprint('*'*50)\\n# sort() changes the list directly and doesn't return any value\\nlist_variable.sort()\\nprint('List content after using sort() :' , list_variable)\\nprint('*'*50)\\n# Using reverse argument\\nlist_variable.sort(reverse=True)\\nprint('List content after using sort() with reverse as True :' , list_variable)\\nprint('*'*50)\", \"# List built in methods\\n# Method : Sort\\n# What It Does : Sort the items of the list in place.\\nlist_variable = [4,5,2,3,7,5,1]\\nprint('List content at begining :' , list_variable)\\nprint('*'*50)\\n# sort() changes the list directly and doesn't return any value\\nlist_variable.sort()\\nprint('List content after using sort() :' , list_variable)\\nprint('*'*50)\\n# Using reverse argument\\nlist_variable.sort(reverse=True)\\nprint('List content after using sort() with reverse as True :' , list_variable)\\nprint('*'*50)\\n# Using key argument (It accepts a function as key and sorts based on the key function)\\n# Here we'll use built in len function\\nlist_variable.sort(key = len)\\nprint('List content after using sort() with key function :' , list_variable)\\nprint('*'*50)\", \"# List built in methods\\n# Method : Sort\\n# What It Does : Sort the items of the list in place.\\nlist_variable = ['a' , 'z' , 'f' , 'h' , 't']\\nprint('List content at begining :' , list_variable)\\nprint('*'*50)\\n# sort() changes the list directly and doesn't return any value\\nlist_variable.sort()\\nprint('List content after using sort() :' , list_variable)\\nprint('*'*50)\\n# Using reverse argument\\nlist_variable.sort(reverse=True)\\nprint('List content after using sort() with reverse as True :' , list_variable)\\nprint('*'*50)\\n# Using key argument (It accepts a function as key and sorts based on the key function)\\n# Here we'll use built in len function\\n\\nlist_variable.sort(key = len)\\nprint('List content after using sort() with key function :' , list_variable)\\nprint('*'*50)\", \"# List built in methods\\n# Method : Sort\\n# What It Does : Sort the items of the list in place.\\nlist_variable = ['a' , 'zz' , 'f' , 'hhhh' , 't']\\nprint('List content at begining :' , list_variable)\\nprint('*'*50)\\n# sort() changes the list directly and doesn't return any value\\nlist_variable.sort()\\nprint('List content after using sort() :' , list_variable)\\nprint('*'*50)\\n# Using reverse argument\\nlist_variable.sort(reverse=True)\\nprint('List content after using sort() with reverse as True :' , list_variable)\\nprint('*'*50)\\n# Using key argument (It accepts a function as key and sorts based on the key function)\\n# Here we'll use built in len function\\n\\nlist_variable.sort(key = len)\\nprint('List content after using sort() with key function :' , list_variable)\\nprint('*'*50)\", \"# List built in methods\\n# Method : Sort\\n# What It Does : Sort the items of the list in place.\\nlist_variable = ['a' , 'zz' , 'f' , 'hhhh' , 't']\\nprint('List content at begining :' , list_variable)\\nprint('*'*50)\\n# sort() changes the list directly and doesn't return any value\\nlist_variable.sort()\\nprint('List content after using sort() :' , list_variable)\\nprint('*'*50)\\n# Using reverse argument\\nlist_variable.sort(reverse=True)\\nprint('List content after using sort() with reverse as True :' , list_variable)\\nprint('*'*50)\\n# Using key argument (It accepts a function as key and sorts based on the key function)\\n# Here we'll use built in len function\\n\\nlist_variable.sort(key = len)\\nprint('List content after using sort() with len() key function :' , list_variable)\\nprint('*'*50)\", \"# List built in methods\\n# Method : Reverse\\n# What It Does : Reverse the elements of the list in place.\\nlist_variable = [4,7,2,4,6,7,8,98,3]\\nprint('List content at begining :' , list_variable)\\nprint('*'*50)\", \"# List built in methods\\n# Method : Reverse\\n# What It Does : Reverse the elements of the list in place.\\nlist_variable = [4,7,2,4,6,7,8,98,3]\\nprint('List content at begining :' , list_variable)\\nprint('*'*50)\\n# Using reverse()\\nlist_variable.reverse()\\nprint('List content after using reverse() :' , list_variable)\\nprint('*'*50)\", \"# List built in methods\\n# Method : Reverse\\n# What It Does : Reverse the elements of the list in place.\\nlist_variable = [4,7,2,4,6,7,8,98,3]\\nprint('List content at begining :' , list_variable)\\nprint('*'*50)\\n# Using reverse()\\n# reverse() changes the list directly and doesn't return any value\\nlist_variable.reverse()\\nprint('List content after using reverse() :' , list_variable)\\nprint('*'*50)\\n# Reverse method does not sort descending , It just reverses the values in list in opposite order\", \"# List built in methods\\n# Method : Copy\\n# What It Does : Return a shallow copy of the list\\nlist_variable = [1,2,3]\\nprint('List content at begining :' , list_variable)\\nprint('*'*50)\", \"# List built in methods\\n# Method : Copy\\n# What It Does : Return a shallow copy of the list\\nlist_variable = [1,2,3]\\nprint('Original List content at begining :' , list_variable)\\nprint('*'*50)\\ncopy_of_list = list_variable.copy()\\nprint('Original List content after copying :' , list_variable)\\nprint('Copied List content : ' , copy_of_list)\\nprint('*'*50)\", '# List built in methods\\n# Method : Copy\\n# What It Does : Return a shallow copy of the list\\nlist_variable = [1,2,3]\\nprint(\\'Original List content at begining :\\' , list_variable)\\nprint(\\'*\\'*50)\\ncopy_of_list = list_variable.copy()\\ncopy_using_equal_sign_list = list_variable\\nprint(\\'Original List content after copying :\\' , list_variable)\\nprint(\\'Copied List content using copy() : \\' , copy_of_list)\\nprint(\\'Copied List content using \"=\" sign : \\' , copy_using_equal_sign_list)\\nprint(\\'*\\'*50)', '# List built in methods\\n# Method : Copy\\n# What It Does : Return a shallow copy of the list\\nlist_variable = [1,2,3]\\nprint(\\'Original List content at begining :\\' , list_variable)\\nprint(\\'*\\'*50)\\ncopy_of_list = list_variable.copy()\\ncopy_using_equal_sign_list = list_variable\\nprint(\\'Original List content after copying :\\' , list_variable)\\nprint(\\'Copied List content using copy() : \\' , copy_of_list)\\nprint(\\'Copied List content using \"=\" sign : \\' , copy_using_equal_sign_list)\\nprint(\\'*\\'*50)\\n# Changing values in both copied lists\\ncopy_of_list.append(4)\\ncopy_using_equal_sign_list.append(4)\\nprint(\\'Original List content after appending 4 :\\' , list_variable)\\nprint(\\'Copied List content using copy() after appending 4 : \\' , copy_of_list)\\nprint(\\'Copied List content using \"=\" sign after appending 4 : \\' , copy_using_equal_sign_list)\\nprint(\\'*\\'*50)', '# List built in methods\\n# Method : Copy\\n# What It Does : Return a shallow copy of the list\\nlist_variable = [1,2,3]\\nprint(\\'Original List content at begining :\\' , list_variable)\\nprint(\\'*\\'*50)\\ncopy_of_list = list_variable.copy()\\ncopy_using_equal_sign_list = list_variable\\nprint(\\'Original List content after copying :\\' , list_variable)\\nprint(\\'Copied List content using copy() : \\' , copy_of_list)\\nprint(\\'Copied List content using \"=\" sign : \\' , copy_using_equal_sign_list)\\nprint(\\'*\\'*50)\\n# Changing values in both copied lists\\ncopy_of_list.append(3)\\ncopy_using_equal_sign_list.append(4)\\nprint(\\'Original List content after appending 4 :\\' , list_variable)\\nprint(\\'Copied List content using copy() after appending 3 : \\' , copy_of_list)\\nprint(\\'Copied List content using \"=\" sign after appending 4 : \\' , copy_using_equal_sign_list)\\nprint(\\'*\\'*50)', '# List built in methods\\n# Method : Copy\\n# What It Does : Return a shallow copy of the list\\nlist_variable = [1,2,3]\\nprint(\\'Original List content at begining :\\' , list_variable)\\nprint(\\'*\\'*50)\\ncopy_of_list = list_variable.copy()\\ncopy_using_equal_sign_list = list_variable\\nprint(\\'Original List content after copying :\\' , list_variable)\\nprint(\\'Copied List content using copy() : \\' , copy_of_list)\\nprint(\\'Copied List content using \"=\" sign : \\' , copy_using_equal_sign_list)\\nprint(\\'*\\'*50)\\n# Changing values in both copied lists\\ncopy_of_list.append(3)\\ncopy_using_equal_sign_list.append(4)\\nprint(\\'Original List content after appending 4 :\\' , list_variable)\\nprint(\\'Copied List content using copy() after appending 3 : \\' , copy_of_list)\\nprint(\\'Copied List content using \"=\" sign after appending 4 : \\' , copy_using_equal_sign_list)\\nprint(\\'*\\'*50)\\n# We can understand that if we do copy using = sign if we change the copied list content , original list content also changes\\n# But in .copy() the original list content does not change even if you change the copied list content.\\nprint(\\'\\'\\'\\nWe can understand that if we do copy using = sign if we change the copied list content , original list content also changes\\nBut in .copy() the original list content does not change even if you change the copied list content.\\n\\'\\'\\')', '# List built in methods\\n# Method : Copy\\n# What It Does : Return a shallow copy of the list\\nlist_variable = [1,2,3]\\nprint(\\'Original List content at begining :\\' , list_variable)\\nprint(\\'*\\'*50)\\ncopy_of_list = list_variable.copy()\\ncopy_using_equal_sign_list = list_variable\\nprint(\\'Original List content after copying :\\' , list_variable)\\nprint(\\'Copied List content using copy() : \\' , copy_of_list)\\nprint(\\'Copied List content using \"=\" sign : \\' , copy_using_equal_sign_list)\\nprint(\\'*\\'*50)\\n# Changing values in both copied lists\\ncopy_of_list.append(3)\\ncopy_using_equal_sign_list.append(4)\\nprint(\\'Original List content after appending 4 :\\' , list_variable)\\nprint(\\'Copied List content using copy() after appending 3 : \\' , copy_of_list)\\nprint(\\'Copied List content using \"=\" sign after appending 4 : \\' , copy_using_equal_sign_list)\\nprint(\\'*\\'*50)\\n# We can understand that if we do copy using = sign if we change the copied list content , original list content also changes\\n# But in .copy() the original list content does not change even if you change the copied list content.\\nprint(\\'\\'\\'\\nWe can understand that if we do copy using = sign if we change the copied list content , original list content also changes. But in .copy() the original list content does not change even if you change the copied list content.\\n\\'\\'\\')', '# List built in methods\\n# Method : Copy\\n# What It Does : Return a shallow copy of the list\\nlist_variable = [1,2,3]\\nprint(\\'Original List content at begining :\\' , list_variable)\\nprint(\\'*\\'*50)\\ncopy_of_list = list_variable.copy()\\ncopy_using_equal_sign_list = list_variable\\nprint(\\'Original List content after copying :\\' , list_variable)\\nprint(\\'Copied List content using copy() : \\' , copy_of_list)\\nprint(\\'Copied List content using \"=\" sign : \\' , copy_using_equal_sign_list)\\nprint(\\'*\\'*50)\\n# Changing values in both copied lists\\ncopy_of_list.append(3)\\ncopy_using_equal_sign_list.append(4)\\nprint(\\'Original List content after appending 4 :\\' , list_variable)\\nprint(\\'Copied List content using copy() after appending 3 : \\' , copy_of_list)\\nprint(\\'Copied List content using \"=\" sign after appending 4 : \\' , copy_using_equal_sign_list)\\nprint(\\'*\\'*50)\\n# We can understand that if we do copy using = sign if we change the copied list content , original list content also changes\\n# But in .copy() the original list content does not change even if you change the copied list content.\\nprint(\\'\\'\\'We can understand that if we do copy using = sign if we change the copied list content , original list content also changes. But in .copy() the original list content does not change even if you change the copied list content.\\n\\'\\'\\')', '# List built in methods\\n# Method : Copy\\n# What It Does : Return a shallow copy of the list\\nlist_variable = [1,2,3]\\nprint(\\'Original List content at begining :\\' , list_variable)\\nprint(\\'*\\'*50)\\ncopy_of_list = list_variable.copy()\\ncopy_using_equal_sign_list = list_variable\\nprint(\\'Original List content after copying :\\' , list_variable)\\nprint(\\'Copied List content using copy() : \\' , copy_of_list)\\nprint(\\'Copied List content using \"=\" sign : \\' , copy_using_equal_sign_list)\\nprint(\\'*\\'*50)\\n# Changing values in both copied lists\\ncopy_of_list.append(3)\\ncopy_using_equal_sign_list.append(4)\\nprint(\\'Original List content after appending 4 :\\' , list_variable)\\nprint(\\'Copied List content using copy() after appending 3 : \\' , copy_of_list)\\nprint(\\'Copied List content using \"=\" sign after appending 4 : \\' , copy_using_equal_sign_list)\\nprint(\\'*\\'*50)\\n# We can understand that if we do copy using = sign if we change the copied list content , original list content also changes\\n# But in .copy() the original list content does not change even if you change the copied list content.\\nprint(\\'\\'\\'We can understand that if we do copy using = sign if we change the copied list content , original list content also changes. But in .copy() the original list content does not change even if you change the copied list content.\\n\\'\\'\\')\\nprint(\\'*\\'*50)', \"# List Indexing\\nlist_variable = ['a' , 'b' , 'c' , 'd' , 'e' , 'f']\\nprint('Original List content at begining :' , list_variable)\\nprint('*'*50)\", '# List Indexing\\nlist_variable = [\\'a\\' , \\'b\\' , \\'c\\' , \\'d\\' , \\'e\\' , \\'f\\']\\nprint(\\'Original List content at begining :\\' , list_variable)\\nprint(\\'*\\'*50)\\n\\n# Accessing \\'c\\' using Positive Indexing\\nprint(\"Accessing \\'c\\' using Positive Indexing\")\\nprint(list_variable[2])\\nprint(\\'*\\'*50)\\n# Accessing \\'c\\' using Negative Indexing\\nprint(\"Accessing \\'c\\' using Negative Indexing\")\\nprint(list_variable[-4])\\nprint(\\'*\\'*50)', '# List Slicing\\nlist_variable = [\\'a\\' , \\'b\\' , \\'c\\' , \\'d\\' , \\'e\\' , \\'f\\']\\nprint(\\'Original List content at begining :\\' , list_variable)\\nprint(\\'*\\'*50)\\n# Printing \\'b\\' to \\'e\\' using slicing\\nprint(\"Printing \\'b\\' to \\'e\\' using slicing\")\\nprint(list_variable[1:5])', \"# List Comprehension\\n# Only having variable\\nlist_variable = [i for i in range(10)]\\nprint('List comprehension using only variable :' , list_variable)\\nprint('*'*50)\\n# Actions on variable\\nlist_variable = [i ** i for i in range(10)]\\nprint('List comprehension using actions on variable :' , list_variable)\\nprint('*'*50)\\n# Actions and conditions on variable\\nlist_variable = [i ** i for i in range(10) if i % 2 == 0]\\nprint('List comprehension using actions and conditions on variable :' , list_variable)\\nprint('*'*50)\", \"# List Comprehension\\n# Only having variable\\nlist_variable = [i for i in range(10)]\\nprint('List comprehension using only variable :' , list_variable)\\nprint('*'*50)\\n# Actions on variable\\nlist_variable = [i + i for i in range(10)]\\nprint('List comprehension using actions on variable :' , list_variable)\\nprint('*'*50)\\n# Actions and conditions on variable\\nlist_variable = [i ** i for i in range(10) if i % 2 == 0]\\nprint('List comprehension using actions and conditions on variable :' , list_variable)\\nprint('*'*50)\", \"# List Comprehension\\n# Only having variable\\nlist_variable = [i for i in range(10)]\\nprint('List comprehension using only variable :' , list_variable)\\nprint('*'*50)\\n# Actions on variable\\nlist_variable = [i * i for i in range(10)]\\nprint('List comprehension using actions on variable :' , list_variable)\\nprint('*'*50)\\n# Actions and conditions on variable\\nlist_variable = [i * i for i in range(10) if i % 2 == 0]\\nprint('List comprehension using actions and conditions on variable :' , list_variable)\\nprint('*'*50)\", \"# List Comprehension\\n# Only having variable\\nlist_variable = [i for i in range(10)]\\nprint('List comprehension using only variable :' , list_variable)\\nprint('*'*50)\\n# Actions on variable\\nlist_variable = [i * i for i in range(10)]\\nprint('List comprehension using actions on variable (Here multiplying variable with variable):' , list_variable)\\nprint('*'*50)\\n# Actions and conditions on variable\\nlist_variable = [i * i for i in range(10) if i % 2 == 0]\\nprint('List comprehension using actions and conditions on variable (Here multiplying variable with variable if variable is even number):' , list_variable)\\nprint('*'*50)\", \"# List Iterate\\nlist_variable = ['a' , 'b' , 'c' , 'd' , 'e' , 'f']\\nprint('Original List content at begining :' , list_variable)\\nprint('*'*50)\\n# Using for loop\\nprint('Iteration Using for loop')\\nfor element in list_variable:\\n    print(element)\\nprint('*'*50)\\n# Using while loop\\nprint('Iteration Using while loop')\\nwhile len(list_variable) != 0:\\n    first_element = list_variable.pop(0)\\n    print(first_element)\\nprint('*'*50)\", \"# isinstance\\n'a' isinstance str\", \"# isinstance\\nisinstance('a' , str)\", \"# isinstance function\\n# Used to check data type\\nprint('isinstance function returns True if the value and datatype passed match if not it returns False')\\nprint(isinstance('a' , str))\\nprint('*'*50)\", '# isinstance function\\n# Used to check data type\\nprint(\\'isinstance function returns True if the value and datatype passed match if not it returns False\\')\\nprint(\"Checking if \\'a\\' is of String type :\" , isinstance(\\'a\\' , str))\\nprint(\\'*\\'*50)', '# isinstance function\\n# Used to check data type\\nprint(\\'isinstance function returns True if the value and datatype passed match if not it returns False\\')\\nprint(\"Checking if \\'a\\' is of String type :\" , isinstance(\\'a\\' , str))\\nprint(\\'*\\'*50)\\n# As isinstance function returns boolean True or False it can be used in conditional statement\\nif isinstance(\\'a\\' , str):\\n    print(\"\\'a\\' is og string type\")\\nelse:\\n    print(\"\\'a\\' is not string type\")', '# isinstance function\\n# Used to check data type\\nprint(\\'isinstance function returns True if the value and datatype passed match if not it returns False\\')\\nprint(\"Checking if \\'a\\' is of String type :\" , isinstance(\\'a\\' , str))\\nprint(\\'*\\'*50)\\n# As isinstance function returns boolean True or False it can be used in conditional statement\\nif isinstance(\\'a\\' , str):\\n    print(\"\\'a\\' is of string type\")\\nelse:\\n    print(\"\\'a\\' is not string type\")\\nprint(\\'*\\'*50)', \"# sys.stdout\\nimport sys\\nsys.stdout.write('gfg')\", \"# sys.stdout\\nimport sys\\nsys.stdout.write('gfg')\\nvariable = sys.stdin('ABC')\", \"# sys.stdout\\nimport sys\\nsys.stdout.write('gfg')\\nsys.stdin('ABC')\", \"# sys.stdout\\nimport sys\\nsys.stdout.write('gfg')\\nsys.stdin.write('ABC')\", \"# sys.stdout\\nimport sys\\nsys.stdout.write('gfg')\\na = sys.stdin.write('ABC')\", \"# sys.stdout\\nimport sys\\nsys.stdout.write('gfg')\\nsys.stderr.write('ABC')\", 'locals()', 'print(locals())', 'print(locals())', 'print(globals())'], '_oh': {40: True, 45: 3, 50: 3, 51: {...}}, '_dh': ['/home/karthik/Documents/DS Tech Code'], 'In': ['', '# List built in methods\\n# Method : Pop\\n# What It Does : Pop removes the item at the given position in the list, and return it.If no index is specified, a.pop() removes and returns the last item in the list.\\nlist_variable = [1,2,3,2]\\npopped_value = list_variable.pop(123)', \"# List built in methods\\n# Method : Pop\\n# What It Does : Pop removes the item at the given position in the list, and return it.If no index is specified, a.pop() removes and returns the last item in the list.\\nlist_variable = [1,2,3,4]\\nprint('List content at begining :' , list_variable)\\nprint('*'*50)\\n# Popping value at index 1\\npopped_value = list_variable.pop(1)\\nprint('List content after popping value at index 1 :' , list_variable)\\nprint('Popped value :' , popped_value)\\nprint('*'*50)\\n# If the index passed to the method is not in range, it throws IndexError: pop index out of range exception.\\ntry:\\n    # tryinh to pop value at index 1000\\n    popped_value = list_variable.pop(1000)\\nexcept Exception as e :\\n    print('IndexError: pop index out of range error occured' , e)\", \"# List built in methods\\n# Method : Pop\\n# What It Does : Pop removes the item at the given position in the list, and return it.If no index is specified, a.pop() removes and returns the last item in the list.\\nlist_variable = [1,2,3,4]\\nprint('List content at begining :' , list_variable)\\nprint('*'*50)\\n# Popping value at index 1\\npopped_value = list_variable.pop(1)\\nprint('List content after popping value at index 1 :' , list_variable)\\nprint('Popped value :' , popped_value)\\nprint('*'*50)\\n# If the index passed to the method is not in range, it throws IndexError: pop index out of range exception.\\ntry:\\n    # tryinh to pop value at index 1000\\n    popped_value = list_variable.pop(1000)\\nexcept Exception as e :\\n    print('IndexError: pop index out of range error occured' , e)\\nprint('*'*50)\", \"# List built in methods\\n# Method : Pop\\n# What It Does : Pop removes the item at the given position in the list, and return it.If no index is specified, a.pop() removes and returns the last item in the list.\\nlist_variable = [1,2,3,4]\\nprint('List content at begining :' , list_variable)\\nprint('*'*50)\\n# Popping value at index 1\\npopped_value = list_variable.pop(1)\\nprint('List content after popping value at index 1 :' , list_variable)\\nprint('Popped value :' , popped_value)\\nprint('*'*50)\\n# Popping without index\\npopped_value = list_variable.pop()\\nprint('List content after popping with no arguments :' , list_variable)\\nprint('Popped value :' , popped_value)\\nprint('*'*50)\\n# If the index passed to the method is not in range, it throws IndexError: pop index out of range exception.\\ntry:\\n    # tryinh to pop value at index 1000\\n    popped_value = list_variable.pop(1000)\\nexcept Exception as e :\\n    print('IndexError: pop index out of range error occured' , e)\\nprint('*'*50)\", \"# List built in methods\\n# Method : Pop\\n# What It Does : Pop removes the item at the given position in the list, and return it.If no index is specified, a.pop() removes and returns the last item in the list.\\nlist_variable = [1,2,3,4]\\nprint('List content at begining :' , list_variable)\\nprint('*'*50)\\n# Popping value at index 1\\npopped_value = list_variable.pop(1)\\nprint('List content after popping value at index 1 :' , list_variable)\\nprint('Popped value :' , popped_value)\\nprint('*'*50)\\n# Popping without index\\n# If no index is specified, a.pop() removes and returns the last item in the list.\\npopped_value = list_variable.pop()\\nprint('List content after popping with no arguments :' , list_variable)\\nprint('Popped value :' , popped_value)\\nprint('*'*50)\\n# If the index passed to the method is not in range, it throws IndexError: pop index out of range exception.\\ntry:\\n    # tryinh to pop value at index 1000\\n    popped_value = list_variable.pop(1000)\\nexcept Exception as e :\\n    print('IndexError: pop index out of range error occured' , e)\\nprint('*'*50)\", \"# List built in methods\\n# Method : Clear\\n# What It Does : Clear Remove all items from the list\\nlist_variable = [1,2,3,4]\\nprint('List content at begining :' , list_variable)\\nprint('*'*50)\\nlist_variable.clear()\\nprint('List content after clear() method :' , list_variable)\\nprint('*'*50)\", \"# List built in methods\\n# Method : Index\\n# What It Does : Return zero-based index in the list of the first item whose value is equal to x. Raises a ValueError if there is no such item.\\nlist_variable = [1,2,3,4]\\nprint('List content at begining :' , list_variable)\\nprint('*'*50)\\n# index of element 1\\nindex_of_1 = list_variable.index(element = 1)\\nprint('Index Od Element 1 in List :' , index_of_1)\\nprint('*'*50)\\n# 3 parameters of list.index()\\n# 1) element - the element to be searched\\n# 2) start (optional) - start searching from this index\\n# 3) end (optional) - search the element up to this index\", \"# List built in methods\\n# Method : Index\\n# What It Does : Return zero-based index in the list of the first item whose value is equal to x. Raises a ValueError if there is no such item.\\nlist_variable = [1,2,3,4]\\nprint('List content at begining :' , list_variable)\\nprint('*'*50)\\n# index of element 1\\nindex_of_1 = list_variable.index(1)\\nprint('Index Od Element 1 in List :' , index_of_1)\\nprint('*'*50)\\n# 3 parameters of list.index()\\n# 1) element - the element to be searched\\n# 2) start (optional) - start searching from this index\\n# 3) end (optional) - search the element up to this index\", \"# List built in methods\\n# Method : Index\\n# What It Does : Return zero-based index in the list of the first item whose value is equal to x. Raises a ValueError if there is no such item.\\nlist_variable = [1,2,3,4]\\nprint('List content at begining :' , list_variable)\\nprint('*'*50)\\n# index of element 1\\nindex_of_1 = list_variable.index(1)\\nprint('Index Of Element 1 in List :' , index_of_1)\\nprint('*'*50)\\n# 3 parameters of list.index()\\n# 1) element - the element to be searched\\n# 2) start (optional) - start searching from this index\\n# 3) end (optional) - search the element up to this index\\nindex_of_1 = list_variable.index(1 , 2 , -1)\\n\\nindex_of_1\", \"# List built in methods\\n# Method : Index\\n# What It Does : Return zero-based index in the list of the first item whose value is equal to x. Raises a ValueError if there is no such item.\\nlist_variable = [1,2,3,4]\\nprint('List content at begining :' , list_variable)\\nprint('*'*50)\\n# index of element 1\\nindex_of_1 = list_variable.index(1)\\nprint('Index Of Element 1 in List :' , index_of_1)\\nprint('*'*50)\\n# 3 parameters of list.index()\\n# 1) element - the element to be searched\\n# 2) start (optional) - start searching from this index\\n# 3) end (optional) - search the element up to this index\\n# Here we search for 1 in [3,4] , By setting up args accordingly\\ntry:\\n    index_of_1 = list_variable.index(1 , 2 , -1)\\nexcept Exception as e:\\n    print('ValueError: 1 is not in list has occured : ' , e)\\nprint('*'*50)\", \"# List built in methods\\n# Method : Count\\n# What It Does : Returns the number of times an element appears in the list.\\nlist_variable = [1,2,3,4,1,1,2,2,3]\\nprint('List content at begining :' , list_variable)\\nprint('*'*50)\\nnumber_of_times_one_have_occured = list_variable.count(1)\\nprint('number_of_times_one_have_occured in the list are :' , number_of_times_one_have_occured)\\nprint('*'*50)\", \"# List built in methods\\n# Method : Sort\\n# What It Does : Sort the items of the list in place.\\nlist_variable = [4,5,2,3,7,5,1]\\nprint('List content at begining :' , list_variable)\\nprint('*'*50)\", \"# List built in methods\\n# Method : Sort\\n# What It Does : Sort the items of the list in place.\\nlist_variable = [4,5,2,3,7,5,1]\\nprint('List content at begining :' , list_variable)\\nprint('*'*50)\\nlist_variable.sort()\\nprint('List content after using sort() :' , list_variable)\\nprint('*'*50)\", \"# List built in methods\\n# Method : Sort\\n# What It Does : Sort the items of the list in place.\\nlist_variable = [4,5,2,3,7,5,1]\\nprint('List content at begining :' , list_variable)\\nprint('*'*50)\\n# sort() changes the list directly and doesn't return any value\\nlist_variable.sort()\\nprint('List content after using sort() :' , list_variable)\\nprint('*'*50)\\n# Using reverse argument\\nlist_variable.sort(reverse=True)\\nprint('List content after using sort() with reverse as True :' , list_variable)\\nprint('*'*50)\", \"# List built in methods\\n# Method : Sort\\n# What It Does : Sort the items of the list in place.\\nlist_variable = [4,5,2,3,7,5,1]\\nprint('List content at begining :' , list_variable)\\nprint('*'*50)\\n# sort() changes the list directly and doesn't return any value\\nlist_variable.sort()\\nprint('List content after using sort() :' , list_variable)\\nprint('*'*50)\\n# Using reverse argument\\nlist_variable.sort(reverse=True)\\nprint('List content after using sort() with reverse as True :' , list_variable)\\nprint('*'*50)\\n# Using key argument (It accepts a function as key and sorts based on the key function)\\n# Here we'll use built in len function\\nlist_variable.sort(key = len)\\nprint('List content after using sort() with key function :' , list_variable)\\nprint('*'*50)\", \"# List built in methods\\n# Method : Sort\\n# What It Does : Sort the items of the list in place.\\nlist_variable = ['a' , 'z' , 'f' , 'h' , 't']\\nprint('List content at begining :' , list_variable)\\nprint('*'*50)\\n# sort() changes the list directly and doesn't return any value\\nlist_variable.sort()\\nprint('List content after using sort() :' , list_variable)\\nprint('*'*50)\\n# Using reverse argument\\nlist_variable.sort(reverse=True)\\nprint('List content after using sort() with reverse as True :' , list_variable)\\nprint('*'*50)\\n# Using key argument (It accepts a function as key and sorts based on the key function)\\n# Here we'll use built in len function\\n\\nlist_variable.sort(key = len)\\nprint('List content after using sort() with key function :' , list_variable)\\nprint('*'*50)\", \"# List built in methods\\n# Method : Sort\\n# What It Does : Sort the items of the list in place.\\nlist_variable = ['a' , 'zz' , 'f' , 'hhhh' , 't']\\nprint('List content at begining :' , list_variable)\\nprint('*'*50)\\n# sort() changes the list directly and doesn't return any value\\nlist_variable.sort()\\nprint('List content after using sort() :' , list_variable)\\nprint('*'*50)\\n# Using reverse argument\\nlist_variable.sort(reverse=True)\\nprint('List content after using sort() with reverse as True :' , list_variable)\\nprint('*'*50)\\n# Using key argument (It accepts a function as key and sorts based on the key function)\\n# Here we'll use built in len function\\n\\nlist_variable.sort(key = len)\\nprint('List content after using sort() with key function :' , list_variable)\\nprint('*'*50)\", \"# List built in methods\\n# Method : Sort\\n# What It Does : Sort the items of the list in place.\\nlist_variable = ['a' , 'zz' , 'f' , 'hhhh' , 't']\\nprint('List content at begining :' , list_variable)\\nprint('*'*50)\\n# sort() changes the list directly and doesn't return any value\\nlist_variable.sort()\\nprint('List content after using sort() :' , list_variable)\\nprint('*'*50)\\n# Using reverse argument\\nlist_variable.sort(reverse=True)\\nprint('List content after using sort() with reverse as True :' , list_variable)\\nprint('*'*50)\\n# Using key argument (It accepts a function as key and sorts based on the key function)\\n# Here we'll use built in len function\\n\\nlist_variable.sort(key = len)\\nprint('List content after using sort() with len() key function :' , list_variable)\\nprint('*'*50)\", \"# List built in methods\\n# Method : Reverse\\n# What It Does : Reverse the elements of the list in place.\\nlist_variable = [4,7,2,4,6,7,8,98,3]\\nprint('List content at begining :' , list_variable)\\nprint('*'*50)\", \"# List built in methods\\n# Method : Reverse\\n# What It Does : Reverse the elements of the list in place.\\nlist_variable = [4,7,2,4,6,7,8,98,3]\\nprint('List content at begining :' , list_variable)\\nprint('*'*50)\\n# Using reverse()\\nlist_variable.reverse()\\nprint('List content after using reverse() :' , list_variable)\\nprint('*'*50)\", \"# List built in methods\\n# Method : Reverse\\n# What It Does : Reverse the elements of the list in place.\\nlist_variable = [4,7,2,4,6,7,8,98,3]\\nprint('List content at begining :' , list_variable)\\nprint('*'*50)\\n# Using reverse()\\n# reverse() changes the list directly and doesn't return any value\\nlist_variable.reverse()\\nprint('List content after using reverse() :' , list_variable)\\nprint('*'*50)\\n# Reverse method does not sort descending , It just reverses the values in list in opposite order\", \"# List built in methods\\n# Method : Copy\\n# What It Does : Return a shallow copy of the list\\nlist_variable = [1,2,3]\\nprint('List content at begining :' , list_variable)\\nprint('*'*50)\", \"# List built in methods\\n# Method : Copy\\n# What It Does : Return a shallow copy of the list\\nlist_variable = [1,2,3]\\nprint('Original List content at begining :' , list_variable)\\nprint('*'*50)\\ncopy_of_list = list_variable.copy()\\nprint('Original List content after copying :' , list_variable)\\nprint('Copied List content : ' , copy_of_list)\\nprint('*'*50)\", '# List built in methods\\n# Method : Copy\\n# What It Does : Return a shallow copy of the list\\nlist_variable = [1,2,3]\\nprint(\\'Original List content at begining :\\' , list_variable)\\nprint(\\'*\\'*50)\\ncopy_of_list = list_variable.copy()\\ncopy_using_equal_sign_list = list_variable\\nprint(\\'Original List content after copying :\\' , list_variable)\\nprint(\\'Copied List content using copy() : \\' , copy_of_list)\\nprint(\\'Copied List content using \"=\" sign : \\' , copy_using_equal_sign_list)\\nprint(\\'*\\'*50)', '# List built in methods\\n# Method : Copy\\n# What It Does : Return a shallow copy of the list\\nlist_variable = [1,2,3]\\nprint(\\'Original List content at begining :\\' , list_variable)\\nprint(\\'*\\'*50)\\ncopy_of_list = list_variable.copy()\\ncopy_using_equal_sign_list = list_variable\\nprint(\\'Original List content after copying :\\' , list_variable)\\nprint(\\'Copied List content using copy() : \\' , copy_of_list)\\nprint(\\'Copied List content using \"=\" sign : \\' , copy_using_equal_sign_list)\\nprint(\\'*\\'*50)\\n# Changing values in both copied lists\\ncopy_of_list.append(4)\\ncopy_using_equal_sign_list.append(4)\\nprint(\\'Original List content after appending 4 :\\' , list_variable)\\nprint(\\'Copied List content using copy() after appending 4 : \\' , copy_of_list)\\nprint(\\'Copied List content using \"=\" sign after appending 4 : \\' , copy_using_equal_sign_list)\\nprint(\\'*\\'*50)', '# List built in methods\\n# Method : Copy\\n# What It Does : Return a shallow copy of the list\\nlist_variable = [1,2,3]\\nprint(\\'Original List content at begining :\\' , list_variable)\\nprint(\\'*\\'*50)\\ncopy_of_list = list_variable.copy()\\ncopy_using_equal_sign_list = list_variable\\nprint(\\'Original List content after copying :\\' , list_variable)\\nprint(\\'Copied List content using copy() : \\' , copy_of_list)\\nprint(\\'Copied List content using \"=\" sign : \\' , copy_using_equal_sign_list)\\nprint(\\'*\\'*50)\\n# Changing values in both copied lists\\ncopy_of_list.append(3)\\ncopy_using_equal_sign_list.append(4)\\nprint(\\'Original List content after appending 4 :\\' , list_variable)\\nprint(\\'Copied List content using copy() after appending 3 : \\' , copy_of_list)\\nprint(\\'Copied List content using \"=\" sign after appending 4 : \\' , copy_using_equal_sign_list)\\nprint(\\'*\\'*50)', '# List built in methods\\n# Method : Copy\\n# What It Does : Return a shallow copy of the list\\nlist_variable = [1,2,3]\\nprint(\\'Original List content at begining :\\' , list_variable)\\nprint(\\'*\\'*50)\\ncopy_of_list = list_variable.copy()\\ncopy_using_equal_sign_list = list_variable\\nprint(\\'Original List content after copying :\\' , list_variable)\\nprint(\\'Copied List content using copy() : \\' , copy_of_list)\\nprint(\\'Copied List content using \"=\" sign : \\' , copy_using_equal_sign_list)\\nprint(\\'*\\'*50)\\n# Changing values in both copied lists\\ncopy_of_list.append(3)\\ncopy_using_equal_sign_list.append(4)\\nprint(\\'Original List content after appending 4 :\\' , list_variable)\\nprint(\\'Copied List content using copy() after appending 3 : \\' , copy_of_list)\\nprint(\\'Copied List content using \"=\" sign after appending 4 : \\' , copy_using_equal_sign_list)\\nprint(\\'*\\'*50)\\n# We can understand that if we do copy using = sign if we change the copied list content , original list content also changes\\n# But in .copy() the original list content does not change even if you change the copied list content.\\nprint(\\'\\'\\'\\nWe can understand that if we do copy using = sign if we change the copied list content , original list content also changes\\nBut in .copy() the original list content does not change even if you change the copied list content.\\n\\'\\'\\')', '# List built in methods\\n# Method : Copy\\n# What It Does : Return a shallow copy of the list\\nlist_variable = [1,2,3]\\nprint(\\'Original List content at begining :\\' , list_variable)\\nprint(\\'*\\'*50)\\ncopy_of_list = list_variable.copy()\\ncopy_using_equal_sign_list = list_variable\\nprint(\\'Original List content after copying :\\' , list_variable)\\nprint(\\'Copied List content using copy() : \\' , copy_of_list)\\nprint(\\'Copied List content using \"=\" sign : \\' , copy_using_equal_sign_list)\\nprint(\\'*\\'*50)\\n# Changing values in both copied lists\\ncopy_of_list.append(3)\\ncopy_using_equal_sign_list.append(4)\\nprint(\\'Original List content after appending 4 :\\' , list_variable)\\nprint(\\'Copied List content using copy() after appending 3 : \\' , copy_of_list)\\nprint(\\'Copied List content using \"=\" sign after appending 4 : \\' , copy_using_equal_sign_list)\\nprint(\\'*\\'*50)\\n# We can understand that if we do copy using = sign if we change the copied list content , original list content also changes\\n# But in .copy() the original list content does not change even if you change the copied list content.\\nprint(\\'\\'\\'\\nWe can understand that if we do copy using = sign if we change the copied list content , original list content also changes. But in .copy() the original list content does not change even if you change the copied list content.\\n\\'\\'\\')', '# List built in methods\\n# Method : Copy\\n# What It Does : Return a shallow copy of the list\\nlist_variable = [1,2,3]\\nprint(\\'Original List content at begining :\\' , list_variable)\\nprint(\\'*\\'*50)\\ncopy_of_list = list_variable.copy()\\ncopy_using_equal_sign_list = list_variable\\nprint(\\'Original List content after copying :\\' , list_variable)\\nprint(\\'Copied List content using copy() : \\' , copy_of_list)\\nprint(\\'Copied List content using \"=\" sign : \\' , copy_using_equal_sign_list)\\nprint(\\'*\\'*50)\\n# Changing values in both copied lists\\ncopy_of_list.append(3)\\ncopy_using_equal_sign_list.append(4)\\nprint(\\'Original List content after appending 4 :\\' , list_variable)\\nprint(\\'Copied List content using copy() after appending 3 : \\' , copy_of_list)\\nprint(\\'Copied List content using \"=\" sign after appending 4 : \\' , copy_using_equal_sign_list)\\nprint(\\'*\\'*50)\\n# We can understand that if we do copy using = sign if we change the copied list content , original list content also changes\\n# But in .copy() the original list content does not change even if you change the copied list content.\\nprint(\\'\\'\\'We can understand that if we do copy using = sign if we change the copied list content , original list content also changes. But in .copy() the original list content does not change even if you change the copied list content.\\n\\'\\'\\')', '# List built in methods\\n# Method : Copy\\n# What It Does : Return a shallow copy of the list\\nlist_variable = [1,2,3]\\nprint(\\'Original List content at begining :\\' , list_variable)\\nprint(\\'*\\'*50)\\ncopy_of_list = list_variable.copy()\\ncopy_using_equal_sign_list = list_variable\\nprint(\\'Original List content after copying :\\' , list_variable)\\nprint(\\'Copied List content using copy() : \\' , copy_of_list)\\nprint(\\'Copied List content using \"=\" sign : \\' , copy_using_equal_sign_list)\\nprint(\\'*\\'*50)\\n# Changing values in both copied lists\\ncopy_of_list.append(3)\\ncopy_using_equal_sign_list.append(4)\\nprint(\\'Original List content after appending 4 :\\' , list_variable)\\nprint(\\'Copied List content using copy() after appending 3 : \\' , copy_of_list)\\nprint(\\'Copied List content using \"=\" sign after appending 4 : \\' , copy_using_equal_sign_list)\\nprint(\\'*\\'*50)\\n# We can understand that if we do copy using = sign if we change the copied list content , original list content also changes\\n# But in .copy() the original list content does not change even if you change the copied list content.\\nprint(\\'\\'\\'We can understand that if we do copy using = sign if we change the copied list content , original list content also changes. But in .copy() the original list content does not change even if you change the copied list content.\\n\\'\\'\\')\\nprint(\\'*\\'*50)', \"# List Indexing\\nlist_variable = ['a' , 'b' , 'c' , 'd' , 'e' , 'f']\\nprint('Original List content at begining :' , list_variable)\\nprint('*'*50)\", '# List Indexing\\nlist_variable = [\\'a\\' , \\'b\\' , \\'c\\' , \\'d\\' , \\'e\\' , \\'f\\']\\nprint(\\'Original List content at begining :\\' , list_variable)\\nprint(\\'*\\'*50)\\n\\n# Accessing \\'c\\' using Positive Indexing\\nprint(\"Accessing \\'c\\' using Positive Indexing\")\\nprint(list_variable[2])\\nprint(\\'*\\'*50)\\n# Accessing \\'c\\' using Negative Indexing\\nprint(\"Accessing \\'c\\' using Negative Indexing\")\\nprint(list_variable[-4])\\nprint(\\'*\\'*50)', '# List Slicing\\nlist_variable = [\\'a\\' , \\'b\\' , \\'c\\' , \\'d\\' , \\'e\\' , \\'f\\']\\nprint(\\'Original List content at begining :\\' , list_variable)\\nprint(\\'*\\'*50)\\n# Printing \\'b\\' to \\'e\\' using slicing\\nprint(\"Printing \\'b\\' to \\'e\\' using slicing\")\\nprint(list_variable[1:5])', \"# List Comprehension\\n# Only having variable\\nlist_variable = [i for i in range(10)]\\nprint('List comprehension using only variable :' , list_variable)\\nprint('*'*50)\\n# Actions on variable\\nlist_variable = [i ** i for i in range(10)]\\nprint('List comprehension using actions on variable :' , list_variable)\\nprint('*'*50)\\n# Actions and conditions on variable\\nlist_variable = [i ** i for i in range(10) if i % 2 == 0]\\nprint('List comprehension using actions and conditions on variable :' , list_variable)\\nprint('*'*50)\", \"# List Comprehension\\n# Only having variable\\nlist_variable = [i for i in range(10)]\\nprint('List comprehension using only variable :' , list_variable)\\nprint('*'*50)\\n# Actions on variable\\nlist_variable = [i + i for i in range(10)]\\nprint('List comprehension using actions on variable :' , list_variable)\\nprint('*'*50)\\n# Actions and conditions on variable\\nlist_variable = [i ** i for i in range(10) if i % 2 == 0]\\nprint('List comprehension using actions and conditions on variable :' , list_variable)\\nprint('*'*50)\", \"# List Comprehension\\n# Only having variable\\nlist_variable = [i for i in range(10)]\\nprint('List comprehension using only variable :' , list_variable)\\nprint('*'*50)\\n# Actions on variable\\nlist_variable = [i * i for i in range(10)]\\nprint('List comprehension using actions on variable :' , list_variable)\\nprint('*'*50)\\n# Actions and conditions on variable\\nlist_variable = [i * i for i in range(10) if i % 2 == 0]\\nprint('List comprehension using actions and conditions on variable :' , list_variable)\\nprint('*'*50)\", \"# List Comprehension\\n# Only having variable\\nlist_variable = [i for i in range(10)]\\nprint('List comprehension using only variable :' , list_variable)\\nprint('*'*50)\\n# Actions on variable\\nlist_variable = [i * i for i in range(10)]\\nprint('List comprehension using actions on variable (Here multiplying variable with variable):' , list_variable)\\nprint('*'*50)\\n# Actions and conditions on variable\\nlist_variable = [i * i for i in range(10) if i % 2 == 0]\\nprint('List comprehension using actions and conditions on variable (Here multiplying variable with variable if variable is even number):' , list_variable)\\nprint('*'*50)\", \"# List Iterate\\nlist_variable = ['a' , 'b' , 'c' , 'd' , 'e' , 'f']\\nprint('Original List content at begining :' , list_variable)\\nprint('*'*50)\\n# Using for loop\\nprint('Iteration Using for loop')\\nfor element in list_variable:\\n    print(element)\\nprint('*'*50)\\n# Using while loop\\nprint('Iteration Using while loop')\\nwhile len(list_variable) != 0:\\n    first_element = list_variable.pop(0)\\n    print(first_element)\\nprint('*'*50)\", \"# isinstance\\n'a' isinstance str\", \"# isinstance\\nisinstance('a' , str)\", \"# isinstance function\\n# Used to check data type\\nprint('isinstance function returns True if the value and datatype passed match if not it returns False')\\nprint(isinstance('a' , str))\\nprint('*'*50)\", '# isinstance function\\n# Used to check data type\\nprint(\\'isinstance function returns True if the value and datatype passed match if not it returns False\\')\\nprint(\"Checking if \\'a\\' is of String type :\" , isinstance(\\'a\\' , str))\\nprint(\\'*\\'*50)', '# isinstance function\\n# Used to check data type\\nprint(\\'isinstance function returns True if the value and datatype passed match if not it returns False\\')\\nprint(\"Checking if \\'a\\' is of String type :\" , isinstance(\\'a\\' , str))\\nprint(\\'*\\'*50)\\n# As isinstance function returns boolean True or False it can be used in conditional statement\\nif isinstance(\\'a\\' , str):\\n    print(\"\\'a\\' is og string type\")\\nelse:\\n    print(\"\\'a\\' is not string type\")', '# isinstance function\\n# Used to check data type\\nprint(\\'isinstance function returns True if the value and datatype passed match if not it returns False\\')\\nprint(\"Checking if \\'a\\' is of String type :\" , isinstance(\\'a\\' , str))\\nprint(\\'*\\'*50)\\n# As isinstance function returns boolean True or False it can be used in conditional statement\\nif isinstance(\\'a\\' , str):\\n    print(\"\\'a\\' is of string type\")\\nelse:\\n    print(\"\\'a\\' is not string type\")\\nprint(\\'*\\'*50)', \"# sys.stdout\\nimport sys\\nsys.stdout.write('gfg')\", \"# sys.stdout\\nimport sys\\nsys.stdout.write('gfg')\\nvariable = sys.stdin('ABC')\", \"# sys.stdout\\nimport sys\\nsys.stdout.write('gfg')\\nsys.stdin('ABC')\", \"# sys.stdout\\nimport sys\\nsys.stdout.write('gfg')\\nsys.stdin.write('ABC')\", \"# sys.stdout\\nimport sys\\nsys.stdout.write('gfg')\\na = sys.stdin.write('ABC')\", \"# sys.stdout\\nimport sys\\nsys.stdout.write('gfg')\\nsys.stderr.write('ABC')\", 'locals()', 'print(locals())', 'print(locals())', 'print(globals())'], 'Out': {40: True, 45: 3, 50: 3, 51: {...}}, 'get_ipython': <bound method InteractiveShell.get_ipython of <ipykernel.zmqshell.ZMQInteractiveShell object at 0x7f63b72107c0>>, 'exit': <IPython.core.autocall.ZMQExitAutocall object at 0x7f63b4174d00>, 'quit': <IPython.core.autocall.ZMQExitAutocall object at 0x7f63b4174d00>, '_': {...}, '__': 3, '___': 3, 'site': <module 'site' from '/home/karthik/anaconda3/lib/python3.9/site.py'>, 'os': <module 'os' from '/home/karthik/anaconda3/lib/python3.9/os.py'>, 'sys': <module 'sys' (built-in)>, '__vsc_ipynb_file__': '/home/karthik/Documents/DS Tech Code/Blog Code.ipynb', '_i': 'print(locals())', '_ii': 'print(locals())', '_iii': 'locals()', '_i1': '# List built in methods\\n# Method : Pop\\n# What It Does : Pop removes the item at the given position in the list, and return it.If no index is specified, a.pop() removes and returns the last item in the list.\\nlist_variable = [1,2,3,2]\\npopped_value = list_variable.pop(123)', 'list_variable': [], '_i2': \"# List built in methods\\n# Method : Pop\\n# What It Does : Pop removes the item at the given position in the list, and return it.If no index is specified, a.pop() removes and returns the last item in the list.\\nlist_variable = [1,2,3,4]\\nprint('List content at begining :' , list_variable)\\nprint('*'*50)\\n# Popping value at index 1\\npopped_value = list_variable.pop(1)\\nprint('List content after popping value at index 1 :' , list_variable)\\nprint('Popped value :' , popped_value)\\nprint('*'*50)\\n# If the index passed to the method is not in range, it throws IndexError: pop index out of range exception.\\ntry:\\n    # tryinh to pop value at index 1000\\n    popped_value = list_variable.pop(1000)\\nexcept Exception as e :\\n    print('IndexError: pop index out of range error occured' , e)\", 'popped_value': 4, '_i3': \"# List built in methods\\n# Method : Pop\\n# What It Does : Pop removes the item at the given position in the list, and return it.If no index is specified, a.pop() removes and returns the last item in the list.\\nlist_variable = [1,2,3,4]\\nprint('List content at begining :' , list_variable)\\nprint('*'*50)\\n# Popping value at index 1\\npopped_value = list_variable.pop(1)\\nprint('List content after popping value at index 1 :' , list_variable)\\nprint('Popped value :' , popped_value)\\nprint('*'*50)\\n# If the index passed to the method is not in range, it throws IndexError: pop index out of range exception.\\ntry:\\n    # tryinh to pop value at index 1000\\n    popped_value = list_variable.pop(1000)\\nexcept Exception as e :\\n    print('IndexError: pop index out of range error occured' , e)\\nprint('*'*50)\", '_i4': \"# List built in methods\\n# Method : Pop\\n# What It Does : Pop removes the item at the given position in the list, and return it.If no index is specified, a.pop() removes and returns the last item in the list.\\nlist_variable = [1,2,3,4]\\nprint('List content at begining :' , list_variable)\\nprint('*'*50)\\n# Popping value at index 1\\npopped_value = list_variable.pop(1)\\nprint('List content after popping value at index 1 :' , list_variable)\\nprint('Popped value :' , popped_value)\\nprint('*'*50)\\n# Popping without index\\npopped_value = list_variable.pop()\\nprint('List content after popping with no arguments :' , list_variable)\\nprint('Popped value :' , popped_value)\\nprint('*'*50)\\n# If the index passed to the method is not in range, it throws IndexError: pop index out of range exception.\\ntry:\\n    # tryinh to pop value at index 1000\\n    popped_value = list_variable.pop(1000)\\nexcept Exception as e :\\n    print('IndexError: pop index out of range error occured' , e)\\nprint('*'*50)\", '_i5': \"# List built in methods\\n# Method : Pop\\n# What It Does : Pop removes the item at the given position in the list, and return it.If no index is specified, a.pop() removes and returns the last item in the list.\\nlist_variable = [1,2,3,4]\\nprint('List content at begining :' , list_variable)\\nprint('*'*50)\\n# Popping value at index 1\\npopped_value = list_variable.pop(1)\\nprint('List content after popping value at index 1 :' , list_variable)\\nprint('Popped value :' , popped_value)\\nprint('*'*50)\\n# Popping without index\\n# If no index is specified, a.pop() removes and returns the last item in the list.\\npopped_value = list_variable.pop()\\nprint('List content after popping with no arguments :' , list_variable)\\nprint('Popped value :' , popped_value)\\nprint('*'*50)\\n# If the index passed to the method is not in range, it throws IndexError: pop index out of range exception.\\ntry:\\n    # tryinh to pop value at index 1000\\n    popped_value = list_variable.pop(1000)\\nexcept Exception as e :\\n    print('IndexError: pop index out of range error occured' , e)\\nprint('*'*50)\", '_i6': \"# List built in methods\\n# Method : Clear\\n# What It Does : Clear Remove all items from the list\\nlist_variable = [1,2,3,4]\\nprint('List content at begining :' , list_variable)\\nprint('*'*50)\\nlist_variable.clear()\\nprint('List content after clear() method :' , list_variable)\\nprint('*'*50)\", '_i7': \"# List built in methods\\n# Method : Index\\n# What It Does : Return zero-based index in the list of the first item whose value is equal to x. Raises a ValueError if there is no such item.\\nlist_variable = [1,2,3,4]\\nprint('List content at begining :' , list_variable)\\nprint('*'*50)\\n# index of element 1\\nindex_of_1 = list_variable.index(element = 1)\\nprint('Index Od Element 1 in List :' , index_of_1)\\nprint('*'*50)\\n# 3 parameters of list.index()\\n# 1) element - the element to be searched\\n# 2) start (optional) - start searching from this index\\n# 3) end (optional) - search the element up to this index\", '_i8': \"# List built in methods\\n# Method : Index\\n# What It Does : Return zero-based index in the list of the first item whose value is equal to x. Raises a ValueError if there is no such item.\\nlist_variable = [1,2,3,4]\\nprint('List content at begining :' , list_variable)\\nprint('*'*50)\\n# index of element 1\\nindex_of_1 = list_variable.index(1)\\nprint('Index Od Element 1 in List :' , index_of_1)\\nprint('*'*50)\\n# 3 parameters of list.index()\\n# 1) element - the element to be searched\\n# 2) start (optional) - start searching from this index\\n# 3) end (optional) - search the element up to this index\", 'index_of_1': 0, '_i9': \"# List built in methods\\n# Method : Index\\n# What It Does : Return zero-based index in the list of the first item whose value is equal to x. Raises a ValueError if there is no such item.\\nlist_variable = [1,2,3,4]\\nprint('List content at begining :' , list_variable)\\nprint('*'*50)\\n# index of element 1\\nindex_of_1 = list_variable.index(1)\\nprint('Index Of Element 1 in List :' , index_of_1)\\nprint('*'*50)\\n# 3 parameters of list.index()\\n# 1) element - the element to be searched\\n# 2) start (optional) - start searching from this index\\n# 3) end (optional) - search the element up to this index\\nindex_of_1 = list_variable.index(1 , 2 , -1)\\n\\nindex_of_1\", '_i10': \"# List built in methods\\n# Method : Index\\n# What It Does : Return zero-based index in the list of the first item whose value is equal to x. Raises a ValueError if there is no such item.\\nlist_variable = [1,2,3,4]\\nprint('List content at begining :' , list_variable)\\nprint('*'*50)\\n# index of element 1\\nindex_of_1 = list_variable.index(1)\\nprint('Index Of Element 1 in List :' , index_of_1)\\nprint('*'*50)\\n# 3 parameters of list.index()\\n# 1) element - the element to be searched\\n# 2) start (optional) - start searching from this index\\n# 3) end (optional) - search the element up to this index\\n# Here we search for 1 in [3,4] , By setting up args accordingly\\ntry:\\n    index_of_1 = list_variable.index(1 , 2 , -1)\\nexcept Exception as e:\\n    print('ValueError: 1 is not in list has occured : ' , e)\\nprint('*'*50)\", '_i11': \"# List built in methods\\n# Method : Count\\n# What It Does : Returns the number of times an element appears in the list.\\nlist_variable = [1,2,3,4,1,1,2,2,3]\\nprint('List content at begining :' , list_variable)\\nprint('*'*50)\\nnumber_of_times_one_have_occured = list_variable.count(1)\\nprint('number_of_times_one_have_occured in the list are :' , number_of_times_one_have_occured)\\nprint('*'*50)\", 'number_of_times_one_have_occured': 3, '_i12': \"# List built in methods\\n# Method : Sort\\n# What It Does : Sort the items of the list in place.\\nlist_variable = [4,5,2,3,7,5,1]\\nprint('List content at begining :' , list_variable)\\nprint('*'*50)\", '_i13': \"# List built in methods\\n# Method : Sort\\n# What It Does : Sort the items of the list in place.\\nlist_variable = [4,5,2,3,7,5,1]\\nprint('List content at begining :' , list_variable)\\nprint('*'*50)\\nlist_variable.sort()\\nprint('List content after using sort() :' , list_variable)\\nprint('*'*50)\", '_i14': \"# List built in methods\\n# Method : Sort\\n# What It Does : Sort the items of the list in place.\\nlist_variable = [4,5,2,3,7,5,1]\\nprint('List content at begining :' , list_variable)\\nprint('*'*50)\\n# sort() changes the list directly and doesn't return any value\\nlist_variable.sort()\\nprint('List content after using sort() :' , list_variable)\\nprint('*'*50)\\n# Using reverse argument\\nlist_variable.sort(reverse=True)\\nprint('List content after using sort() with reverse as True :' , list_variable)\\nprint('*'*50)\", '_i15': \"# List built in methods\\n# Method : Sort\\n# What It Does : Sort the items of the list in place.\\nlist_variable = [4,5,2,3,7,5,1]\\nprint('List content at begining :' , list_variable)\\nprint('*'*50)\\n# sort() changes the list directly and doesn't return any value\\nlist_variable.sort()\\nprint('List content after using sort() :' , list_variable)\\nprint('*'*50)\\n# Using reverse argument\\nlist_variable.sort(reverse=True)\\nprint('List content after using sort() with reverse as True :' , list_variable)\\nprint('*'*50)\\n# Using key argument (It accepts a function as key and sorts based on the key function)\\n# Here we'll use built in len function\\nlist_variable.sort(key = len)\\nprint('List content after using sort() with key function :' , list_variable)\\nprint('*'*50)\", '_i16': \"# List built in methods\\n# Method : Sort\\n# What It Does : Sort the items of the list in place.\\nlist_variable = ['a' , 'z' , 'f' , 'h' , 't']\\nprint('List content at begining :' , list_variable)\\nprint('*'*50)\\n# sort() changes the list directly and doesn't return any value\\nlist_variable.sort()\\nprint('List content after using sort() :' , list_variable)\\nprint('*'*50)\\n# Using reverse argument\\nlist_variable.sort(reverse=True)\\nprint('List content after using sort() with reverse as True :' , list_variable)\\nprint('*'*50)\\n# Using key argument (It accepts a function as key and sorts based on the key function)\\n# Here we'll use built in len function\\n\\nlist_variable.sort(key = len)\\nprint('List content after using sort() with key function :' , list_variable)\\nprint('*'*50)\", '_i17': \"# List built in methods\\n# Method : Sort\\n# What It Does : Sort the items of the list in place.\\nlist_variable = ['a' , 'zz' , 'f' , 'hhhh' , 't']\\nprint('List content at begining :' , list_variable)\\nprint('*'*50)\\n# sort() changes the list directly and doesn't return any value\\nlist_variable.sort()\\nprint('List content after using sort() :' , list_variable)\\nprint('*'*50)\\n# Using reverse argument\\nlist_variable.sort(reverse=True)\\nprint('List content after using sort() with reverse as True :' , list_variable)\\nprint('*'*50)\\n# Using key argument (It accepts a function as key and sorts based on the key function)\\n# Here we'll use built in len function\\n\\nlist_variable.sort(key = len)\\nprint('List content after using sort() with key function :' , list_variable)\\nprint('*'*50)\", '_i18': \"# List built in methods\\n# Method : Sort\\n# What It Does : Sort the items of the list in place.\\nlist_variable = ['a' , 'zz' , 'f' , 'hhhh' , 't']\\nprint('List content at begining :' , list_variable)\\nprint('*'*50)\\n# sort() changes the list directly and doesn't return any value\\nlist_variable.sort()\\nprint('List content after using sort() :' , list_variable)\\nprint('*'*50)\\n# Using reverse argument\\nlist_variable.sort(reverse=True)\\nprint('List content after using sort() with reverse as True :' , list_variable)\\nprint('*'*50)\\n# Using key argument (It accepts a function as key and sorts based on the key function)\\n# Here we'll use built in len function\\n\\nlist_variable.sort(key = len)\\nprint('List content after using sort() with len() key function :' , list_variable)\\nprint('*'*50)\", '_i19': \"# List built in methods\\n# Method : Reverse\\n# What It Does : Reverse the elements of the list in place.\\nlist_variable = [4,7,2,4,6,7,8,98,3]\\nprint('List content at begining :' , list_variable)\\nprint('*'*50)\", '_i20': \"# List built in methods\\n# Method : Reverse\\n# What It Does : Reverse the elements of the list in place.\\nlist_variable = [4,7,2,4,6,7,8,98,3]\\nprint('List content at begining :' , list_variable)\\nprint('*'*50)\\n# Using reverse()\\nlist_variable.reverse()\\nprint('List content after using reverse() :' , list_variable)\\nprint('*'*50)\", '_i21': \"# List built in methods\\n# Method : Reverse\\n# What It Does : Reverse the elements of the list in place.\\nlist_variable = [4,7,2,4,6,7,8,98,3]\\nprint('List content at begining :' , list_variable)\\nprint('*'*50)\\n# Using reverse()\\n# reverse() changes the list directly and doesn't return any value\\nlist_variable.reverse()\\nprint('List content after using reverse() :' , list_variable)\\nprint('*'*50)\\n# Reverse method does not sort descending , It just reverses the values in list in opposite order\", '_i22': \"# List built in methods\\n# Method : Copy\\n# What It Does : Return a shallow copy of the list\\nlist_variable = [1,2,3]\\nprint('List content at begining :' , list_variable)\\nprint('*'*50)\", '_i23': \"# List built in methods\\n# Method : Copy\\n# What It Does : Return a shallow copy of the list\\nlist_variable = [1,2,3]\\nprint('Original List content at begining :' , list_variable)\\nprint('*'*50)\\ncopy_of_list = list_variable.copy()\\nprint('Original List content after copying :' , list_variable)\\nprint('Copied List content : ' , copy_of_list)\\nprint('*'*50)\", 'copy_of_list': [1, 2, 3, 3], '_i24': '# List built in methods\\n# Method : Copy\\n# What It Does : Return a shallow copy of the list\\nlist_variable = [1,2,3]\\nprint(\\'Original List content at begining :\\' , list_variable)\\nprint(\\'*\\'*50)\\ncopy_of_list = list_variable.copy()\\ncopy_using_equal_sign_list = list_variable\\nprint(\\'Original List content after copying :\\' , list_variable)\\nprint(\\'Copied List content using copy() : \\' , copy_of_list)\\nprint(\\'Copied List content using \"=\" sign : \\' , copy_using_equal_sign_list)\\nprint(\\'*\\'*50)', 'copy_using_equal_sign_list': [1, 2, 3, 4], '_i25': '# List built in methods\\n# Method : Copy\\n# What It Does : Return a shallow copy of the list\\nlist_variable = [1,2,3]\\nprint(\\'Original List content at begining :\\' , list_variable)\\nprint(\\'*\\'*50)\\ncopy_of_list = list_variable.copy()\\ncopy_using_equal_sign_list = list_variable\\nprint(\\'Original List content after copying :\\' , list_variable)\\nprint(\\'Copied List content using copy() : \\' , copy_of_list)\\nprint(\\'Copied List content using \"=\" sign : \\' , copy_using_equal_sign_list)\\nprint(\\'*\\'*50)\\n# Changing values in both copied lists\\ncopy_of_list.append(4)\\ncopy_using_equal_sign_list.append(4)\\nprint(\\'Original List content after appending 4 :\\' , list_variable)\\nprint(\\'Copied List content using copy() after appending 4 : \\' , copy_of_list)\\nprint(\\'Copied List content using \"=\" sign after appending 4 : \\' , copy_using_equal_sign_list)\\nprint(\\'*\\'*50)', '_i26': '# List built in methods\\n# Method : Copy\\n# What It Does : Return a shallow copy of the list\\nlist_variable = [1,2,3]\\nprint(\\'Original List content at begining :\\' , list_variable)\\nprint(\\'*\\'*50)\\ncopy_of_list = list_variable.copy()\\ncopy_using_equal_sign_list = list_variable\\nprint(\\'Original List content after copying :\\' , list_variable)\\nprint(\\'Copied List content using copy() : \\' , copy_of_list)\\nprint(\\'Copied List content using \"=\" sign : \\' , copy_using_equal_sign_list)\\nprint(\\'*\\'*50)\\n# Changing values in both copied lists\\ncopy_of_list.append(3)\\ncopy_using_equal_sign_list.append(4)\\nprint(\\'Original List content after appending 4 :\\' , list_variable)\\nprint(\\'Copied List content using copy() after appending 3 : \\' , copy_of_list)\\nprint(\\'Copied List content using \"=\" sign after appending 4 : \\' , copy_using_equal_sign_list)\\nprint(\\'*\\'*50)', '_i27': '# List built in methods\\n# Method : Copy\\n# What It Does : Return a shallow copy of the list\\nlist_variable = [1,2,3]\\nprint(\\'Original List content at begining :\\' , list_variable)\\nprint(\\'*\\'*50)\\ncopy_of_list = list_variable.copy()\\ncopy_using_equal_sign_list = list_variable\\nprint(\\'Original List content after copying :\\' , list_variable)\\nprint(\\'Copied List content using copy() : \\' , copy_of_list)\\nprint(\\'Copied List content using \"=\" sign : \\' , copy_using_equal_sign_list)\\nprint(\\'*\\'*50)\\n# Changing values in both copied lists\\ncopy_of_list.append(3)\\ncopy_using_equal_sign_list.append(4)\\nprint(\\'Original List content after appending 4 :\\' , list_variable)\\nprint(\\'Copied List content using copy() after appending 3 : \\' , copy_of_list)\\nprint(\\'Copied List content using \"=\" sign after appending 4 : \\' , copy_using_equal_sign_list)\\nprint(\\'*\\'*50)\\n# We can understand that if we do copy using = sign if we change the copied list content , original list content also changes\\n# But in .copy() the original list content does not change even if you change the copied list content.\\nprint(\\'\\'\\'\\nWe can understand that if we do copy using = sign if we change the copied list content , original list content also changes\\nBut in .copy() the original list content does not change even if you change the copied list content.\\n\\'\\'\\')', '_i28': '# List built in methods\\n# Method : Copy\\n# What It Does : Return a shallow copy of the list\\nlist_variable = [1,2,3]\\nprint(\\'Original List content at begining :\\' , list_variable)\\nprint(\\'*\\'*50)\\ncopy_of_list = list_variable.copy()\\ncopy_using_equal_sign_list = list_variable\\nprint(\\'Original List content after copying :\\' , list_variable)\\nprint(\\'Copied List content using copy() : \\' , copy_of_list)\\nprint(\\'Copied List content using \"=\" sign : \\' , copy_using_equal_sign_list)\\nprint(\\'*\\'*50)\\n# Changing values in both copied lists\\ncopy_of_list.append(3)\\ncopy_using_equal_sign_list.append(4)\\nprint(\\'Original List content after appending 4 :\\' , list_variable)\\nprint(\\'Copied List content using copy() after appending 3 : \\' , copy_of_list)\\nprint(\\'Copied List content using \"=\" sign after appending 4 : \\' , copy_using_equal_sign_list)\\nprint(\\'*\\'*50)\\n# We can understand that if we do copy using = sign if we change the copied list content , original list content also changes\\n# But in .copy() the original list content does not change even if you change the copied list content.\\nprint(\\'\\'\\'\\nWe can understand that if we do copy using = sign if we change the copied list content , original list content also changes. But in .copy() the original list content does not change even if you change the copied list content.\\n\\'\\'\\')', '_i29': '# List built in methods\\n# Method : Copy\\n# What It Does : Return a shallow copy of the list\\nlist_variable = [1,2,3]\\nprint(\\'Original List content at begining :\\' , list_variable)\\nprint(\\'*\\'*50)\\ncopy_of_list = list_variable.copy()\\ncopy_using_equal_sign_list = list_variable\\nprint(\\'Original List content after copying :\\' , list_variable)\\nprint(\\'Copied List content using copy() : \\' , copy_of_list)\\nprint(\\'Copied List content using \"=\" sign : \\' , copy_using_equal_sign_list)\\nprint(\\'*\\'*50)\\n# Changing values in both copied lists\\ncopy_of_list.append(3)\\ncopy_using_equal_sign_list.append(4)\\nprint(\\'Original List content after appending 4 :\\' , list_variable)\\nprint(\\'Copied List content using copy() after appending 3 : \\' , copy_of_list)\\nprint(\\'Copied List content using \"=\" sign after appending 4 : \\' , copy_using_equal_sign_list)\\nprint(\\'*\\'*50)\\n# We can understand that if we do copy using = sign if we change the copied list content , original list content also changes\\n# But in .copy() the original list content does not change even if you change the copied list content.\\nprint(\\'\\'\\'We can understand that if we do copy using = sign if we change the copied list content , original list content also changes. But in .copy() the original list content does not change even if you change the copied list content.\\n\\'\\'\\')', '_i30': '# List built in methods\\n# Method : Copy\\n# What It Does : Return a shallow copy of the list\\nlist_variable = [1,2,3]\\nprint(\\'Original List content at begining :\\' , list_variable)\\nprint(\\'*\\'*50)\\ncopy_of_list = list_variable.copy()\\ncopy_using_equal_sign_list = list_variable\\nprint(\\'Original List content after copying :\\' , list_variable)\\nprint(\\'Copied List content using copy() : \\' , copy_of_list)\\nprint(\\'Copied List content using \"=\" sign : \\' , copy_using_equal_sign_list)\\nprint(\\'*\\'*50)\\n# Changing values in both copied lists\\ncopy_of_list.append(3)\\ncopy_using_equal_sign_list.append(4)\\nprint(\\'Original List content after appending 4 :\\' , list_variable)\\nprint(\\'Copied List content using copy() after appending 3 : \\' , copy_of_list)\\nprint(\\'Copied List content using \"=\" sign after appending 4 : \\' , copy_using_equal_sign_list)\\nprint(\\'*\\'*50)\\n# We can understand that if we do copy using = sign if we change the copied list content , original list content also changes\\n# But in .copy() the original list content does not change even if you change the copied list content.\\nprint(\\'\\'\\'We can understand that if we do copy using = sign if we change the copied list content , original list content also changes. But in .copy() the original list content does not change even if you change the copied list content.\\n\\'\\'\\')\\nprint(\\'*\\'*50)', '_i31': \"# List Indexing\\nlist_variable = ['a' , 'b' , 'c' , 'd' , 'e' , 'f']\\nprint('Original List content at begining :' , list_variable)\\nprint('*'*50)\", '_i32': '# List Indexing\\nlist_variable = [\\'a\\' , \\'b\\' , \\'c\\' , \\'d\\' , \\'e\\' , \\'f\\']\\nprint(\\'Original List content at begining :\\' , list_variable)\\nprint(\\'*\\'*50)\\n\\n# Accessing \\'c\\' using Positive Indexing\\nprint(\"Accessing \\'c\\' using Positive Indexing\")\\nprint(list_variable[2])\\nprint(\\'*\\'*50)\\n# Accessing \\'c\\' using Negative Indexing\\nprint(\"Accessing \\'c\\' using Negative Indexing\")\\nprint(list_variable[-4])\\nprint(\\'*\\'*50)', '_i33': '# List Slicing\\nlist_variable = [\\'a\\' , \\'b\\' , \\'c\\' , \\'d\\' , \\'e\\' , \\'f\\']\\nprint(\\'Original List content at begining :\\' , list_variable)\\nprint(\\'*\\'*50)\\n# Printing \\'b\\' to \\'e\\' using slicing\\nprint(\"Printing \\'b\\' to \\'e\\' using slicing\")\\nprint(list_variable[1:5])', '_i34': \"# List Comprehension\\n# Only having variable\\nlist_variable = [i for i in range(10)]\\nprint('List comprehension using only variable :' , list_variable)\\nprint('*'*50)\\n# Actions on variable\\nlist_variable = [i ** i for i in range(10)]\\nprint('List comprehension using actions on variable :' , list_variable)\\nprint('*'*50)\\n# Actions and conditions on variable\\nlist_variable = [i ** i for i in range(10) if i % 2 == 0]\\nprint('List comprehension using actions and conditions on variable :' , list_variable)\\nprint('*'*50)\", '_i35': \"# List Comprehension\\n# Only having variable\\nlist_variable = [i for i in range(10)]\\nprint('List comprehension using only variable :' , list_variable)\\nprint('*'*50)\\n# Actions on variable\\nlist_variable = [i + i for i in range(10)]\\nprint('List comprehension using actions on variable :' , list_variable)\\nprint('*'*50)\\n# Actions and conditions on variable\\nlist_variable = [i ** i for i in range(10) if i % 2 == 0]\\nprint('List comprehension using actions and conditions on variable :' , list_variable)\\nprint('*'*50)\", '_i36': \"# List Comprehension\\n# Only having variable\\nlist_variable = [i for i in range(10)]\\nprint('List comprehension using only variable :' , list_variable)\\nprint('*'*50)\\n# Actions on variable\\nlist_variable = [i * i for i in range(10)]\\nprint('List comprehension using actions on variable :' , list_variable)\\nprint('*'*50)\\n# Actions and conditions on variable\\nlist_variable = [i * i for i in range(10) if i % 2 == 0]\\nprint('List comprehension using actions and conditions on variable :' , list_variable)\\nprint('*'*50)\", '_i37': \"# List Comprehension\\n# Only having variable\\nlist_variable = [i for i in range(10)]\\nprint('List comprehension using only variable :' , list_variable)\\nprint('*'*50)\\n# Actions on variable\\nlist_variable = [i * i for i in range(10)]\\nprint('List comprehension using actions on variable (Here multiplying variable with variable):' , list_variable)\\nprint('*'*50)\\n# Actions and conditions on variable\\nlist_variable = [i * i for i in range(10) if i % 2 == 0]\\nprint('List comprehension using actions and conditions on variable (Here multiplying variable with variable if variable is even number):' , list_variable)\\nprint('*'*50)\", '_i38': \"# List Iterate\\nlist_variable = ['a' , 'b' , 'c' , 'd' , 'e' , 'f']\\nprint('Original List content at begining :' , list_variable)\\nprint('*'*50)\\n# Using for loop\\nprint('Iteration Using for loop')\\nfor element in list_variable:\\n    print(element)\\nprint('*'*50)\\n# Using while loop\\nprint('Iteration Using while loop')\\nwhile len(list_variable) != 0:\\n    first_element = list_variable.pop(0)\\n    print(first_element)\\nprint('*'*50)\", 'element': 'f', 'first_element': 'f', '_i39': \"# isinstance\\n'a' isinstance str\", '_i40': \"# isinstance\\nisinstance('a' , str)\", '_40': True, '_i41': \"# isinstance function\\n# Used to check data type\\nprint('isinstance function returns True if the value and datatype passed match if not it returns False')\\nprint(isinstance('a' , str))\\nprint('*'*50)\", '_i42': '# isinstance function\\n# Used to check data type\\nprint(\\'isinstance function returns True if the value and datatype passed match if not it returns False\\')\\nprint(\"Checking if \\'a\\' is of String type :\" , isinstance(\\'a\\' , str))\\nprint(\\'*\\'*50)', '_i43': '# isinstance function\\n# Used to check data type\\nprint(\\'isinstance function returns True if the value and datatype passed match if not it returns False\\')\\nprint(\"Checking if \\'a\\' is of String type :\" , isinstance(\\'a\\' , str))\\nprint(\\'*\\'*50)\\n# As isinstance function returns boolean True or False it can be used in conditional statement\\nif isinstance(\\'a\\' , str):\\n    print(\"\\'a\\' is og string type\")\\nelse:\\n    print(\"\\'a\\' is not string type\")', '_i44': '# isinstance function\\n# Used to check data type\\nprint(\\'isinstance function returns True if the value and datatype passed match if not it returns False\\')\\nprint(\"Checking if \\'a\\' is of String type :\" , isinstance(\\'a\\' , str))\\nprint(\\'*\\'*50)\\n# As isinstance function returns boolean True or False it can be used in conditional statement\\nif isinstance(\\'a\\' , str):\\n    print(\"\\'a\\' is of string type\")\\nelse:\\n    print(\"\\'a\\' is not string type\")\\nprint(\\'*\\'*50)', '_i45': \"# sys.stdout\\nimport sys\\nsys.stdout.write('gfg')\", '_45': 3, '_i46': \"# sys.stdout\\nimport sys\\nsys.stdout.write('gfg')\\nvariable = sys.stdin('ABC')\", '_i47': \"# sys.stdout\\nimport sys\\nsys.stdout.write('gfg')\\nsys.stdin('ABC')\", '_i48': \"# sys.stdout\\nimport sys\\nsys.stdout.write('gfg')\\nsys.stdin.write('ABC')\", '_i49': \"# sys.stdout\\nimport sys\\nsys.stdout.write('gfg')\\na = sys.stdin.write('ABC')\", '_i50': \"# sys.stdout\\nimport sys\\nsys.stdout.write('gfg')\\nsys.stderr.write('ABC')\", '_50': 3, '_i51': 'locals()', '_51': {...}, '_i52': 'print(locals())', '_i53': 'print(locals())', '_i54': 'print(globals())'}\n"
     ]
    }
   ],
   "source": [
    "print(globals())"
   ]
  },
  {
   "cell_type": "code",
   "execution_count": 58,
   "metadata": {},
   "outputs": [
    {
     "name": "stdout",
     "output_type": "stream",
     "text": [
      "['__class__', '__class_getitem__', '__contains__', '__delattr__', '__delitem__', '__dir__', '__doc__', '__eq__', '__format__', '__ge__', '__getattribute__', '__getitem__', '__gt__', '__hash__', '__init__', '__init_subclass__', '__ior__', '__iter__', '__le__', '__len__', '__lt__', '__ne__', '__new__', '__or__', '__reduce__', '__reduce_ex__', '__repr__', '__reversed__', '__ror__', '__setattr__', '__setitem__', '__sizeof__', '__str__', '__subclasshook__', 'clear', 'copy', 'fromkeys', 'get', 'items', 'keys', 'pop', 'popitem', 'setdefault', 'update', 'values']\n"
     ]
    }
   ],
   "source": [
    "# dir()\n",
    "set_variable = {}\n",
    "# Here dir() will print all methods and attributes of set datatype in list format\n",
    "print(dir(set_variable))"
   ]
  },
  {
   "cell_type": "code",
   "execution_count": 69,
   "metadata": {},
   "outputs": [
    {
     "name": "stdout",
     "output_type": "stream",
     "text": [
      "The actual zip object : <zip object at 0x7f63a53b2880>\n",
      "**************************************************\n",
      "List of zip object : [(1, 'Rocky'), (2, 'IP Man'), (3, 'Bruce Lee')]\n",
      "**************************************************\n",
      "So if len(list1) is 3 and len(list2) is 5 , Only first 3 elements from each list will be taken to make a zip object\n",
      "List of zip object (with uneven input list length) : [(1, 'Rocky'), (2, 'IP Man'), (3, 'Bruce Lee')]\n",
      "**************************************************\n"
     ]
    }
   ],
   "source": [
    "# zip()\n",
    "numers = [1,2,3]\n",
    "names = ['Rocky' , 'IP Man' , 'Bruce Lee']\n",
    "zip_object = zip(numers , names)\n",
    "print('The actual zip object :' , zip_object)\n",
    "print('*'*50)\n",
    "\n",
    "# The zip object will be an iterator , so we need to change it to list to view the zipped elements\n",
    "print('List of zip object :' , list(zip_object))\n",
    "print('*'*50)\n",
    "\n",
    "# What if length of iterables we pass in zip() is not equal\n",
    "numbers = [1,2,3,4,5]\n",
    "names = ['Rocky' , 'IP Man' , 'Bruce Lee']\n",
    "zip_object = zip(numers , names)\n",
    "print('So if len(list1) is 3 and len(list2) is 5 , Only first 3 elements from each list will be taken to make a zip object')\n",
    "print('List of zip object (with uneven input list length) :' , list(zip_object))\n",
    "print('*'*50)"
   ]
  },
  {
   "cell_type": "code",
   "execution_count": 72,
   "metadata": {},
   "outputs": [
    {
     "name": "stdout",
     "output_type": "stream",
     "text": [
      "Enumerate applied directly : [(0, 'Rocky'), (1, 'IP Man'), (2, 'Bruce Lee')]\n",
      "**************************************************\n",
      "Index is : 0\n",
      "Value is : Rocky\n",
      "Index is : 1\n",
      "Value is : IP Man\n",
      "Index is : 2\n",
      "Value is : Bruce Lee\n",
      "**************************************************\n"
     ]
    }
   ],
   "source": [
    "# enumerate\n",
    "names = ['Rocky' , 'IP Man' , 'Bruce Lee']\n",
    "\n",
    "# enumerate applied directly\n",
    "enumerate_object = enumerate(names)\n",
    "print('Enumerate applied directly :' , list(enumerate_object))\n",
    "print('*'*50)\n",
    "\n",
    "# enumerate applied in for loop\n",
    "for index , value in enumerate(names):\n",
    "    print('Index is :' , index)\n",
    "    print('Value is :' , value)\n",
    "print('*'*50)"
   ]
  },
  {
   "cell_type": "code",
   "execution_count": 74,
   "metadata": {},
   "outputs": [
    {
     "name": "stdout",
     "output_type": "stream",
     "text": [
      "3.2\n",
      "Hi\n"
     ]
    }
   ],
   "source": [
    "print(eval('1+2.2'))\n",
    "exec(\"print('Hi')\")"
   ]
  },
  {
   "cell_type": "code",
   "execution_count": 75,
   "metadata": {},
   "outputs": [
    {
     "name": "stdout",
     "output_type": "stream",
     "text": [
      "Hi\n",
      "None\n"
     ]
    }
   ],
   "source": [
    "print(exec(\"print('Hi')\"))"
   ]
  },
  {
   "cell_type": "code",
   "execution_count": 83,
   "metadata": {},
   "outputs": [
    {
     "name": "stdout",
     "output_type": "stream",
     "text": [
      "Number of Built in Names loaded are : 155\n",
      "Whenever Python interpreter loads all names in builtin scope are automatically loaded\n",
      "**************************************************\n",
      "Scope Variable in Global : 3\n",
      "**************************************************\n",
      "Scope Variable in Enclosed : 4\n",
      "**************************************************\n",
      "Scope Variable in Local : 5\n",
      "**************************************************\n"
     ]
    }
   ],
   "source": [
    "# Namespace and Scope\n",
    "# Built In Scope\n",
    "# Whenever Python interpreter loads all names in builtin scope are automatically loaded\n",
    "scope_variable = dir(__builtins__)\n",
    "print('Number of Built in Names loaded are :' , len(scope_variable))\n",
    "print('Whenever Python interpreter loads all names in builtin scope are automatically loaded')\n",
    "print('*'*50)\n",
    "\n",
    "# This is global scope\n",
    "scope_variable = 3\n",
    "print('Scope Variable in Global :' , scope_variable)\n",
    "print('*'*50)\n",
    "\n",
    "def first_function():\n",
    "    scope_variable = 4\n",
    "    # This is enclosed scope\n",
    "    print('Scope Variable in Enclosed :' , scope_variable)\n",
    "    print('*'*50)\n",
    "\n",
    "    def second_function():\n",
    "        # This is local scope\n",
    "        scope_variable = 5\n",
    "        print('Scope Variable in Local :' , scope_variable)\n",
    "        print('*'*50)\n",
    "\n",
    "    second_function()\n",
    "\n",
    "first_function()\n"
   ]
  },
  {
   "cell_type": "code",
   "execution_count": null,
   "metadata": {},
   "outputs": [],
   "source": []
  },
  {
   "cell_type": "code",
   "execution_count": null,
   "metadata": {},
   "outputs": [],
   "source": []
  },
  {
   "cell_type": "code",
   "execution_count": null,
   "metadata": {},
   "outputs": [],
   "source": []
  },
  {
   "cell_type": "code",
   "execution_count": null,
   "metadata": {},
   "outputs": [],
   "source": []
  },
  {
   "cell_type": "code",
   "execution_count": null,
   "metadata": {},
   "outputs": [],
   "source": []
  },
  {
   "cell_type": "code",
   "execution_count": null,
   "metadata": {},
   "outputs": [],
   "source": []
  },
  {
   "cell_type": "code",
   "execution_count": null,
   "metadata": {},
   "outputs": [],
   "source": []
  },
  {
   "cell_type": "code",
   "execution_count": null,
   "metadata": {},
   "outputs": [],
   "source": []
  },
  {
   "cell_type": "code",
   "execution_count": null,
   "metadata": {},
   "outputs": [],
   "source": []
  },
  {
   "cell_type": "code",
   "execution_count": null,
   "metadata": {},
   "outputs": [],
   "source": []
  },
  {
   "cell_type": "code",
   "execution_count": 23,
   "metadata": {},
   "outputs": [
    {
     "data": {
      "text/plain": [
       "[44]"
      ]
     },
     "execution_count": 23,
     "metadata": {},
     "output_type": "execute_result"
    }
   ],
   "source": [
    "list_variable = []\n",
    "list_variable[len(list_variable) : ] = [44]\n",
    "list_variable"
   ]
  },
  {
   "cell_type": "code",
   "execution_count": 1,
   "metadata": {},
   "outputs": [
    {
     "name": "stdout",
     "output_type": "stream",
     "text": [
      "[1, 2, 3]\n",
      "[1, 2, 3, '4', '4']\n"
     ]
    }
   ],
   "source": [
    "# Lists\n",
    "l = [1,2,3]\n",
    "print(l)\n",
    "l.extend('44')\n",
    "print(l)"
   ]
  },
  {
   "cell_type": "code",
   "execution_count": 2,
   "metadata": {},
   "outputs": [
    {
     "ename": "TypeError",
     "evalue": "'int' object is not iterable",
     "output_type": "error",
     "traceback": [
      "\u001b[0;31m---------------------------------------------------------------------------\u001b[0m",
      "\u001b[0;31mTypeError\u001b[0m                                 Traceback (most recent call last)",
      "\u001b[0;32m/tmp/ipykernel_3584/1326569554.py\u001b[0m in \u001b[0;36m<module>\u001b[0;34m\u001b[0m\n\u001b[0;32m----> 1\u001b[0;31m \u001b[0ml\u001b[0m\u001b[0;34m.\u001b[0m\u001b[0mextend\u001b[0m\u001b[0;34m(\u001b[0m\u001b[0;36m8\u001b[0m\u001b[0;34m)\u001b[0m\u001b[0;34m\u001b[0m\u001b[0;34m\u001b[0m\u001b[0m\n\u001b[0m",
      "\u001b[0;31mTypeError\u001b[0m: 'int' object is not iterable"
     ]
    }
   ],
   "source": [
    "l.extend(8)"
   ]
  },
  {
   "cell_type": "code",
   "execution_count": 3,
   "metadata": {},
   "outputs": [
    {
     "name": "stdout",
     "output_type": "stream",
     "text": [
      "[1, 2, 3, '4', '4', '44']\n"
     ]
    }
   ],
   "source": [
    "l.extend(['44'])\n",
    "print(l)"
   ]
  },
  {
   "cell_type": "code",
   "execution_count": 7,
   "metadata": {},
   "outputs": [
    {
     "name": "stdout",
     "output_type": "stream",
     "text": [
      "None\n"
     ]
    }
   ],
   "source": [
    "l = [1,2,3].extend([[3,5,6]])\n",
    "print(l)\n",
    "# Prints None (Analyze why None is printed)"
   ]
  },
  {
   "cell_type": "code",
   "execution_count": 5,
   "metadata": {},
   "outputs": [],
   "source": [
    "# List Comprehension\n"
   ]
  },
  {
   "cell_type": "code",
   "execution_count": 20,
   "metadata": {},
   "outputs": [
    {
     "name": "stdout",
     "output_type": "stream",
     "text": [
      "[1, 2, 3]\n",
      "**************************************************\n",
      "[1, 2, 3]\n",
      "**************************************************\n",
      "[1, 2, 3, 4]\n",
      "**************************************************\n"
     ]
    }
   ],
   "source": [
    "# l1 and l2 reference same memory state , so if l1 changes l2 also changes\n",
    "l1 = [1,2,3]\n",
    "l2 = l1\n",
    "print(l2)\n",
    "print('*'*50)\n",
    "l1 = [1,2,3]\n",
    "l2 = l1\n",
    "print(l2)\n",
    "print('*'*50)\n",
    "l1.append(4)\n",
    "print(l2)\n",
    "print('*'*50)\n"
   ]
  },
  {
   "cell_type": "code",
   "execution_count": 8,
   "metadata": {},
   "outputs": [
    {
     "name": "stdout",
     "output_type": "stream",
     "text": [
      "[1, 2, 3]\n"
     ]
    }
   ],
   "source": [
    "l1 = [1,2,3]\n",
    "l2 = l1\n",
    "print(l2)"
   ]
  },
  {
   "cell_type": "code",
   "execution_count": 9,
   "metadata": {},
   "outputs": [
    {
     "name": "stdout",
     "output_type": "stream",
     "text": [
      "[1, 2, 3, 4]\n"
     ]
    }
   ],
   "source": [
    "l1.append(4)\n",
    "print(l2)"
   ]
  },
  {
   "cell_type": "code",
   "execution_count": 10,
   "metadata": {},
   "outputs": [],
   "source": [
    "# l1 and l2 reference same memory state , so if l1 changes l2 also changes"
   ]
  },
  {
   "cell_type": "code",
   "execution_count": null,
   "metadata": {},
   "outputs": [],
   "source": []
  },
  {
   "cell_type": "code",
   "execution_count": null,
   "metadata": {},
   "outputs": [],
   "source": []
  },
  {
   "cell_type": "code",
   "execution_count": null,
   "metadata": {},
   "outputs": [],
   "source": []
  },
  {
   "cell_type": "code",
   "execution_count": null,
   "metadata": {},
   "outputs": [],
   "source": []
  }
 ],
 "metadata": {
  "interpreter": {
   "hash": "916dbcbb3f70747c44a77c7bcd40155683ae19c65e1c03b4aa3499c5328201f1"
  },
  "kernelspec": {
   "display_name": "Python 3.8.10 64-bit",
   "language": "python",
   "name": "python3"
  },
  "language_info": {
   "codemirror_mode": {
    "name": "ipython",
    "version": 3
   },
   "file_extension": ".py",
   "mimetype": "text/x-python",
   "name": "python",
   "nbconvert_exporter": "python",
   "pygments_lexer": "ipython3",
   "version": "3.9.7"
  },
  "orig_nbformat": 4
 },
 "nbformat": 4,
 "nbformat_minor": 2
}
