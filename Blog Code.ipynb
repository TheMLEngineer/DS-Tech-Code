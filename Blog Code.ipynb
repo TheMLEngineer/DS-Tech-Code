{
 "cells": [
  {
   "cell_type": "code",
   "execution_count": 4,
   "metadata": {},
   "outputs": [],
   "source": [
    "a = 1,\"fg\""
   ]
  },
  {
   "cell_type": "code",
   "execution_count": 5,
   "metadata": {},
   "outputs": [
    {
     "data": {
      "text/plain": [
       "(1, 'fg')"
      ]
     },
     "execution_count": 5,
     "metadata": {},
     "output_type": "execute_result"
    }
   ],
   "source": [
    "a"
   ]
  },
  {
   "cell_type": "code",
   "execution_count": 6,
   "metadata": {},
   "outputs": [
    {
     "data": {
      "text/plain": [
       "tuple"
      ]
     },
     "execution_count": 6,
     "metadata": {},
     "output_type": "execute_result"
    }
   ],
   "source": [
    "type(a)"
   ]
  },
  {
   "cell_type": "code",
   "execution_count": 23,
   "metadata": {},
   "outputs": [
    {
     "name": "stdout",
     "output_type": "stream",
     "text": [
      "Blah Blah Blah before the function is called.\n",
      "Hello\n",
      "Blah Blah Blah after the function is called.\n",
      "None"
     ]
    }
   ],
   "source": [
    "def actual_function(func):\n",
    "    def inside_wrapper_function():\n",
    "        print(\"Blah Blah Blah before the function is called.\")\n",
    "        func()\n",
    "        print(\"Blah Blah Blah after the function is called.\")\n",
    "    return inside_wrapper_function\n",
    "def hello():\n",
    "    print('Hello')\n",
    "\n",
    "say_hello = actual_function(hello)\n",
    "print(say_hello() , end = '')\n"
   ]
  },
  {
   "cell_type": "code",
   "execution_count": 26,
   "metadata": {},
   "outputs": [
    {
     "name": "stdout",
     "output_type": "stream",
     "text": [
      "Blah Blah Blah before the function is called.\n",
      "Hello\n",
      "Blah Blah Blah after the function is called.\n",
      "None\n"
     ]
    }
   ],
   "source": [
    "def actual_function(func):\n",
    "    def inside_wrapper_function():\n",
    "        print(\"Blah Blah Blah before the function is called.\")\n",
    "        func()\n",
    "        print(\"Blah Blah Blah after the function is called.\")\n",
    "    return inside_wrapper_function\n",
    "@actual_function\n",
    "def say_hello():\n",
    "    print('Hello')\n",
    "print(say_hello())"
   ]
  },
  {
   "cell_type": "code",
   "execution_count": 14,
   "metadata": {},
   "outputs": [
    {
     "data": {
      "text/plain": [
       "<function __main__.actual_function.<locals>.inside_wrapper_function()>"
      ]
     },
     "execution_count": 14,
     "metadata": {},
     "output_type": "execute_result"
    }
   ],
   "source": [
    "actual_function(hello)"
   ]
  },
  {
   "cell_type": "code",
   "execution_count": 15,
   "metadata": {},
   "outputs": [
    {
     "name": "stdout",
     "output_type": "stream",
     "text": [
      "Blah Blah Blah before the function is called.\n",
      "Hello\n",
      "Blah Blah Blah after the function is called.\n",
      "None\n"
     ]
    }
   ],
   "source": [
    "say_hello = actual_function(hello)\n",
    "print(say_hello())"
   ]
  },
  {
   "cell_type": "code",
   "execution_count": 16,
   "metadata": {},
   "outputs": [
    {
     "name": "stdout",
     "output_type": "stream",
     "text": [
      "Blah Blah Blah before the function is called.\n",
      "Hello\n",
      "Blah Blah Blah after the function is called.\n"
     ]
    }
   ],
   "source": [
    "say_hello = actual_function(hello)\n",
    "say_hello()"
   ]
  },
  {
   "cell_type": "code",
   "execution_count": 19,
   "metadata": {},
   "outputs": [
    {
     "name": "stdout",
     "output_type": "stream",
     "text": [
      "Blah Blah Blah before the function is called.\n",
      "Hello\n",
      "Blah Blah Blah after the function is called.\n",
      "None\n"
     ]
    }
   ],
   "source": [
    "print(say_hello())"
   ]
  },
  {
   "cell_type": "code",
   "execution_count": 27,
   "metadata": {},
   "outputs": [
    {
     "name": "stdout",
     "output_type": "stream",
     "text": [
      "Hello World\n"
     ]
    }
   ],
   "source": [
    "# First Order Function\n",
    "def print_function(string_to_print):\n",
    "    print(string_to_print)\n",
    "print_function('Hello World')"
   ]
  },
  {
   "cell_type": "code",
   "execution_count": 29,
   "metadata": {},
   "outputs": [
    {
     "name": "stdout",
     "output_type": "stream",
     "text": [
      "**********\n",
      "Hello World\n",
      "**********\n"
     ]
    }
   ],
   "source": [
    "# Higher Order Function that takes function as input\n",
    "def print_function(string_to_print):\n",
    "    print(string_to_print)\n",
    "def second_print_function(string_to_print , print_function):\n",
    "    print('*' * 10)\n",
    "    print_function(string_to_print)\n",
    "    print('*' * 10)\n",
    "second_print_function('Hello World' , print_function )"
   ]
  },
  {
   "cell_type": "code",
   "execution_count": 31,
   "metadata": {},
   "outputs": [
    {
     "name": "stdout",
     "output_type": "stream",
     "text": [
      "3\n"
     ]
    }
   ],
   "source": [
    "def return_3():\n",
    "    return 3\n",
    "def return_return_3():\n",
    "    return return_3()\n",
    "print(return_return_3())"
   ]
  },
  {
   "cell_type": "code",
   "execution_count": 13,
   "metadata": {},
   "outputs": [
    {
     "name": "stdout",
     "output_type": "stream",
     "text": [
      "0\n",
      "1\n",
      "2\n",
      "Number has reached required value 3\n"
     ]
    }
   ],
   "source": [
    "# Recursion\n",
    "def function(number):\n",
    "    # Base Condition\n",
    "    if number >= 3:\n",
    "        return 'Number has reached required value 3'\n",
    "    # Here we call function inside function\n",
    "    else:\n",
    "        # printing number here so we can follow what changes are happening to number variable\n",
    "        print(number)\n",
    "        return function(number + 1)\n",
    "\n",
    "print(function(0))"
   ]
  },
  {
   "cell_type": "code",
   "execution_count": 10,
   "metadata": {},
   "outputs": [
    {
     "name": "stdout",
     "output_type": "stream",
     "text": [
      "0\n",
      "1\n",
      "2\n"
     ]
    },
    {
     "data": {
      "text/plain": [
       "'Number has reached required value 3'"
      ]
     },
     "execution_count": 10,
     "metadata": {},
     "output_type": "execute_result"
    }
   ],
   "source": [
    "function(0)"
   ]
  },
  {
   "cell_type": "code",
   "execution_count": 11,
   "metadata": {},
   "outputs": [
    {
     "name": "stdout",
     "output_type": "stream",
     "text": [
      "0\n",
      "1\n",
      "2\n",
      "Number has reached required value 3\n"
     ]
    }
   ],
   "source": [
    "print(function(0))"
   ]
  },
  {
   "cell_type": "code",
   "execution_count": 14,
   "metadata": {},
   "outputs": [
    {
     "ename": "NameError",
     "evalue": "name 'random_function_name' is not defined",
     "output_type": "error",
     "traceback": [
      "\u001b[0;31m---------------------------------------------------------------------------\u001b[0m",
      "\u001b[0;31mNameError\u001b[0m                                 Traceback (most recent call last)",
      "\u001b[0;32m/tmp/ipykernel_13451/3830254607.py\u001b[0m in \u001b[0;36m<module>\u001b[0;34m\u001b[0m\n\u001b[0;32m----> 1\u001b[0;31m \u001b[0;34m@\u001b[0m\u001b[0mrandom_function_name\u001b[0m\u001b[0;34m\u001b[0m\u001b[0;34m\u001b[0m\u001b[0m\n\u001b[0m\u001b[1;32m      2\u001b[0m \u001b[0;32mdef\u001b[0m \u001b[0msay_hi\u001b[0m\u001b[0;34m(\u001b[0m\u001b[0;34m)\u001b[0m\u001b[0;34m:\u001b[0m\u001b[0;34m\u001b[0m\u001b[0;34m\u001b[0m\u001b[0m\n\u001b[1;32m      3\u001b[0m     \u001b[0mprint\u001b[0m\u001b[0;34m(\u001b[0m\u001b[0;34m'Hi'\u001b[0m\u001b[0;34m)\u001b[0m\u001b[0;34m\u001b[0m\u001b[0;34m\u001b[0m\u001b[0m\n",
      "\u001b[0;31mNameError\u001b[0m: name 'random_function_name' is not defined"
     ]
    }
   ],
   "source": [
    "@random_function_name\n",
    "def say_hi():\n",
    "    print('Hi')"
   ]
  },
  {
   "cell_type": "code",
   "execution_count": 15,
   "metadata": {},
   "outputs": [
    {
     "name": "stdout",
     "output_type": "stream",
     "text": [
      "Blah Blah Blah before the function is called.\n",
      ";) ;) ;) before the function is called.\n",
      "Hello\n",
      ";) ;) ;) after the function is called.\n",
      "Blah Blah Blah after the function is called.\n",
      "None\n"
     ]
    }
   ],
   "source": [
    "def blah(func):\n",
    "    def inside_wrapper_function():\n",
    "        print(\"Blah Blah Blah before the function is called.\")\n",
    "        func()\n",
    "        print(\"Blah Blah Blah after the function is called.\")\n",
    "    return inside_wrapper_function\n",
    "def semi_colon(func):\n",
    "    def inside_wrapper_function_1():\n",
    "        print(\";) ;) ;) before the function is called.\")\n",
    "        func()\n",
    "        print(\";) ;) ;) after the function is called.\")\n",
    "    return inside_wrapper_function_1\n",
    "@blah\n",
    "@semi_colon\n",
    "def say_hello():\n",
    "    print('Hello')\n",
    "print(say_hello())"
   ]
  },
  {
   "cell_type": "code",
   "execution_count": 16,
   "metadata": {},
   "outputs": [
    {
     "name": "stdout",
     "output_type": "stream",
     "text": [
      "Blah Blah Blah before the function is called.\n",
      ";) ;) ;) before the function is called.\n",
      "Hello\n",
      ";) ;) ;) after the function is called.\n",
      "Blah Blah Blah after the function is called.\n",
      "None\n"
     ]
    }
   ],
   "source": [
    "# Using two decorators on one function\n",
    "\n",
    "def blah(func):\n",
    "    def inside_wrapper_function():\n",
    "        print(\"Blah Blah Blah before the function is called.\")\n",
    "        func()\n",
    "        print(\"Blah Blah Blah after the function is called.\")\n",
    "    return inside_wrapper_function\n",
    "def semi_colon(func):\n",
    "    def inside_wrapper_function_1():\n",
    "        print(\";) ;) ;) before the function is called.\")\n",
    "        func()\n",
    "        print(\";) ;) ;) after the function is called.\")\n",
    "    return inside_wrapper_function_1\n",
    "@blah\n",
    "@semi_colon\n",
    "def say_hello():\n",
    "    print('Hello')\n",
    "print(say_hello())"
   ]
  },
  {
   "cell_type": "code",
   "execution_count": 18,
   "metadata": {},
   "outputs": [
    {
     "name": "stdout",
     "output_type": "stream",
     "text": [
      "[]\n",
      "**************************************************\n",
      "[1, 2]\n",
      "**************************************************\n",
      "1\n",
      "2\n",
      "**************************************************\n",
      "[2]\n",
      "**************************************************\n"
     ]
    }
   ],
   "source": [
    "# CRUD Operations on list\n",
    "# Creating an empty list\n",
    "list_variable = []\n",
    "print(list_variable)\n",
    "print('*'*50)\n",
    "# Adding values to list without using built in methods\n",
    "list_variable = list_variable + [1,2]\n",
    "print(list_variable)\n",
    "print('*'*50)\n",
    "# Reading every element from list\n",
    "for element in list_variable:\n",
    "    print(element)\n",
    "print('*'*50)\n",
    "# Deleting First List element\n",
    "del list_variable[0]\n",
    "print(list_variable)\n",
    "print('*'*50)"
   ]
  },
  {
   "cell_type": "code",
   "execution_count": 39,
   "metadata": {},
   "outputs": [
    {
     "name": "stdout",
     "output_type": "stream",
     "text": [
      "[3, {5, 6, 7}]\n",
      "**************************************************\n",
      "[3, {5, 6, 7}, 44]\n",
      "**************************************************\n"
     ]
    }
   ],
   "source": [
    "# List built in methods\n",
    "# Method : Append\n",
    "# What It Does : Add an item to the end of the list.\n",
    "list_variable = []\n",
    "list_variable.append(3)\n",
    "# append method can be used to append other built in data types like sets , dictionary , tuples etc\n",
    "list_variable.append({5,6,7})\n",
    "print(list_variable)\n",
    "print('*'*50)\n",
    "# Achieveing list appending without using append() method\n",
    "list_variable[len(list_variable) : ] = [44]\n",
    "print(list_variable)\n",
    "print('*'*50)"
   ]
  },
  {
   "cell_type": "code",
   "execution_count": 46,
   "metadata": {},
   "outputs": [
    {
     "name": "stdout",
     "output_type": "stream",
     "text": [
      "[1, 2, 3]\n",
      "**************************************************\n",
      "Type Error has occured while trying to use extend function on an non iterable variable like integer : 'int' object is not iterable\n",
      "**************************************************\n",
      "[1, 2, 3, [4, 5, 6], [7, 8, 9]]\n",
      "**************************************************\n",
      "[1, 2, 3, [4, 5, 6], [7, 8, 9], 10, 11]\n",
      "**************************************************\n"
     ]
    }
   ],
   "source": [
    "# List built in methods\n",
    "# Method : Extend\n",
    "# What It Does : Extend the list by appending all the items from the iterable.\n",
    "list_variable = []\n",
    "list_variable.extend([1,2,3])\n",
    "# If you see in append , the whole list element is appended at the end as one item\n",
    "# In extend we iterate through the iterable and add each item at the end of list\n",
    "print(list_variable)\n",
    "print('*'*50)\n",
    "# What if we use extend function on an non iterable variable like integer ?\n",
    "try:\n",
    "    list_variable.extend(3)\n",
    "except Exception as e:\n",
    "    print('Type Error has occured while trying to use extend function on an non iterable variable like integer :' ,e)\n",
    "print('*'*50)\n",
    "# What happens if we try to append Nested lists ?\n",
    "list_variable.extend([[4,5,6] , [7,8,9]])\n",
    "# Extend only iterate though once\n",
    "# So even if the element inside an iterator is an iterator it won't unpack the second iterator\n",
    "print(list_variable)\n",
    "print('*'*50)\n",
    "# Achieveing list extending without using extend() method\n",
    "list_variable[len(list_variable) : ] = [10 , 11]\n",
    "print(list_variable)\n",
    "print('*'*50)"
   ]
  },
  {
   "cell_type": "code",
   "execution_count": 64,
   "metadata": {},
   "outputs": [
    {
     "name": "stdout",
     "output_type": "stream",
     "text": [
      "['first element', 'element 1', 'element 2', 'element 3']\n",
      "**************************************************\n",
      "['first element', 'element 1', 'element 2', 'element 3', 'latest element']\n",
      "**************************************************\n"
     ]
    }
   ],
   "source": [
    "# List built in methods\n",
    "# Method : Insert\n",
    "# What It Does : To Insert an item at a given position. \n",
    "list_variable = ['element 1' , 'element 2' , 'element 3']\n",
    "# Here 0 is the index(Index can be positive index or negative index) and 'first element' is the value we are inserting\n",
    "# You can insert any values like int , flot , lists , tuple etc.\n",
    "list_variable.insert(0 , 'first element')\n",
    "print(list_variable)\n",
    "print('*'*50)\n",
    "# What if index we are inserting in does not exist in list\n",
    "list_variable.insert(44 , 'latest element')\n",
    "# Index 44 does not exist in list\n",
    "# Still insert method added the value at the end of the list\n",
    "print(list_variable)\n",
    "print('*'*50)"
   ]
  },
  {
   "cell_type": "code",
   "execution_count": 70,
   "metadata": {},
   "outputs": [
    {
     "name": "stdout",
     "output_type": "stream",
     "text": [
      "List content at begining : [1, 2, 3, 2]\n",
      "**************************************************\n",
      "List content after removing 1 : [2, 3, 2]\n",
      "**************************************************\n",
      "When Trying to remove a value that does not exist Value Error Occured :  list.remove(x): x not in list\n",
      "**************************************************\n",
      "List content after removing a duplicate element : [3, 2]\n",
      "**************************************************\n"
     ]
    }
   ],
   "source": [
    "# List built in methods\n",
    "# Method : Remove\n",
    "# What It Does : To Remove an item in the list\n",
    "list_variable = [1,2,3,2]\n",
    "print('List content at begining :' , list_variable)\n",
    "print('*'*50)\n",
    "list_variable.remove(1)\n",
    "print('List content after removing 1 :' , list_variable)\n",
    "print('*'*50)\n",
    "# Trying to remove a value that does not exist\n",
    "try:\n",
    "    list_variable.remove('Non existant value in list')\n",
    "except Exception as e:\n",
    "    print('When Trying to remove a value that does not exist Value Error Occured : ' , e)\n",
    "print('*'*50)\n",
    "# What if list has duplicate elements ?\n",
    "list_variable.remove(2)\n",
    "# If a list contains duplicate elements, the remove() method only removes the first matching element\n",
    "print('List content after removing a duplicate element :' , list_variable)\n",
    "print('*'*50)\n"
   ]
  },
  {
   "cell_type": "code",
   "execution_count": 5,
   "metadata": {},
   "outputs": [
    {
     "name": "stdout",
     "output_type": "stream",
     "text": [
      "List content at begining : [1, 2, 3, 4]\n",
      "**************************************************\n",
      "List content after popping value at index 1 : [1, 3, 4]\n",
      "Popped value : 2\n",
      "**************************************************\n",
      "List content after popping with no arguments : [1, 3]\n",
      "Popped value : 4\n",
      "**************************************************\n",
      "IndexError: pop index out of range error occured pop index out of range\n",
      "**************************************************\n"
     ]
    }
   ],
   "source": [
    "# List built in methods\n",
    "# Method : Pop\n",
    "# What It Does : Pop removes the item at the given position in the list, and return it.If no index is specified, a.pop() removes and returns the last item in the list.\n",
    "list_variable = [1,2,3,4]\n",
    "print('List content at begining :' , list_variable)\n",
    "print('*'*50)\n",
    "# Popping value at index 1\n",
    "popped_value = list_variable.pop(1)\n",
    "print('List content after popping value at index 1 :' , list_variable)\n",
    "print('Popped value :' , popped_value)\n",
    "print('*'*50)\n",
    "# Popping without index\n",
    "# If no index is specified, a.pop() removes and returns the last item in the list.\n",
    "popped_value = list_variable.pop()\n",
    "print('List content after popping with no arguments :' , list_variable)\n",
    "print('Popped value :' , popped_value)\n",
    "print('*'*50)\n",
    "# If the index passed to the method is not in range, it throws IndexError: pop index out of range exception.\n",
    "try:\n",
    "    # tryinh to pop value at index 1000\n",
    "    popped_value = list_variable.pop(1000)\n",
    "except Exception as e :\n",
    "    print('IndexError: pop index out of range error occured' , e)\n",
    "print('*'*50)\n"
   ]
  },
  {
   "cell_type": "code",
   "execution_count": 6,
   "metadata": {},
   "outputs": [
    {
     "name": "stdout",
     "output_type": "stream",
     "text": [
      "List content at begining : [1, 2, 3, 4]\n",
      "**************************************************\n",
      "List content after clear() method : []\n",
      "**************************************************\n"
     ]
    }
   ],
   "source": [
    "# List built in methods\n",
    "# Method : Clear\n",
    "# What It Does : Clear Remove all items from the list\n",
    "list_variable = [1,2,3,4]\n",
    "print('List content at begining :' , list_variable)\n",
    "print('*'*50)\n",
    "list_variable.clear()\n",
    "print('List content after clear() method :' , list_variable)\n",
    "print('*'*50)"
   ]
  },
  {
   "cell_type": "code",
   "execution_count": 10,
   "metadata": {},
   "outputs": [
    {
     "name": "stdout",
     "output_type": "stream",
     "text": [
      "List content at begining : [1, 2, 3, 4]\n",
      "**************************************************\n",
      "Index Of Element 1 in List : 0\n",
      "**************************************************\n",
      "ValueError: 1 is not in list has occured :  1 is not in list\n",
      "**************************************************\n"
     ]
    }
   ],
   "source": [
    "# List built in methods\n",
    "# Method : Index\n",
    "# What It Does : Return zero-based index in the list of the first item whose value is equal to x. Raises a ValueError if there is no such item.\n",
    "list_variable = [1,2,3,4]\n",
    "print('List content at begining :' , list_variable)\n",
    "print('*'*50)\n",
    "# index of element 1\n",
    "index_of_1 = list_variable.index(1)\n",
    "print('Index Of Element 1 in List :' , index_of_1)\n",
    "print('*'*50)\n",
    "# 3 parameters of list.index()\n",
    "# 1) element - the element to be searched\n",
    "# 2) start (optional) - start searching from this index\n",
    "# 3) end (optional) - search the element up to this index\n",
    "# Here we search for 1 in [3,4] , By setting up args accordingly\n",
    "try:\n",
    "    index_of_1 = list_variable.index(1 , 2 , -1)\n",
    "except Exception as e:\n",
    "    print('ValueError: 1 is not in list has occured : ' , e)\n",
    "print('*'*50)"
   ]
  },
  {
   "cell_type": "code",
   "execution_count": 11,
   "metadata": {},
   "outputs": [
    {
     "name": "stdout",
     "output_type": "stream",
     "text": [
      "List content at begining : [1, 2, 3, 4, 1, 1, 2, 2, 3]\n",
      "**************************************************\n",
      "number_of_times_one_have_occured in the list are : 3\n",
      "**************************************************\n"
     ]
    }
   ],
   "source": [
    "# List built in methods\n",
    "# Method : Count\n",
    "# What It Does : Returns the number of times an element appears in the list.\n",
    "list_variable = [1,2,3,4,1,1,2,2,3]\n",
    "print('List content at begining :' , list_variable)\n",
    "print('*'*50)\n",
    "number_of_times_one_have_occured = list_variable.count(1)\n",
    "print('number_of_times_one_have_occured in the list are :' , number_of_times_one_have_occured)\n",
    "print('*'*50)"
   ]
  },
  {
   "cell_type": "code",
   "execution_count": 18,
   "metadata": {},
   "outputs": [
    {
     "name": "stdout",
     "output_type": "stream",
     "text": [
      "List content at begining : ['a', 'zz', 'f', 'hhhh', 't']\n",
      "**************************************************\n",
      "List content after using sort() : ['a', 'f', 'hhhh', 't', 'zz']\n",
      "**************************************************\n",
      "List content after using sort() with reverse as True : ['zz', 't', 'hhhh', 'f', 'a']\n",
      "**************************************************\n",
      "List content after using sort() with len() key function : ['t', 'f', 'a', 'zz', 'hhhh']\n",
      "**************************************************\n"
     ]
    }
   ],
   "source": [
    "# List built in methods\n",
    "# Method : Sort\n",
    "# What It Does : Sort the items of the list in place.\n",
    "list_variable = ['a' , 'zz' , 'f' , 'hhhh' , 't']\n",
    "print('List content at begining :' , list_variable)\n",
    "print('*'*50)\n",
    "# sort() changes the list directly and doesn't return any value\n",
    "list_variable.sort()\n",
    "print('List content after using sort() :' , list_variable)\n",
    "print('*'*50)\n",
    "# Using reverse argument\n",
    "list_variable.sort(reverse=True)\n",
    "print('List content after using sort() with reverse as True :' , list_variable)\n",
    "print('*'*50)\n",
    "# Using key argument (It accepts a function as key and sorts based on the key function)\n",
    "# Here we'll use built in len function\n",
    "\n",
    "list_variable.sort(key = len)\n",
    "print('List content after using sort() with len() key function :' , list_variable)\n",
    "print('*'*50)"
   ]
  },
  {
   "cell_type": "code",
   "execution_count": 21,
   "metadata": {},
   "outputs": [
    {
     "name": "stdout",
     "output_type": "stream",
     "text": [
      "List content at begining : [4, 7, 2, 4, 6, 7, 8, 98, 3]\n",
      "**************************************************\n",
      "List content after using reverse() : [3, 98, 8, 7, 6, 4, 2, 7, 4]\n",
      "**************************************************\n"
     ]
    }
   ],
   "source": [
    "# List built in methods\n",
    "# Method : Reverse\n",
    "# What It Does : Reverse the elements of the list in place.\n",
    "list_variable = [4,7,2,4,6,7,8,98,3]\n",
    "print('List content at begining :' , list_variable)\n",
    "print('*'*50)\n",
    "# Using reverse()\n",
    "# reverse() changes the list directly and doesn't return any value\n",
    "list_variable.reverse()\n",
    "print('List content after using reverse() :' , list_variable)\n",
    "print('*'*50)\n",
    "# Reverse method does not sort descending , It just reverses the values in list in opposite order"
   ]
  },
  {
   "cell_type": "code",
   "execution_count": 30,
   "metadata": {},
   "outputs": [
    {
     "name": "stdout",
     "output_type": "stream",
     "text": [
      "Original List content at begining : [1, 2, 3]\n",
      "**************************************************\n",
      "Original List content after copying : [1, 2, 3]\n",
      "Copied List content using copy() :  [1, 2, 3]\n",
      "Copied List content using \"=\" sign :  [1, 2, 3]\n",
      "**************************************************\n",
      "Original List content after appending 4 : [1, 2, 3, 4]\n",
      "Copied List content using copy() after appending 3 :  [1, 2, 3, 3]\n",
      "Copied List content using \"=\" sign after appending 4 :  [1, 2, 3, 4]\n",
      "**************************************************\n",
      "We can understand that if we do copy using = sign if we change the copied list content , original list content also changes. But in .copy() the original list content does not change even if you change the copied list content.\n",
      "\n",
      "**************************************************\n"
     ]
    }
   ],
   "source": [
    "# List built in methods\n",
    "# Method : Copy\n",
    "# What It Does : Return a shallow copy of the list\n",
    "list_variable = [1,2,3]\n",
    "print('Original List content at begining :' , list_variable)\n",
    "print('*'*50)\n",
    "copy_of_list = list_variable.copy()\n",
    "copy_using_equal_sign_list = list_variable\n",
    "print('Original List content after copying :' , list_variable)\n",
    "print('Copied List content using copy() : ' , copy_of_list)\n",
    "print('Copied List content using \"=\" sign : ' , copy_using_equal_sign_list)\n",
    "print('*'*50)\n",
    "# Changing values in both copied lists\n",
    "copy_of_list.append(3)\n",
    "copy_using_equal_sign_list.append(4)\n",
    "print('Original List content after appending 4 :' , list_variable)\n",
    "print('Copied List content using copy() after appending 3 : ' , copy_of_list)\n",
    "print('Copied List content using \"=\" sign after appending 4 : ' , copy_using_equal_sign_list)\n",
    "print('*'*50)\n",
    "# We can understand that if we do copy using = sign if we change the copied list content , original list content also changes\n",
    "# But in .copy() the original list content does not change even if you change the copied list content.\n",
    "print('''We can understand that if we do copy using = sign if we change the copied list content , original list content also changes. But in .copy() the original list content does not change even if you change the copied list content.\n",
    "''')\n",
    "print('*'*50)"
   ]
  },
  {
   "cell_type": "code",
   "execution_count": 32,
   "metadata": {},
   "outputs": [
    {
     "name": "stdout",
     "output_type": "stream",
     "text": [
      "Original List content at begining : ['a', 'b', 'c', 'd', 'e', 'f']\n",
      "**************************************************\n",
      "Accessing 'c' using Positive Indexing\n",
      "c\n",
      "**************************************************\n",
      "Accessing 'c' using Negative Indexing\n",
      "c\n",
      "**************************************************\n"
     ]
    }
   ],
   "source": [
    "# List Indexing\n",
    "list_variable = ['a' , 'b' , 'c' , 'd' , 'e' , 'f']\n",
    "print('Original List content at begining :' , list_variable)\n",
    "print('*'*50)\n",
    "\n",
    "# Accessing 'c' using Positive Indexing\n",
    "print(\"Accessing 'c' using Positive Indexing\")\n",
    "print(list_variable[2])\n",
    "print('*'*50)\n",
    "# Accessing 'c' using Negative Indexing\n",
    "print(\"Accessing 'c' using Negative Indexing\")\n",
    "print(list_variable[-4])\n",
    "print('*'*50)"
   ]
  },
  {
   "cell_type": "code",
   "execution_count": 33,
   "metadata": {},
   "outputs": [
    {
     "name": "stdout",
     "output_type": "stream",
     "text": [
      "Original List content at begining : ['a', 'b', 'c', 'd', 'e', 'f']\n",
      "**************************************************\n",
      "Printing 'b' to 'e' using slicing\n",
      "['b', 'c', 'd', 'e']\n"
     ]
    }
   ],
   "source": [
    "# List Slicing\n",
    "list_variable = ['a' , 'b' , 'c' , 'd' , 'e' , 'f']\n",
    "print('Original List content at begining :' , list_variable)\n",
    "print('*'*50)\n",
    "# Printing 'b' to 'e' using slicing\n",
    "print(\"Printing 'b' to 'e' using slicing\")\n",
    "print(list_variable[1:5])\n",
    "print('*'*50)"
   ]
  },
  {
   "cell_type": "code",
   "execution_count": 37,
   "metadata": {},
   "outputs": [
    {
     "name": "stdout",
     "output_type": "stream",
     "text": [
      "List comprehension using only variable : [0, 1, 2, 3, 4, 5, 6, 7, 8, 9]\n",
      "**************************************************\n",
      "List comprehension using actions on variable (Here multiplying variable with variable): [0, 1, 4, 9, 16, 25, 36, 49, 64, 81]\n",
      "**************************************************\n",
      "List comprehension using actions and conditions on variable (Here multiplying variable with variable if variable is even number): [0, 4, 16, 36, 64]\n",
      "**************************************************\n"
     ]
    }
   ],
   "source": [
    "# List Comprehension\n",
    "# Only having variable\n",
    "list_variable = [i for i in range(10)]\n",
    "print('List comprehension using only variable :' , list_variable)\n",
    "print('*'*50)\n",
    "# Actions on variable\n",
    "list_variable = [i * i for i in range(10)]\n",
    "print('List comprehension using actions on variable (Here multiplying variable with variable):' , list_variable)\n",
    "print('*'*50)\n",
    "# Actions and conditions on variable\n",
    "list_variable = [i * i for i in range(10) if i % 2 == 0]\n",
    "print('List comprehension using actions and conditions on variable (Here multiplying variable with variable if variable is even number):' , list_variable)\n",
    "print('*'*50)"
   ]
  },
  {
   "cell_type": "code",
   "execution_count": 38,
   "metadata": {},
   "outputs": [
    {
     "name": "stdout",
     "output_type": "stream",
     "text": [
      "Original List content at begining : ['a', 'b', 'c', 'd', 'e', 'f']\n",
      "**************************************************\n",
      "Iteration Using for loop\n",
      "a\n",
      "b\n",
      "c\n",
      "d\n",
      "e\n",
      "f\n",
      "**************************************************\n",
      "Iteration Using while loop\n",
      "a\n",
      "b\n",
      "c\n",
      "d\n",
      "e\n",
      "f\n",
      "**************************************************\n"
     ]
    }
   ],
   "source": [
    "# List Iterate\n",
    "list_variable = ['a' , 'b' , 'c' , 'd' , 'e' , 'f']\n",
    "print('Original List content at begining :' , list_variable)\n",
    "print('*'*50)\n",
    "# Using for loop\n",
    "print('Iteration Using for loop')\n",
    "for element in list_variable:\n",
    "    print(element)\n",
    "print('*'*50)\n",
    "# Using while loop\n",
    "print('Iteration Using while loop')\n",
    "while len(list_variable) != 0:\n",
    "    first_element = list_variable.pop(0)\n",
    "    print(first_element)\n",
    "print('*'*50)"
   ]
  },
  {
   "cell_type": "code",
   "execution_count": null,
   "metadata": {},
   "outputs": [],
   "source": []
  },
  {
   "cell_type": "code",
   "execution_count": null,
   "metadata": {},
   "outputs": [],
   "source": []
  },
  {
   "cell_type": "code",
   "execution_count": null,
   "metadata": {},
   "outputs": [],
   "source": []
  },
  {
   "cell_type": "code",
   "execution_count": null,
   "metadata": {},
   "outputs": [],
   "source": []
  },
  {
   "cell_type": "code",
   "execution_count": null,
   "metadata": {},
   "outputs": [],
   "source": []
  },
  {
   "cell_type": "code",
   "execution_count": null,
   "metadata": {},
   "outputs": [],
   "source": []
  },
  {
   "cell_type": "code",
   "execution_count": null,
   "metadata": {},
   "outputs": [],
   "source": []
  },
  {
   "cell_type": "code",
   "execution_count": null,
   "metadata": {},
   "outputs": [],
   "source": []
  },
  {
   "cell_type": "code",
   "execution_count": null,
   "metadata": {},
   "outputs": [],
   "source": []
  },
  {
   "cell_type": "code",
   "execution_count": null,
   "metadata": {},
   "outputs": [],
   "source": []
  },
  {
   "cell_type": "code",
   "execution_count": null,
   "metadata": {},
   "outputs": [],
   "source": []
  },
  {
   "cell_type": "code",
   "execution_count": null,
   "metadata": {},
   "outputs": [],
   "source": []
  },
  {
   "cell_type": "code",
   "execution_count": null,
   "metadata": {},
   "outputs": [],
   "source": []
  },
  {
   "cell_type": "code",
   "execution_count": null,
   "metadata": {},
   "outputs": [],
   "source": []
  },
  {
   "cell_type": "code",
   "execution_count": null,
   "metadata": {},
   "outputs": [],
   "source": []
  },
  {
   "cell_type": "code",
   "execution_count": null,
   "metadata": {},
   "outputs": [],
   "source": []
  },
  {
   "cell_type": "code",
   "execution_count": null,
   "metadata": {},
   "outputs": [],
   "source": []
  },
  {
   "cell_type": "code",
   "execution_count": null,
   "metadata": {},
   "outputs": [],
   "source": []
  },
  {
   "cell_type": "code",
   "execution_count": null,
   "metadata": {},
   "outputs": [],
   "source": []
  },
  {
   "cell_type": "code",
   "execution_count": null,
   "metadata": {},
   "outputs": [],
   "source": []
  },
  {
   "cell_type": "code",
   "execution_count": null,
   "metadata": {},
   "outputs": [],
   "source": []
  },
  {
   "cell_type": "code",
   "execution_count": null,
   "metadata": {},
   "outputs": [],
   "source": []
  },
  {
   "cell_type": "code",
   "execution_count": null,
   "metadata": {},
   "outputs": [],
   "source": []
  },
  {
   "cell_type": "code",
   "execution_count": null,
   "metadata": {},
   "outputs": [],
   "source": []
  },
  {
   "cell_type": "code",
   "execution_count": null,
   "metadata": {},
   "outputs": [],
   "source": []
  },
  {
   "cell_type": "code",
   "execution_count": null,
   "metadata": {},
   "outputs": [],
   "source": []
  },
  {
   "cell_type": "code",
   "execution_count": null,
   "metadata": {},
   "outputs": [],
   "source": []
  },
  {
   "cell_type": "code",
   "execution_count": null,
   "metadata": {},
   "outputs": [],
   "source": []
  },
  {
   "cell_type": "code",
   "execution_count": 23,
   "metadata": {},
   "outputs": [
    {
     "data": {
      "text/plain": [
       "[44]"
      ]
     },
     "execution_count": 23,
     "metadata": {},
     "output_type": "execute_result"
    }
   ],
   "source": [
    "list_variable = []\n",
    "list_variable[len(list_variable) : ] = [44]\n",
    "list_variable"
   ]
  },
  {
   "cell_type": "code",
   "execution_count": 1,
   "metadata": {},
   "outputs": [
    {
     "name": "stdout",
     "output_type": "stream",
     "text": [
      "[1, 2, 3]\n",
      "[1, 2, 3, '4', '4']\n"
     ]
    }
   ],
   "source": [
    "# Lists\n",
    "l = [1,2,3]\n",
    "print(l)\n",
    "l.extend('44')\n",
    "print(l)"
   ]
  },
  {
   "cell_type": "code",
   "execution_count": 2,
   "metadata": {},
   "outputs": [
    {
     "ename": "TypeError",
     "evalue": "'int' object is not iterable",
     "output_type": "error",
     "traceback": [
      "\u001b[0;31m---------------------------------------------------------------------------\u001b[0m",
      "\u001b[0;31mTypeError\u001b[0m                                 Traceback (most recent call last)",
      "\u001b[0;32m/tmp/ipykernel_3584/1326569554.py\u001b[0m in \u001b[0;36m<module>\u001b[0;34m\u001b[0m\n\u001b[0;32m----> 1\u001b[0;31m \u001b[0ml\u001b[0m\u001b[0;34m.\u001b[0m\u001b[0mextend\u001b[0m\u001b[0;34m(\u001b[0m\u001b[0;36m8\u001b[0m\u001b[0;34m)\u001b[0m\u001b[0;34m\u001b[0m\u001b[0;34m\u001b[0m\u001b[0m\n\u001b[0m",
      "\u001b[0;31mTypeError\u001b[0m: 'int' object is not iterable"
     ]
    }
   ],
   "source": [
    "l.extend(8)"
   ]
  },
  {
   "cell_type": "code",
   "execution_count": 3,
   "metadata": {},
   "outputs": [
    {
     "name": "stdout",
     "output_type": "stream",
     "text": [
      "[1, 2, 3, '4', '4', '44']\n"
     ]
    }
   ],
   "source": [
    "l.extend(['44'])\n",
    "print(l)"
   ]
  },
  {
   "cell_type": "code",
   "execution_count": 7,
   "metadata": {},
   "outputs": [
    {
     "name": "stdout",
     "output_type": "stream",
     "text": [
      "None\n"
     ]
    }
   ],
   "source": [
    "l = [1,2,3].extend([[3,5,6]])\n",
    "print(l)\n",
    "# Prints None (Analyze why None is printed)"
   ]
  },
  {
   "cell_type": "code",
   "execution_count": 5,
   "metadata": {},
   "outputs": [],
   "source": [
    "# List Comprehension\n"
   ]
  },
  {
   "cell_type": "code",
   "execution_count": 20,
   "metadata": {},
   "outputs": [
    {
     "name": "stdout",
     "output_type": "stream",
     "text": [
      "[1, 2, 3]\n",
      "**************************************************\n",
      "[1, 2, 3]\n",
      "**************************************************\n",
      "[1, 2, 3, 4]\n",
      "**************************************************\n"
     ]
    }
   ],
   "source": [
    "# l1 and l2 reference same memory state , so if l1 changes l2 also changes\n",
    "l1 = [1,2,3]\n",
    "l2 = l1\n",
    "print(l2)\n",
    "print('*'*50)\n",
    "l1 = [1,2,3]\n",
    "l2 = l1\n",
    "print(l2)\n",
    "print('*'*50)\n",
    "l1.append(4)\n",
    "print(l2)\n",
    "print('*'*50)\n"
   ]
  },
  {
   "cell_type": "code",
   "execution_count": 8,
   "metadata": {},
   "outputs": [
    {
     "name": "stdout",
     "output_type": "stream",
     "text": [
      "[1, 2, 3]\n"
     ]
    }
   ],
   "source": [
    "l1 = [1,2,3]\n",
    "l2 = l1\n",
    "print(l2)"
   ]
  },
  {
   "cell_type": "code",
   "execution_count": 9,
   "metadata": {},
   "outputs": [
    {
     "name": "stdout",
     "output_type": "stream",
     "text": [
      "[1, 2, 3, 4]\n"
     ]
    }
   ],
   "source": [
    "l1.append(4)\n",
    "print(l2)"
   ]
  },
  {
   "cell_type": "code",
   "execution_count": 10,
   "metadata": {},
   "outputs": [],
   "source": [
    "# l1 and l2 reference same memory state , so if l1 changes l2 also changes"
   ]
  },
  {
   "cell_type": "code",
   "execution_count": null,
   "metadata": {},
   "outputs": [],
   "source": []
  },
  {
   "cell_type": "code",
   "execution_count": null,
   "metadata": {},
   "outputs": [],
   "source": []
  },
  {
   "cell_type": "code",
   "execution_count": null,
   "metadata": {},
   "outputs": [],
   "source": []
  },
  {
   "cell_type": "code",
   "execution_count": null,
   "metadata": {},
   "outputs": [],
   "source": []
  }
 ],
 "metadata": {
  "interpreter": {
   "hash": "916dbcbb3f70747c44a77c7bcd40155683ae19c65e1c03b4aa3499c5328201f1"
  },
  "kernelspec": {
   "display_name": "Python 3.8.10 64-bit",
   "language": "python",
   "name": "python3"
  },
  "language_info": {
   "codemirror_mode": {
    "name": "ipython",
    "version": 3
   },
   "file_extension": ".py",
   "mimetype": "text/x-python",
   "name": "python",
   "nbconvert_exporter": "python",
   "pygments_lexer": "ipython3",
   "version": "3.9.7"
  },
  "orig_nbformat": 4
 },
 "nbformat": 4,
 "nbformat_minor": 2
}
