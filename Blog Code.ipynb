{
 "cells": [
  {
   "cell_type": "code",
   "execution_count": 4,
   "metadata": {},
   "outputs": [],
   "source": [
    "a = 1,\"fg\""
   ]
  },
  {
   "cell_type": "code",
   "execution_count": 5,
   "metadata": {},
   "outputs": [
    {
     "data": {
      "text/plain": [
       "(1, 'fg')"
      ]
     },
     "execution_count": 5,
     "metadata": {},
     "output_type": "execute_result"
    }
   ],
   "source": [
    "a"
   ]
  },
  {
   "cell_type": "code",
   "execution_count": 6,
   "metadata": {},
   "outputs": [
    {
     "data": {
      "text/plain": [
       "tuple"
      ]
     },
     "execution_count": 6,
     "metadata": {},
     "output_type": "execute_result"
    }
   ],
   "source": [
    "type(a)"
   ]
  },
  {
   "cell_type": "code",
   "execution_count": 23,
   "metadata": {},
   "outputs": [
    {
     "name": "stdout",
     "output_type": "stream",
     "text": [
      "Blah Blah Blah before the function is called.\n",
      "Hello\n",
      "Blah Blah Blah after the function is called.\n",
      "None"
     ]
    }
   ],
   "source": [
    "def actual_function(func):\n",
    "    def inside_wrapper_function():\n",
    "        print(\"Blah Blah Blah before the function is called.\")\n",
    "        func()\n",
    "        print(\"Blah Blah Blah after the function is called.\")\n",
    "    return inside_wrapper_function\n",
    "def hello():\n",
    "    print('Hello')\n",
    "\n",
    "say_hello = actual_function(hello)\n",
    "print(say_hello() , end = '')\n"
   ]
  },
  {
   "cell_type": "code",
   "execution_count": 26,
   "metadata": {},
   "outputs": [
    {
     "name": "stdout",
     "output_type": "stream",
     "text": [
      "Blah Blah Blah before the function is called.\n",
      "Hello\n",
      "Blah Blah Blah after the function is called.\n",
      "None\n"
     ]
    }
   ],
   "source": [
    "def actual_function(func):\n",
    "    def inside_wrapper_function():\n",
    "        print(\"Blah Blah Blah before the function is called.\")\n",
    "        func()\n",
    "        print(\"Blah Blah Blah after the function is called.\")\n",
    "    return inside_wrapper_function\n",
    "@actual_function\n",
    "def say_hello():\n",
    "    print('Hello')\n",
    "print(say_hello())"
   ]
  },
  {
   "cell_type": "code",
   "execution_count": 14,
   "metadata": {},
   "outputs": [
    {
     "data": {
      "text/plain": [
       "<function __main__.actual_function.<locals>.inside_wrapper_function()>"
      ]
     },
     "execution_count": 14,
     "metadata": {},
     "output_type": "execute_result"
    }
   ],
   "source": [
    "actual_function(hello)"
   ]
  },
  {
   "cell_type": "code",
   "execution_count": 15,
   "metadata": {},
   "outputs": [
    {
     "name": "stdout",
     "output_type": "stream",
     "text": [
      "Blah Blah Blah before the function is called.\n",
      "Hello\n",
      "Blah Blah Blah after the function is called.\n",
      "None\n"
     ]
    }
   ],
   "source": [
    "say_hello = actual_function(hello)\n",
    "print(say_hello())"
   ]
  },
  {
   "cell_type": "code",
   "execution_count": 16,
   "metadata": {},
   "outputs": [
    {
     "name": "stdout",
     "output_type": "stream",
     "text": [
      "Blah Blah Blah before the function is called.\n",
      "Hello\n",
      "Blah Blah Blah after the function is called.\n"
     ]
    }
   ],
   "source": [
    "say_hello = actual_function(hello)\n",
    "say_hello()"
   ]
  },
  {
   "cell_type": "code",
   "execution_count": 19,
   "metadata": {},
   "outputs": [
    {
     "name": "stdout",
     "output_type": "stream",
     "text": [
      "Blah Blah Blah before the function is called.\n",
      "Hello\n",
      "Blah Blah Blah after the function is called.\n",
      "None\n"
     ]
    }
   ],
   "source": [
    "print(say_hello())"
   ]
  },
  {
   "cell_type": "code",
   "execution_count": 27,
   "metadata": {},
   "outputs": [
    {
     "name": "stdout",
     "output_type": "stream",
     "text": [
      "Hello World\n"
     ]
    }
   ],
   "source": [
    "# First Order Function\n",
    "def print_function(string_to_print):\n",
    "    print(string_to_print)\n",
    "print_function('Hello World')"
   ]
  },
  {
   "cell_type": "code",
   "execution_count": 29,
   "metadata": {},
   "outputs": [
    {
     "name": "stdout",
     "output_type": "stream",
     "text": [
      "**********\n",
      "Hello World\n",
      "**********\n"
     ]
    }
   ],
   "source": [
    "# Higher Order Function that takes function as input\n",
    "def print_function(string_to_print):\n",
    "    print(string_to_print)\n",
    "def second_print_function(string_to_print , print_function):\n",
    "    print('*' * 10)\n",
    "    print_function(string_to_print)\n",
    "    print('*' * 10)\n",
    "second_print_function('Hello World' , print_function )"
   ]
  },
  {
   "cell_type": "code",
   "execution_count": 31,
   "metadata": {},
   "outputs": [
    {
     "name": "stdout",
     "output_type": "stream",
     "text": [
      "3\n"
     ]
    }
   ],
   "source": [
    "def return_3():\n",
    "    return 3\n",
    "def return_return_3():\n",
    "    return return_3()\n",
    "print(return_return_3())"
   ]
  },
  {
   "cell_type": "code",
   "execution_count": 13,
   "metadata": {},
   "outputs": [
    {
     "name": "stdout",
     "output_type": "stream",
     "text": [
      "0\n",
      "1\n",
      "2\n",
      "Number has reached required value 3\n"
     ]
    }
   ],
   "source": [
    "# Recursion\n",
    "def function(number):\n",
    "    # Base Condition\n",
    "    if number >= 3:\n",
    "        return 'Number has reached required value 3'\n",
    "    # Here we call function inside function\n",
    "    else:\n",
    "        # printing number here so we can follow what changes are happening to number variable\n",
    "        print(number)\n",
    "        return function(number + 1)\n",
    "\n",
    "print(function(0))"
   ]
  },
  {
   "cell_type": "code",
   "execution_count": 10,
   "metadata": {},
   "outputs": [
    {
     "name": "stdout",
     "output_type": "stream",
     "text": [
      "0\n",
      "1\n",
      "2\n"
     ]
    },
    {
     "data": {
      "text/plain": [
       "'Number has reached required value 3'"
      ]
     },
     "execution_count": 10,
     "metadata": {},
     "output_type": "execute_result"
    }
   ],
   "source": [
    "function(0)"
   ]
  },
  {
   "cell_type": "code",
   "execution_count": 11,
   "metadata": {},
   "outputs": [
    {
     "name": "stdout",
     "output_type": "stream",
     "text": [
      "0\n",
      "1\n",
      "2\n",
      "Number has reached required value 3\n"
     ]
    }
   ],
   "source": [
    "print(function(0))"
   ]
  },
  {
   "cell_type": "code",
   "execution_count": 14,
   "metadata": {},
   "outputs": [
    {
     "ename": "NameError",
     "evalue": "name 'random_function_name' is not defined",
     "output_type": "error",
     "traceback": [
      "\u001b[0;31m---------------------------------------------------------------------------\u001b[0m",
      "\u001b[0;31mNameError\u001b[0m                                 Traceback (most recent call last)",
      "\u001b[0;32m/tmp/ipykernel_13451/3830254607.py\u001b[0m in \u001b[0;36m<module>\u001b[0;34m\u001b[0m\n\u001b[0;32m----> 1\u001b[0;31m \u001b[0;34m@\u001b[0m\u001b[0mrandom_function_name\u001b[0m\u001b[0;34m\u001b[0m\u001b[0;34m\u001b[0m\u001b[0m\n\u001b[0m\u001b[1;32m      2\u001b[0m \u001b[0;32mdef\u001b[0m \u001b[0msay_hi\u001b[0m\u001b[0;34m(\u001b[0m\u001b[0;34m)\u001b[0m\u001b[0;34m:\u001b[0m\u001b[0;34m\u001b[0m\u001b[0;34m\u001b[0m\u001b[0m\n\u001b[1;32m      3\u001b[0m     \u001b[0mprint\u001b[0m\u001b[0;34m(\u001b[0m\u001b[0;34m'Hi'\u001b[0m\u001b[0;34m)\u001b[0m\u001b[0;34m\u001b[0m\u001b[0;34m\u001b[0m\u001b[0m\n",
      "\u001b[0;31mNameError\u001b[0m: name 'random_function_name' is not defined"
     ]
    }
   ],
   "source": [
    "@random_function_name\n",
    "def say_hi():\n",
    "    print('Hi')"
   ]
  },
  {
   "cell_type": "code",
   "execution_count": 15,
   "metadata": {},
   "outputs": [
    {
     "name": "stdout",
     "output_type": "stream",
     "text": [
      "Blah Blah Blah before the function is called.\n",
      ";) ;) ;) before the function is called.\n",
      "Hello\n",
      ";) ;) ;) after the function is called.\n",
      "Blah Blah Blah after the function is called.\n",
      "None\n"
     ]
    }
   ],
   "source": [
    "def blah(func):\n",
    "    def inside_wrapper_function():\n",
    "        print(\"Blah Blah Blah before the function is called.\")\n",
    "        func()\n",
    "        print(\"Blah Blah Blah after the function is called.\")\n",
    "    return inside_wrapper_function\n",
    "def semi_colon(func):\n",
    "    def inside_wrapper_function_1():\n",
    "        print(\";) ;) ;) before the function is called.\")\n",
    "        func()\n",
    "        print(\";) ;) ;) after the function is called.\")\n",
    "    return inside_wrapper_function_1\n",
    "@blah\n",
    "@semi_colon\n",
    "def say_hello():\n",
    "    print('Hello')\n",
    "print(say_hello())"
   ]
  },
  {
   "cell_type": "code",
   "execution_count": null,
   "metadata": {},
   "outputs": [],
   "source": []
  },
  {
   "cell_type": "code",
   "execution_count": null,
   "metadata": {},
   "outputs": [],
   "source": []
  },
  {
   "cell_type": "code",
   "execution_count": null,
   "metadata": {},
   "outputs": [],
   "source": []
  },
  {
   "cell_type": "code",
   "execution_count": null,
   "metadata": {},
   "outputs": [],
   "source": []
  },
  {
   "cell_type": "code",
   "execution_count": null,
   "metadata": {},
   "outputs": [],
   "source": []
  },
  {
   "cell_type": "code",
   "execution_count": null,
   "metadata": {},
   "outputs": [],
   "source": []
  },
  {
   "cell_type": "code",
   "execution_count": null,
   "metadata": {},
   "outputs": [],
   "source": []
  },
  {
   "cell_type": "code",
   "execution_count": null,
   "metadata": {},
   "outputs": [],
   "source": []
  },
  {
   "cell_type": "code",
   "execution_count": null,
   "metadata": {},
   "outputs": [],
   "source": []
  },
  {
   "cell_type": "code",
   "execution_count": null,
   "metadata": {},
   "outputs": [],
   "source": []
  },
  {
   "cell_type": "code",
   "execution_count": null,
   "metadata": {},
   "outputs": [],
   "source": []
  },
  {
   "cell_type": "code",
   "execution_count": null,
   "metadata": {},
   "outputs": [],
   "source": []
  },
  {
   "cell_type": "code",
   "execution_count": null,
   "metadata": {},
   "outputs": [],
   "source": []
  },
  {
   "cell_type": "code",
   "execution_count": null,
   "metadata": {},
   "outputs": [],
   "source": []
  }
 ],
 "metadata": {
  "interpreter": {
   "hash": "916dbcbb3f70747c44a77c7bcd40155683ae19c65e1c03b4aa3499c5328201f1"
  },
  "kernelspec": {
   "display_name": "Python 3.8.10 64-bit",
   "language": "python",
   "name": "python3"
  },
  "language_info": {
   "codemirror_mode": {
    "name": "ipython",
    "version": 3
   },
   "file_extension": ".py",
   "mimetype": "text/x-python",
   "name": "python",
   "nbconvert_exporter": "python",
   "pygments_lexer": "ipython3",
   "version": "3.9.7"
  },
  "orig_nbformat": 4
 },
 "nbformat": 4,
 "nbformat_minor": 2
}
