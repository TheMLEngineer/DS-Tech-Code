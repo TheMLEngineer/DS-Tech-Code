{
 "cells": [
  {
   "cell_type": "code",
   "execution_count": 5,
   "metadata": {},
   "outputs": [
    {
     "data": {
      "text/plain": [
       "{22, 121, 223}"
      ]
     },
     "execution_count": 5,
     "metadata": {},
     "output_type": "execute_result"
    }
   ],
   "source": [
    "s = set([121,22,223])\n",
    "s"
   ]
  },
  {
   "cell_type": "code",
   "execution_count": 6,
   "metadata": {},
   "outputs": [
    {
     "data": {
      "text/plain": [
       "[22, 121, 223]"
      ]
     },
     "execution_count": 6,
     "metadata": {},
     "output_type": "execute_result"
    }
   ],
   "source": [
    "sorted(s)"
   ]
  },
  {
   "cell_type": "code",
   "execution_count": 7,
   "metadata": {},
   "outputs": [
    {
     "ename": "TypeError",
     "evalue": "'set' object is not subscriptable",
     "output_type": "error",
     "traceback": [
      "\u001b[0;31m---------------------------------------------------------------------------\u001b[0m",
      "\u001b[0;31mTypeError\u001b[0m                                 Traceback (most recent call last)",
      "\u001b[0;32m/tmp/ipykernel_32991/878419959.py\u001b[0m in \u001b[0;36m<module>\u001b[0;34m\u001b[0m\n\u001b[0;32m----> 1\u001b[0;31m \u001b[0ms\u001b[0m\u001b[0;34m[\u001b[0m\u001b[0;36m1\u001b[0m\u001b[0;34m]\u001b[0m\u001b[0;34m\u001b[0m\u001b[0;34m\u001b[0m\u001b[0m\n\u001b[0m",
      "\u001b[0;31mTypeError\u001b[0m: 'set' object is not subscriptable"
     ]
    }
   ],
   "source": [
    "s[1]"
   ]
  },
  {
   "cell_type": "code",
   "execution_count": 8,
   "metadata": {},
   "outputs": [
    {
     "ename": "TypeError",
     "evalue": "'set' object is not reversible",
     "output_type": "error",
     "traceback": [
      "\u001b[0;31m---------------------------------------------------------------------------\u001b[0m",
      "\u001b[0;31mTypeError\u001b[0m                                 Traceback (most recent call last)",
      "\u001b[0;32m/tmp/ipykernel_32991/2792480667.py\u001b[0m in \u001b[0;36m<module>\u001b[0;34m\u001b[0m\n\u001b[0;32m----> 1\u001b[0;31m \u001b[0mreversed\u001b[0m\u001b[0;34m(\u001b[0m\u001b[0ms\u001b[0m\u001b[0;34m)\u001b[0m\u001b[0;34m\u001b[0m\u001b[0;34m\u001b[0m\u001b[0m\n\u001b[0m",
      "\u001b[0;31mTypeError\u001b[0m: 'set' object is not reversible"
     ]
    }
   ],
   "source": [
    "reversed(s)"
   ]
  },
  {
   "cell_type": "code",
   "execution_count": 10,
   "metadata": {},
   "outputs": [
    {
     "data": {
      "text/plain": [
       "[3, 2, 1]"
      ]
     },
     "execution_count": 10,
     "metadata": {},
     "output_type": "execute_result"
    }
   ],
   "source": [
    "list(reversed([1,2,3]))"
   ]
  },
  {
   "cell_type": "code",
   "execution_count": 11,
   "metadata": {},
   "outputs": [
    {
     "data": {
      "text/plain": [
       "True"
      ]
     },
     "execution_count": 11,
     "metadata": {},
     "output_type": "execute_result"
    }
   ],
   "source": [
    "l = [1,2,3]\n",
    "1 in l"
   ]
  },
  {
   "cell_type": "code",
   "execution_count": 14,
   "metadata": {},
   "outputs": [
    {
     "name": "stdout",
     "output_type": "stream",
     "text": [
      "Dictionary value after Creation : {}\n",
      "**************************************************\n",
      "Dictionary value after Updating : {'key 1': 'value 1', 'key 2': 'value 2'}\n",
      "**************************************************\n",
      "Getting Value of key 1 : value 1\n",
      "Dictionary value after Reading one value : {'key 1': 'value 1', 'key 2': 'value 2'}\n",
      "**************************************************\n",
      "Dictionary value after deletion of key 1 : {'key 1': 'value 1'}\n",
      "**************************************************\n"
     ]
    }
   ],
   "source": [
    "# Dictionary CRUD Activities\n",
    "\n",
    "# Creating empty dictionary\n",
    "dictionary_variable = {}\n",
    "print('Dictionary value after Creation :' , dictionary_variable)\n",
    "print('*' * 50)\n",
    "\n",
    "# Updating value\n",
    "dictionary_variable['key 1'] = 'value 1'\n",
    "dictionary_variable['key 2'] = 'value 2'\n",
    "print('Dictionary value after Updating :' , dictionary_variable)\n",
    "print('*' * 50)\n",
    "\n",
    "# Reading value\n",
    "print('Getting Value of key 1 :' , dictionary_variable['key 1'])\n",
    "print('Dictionary value after Reading one value :' , dictionary_variable)\n",
    "print('*' * 50)\n",
    "\n",
    "# Deleting in dictionary\n",
    "del dictionary_variable['key 2']\n",
    "print('Dictionary value after deletion of key 1 :' , dictionary_variable)\n",
    "print('*' * 50)"
   ]
  },
  {
   "cell_type": "code",
   "execution_count": 33,
   "metadata": {},
   "outputs": [
    {
     "name": "stdout",
     "output_type": "stream",
     "text": [
      "Dictionary value after Creation : {}\n",
      "**************************************************\n",
      "Dictionary value after Updating : {'key 1': 'value 1', 'key 2': 'value 2', 'key 3': 'value 3'}\n",
      "**************************************************\n",
      "Copied dictionary : {'key 1': 'value 1', 'key 2': 'value 2', 'key 3': 'value 3'}\n",
      "**************************************************\n",
      "Value got using get() : value 2\n",
      "**************************************************\n",
      "str() : {'key 1': 'value 1', 'key 2': 'value 2', 'key 3': 'value 3'}\n",
      "**************************************************\n",
      "Keys in dictionary : dict_keys(['key 1', 'key 2', 'key 3'])\n",
      "Items (Key value pair) in dictionary : dict_items([('key 1', 'value 1'), ('key 2', 'value 2'), ('key 3', 'value 3')])\n",
      "Values in dictionary : dict_values(['value 1', 'value 2', 'value 3'])\n",
      "**************************************************\n",
      "After update dictionary_variable : {'key 1': 'value 1', 'key 2': 'updated value 2', 'key 3': 'value 3'}\n",
      "After update dictionary_variable2 : {'key 2': 'updated value 2'}\n",
      "Dictionary value after setdefault() : {'key 1': 'value 1', 'key 2': 'updated value 2', 'key 3': 'value 3', 'New Key': 'New Value'}\n",
      "**************************************************\n",
      "fromkeys() new dictionary : {1: 'value', 2: 'value', 3: 'value'}\n",
      "**************************************************\n",
      "pop() : value 1\n",
      "popitem() : ('New Key', 'New Value')\n",
      "Dictionary value after Popping : {'key 2': 'updated value 2', 'key 3': 'value 3'}\n",
      "**************************************************\n"
     ]
    }
   ],
   "source": [
    "# Dictionary methods\n",
    "# Creating empty dictionary\n",
    "dictionary_variable = {}\n",
    "print('Dictionary value after Creation :' , dictionary_variable)\n",
    "print('*' * 50)\n",
    "\n",
    "\n",
    "# Updating value\n",
    "dictionary_variable['key 1'] = 'value 1'\n",
    "dictionary_variable['key 2'] = 'value 2'\n",
    "dictionary_variable['key 3'] = 'value 3'\n",
    "print('Dictionary value after Updating :' , dictionary_variable)\n",
    "print('*' * 50)\n",
    "\n",
    "\n",
    "# Copying dictionary\n",
    "copy_dict = dictionary_variable.copy()\n",
    "print('Copied dictionary :' , copy_dict)\n",
    "print('*' * 50)\n",
    "\n",
    "\n",
    "# Getting value using .get()\n",
    "value = dictionary_variable.get('key 2')\n",
    "print('Value got using get() :' , value)\n",
    "print('*' * 50)\n",
    "\n",
    "\n",
    "# str()\n",
    "str_value = str(dictionary_variable)\n",
    "print('str() :' , str_value)\n",
    "print('*' * 50)\n",
    "\n",
    "\n",
    "# keys() , items() , values()\n",
    "keys = dictionary_variable.keys()\n",
    "print('Keys in dictionary :' , keys)\n",
    "items = dictionary_variable.items()\n",
    "print('Items (Key value pair) in dictionary :' , items)\n",
    "values = dictionary_variable.values()\n",
    "print('Values in dictionary :' , values)\n",
    "print('*' * 50)\n",
    "\n",
    "\n",
    "# update() , setdefault()\n",
    "dictionary_variable2 = {'key 2' : 'updated value 2'}\n",
    "dictionary_variable.update(dictionary_variable2)\n",
    "print('After update dictionary_variable :' , dictionary_variable)\n",
    "print('After update dictionary_variable2 :' , dictionary_variable2)\n",
    "# setdefault() returns value if key is already present if key is not present then it inserts key with value\n",
    "a = dictionary_variable.setdefault('New Key' , 'New Value')\n",
    "print('Dictionary value after setdefault() :' , dictionary_variable)\n",
    "print('*' * 50)\n",
    "\n",
    "\n",
    "# fromkeys() \n",
    "new_dict = dict.fromkeys([1,2,3] , 'value')\n",
    "print('fromkeys() new dictionary :' , new_dict)\n",
    "print('*' * 50)\n",
    "\n",
    "\n",
    "# pop and popitem()\n",
    "pop_value = dictionary_variable.pop('key 1')\n",
    "print('pop() :' , pop_value)\n",
    "popitem_value = dictionary_variable.popitem()\n",
    "print('popitem() :' , popitem_value)\n",
    "print('Dictionary value after Popping :' , dictionary_variable)\n",
    "print('*' * 50)"
   ]
  },
  {
   "cell_type": "code",
   "execution_count": 36,
   "metadata": {},
   "outputs": [
    {
     "name": "stdout",
     "output_type": "stream",
     "text": [
      "new_dict created with comprehension : {0: 0, 1: 1, 2: 4, 3: 9, 4: 16}\n",
      "Is 1 in new_dict as Key : True\n"
     ]
    }
   ],
   "source": [
    "# Dictionary Comprehension\n",
    "new_dict = {i: i*i for i in range(5)}\n",
    "print('new_dict created with comprehension :' , new_dict)\n",
    "\n",
    "# Checking if a key is in dictionary\n",
    "print('Is 1 in new_dict as Key :' , 1 in new_dict)"
   ]
  },
  {
   "cell_type": "code",
   "execution_count": 39,
   "metadata": {},
   "outputs": [
    {
     "name": "stdout",
     "output_type": "stream",
     "text": [
      "False\n",
      "True\n",
      "6\n",
      "[1, 2, 3, 5, 6, 7, 8, 88, 5555]\n"
     ]
    }
   ],
   "source": [
    "# Dictionary Built-in Functions\n",
    "squares = {0: 0, 1: 1, 3: 9, 5: 25, 7: 49, 9: 81}\n",
    "\n",
    "# Output: False\n",
    "print(all(squares))\n",
    "\n",
    "# Output: True\n",
    "print(any(squares))\n",
    "\n",
    "# Output: 6\n",
    "print(len(squares))\n",
    "\n",
    "# Output: [0, 1, 3, 5, 7, 9]\n",
    "print(sorted({1,5,2,3,5,6,7,7,88,8,5555}))"
   ]
  },
  {
   "cell_type": "code",
   "execution_count": null,
   "metadata": {},
   "outputs": [],
   "source": []
  },
  {
   "cell_type": "code",
   "execution_count": 41,
   "metadata": {},
   "outputs": [
    {
     "ename": "TypeError",
     "evalue": "unhashable type: 'list'",
     "output_type": "error",
     "traceback": [
      "\u001b[0;31m---------------------------------------------------------------------------\u001b[0m",
      "\u001b[0;31mTypeError\u001b[0m                                 Traceback (most recent call last)",
      "\u001b[0;32m/tmp/ipykernel_32991/1320819878.py\u001b[0m in \u001b[0;36m<module>\u001b[0;34m\u001b[0m\n\u001b[0;32m----> 1\u001b[0;31m \u001b[0mprint\u001b[0m\u001b[0;34m(\u001b[0m\u001b[0;34m{\u001b[0m\u001b[0;34m[\u001b[0m\u001b[0;36m1\u001b[0m\u001b[0;34m,\u001b[0m\u001b[0;36m2\u001b[0m\u001b[0;34m,\u001b[0m\u001b[0;36m3\u001b[0m\u001b[0;34m]\u001b[0m\u001b[0;34m}\u001b[0m\u001b[0;34m)\u001b[0m\u001b[0;34m\u001b[0m\u001b[0;34m\u001b[0m\u001b[0m\n\u001b[0m",
      "\u001b[0;31mTypeError\u001b[0m: unhashable type: 'list'"
     ]
    }
   ],
   "source": [
    "print({[1,2,3]})"
   ]
  },
  {
   "cell_type": "code",
   "execution_count": 43,
   "metadata": {},
   "outputs": [
    {
     "name": "stdout",
     "output_type": "stream",
     "text": [
      "String variable hash value : -6527871970720949469\n"
     ]
    },
    {
     "ename": "TypeError",
     "evalue": "unhashable type: 'list'",
     "output_type": "error",
     "traceback": [
      "\u001b[0;31m---------------------------------------------------------------------------\u001b[0m",
      "\u001b[0;31mTypeError\u001b[0m                                 Traceback (most recent call last)",
      "\u001b[0;32m/tmp/ipykernel_32991/1310186216.py\u001b[0m in \u001b[0;36m<module>\u001b[0;34m\u001b[0m\n\u001b[1;32m      4\u001b[0m \u001b[0;34m\u001b[0m\u001b[0m\n\u001b[1;32m      5\u001b[0m \u001b[0mlist_variable\u001b[0m \u001b[0;34m=\u001b[0m \u001b[0;34m[\u001b[0m\u001b[0;36m1\u001b[0m\u001b[0;34m,\u001b[0m\u001b[0;36m2\u001b[0m\u001b[0;34m,\u001b[0m\u001b[0;36m3\u001b[0m\u001b[0;34m]\u001b[0m\u001b[0;34m\u001b[0m\u001b[0;34m\u001b[0m\u001b[0m\n\u001b[0;32m----> 6\u001b[0;31m \u001b[0mprint\u001b[0m\u001b[0;34m(\u001b[0m\u001b[0;34m'List variable hash value :'\u001b[0m \u001b[0;34m,\u001b[0m \u001b[0mhash\u001b[0m\u001b[0;34m(\u001b[0m\u001b[0mlist_variable\u001b[0m\u001b[0;34m)\u001b[0m\u001b[0;34m)\u001b[0m\u001b[0;34m\u001b[0m\u001b[0;34m\u001b[0m\u001b[0m\n\u001b[0m",
      "\u001b[0;31mTypeError\u001b[0m: unhashable type: 'list'"
     ]
    }
   ],
   "source": [
    "# String is hashable so hash function gives proper response\n",
    "string_variable = 'abc'\n",
    "print('String variable hash value :' , hash(string_variable))\n",
    "\n",
    "# list is unhashable so hash function does not gives proper response\n",
    "list_variable = [1,2,3]\n",
    "print('List variable hash value :' , hash(list_variable))"
   ]
  },
  {
   "cell_type": "code",
   "execution_count": 1,
   "metadata": {},
   "outputs": [],
   "source": [
    "# Example Class\n",
    "class Dinosours:\n",
    "    pass"
   ]
  },
  {
   "cell_type": "code",
   "execution_count": 5,
   "metadata": {},
   "outputs": [
    {
     "name": "stdout",
     "output_type": "stream",
     "text": [
      "Teeth : 40\n"
     ]
    }
   ],
   "source": [
    "class Dinosours:\n",
    "    # eyes is Static Variable\n",
    "    eyes = 2\n",
    "    def __init__(self , teeth):\n",
    "        self.teeth = teeth\n",
    "obj = Dinosours(40)\n",
    "# Teeth is Instance Variable\n",
    "print('Teeth :' , obj.teeth)"
   ]
  },
  {
   "cell_type": "code",
   "execution_count": 7,
   "metadata": {},
   "outputs": [
    {
     "name": "stdout",
     "output_type": "stream",
     "text": [
      "[33]\n"
     ]
    }
   ],
   "source": [
    "# A custom class can inherit methods from Built in class (Here we inherit list class)\n",
    "class C1(list):\n",
    "    pass\n",
    "obj = C1()\n",
    "obj.append(33)\n",
    "print(obj)"
   ]
  },
  {
   "cell_type": "code",
   "execution_count": 10,
   "metadata": {},
   "outputs": [],
   "source": [
    "import os\n",
    "\n",
    "\n",
    "class Sample(list):\n",
    "    def __init__(self):\n",
    "        print(os.getcwd())"
   ]
  },
  {
   "cell_type": "code",
   "execution_count": 12,
   "metadata": {},
   "outputs": [
    {
     "ename": "ModuleNotFoundError",
     "evalue": "No module named 'sample'",
     "output_type": "error",
     "traceback": [
      "\u001b[0;31m---------------------------------------------------------------------------\u001b[0m",
      "\u001b[0;31mModuleNotFoundError\u001b[0m                       Traceback (most recent call last)",
      "\u001b[0;32m/tmp/ipykernel_5437/3766929495.py\u001b[0m in \u001b[0;36m<module>\u001b[0;34m\u001b[0m\n\u001b[0;32m----> 1\u001b[0;31m \u001b[0;32mfrom\u001b[0m \u001b[0msample\u001b[0m \u001b[0;32mimport\u001b[0m \u001b[0mSample\u001b[0m\u001b[0;34m\u001b[0m\u001b[0;34m\u001b[0m\u001b[0m\n\u001b[0m\u001b[1;32m      2\u001b[0m \u001b[0ms\u001b[0m \u001b[0;34m=\u001b[0m \u001b[0mSample\u001b[0m\u001b[0;34m(\u001b[0m\u001b[0;34m)\u001b[0m\u001b[0;34m\u001b[0m\u001b[0;34m\u001b[0m\u001b[0m\n",
      "\u001b[0;31mModuleNotFoundError\u001b[0m: No module named 'sample'"
     ]
    }
   ],
   "source": [
    "from sample import Sample\n",
    "s = Sample()"
   ]
  },
  {
   "cell_type": "code",
   "execution_count": 13,
   "metadata": {},
   "outputs": [
    {
     "ename": "TypeError",
     "evalue": "unhashable type: 'list'",
     "output_type": "error",
     "traceback": [
      "\u001b[0;31m---------------------------------------------------------------------------\u001b[0m",
      "\u001b[0;31mTypeError\u001b[0m                                 Traceback (most recent call last)",
      "\u001b[0;32m/tmp/ipykernel_5437/1049415707.py\u001b[0m in \u001b[0;36m<module>\u001b[0;34m\u001b[0m\n\u001b[0;32m----> 1\u001b[0;31m \u001b[0;34m{\u001b[0m\u001b[0;34m[\u001b[0m\u001b[0;36m1\u001b[0m\u001b[0;34m,\u001b[0m\u001b[0;36m2\u001b[0m\u001b[0;34m]\u001b[0m\u001b[0;34m}\u001b[0m\u001b[0;34m\u001b[0m\u001b[0;34m\u001b[0m\u001b[0m\n\u001b[0m",
      "\u001b[0;31mTypeError\u001b[0m: unhashable type: 'list'"
     ]
    }
   ],
   "source": [
    "{[1,2]}"
   ]
  },
  {
   "cell_type": "code",
   "execution_count": 15,
   "metadata": {},
   "outputs": [
    {
     "data": {
      "text/plain": [
       "{None}"
      ]
     },
     "execution_count": 15,
     "metadata": {},
     "output_type": "execute_result"
    }
   ],
   "source": [
    "{None}"
   ]
  },
  {
   "cell_type": "code",
   "execution_count": 16,
   "metadata": {},
   "outputs": [
    {
     "data": {
      "text/plain": [
       "dict"
      ]
     },
     "execution_count": 16,
     "metadata": {},
     "output_type": "execute_result"
    }
   ],
   "source": [
    "type({})"
   ]
  },
  {
   "cell_type": "code",
   "execution_count": 19,
   "metadata": {},
   "outputs": [
    {
     "data": {
      "text/plain": [
       "set"
      ]
     },
     "execution_count": 19,
     "metadata": {},
     "output_type": "execute_result"
    }
   ],
   "source": [
    "type({1.2 , 3,5})"
   ]
  },
  {
   "cell_type": "code",
   "execution_count": 20,
   "metadata": {},
   "outputs": [
    {
     "data": {
      "text/plain": [
       "1152921504606846978"
      ]
     },
     "execution_count": 20,
     "metadata": {},
     "output_type": "execute_result"
    }
   ],
   "source": [
    "hash(2.5)"
   ]
  },
  {
   "cell_type": "code",
   "execution_count": 41,
   "metadata": {},
   "outputs": [
    {
     "name": "stdout",
     "output_type": "stream",
     "text": [
      "set1 : {1, 2, 3, 4}\n",
      "set2 : {3, 4, 5}\n",
      "Set 1 before adding element : {1, 2, 3, 4}\n",
      "Set 1 after adding element : {1, 2, 3, 4, 'new element'}\n",
      "Set 1 before deleting element : {1, 2, 3, 4, 'new element'}\n",
      "Set 1 after deleting \"new element\" element : {1, 2, 3, 4}\n",
      "Reading all set elements ...\n",
      "1\n",
      "2\n",
      "3\n",
      "4\n",
      "union set : {1, 2, 3, 4, 5}\n",
      "intersection set : {3, 4}\n",
      "difference set : {1, 2}\n",
      "symmetric difference set : {1, 2, 5}\n",
      "is_disjoint result : False\n",
      "Is set1 a subset of set2 : False\n",
      "Is set1 a superset of set2 : False\n"
     ]
    }
   ],
   "source": [
    "# Creating sets\n",
    "set1 = {1,1,1,1,2,3,4}\n",
    "print('set1 :',set1)\n",
    "set2 = {3,4,4,4,4,5}\n",
    "print('set2 :',set2)\n",
    "\n",
    "# Add elements to set\n",
    "print('Set 1 before adding element :' , set1)\n",
    "set1.add('new element')\n",
    "print('Set 1 after adding element :' , set1)\n",
    "\n",
    "# Delete elements of set\n",
    "# .remove() raises exception if deleted element not exist in set , \n",
    "# so we use .discard() here which does not raise any exceptions even if passed element is not part of set \n",
    "print('Set 1 before deleting element :' , set1)\n",
    "set1.discard('new element')\n",
    "print('Set 1 after deleting \"new element\" element :' , set1)\n",
    "\n",
    "# Reading all set elements\n",
    "print('Reading all set elements ...')\n",
    "for element in set1:\n",
    "    print(element , end = '\\n')\n",
    "\n",
    "# Set union\n",
    "union_set = set1 | set2\n",
    "print('union set :' , union_set)\n",
    "\n",
    "# Set Intersection\n",
    "intersection_set = set1 & set2\n",
    "print('intersection set :' , intersection_set)\n",
    "\n",
    "# Set difference\n",
    "difference_set = set1 - set2\n",
    "print('difference set :' , difference_set)\n",
    "\n",
    "# Set symmetric difference\n",
    "symmetric_difference_set = set1 ^ set2\n",
    "print('symmetric difference set :' , symmetric_difference_set)\n",
    "\n",
    "# isdisjoint() , Checks if two sets have any elements in common\n",
    "# returns True if no common elements , false otherwise\n",
    "is_disjoint = set1.isdisjoint(set2)\n",
    "print('is_disjoint result :' , is_disjoint)\n",
    "\n",
    "# issubset() , checks if one set is subset of another\n",
    "is_subset = set1.issubset(set2)\n",
    "print('Is set1 a subset of set2 :' , is_subset)\n",
    "\n",
    "# issuperset() , checks if one set is superset of another\n",
    "is_superset = set1.issuperset(set2)\n",
    "print('Is set1 a superset of set2 :' , is_superset)\n"
   ]
  },
  {
   "cell_type": "code",
   "execution_count": 2,
   "metadata": {},
   "outputs": [
    {
     "name": "stdout",
     "output_type": "stream",
     "text": [
      "frozenset({1, 2, 3, 4, 5})\n"
     ]
    },
    {
     "ename": "AttributeError",
     "evalue": "'frozenset' object has no attribute 'add'",
     "output_type": "error",
     "traceback": [
      "\u001b[0;31m---------------------------------------------------------------------------\u001b[0m",
      "\u001b[0;31mAttributeError\u001b[0m                            Traceback (most recent call last)",
      "\u001b[0;32m/tmp/ipykernel_123558/253481467.py\u001b[0m in \u001b[0;36m<module>\u001b[0;34m\u001b[0m\n\u001b[1;32m      6\u001b[0m \u001b[0mprint\u001b[0m\u001b[0;34m(\u001b[0m\u001b[0mf_set1\u001b[0m \u001b[0;34m|\u001b[0m \u001b[0mf_set2\u001b[0m\u001b[0;34m)\u001b[0m\u001b[0;34m\u001b[0m\u001b[0;34m\u001b[0m\u001b[0m\n\u001b[1;32m      7\u001b[0m \u001b[0;31m# Won't be able to add elements as frozenset is immutable\u001b[0m\u001b[0;34m\u001b[0m\u001b[0;34m\u001b[0m\u001b[0m\n\u001b[0;32m----> 8\u001b[0;31m \u001b[0mf_set1\u001b[0m\u001b[0;34m.\u001b[0m\u001b[0madd\u001b[0m\u001b[0;34m(\u001b[0m\u001b[0;36m3\u001b[0m\u001b[0;34m)\u001b[0m\u001b[0;34m\u001b[0m\u001b[0;34m\u001b[0m\u001b[0m\n\u001b[0m",
      "\u001b[0;31mAttributeError\u001b[0m: 'frozenset' object has no attribute 'add'"
     ]
    }
   ],
   "source": [
    "# Frozen Sets\n",
    "f_set1 = frozenset([1,2,3])\n",
    "f_set2 = frozenset([3,4,5])\n",
    "\n",
    "# Set union in frozenset\n",
    "print(f_set1 | f_set2)\n",
    "# Won't be able to add elements as frozenset is immutable\n",
    "f_set1.add(3)"
   ]
  },
  {
   "cell_type": "code",
   "execution_count": 45,
   "metadata": {},
   "outputs": [
    {
     "name": "stdout",
     "output_type": "stream",
     "text": [
      "[]\n"
     ]
    }
   ],
   "source": [
    "print([1,2] * -2)"
   ]
  },
  {
   "cell_type": "code",
   "execution_count": 48,
   "metadata": {},
   "outputs": [
    {
     "data": {
      "text/plain": [
       "[1, 2, 1, 2, 1, 2]"
      ]
     },
     "execution_count": 48,
     "metadata": {},
     "output_type": "execute_result"
    }
   ],
   "source": [
    "[1,2] * 3"
   ]
  }
 ],
 "metadata": {
  "interpreter": {
   "hash": "8fcae832899945c066d7d4c73ed987eb1ba1081328930f6357afc48f48ee0072"
  },
  "kernelspec": {
   "display_name": "Python 3.9.7 ('base')",
   "language": "python",
   "name": "python3"
  },
  "language_info": {
   "codemirror_mode": {
    "name": "ipython",
    "version": 3
   },
   "file_extension": ".py",
   "mimetype": "text/x-python",
   "name": "python",
   "nbconvert_exporter": "python",
   "pygments_lexer": "ipython3",
   "version": "3.9.7"
  },
  "orig_nbformat": 4
 },
 "nbformat": 4,
 "nbformat_minor": 2
}
