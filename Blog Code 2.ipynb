{
 "cells": [
  {
   "cell_type": "code",
   "execution_count": 5,
   "metadata": {},
   "outputs": [
    {
     "data": {
      "text/plain": [
       "{22, 121, 223}"
      ]
     },
     "execution_count": 5,
     "metadata": {},
     "output_type": "execute_result"
    }
   ],
   "source": [
    "s = set([121,22,223])\n",
    "s"
   ]
  },
  {
   "cell_type": "code",
   "execution_count": 6,
   "metadata": {},
   "outputs": [
    {
     "data": {
      "text/plain": [
       "[22, 121, 223]"
      ]
     },
     "execution_count": 6,
     "metadata": {},
     "output_type": "execute_result"
    }
   ],
   "source": [
    "sorted(s)"
   ]
  },
  {
   "cell_type": "code",
   "execution_count": 7,
   "metadata": {},
   "outputs": [
    {
     "ename": "TypeError",
     "evalue": "'set' object is not subscriptable",
     "output_type": "error",
     "traceback": [
      "\u001b[0;31m---------------------------------------------------------------------------\u001b[0m",
      "\u001b[0;31mTypeError\u001b[0m                                 Traceback (most recent call last)",
      "\u001b[0;32m/tmp/ipykernel_32991/878419959.py\u001b[0m in \u001b[0;36m<module>\u001b[0;34m\u001b[0m\n\u001b[0;32m----> 1\u001b[0;31m \u001b[0ms\u001b[0m\u001b[0;34m[\u001b[0m\u001b[0;36m1\u001b[0m\u001b[0;34m]\u001b[0m\u001b[0;34m\u001b[0m\u001b[0;34m\u001b[0m\u001b[0m\n\u001b[0m",
      "\u001b[0;31mTypeError\u001b[0m: 'set' object is not subscriptable"
     ]
    }
   ],
   "source": [
    "s[1]"
   ]
  },
  {
   "cell_type": "code",
   "execution_count": 8,
   "metadata": {},
   "outputs": [
    {
     "ename": "TypeError",
     "evalue": "'set' object is not reversible",
     "output_type": "error",
     "traceback": [
      "\u001b[0;31m---------------------------------------------------------------------------\u001b[0m",
      "\u001b[0;31mTypeError\u001b[0m                                 Traceback (most recent call last)",
      "\u001b[0;32m/tmp/ipykernel_32991/2792480667.py\u001b[0m in \u001b[0;36m<module>\u001b[0;34m\u001b[0m\n\u001b[0;32m----> 1\u001b[0;31m \u001b[0mreversed\u001b[0m\u001b[0;34m(\u001b[0m\u001b[0ms\u001b[0m\u001b[0;34m)\u001b[0m\u001b[0;34m\u001b[0m\u001b[0;34m\u001b[0m\u001b[0m\n\u001b[0m",
      "\u001b[0;31mTypeError\u001b[0m: 'set' object is not reversible"
     ]
    }
   ],
   "source": [
    "reversed(s)"
   ]
  },
  {
   "cell_type": "code",
   "execution_count": 10,
   "metadata": {},
   "outputs": [
    {
     "data": {
      "text/plain": [
       "[3, 2, 1]"
      ]
     },
     "execution_count": 10,
     "metadata": {},
     "output_type": "execute_result"
    }
   ],
   "source": [
    "list(reversed([1,2,3]))"
   ]
  },
  {
   "cell_type": "code",
   "execution_count": 11,
   "metadata": {},
   "outputs": [
    {
     "data": {
      "text/plain": [
       "True"
      ]
     },
     "execution_count": 11,
     "metadata": {},
     "output_type": "execute_result"
    }
   ],
   "source": [
    "l = [1,2,3]\n",
    "1 in l"
   ]
  },
  {
   "cell_type": "code",
   "execution_count": 14,
   "metadata": {},
   "outputs": [
    {
     "name": "stdout",
     "output_type": "stream",
     "text": [
      "Dictionary value after Creation : {}\n",
      "**************************************************\n",
      "Dictionary value after Updating : {'key 1': 'value 1', 'key 2': 'value 2'}\n",
      "**************************************************\n",
      "Getting Value of key 1 : value 1\n",
      "Dictionary value after Reading one value : {'key 1': 'value 1', 'key 2': 'value 2'}\n",
      "**************************************************\n",
      "Dictionary value after deletion of key 1 : {'key 1': 'value 1'}\n",
      "**************************************************\n"
     ]
    }
   ],
   "source": [
    "# Dictionary CRUD Activities\n",
    "\n",
    "# Creating empty dictionary\n",
    "dictionary_variable = {}\n",
    "print('Dictionary value after Creation :' , dictionary_variable)\n",
    "print('*' * 50)\n",
    "\n",
    "# Updating value\n",
    "dictionary_variable['key 1'] = 'value 1'\n",
    "dictionary_variable['key 2'] = 'value 2'\n",
    "print('Dictionary value after Updating :' , dictionary_variable)\n",
    "print('*' * 50)\n",
    "\n",
    "# Reading value\n",
    "print('Getting Value of key 1 :' , dictionary_variable['key 1'])\n",
    "print('Dictionary value after Reading one value :' , dictionary_variable)\n",
    "print('*' * 50)\n",
    "\n",
    "# Deleting in dictionary\n",
    "del dictionary_variable['key 2']\n",
    "print('Dictionary value after deletion of key 1 :' , dictionary_variable)\n",
    "print('*' * 50)"
   ]
  },
  {
   "cell_type": "code",
   "execution_count": 33,
   "metadata": {},
   "outputs": [
    {
     "name": "stdout",
     "output_type": "stream",
     "text": [
      "Dictionary value after Creation : {}\n",
      "**************************************************\n",
      "Dictionary value after Updating : {'key 1': 'value 1', 'key 2': 'value 2', 'key 3': 'value 3'}\n",
      "**************************************************\n",
      "Copied dictionary : {'key 1': 'value 1', 'key 2': 'value 2', 'key 3': 'value 3'}\n",
      "**************************************************\n",
      "Value got using get() : value 2\n",
      "**************************************************\n",
      "str() : {'key 1': 'value 1', 'key 2': 'value 2', 'key 3': 'value 3'}\n",
      "**************************************************\n",
      "Keys in dictionary : dict_keys(['key 1', 'key 2', 'key 3'])\n",
      "Items (Key value pair) in dictionary : dict_items([('key 1', 'value 1'), ('key 2', 'value 2'), ('key 3', 'value 3')])\n",
      "Values in dictionary : dict_values(['value 1', 'value 2', 'value 3'])\n",
      "**************************************************\n",
      "After update dictionary_variable : {'key 1': 'value 1', 'key 2': 'updated value 2', 'key 3': 'value 3'}\n",
      "After update dictionary_variable2 : {'key 2': 'updated value 2'}\n",
      "Dictionary value after setdefault() : {'key 1': 'value 1', 'key 2': 'updated value 2', 'key 3': 'value 3', 'New Key': 'New Value'}\n",
      "**************************************************\n",
      "fromkeys() new dictionary : {1: 'value', 2: 'value', 3: 'value'}\n",
      "**************************************************\n",
      "pop() : value 1\n",
      "popitem() : ('New Key', 'New Value')\n",
      "Dictionary value after Popping : {'key 2': 'updated value 2', 'key 3': 'value 3'}\n",
      "**************************************************\n"
     ]
    }
   ],
   "source": [
    "# Dictionary methods\n",
    "# Creating empty dictionary\n",
    "dictionary_variable = {}\n",
    "print('Dictionary value after Creation :' , dictionary_variable)\n",
    "print('*' * 50)\n",
    "\n",
    "\n",
    "# Updating value\n",
    "dictionary_variable['key 1'] = 'value 1'\n",
    "dictionary_variable['key 2'] = 'value 2'\n",
    "dictionary_variable['key 3'] = 'value 3'\n",
    "print('Dictionary value after Updating :' , dictionary_variable)\n",
    "print('*' * 50)\n",
    "\n",
    "\n",
    "# Copying dictionary\n",
    "copy_dict = dictionary_variable.copy()\n",
    "print('Copied dictionary :' , copy_dict)\n",
    "print('*' * 50)\n",
    "\n",
    "\n",
    "# Getting value using .get()\n",
    "value = dictionary_variable.get('key 2')\n",
    "print('Value got using get() :' , value)\n",
    "print('*' * 50)\n",
    "\n",
    "\n",
    "# str()\n",
    "str_value = str(dictionary_variable)\n",
    "print('str() :' , str_value)\n",
    "print('*' * 50)\n",
    "\n",
    "\n",
    "# keys() , items() , values()\n",
    "keys = dictionary_variable.keys()\n",
    "print('Keys in dictionary :' , keys)\n",
    "items = dictionary_variable.items()\n",
    "print('Items (Key value pair) in dictionary :' , items)\n",
    "values = dictionary_variable.values()\n",
    "print('Values in dictionary :' , values)\n",
    "print('*' * 50)\n",
    "\n",
    "\n",
    "# update() , setdefault()\n",
    "dictionary_variable2 = {'key 2' : 'updated value 2'}\n",
    "dictionary_variable.update(dictionary_variable2)\n",
    "print('After update dictionary_variable :' , dictionary_variable)\n",
    "print('After update dictionary_variable2 :' , dictionary_variable2)\n",
    "# setdefault() returns value if key is already present if key is not present then it inserts key with value\n",
    "a = dictionary_variable.setdefault('New Key' , 'New Value')\n",
    "print('Dictionary value after setdefault() :' , dictionary_variable)\n",
    "print('*' * 50)\n",
    "\n",
    "\n",
    "# fromkeys() \n",
    "new_dict = dict.fromkeys([1,2,3] , 'value')\n",
    "print('fromkeys() new dictionary :' , new_dict)\n",
    "print('*' * 50)\n",
    "\n",
    "\n",
    "# pop and popitem()\n",
    "pop_value = dictionary_variable.pop('key 1')\n",
    "print('pop() :' , pop_value)\n",
    "popitem_value = dictionary_variable.popitem()\n",
    "print('popitem() :' , popitem_value)\n",
    "print('Dictionary value after Popping :' , dictionary_variable)\n",
    "print('*' * 50)"
   ]
  },
  {
   "cell_type": "code",
   "execution_count": null,
   "metadata": {},
   "outputs": [],
   "source": []
  },
  {
   "cell_type": "code",
   "execution_count": null,
   "metadata": {},
   "outputs": [],
   "source": []
  },
  {
   "cell_type": "code",
   "execution_count": null,
   "metadata": {},
   "outputs": [],
   "source": []
  },
  {
   "cell_type": "code",
   "execution_count": null,
   "metadata": {},
   "outputs": [],
   "source": []
  },
  {
   "cell_type": "code",
   "execution_count": null,
   "metadata": {},
   "outputs": [],
   "source": []
  },
  {
   "cell_type": "code",
   "execution_count": null,
   "metadata": {},
   "outputs": [],
   "source": []
  },
  {
   "cell_type": "code",
   "execution_count": null,
   "metadata": {},
   "outputs": [],
   "source": []
  },
  {
   "cell_type": "code",
   "execution_count": null,
   "metadata": {},
   "outputs": [],
   "source": []
  },
  {
   "cell_type": "code",
   "execution_count": null,
   "metadata": {},
   "outputs": [],
   "source": []
  },
  {
   "cell_type": "code",
   "execution_count": null,
   "metadata": {},
   "outputs": [],
   "source": []
  },
  {
   "cell_type": "code",
   "execution_count": null,
   "metadata": {},
   "outputs": [],
   "source": []
  }
 ],
 "metadata": {
  "interpreter": {
   "hash": "8fcae832899945c066d7d4c73ed987eb1ba1081328930f6357afc48f48ee0072"
  },
  "kernelspec": {
   "display_name": "Python 3.9.7 ('base')",
   "language": "python",
   "name": "python3"
  },
  "language_info": {
   "codemirror_mode": {
    "name": "ipython",
    "version": 3
   },
   "file_extension": ".py",
   "mimetype": "text/x-python",
   "name": "python",
   "nbconvert_exporter": "python",
   "pygments_lexer": "ipython3",
   "version": "3.9.7"
  },
  "orig_nbformat": 4
 },
 "nbformat": 4,
 "nbformat_minor": 2
}
