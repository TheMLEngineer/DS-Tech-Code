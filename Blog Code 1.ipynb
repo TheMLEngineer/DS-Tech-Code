{
 "cells": [
  {
   "cell_type": "code",
   "execution_count": 2,
   "metadata": {},
   "outputs": [],
   "source": [
    "file_pointer = open('test_text_file.txt' , 'w+')\n",
    "print('Example String' , file=file_pointer)\n",
    "file_pointer.close()"
   ]
  },
  {
   "cell_type": "code",
   "execution_count": 3,
   "metadata": {},
   "outputs": [
    {
     "ename": "UnsupportedOperation",
     "evalue": "not writable",
     "output_type": "error",
     "traceback": [
      "\u001b[0;31m---------------------------------------------------------------------------\u001b[0m",
      "\u001b[0;31mUnsupportedOperation\u001b[0m                      Traceback (most recent call last)",
      "\u001b[0;32m/tmp/ipykernel_32696/2594189138.py\u001b[0m in \u001b[0;36m<module>\u001b[0;34m\u001b[0m\n\u001b[1;32m      1\u001b[0m \u001b[0mfile_pointer\u001b[0m \u001b[0;34m=\u001b[0m \u001b[0mopen\u001b[0m\u001b[0;34m(\u001b[0m\u001b[0;34m'test_text_file.txt'\u001b[0m \u001b[0;34m,\u001b[0m \u001b[0;34m'r'\u001b[0m\u001b[0;34m)\u001b[0m\u001b[0;34m\u001b[0m\u001b[0;34m\u001b[0m\u001b[0m\n\u001b[0;32m----> 2\u001b[0;31m \u001b[0mprint\u001b[0m\u001b[0;34m(\u001b[0m\u001b[0;34m'Example String'\u001b[0m \u001b[0;34m,\u001b[0m \u001b[0mfile\u001b[0m\u001b[0;34m=\u001b[0m\u001b[0mfile_pointer\u001b[0m\u001b[0;34m)\u001b[0m\u001b[0;34m\u001b[0m\u001b[0;34m\u001b[0m\u001b[0m\n\u001b[0m\u001b[1;32m      3\u001b[0m \u001b[0mfile_pointer\u001b[0m\u001b[0;34m.\u001b[0m\u001b[0mclose\u001b[0m\u001b[0;34m(\u001b[0m\u001b[0;34m)\u001b[0m\u001b[0;34m\u001b[0m\u001b[0;34m\u001b[0m\u001b[0m\n",
      "\u001b[0;31mUnsupportedOperation\u001b[0m: not writable"
     ]
    }
   ],
   "source": [
    "file_pointer = open('test_text_file.txt' , 'r')\n",
    "print('Example String' , file=file_pointer)\n",
    "file_pointer.close()"
   ]
  },
  {
   "cell_type": "code",
   "execution_count": 2,
   "metadata": {},
   "outputs": [
    {
     "name": "stdout",
     "output_type": "stream",
     "text": [
      "This is my pickled object:\n",
      "b'\\x80\\x04\\x95!\\x00\\x00\\x00\\x00\\x00\\x00\\x00\\x8c\\x08__main__\\x94\\x8c\\rexample_class\\x94\\x93\\x94)\\x81\\x94.'\n",
      "\n",
      "This is a_dict of the unpickled object:\n",
      "<__main__.example_class object at 0x7efe39ca9e80>\n",
      "\n"
     ]
    }
   ],
   "source": [
    "# pickling.py\n",
    "import pickle\n",
    "\n",
    "class example_class:\n",
    "    a_number = 35\n",
    "    a_string = \"hey\"\n",
    "    a_list = [1, 2, 3]\n",
    "    a_dict = {\"first\": \"a\", \"second\": 2, \"third\": [1, 2, 3]}\n",
    "    a_tuple = (22, 23)\n",
    "\n",
    "my_object = example_class()\n",
    "\n",
    "my_pickled_object = pickle.dumps(my_object)  # Pickling the object\n",
    "print(f\"This is my pickled object:\\n{my_pickled_object}\\n\")\n",
    "\n",
    "my_object.a_dict = None\n",
    "\n",
    "my_unpickled_object = pickle.loads(my_pickled_object)  # Unpickling the object\n",
    "print(f\"This is a_dict of the unpickled object:\\n{my_unpickled_object}\\n\")\n"
   ]
  },
  {
   "cell_type": "code",
   "execution_count": 5,
   "metadata": {},
   "outputs": [
    {
     "name": "stdout",
     "output_type": "stream",
     "text": [
      "This is the Pickled object : b'\\x80\\x04\\x95;\\x00\\x00\\x00\\x00\\x00\\x00\\x00}\\x94(\\x8c\\x05Key 1\\x94\\x8c\\x07Value 1\\x94\\x8c\\x05Key 2\\x94\\x8c\\x07Value 2\\x94\\x8c\\x05Key 3\\x94\\x8c\\x07Value 3\\x94u.'\n",
      "**************************************************\n",
      "This is the Unpickled object : {'Key 1': 'Value 1', 'Key 2': 'Value 2', 'Key 3': 'Value 3'}\n",
      "**************************************************\n"
     ]
    }
   ],
   "source": [
    "import pickle\n",
    "dictionary = {'Key 1' : 'Value 1' , 'Key 2' : 'Value 2' , 'Key 3' : 'Value 3'}\n",
    "\n",
    "# Serialization , Object to Byte stream\n",
    "pickled_object = pickle.dumps(dictionary)\n",
    "print('This is the Pickled object :' , pickled_object)\n",
    "print('*' * 50)\n",
    "\n",
    "# Deserialization , Byte stream to Object\n",
    "unpickled_object = pickle.loads(pickled_object)\n",
    "print('This is the Unpickled object :' , unpickled_object)\n",
    "print('*' * 50)"
   ]
  },
  {
   "cell_type": "code",
   "execution_count": 6,
   "metadata": {},
   "outputs": [
    {
     "ename": "IndentationError",
     "evalue": "unexpected indent (1285203013.py, line 2)",
     "output_type": "error",
     "traceback": [
      "\u001b[0;36m  File \u001b[0;32m\"/tmp/ipykernel_37742/1285203013.py\"\u001b[0;36m, line \u001b[0;32m2\u001b[0m\n\u001b[0;31m    print('Hi')\u001b[0m\n\u001b[0m    ^\u001b[0m\n\u001b[0;31mIndentationError\u001b[0m\u001b[0;31m:\u001b[0m unexpected indent\n"
     ]
    }
   ],
   "source": [
    "# I added a space before print() , so this causes syntax error\n",
    " print('Hi')"
   ]
  },
  {
   "cell_type": "code",
   "execution_count": 8,
   "metadata": {},
   "outputs": [
    {
     "name": "stdout",
     "output_type": "stream",
     "text": [
      "123\n"
     ]
    },
    {
     "ename": "FileNotFoundError",
     "evalue": "[Errno 2] No such file or directory: 'test.txt'",
     "output_type": "error",
     "traceback": [
      "\u001b[0;31m---------------------------------------------------------------------------\u001b[0m",
      "\u001b[0;31mFileNotFoundError\u001b[0m                         Traceback (most recent call last)",
      "\u001b[0;32m/tmp/ipykernel_37742/3668138405.py\u001b[0m in \u001b[0;36m<module>\u001b[0;34m\u001b[0m\n\u001b[1;32m      6\u001b[0m \u001b[0;31m# After syntax check python code is executed line by line and till any error or exception occurs in say line 3\u001b[0m\u001b[0;34m\u001b[0m\u001b[0;34m\u001b[0m\u001b[0m\n\u001b[1;32m      7\u001b[0m \u001b[0;31m# All code till line 2 will be executed successfully before program stops execution\u001b[0m\u001b[0;34m\u001b[0m\u001b[0;34m\u001b[0m\u001b[0m\n\u001b[0;32m----> 8\u001b[0;31m \u001b[0mfile_pointer\u001b[0m \u001b[0;34m=\u001b[0m \u001b[0mopen\u001b[0m\u001b[0;34m(\u001b[0m\u001b[0;34m'test.txt'\u001b[0m \u001b[0;34m,\u001b[0m \u001b[0;34m'r'\u001b[0m\u001b[0;34m)\u001b[0m\u001b[0;34m\u001b[0m\u001b[0;34m\u001b[0m\u001b[0m\n\u001b[0m\u001b[1;32m      9\u001b[0m \u001b[0mfile_content\u001b[0m \u001b[0;34m=\u001b[0m \u001b[0mfile_pointer\u001b[0m\u001b[0;34m.\u001b[0m\u001b[0mread\u001b[0m\u001b[0;34m(\u001b[0m\u001b[0;34m)\u001b[0m\u001b[0;34m\u001b[0m\u001b[0;34m\u001b[0m\u001b[0m\n\u001b[1;32m     10\u001b[0m \u001b[0mfile_pointer\u001b[0m\u001b[0;34m.\u001b[0m\u001b[0mclose\u001b[0m\u001b[0;34m(\u001b[0m\u001b[0;34m)\u001b[0m\u001b[0;34m\u001b[0m\u001b[0;34m\u001b[0m\u001b[0m\n",
      "\u001b[0;31mFileNotFoundError\u001b[0m: [Errno 2] No such file or directory: 'test.txt'"
     ]
    }
   ],
   "source": [
    "# You see here the variable is printed in command line\n",
    "# After syntax check python code is executed line by line and till any error or exception occurs in say line 5\n",
    "# All code till line 4 will be executed successfully before program stops execution \n",
    "variable = '123'\n",
    "print(variable)\n",
    "\n",
    "# What if I try to access a file that does not exist ?\n",
    "\n",
    "file_pointer = open('test.txt' , 'r')\n",
    "file_content = file_pointer.read()\n",
    "file_pointer.close()"
   ]
  },
  {
   "cell_type": "code",
   "execution_count": 11,
   "metadata": {},
   "outputs": [
    {
     "ename": "CustomError",
     "evalue": " A Custom error is raised",
     "output_type": "error",
     "traceback": [
      "\u001b[0;31m---------------------------------------------------------------------------\u001b[0m",
      "\u001b[0;31mCustomError\u001b[0m                               Traceback (most recent call last)",
      "\u001b[0;32m/tmp/ipykernel_37742/492115042.py\u001b[0m in \u001b[0;36m<module>\u001b[0;34m\u001b[0m\n\u001b[1;32m      5\u001b[0m         \u001b[0;32mreturn\u001b[0m \u001b[0;34m' A Custom error is raised'\u001b[0m\u001b[0;34m\u001b[0m\u001b[0;34m\u001b[0m\u001b[0m\n\u001b[1;32m      6\u001b[0m \u001b[0;34m\u001b[0m\u001b[0m\n\u001b[0;32m----> 7\u001b[0;31m \u001b[0;32mraise\u001b[0m \u001b[0mCustomError\u001b[0m\u001b[0;34m\u001b[0m\u001b[0;34m\u001b[0m\u001b[0m\n\u001b[0m",
      "\u001b[0;31mCustomError\u001b[0m:  A Custom error is raised"
     ]
    }
   ],
   "source": [
    "# Custom Error\n",
    "class CustomError(BaseException):\n",
    "    ''' This is a custom error class '''\n",
    "    def __str__(self):\n",
    "        return ' A Custom error is raised'\n",
    "\n",
    "raise CustomError\n"
   ]
  },
  {
   "cell_type": "code",
   "execution_count": 13,
   "metadata": {},
   "outputs": [
    {
     "ename": "CustomException",
     "evalue": " A Custom exception is raised",
     "output_type": "error",
     "traceback": [
      "\u001b[0;31m---------------------------------------------------------------------------\u001b[0m",
      "\u001b[0;31mCustomException\u001b[0m                           Traceback (most recent call last)",
      "\u001b[0;32m/tmp/ipykernel_37742/3176636348.py\u001b[0m in \u001b[0;36m<module>\u001b[0;34m\u001b[0m\n\u001b[1;32m      5\u001b[0m         \u001b[0;32mreturn\u001b[0m \u001b[0;34m' A Custom exception is raised'\u001b[0m\u001b[0;34m\u001b[0m\u001b[0;34m\u001b[0m\u001b[0m\n\u001b[1;32m      6\u001b[0m \u001b[0;34m\u001b[0m\u001b[0m\n\u001b[0;32m----> 7\u001b[0;31m \u001b[0;32mraise\u001b[0m \u001b[0mCustomException\u001b[0m\u001b[0;34m\u001b[0m\u001b[0;34m\u001b[0m\u001b[0m\n\u001b[0m",
      "\u001b[0;31mCustomException\u001b[0m:  A Custom exception is raised"
     ]
    }
   ],
   "source": [
    "# Custom Exception\n",
    "class CustomException(Exception):\n",
    "    ''' This is a custom exception class '''\n",
    "    def __str__(self):\n",
    "        return ' A Custom exception is raised'\n",
    "\n",
    "raise CustomException"
   ]
  },
  {
   "cell_type": "code",
   "execution_count": 19,
   "metadata": {},
   "outputs": [
    {
     "name": "stdout",
     "output_type": "stream",
     "text": [
      "The current variable we are processing is : 2\n",
      "2.5\n",
      "The current variable we are processing is : 1\n",
      "5.0\n",
      "The current variable we are processing is : 0\n",
      "Some exception has occured , These are the Exception details : division by zero\n",
      "This stament is printed no matter what\n"
     ]
    }
   ],
   "source": [
    "list_variable = [2 , 1 , 0]\n",
    "try:\n",
    "    # We go through each element of list\n",
    "    for element in list_variable:\n",
    "        print('The current variable we are processing is :' , element)\n",
    "        # when we process 0 , it raises zero division error\n",
    "        print(5 / element)\n",
    "except Exception as e:\n",
    "    print('Some exception has occured , These are the Exception details :' , e)\n",
    "else:\n",
    "    print('No exception has occured while processing list')\n",
    "finally:\n",
    "    print('This stament is printed no matter what')\n"
   ]
  },
  {
   "cell_type": "code",
   "execution_count": 32,
   "metadata": {},
   "outputs": [
    {
     "name": "stdout",
     "output_type": "stream",
     "text": [
      "Printting Hi\n",
      "Code executed well\n",
      "This stament is printed no matter we got error / exception\n",
      "**************************************************\n",
      "This Exception has Occured : <class 'ZeroDivisionError'>\n",
      "This stament is printed no matter we got error / exception\n"
     ]
    }
   ],
   "source": [
    "import sys\n",
    "# First Code Logic with no Erros\n",
    "try:\n",
    "  print(\"Printting Hi\")\n",
    "except:\n",
    "  print(\"Exception Occured\")\n",
    "else:\n",
    "  print(\"Code executed well\") \n",
    "finally:\n",
    "    print('This stament is printed no matter we got error / exception')\n",
    "print('*' * 50)\n",
    "\n",
    "# Second code logic with Errors\n",
    "try:\n",
    "  raise ZeroDivisionError\n",
    "except:\n",
    "  print(\"This Exception has Occured :\" , sys.exc_info()[0])\n",
    "else:\n",
    "  print(\"Code executed well\") \n",
    "finally:\n",
    "    print('This stament is printed no matter we got error / exception')"
   ]
  },
  {
   "cell_type": "code",
   "execution_count": 21,
   "metadata": {},
   "outputs": [
    {
     "name": "stdout",
     "output_type": "stream",
     "text": [
      "Something went wrong\n",
      "This stament is printed no matter what\n"
     ]
    }
   ],
   "source": []
  },
  {
   "cell_type": "code",
   "execution_count": null,
   "metadata": {},
   "outputs": [],
   "source": []
  }
 ],
 "metadata": {
  "interpreter": {
   "hash": "8fcae832899945c066d7d4c73ed987eb1ba1081328930f6357afc48f48ee0072"
  },
  "kernelspec": {
   "display_name": "Python 3.9.7 ('base')",
   "language": "python",
   "name": "python3"
  },
  "language_info": {
   "codemirror_mode": {
    "name": "ipython",
    "version": 3
   },
   "file_extension": ".py",
   "mimetype": "text/x-python",
   "name": "python",
   "nbconvert_exporter": "python",
   "pygments_lexer": "ipython3",
   "version": "3.9.7"
  },
  "orig_nbformat": 4
 },
 "nbformat": 4,
 "nbformat_minor": 2
}
