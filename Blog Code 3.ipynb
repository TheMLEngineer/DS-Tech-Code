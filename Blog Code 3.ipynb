{
 "cells": [
  {
   "cell_type": "code",
   "execution_count": 18,
   "metadata": {},
   "outputs": [
    {
     "name": "stdout",
     "output_type": "stream",
     "text": [
      "Name Of OS Module: posix\n",
      "Dir name \"dir\" is created ...\n",
      "Current Working Directory : /home/karthik/.local/share/Trash/files/dir/dir/dir/dir/dir\n",
      "After changing to dir , Current Working Directory : /home/karthik/.local/share/Trash/files/dir/dir/dir/dir/dir/dir\n"
     ]
    },
    {
     "ename": "FileNotFoundError",
     "evalue": "[Errno 2] No such file or directory: 'dir'",
     "output_type": "error",
     "traceback": [
      "\u001b[0;31m---------------------------------------------------------------------------\u001b[0m",
      "\u001b[0;31mFileNotFoundError\u001b[0m                         Traceback (most recent call last)",
      "\u001b[0;32m/tmp/ipykernel_82374/1574229223.py\u001b[0m in \u001b[0;36m<module>\u001b[0;34m\u001b[0m\n\u001b[1;32m     21\u001b[0m \u001b[0;34m\u001b[0m\u001b[0m\n\u001b[1;32m     22\u001b[0m \u001b[0;31m# Delete dir\u001b[0m\u001b[0;34m\u001b[0m\u001b[0;34m\u001b[0m\u001b[0m\n\u001b[0;32m---> 23\u001b[0;31m \u001b[0mos\u001b[0m\u001b[0;34m.\u001b[0m\u001b[0mrmdir\u001b[0m\u001b[0;34m(\u001b[0m\u001b[0;34m'dir'\u001b[0m\u001b[0;34m)\u001b[0m\u001b[0;34m\u001b[0m\u001b[0;34m\u001b[0m\u001b[0m\n\u001b[0m\u001b[1;32m     24\u001b[0m \u001b[0mprint\u001b[0m\u001b[0;34m(\u001b[0m\u001b[0;34m'Deleted dir folder'\u001b[0m\u001b[0;34m)\u001b[0m\u001b[0;34m\u001b[0m\u001b[0;34m\u001b[0m\u001b[0m\n\u001b[1;32m     25\u001b[0m \u001b[0;34m\u001b[0m\u001b[0m\n",
      "\u001b[0;31mFileNotFoundError\u001b[0m: [Errno 2] No such file or directory: 'dir'"
     ]
    }
   ],
   "source": [
    "import os\n",
    "\n",
    "# Name of OS Module\n",
    "print('Name Of OS Module:' , os.name)\n",
    "\n",
    "# Checking if dir exist\n",
    "if os.path.exists('dir'):\n",
    "    print('dir folder already exist ...')\n",
    "else:\n",
    "    # If does not exist Creating New Directory\n",
    "    os.mkdir('dir')\n",
    "    print('Dir name \"dir\" is created ...')\n",
    "\n",
    "# Get current working directory\n",
    "print('Current Working Directory :' , os.getcwd())\n",
    "\n",
    "# Change Directory\n",
    "# As we already created 'dir' directory , will switch there\n",
    "os.chdir('dir')\n",
    "print('After changing to dir , Current Working Directory :' , os.getcwd())\n",
    "\n",
    "# Delete dir\n",
    "os.rmdir('dir')\n",
    "print('Deleted dir folder')\n",
    "\n",
    "# Create file\n",
    "with open('text.txt' , 'w') as f:\n",
    "    pass\n",
    "# Change File Name\n",
    "print('Changing File Name ...')\n",
    "os.rename('text.txt' , 'new_text.txt')\n",
    "\n",
    "\n",
    "# Folder content    \n",
    "content = os.listdir()\n",
    "print('Files and Directories in Current Folder :' , content)\n",
    "\n"
   ]
  },
  {
   "cell_type": "code",
   "execution_count": 4,
   "metadata": {},
   "outputs": [],
   "source": [
    "# If we use with , no need to manually close file pointer\n",
    "file_pointer =  open('new_file.txt' , 'w+')\n",
    "# Writing in file\n",
    "# file_pointer.write('Python is a great language')\n",
    "print('File content line 1' , file = file_pointer)"
   ]
  },
  {
   "cell_type": "code",
   "execution_count": 13,
   "metadata": {},
   "outputs": [
    {
     "name": "stdout",
     "output_type": "stream",
     "text": [
      "Creating String ...\n",
      "Reading String ... \n",
      "  This is an example string  \n",
      "Updated String Is : stringexampleanisThis\n",
      "Error occured while deleting part of string : 'str' object doesn't support item deletion\n"
     ]
    }
   ],
   "source": [
    "# Strings\n",
    "# CRUD on Strings\n",
    "\n",
    "# Created String\n",
    "print('Creating String ...')\n",
    "string = '  This is an example string  '\n",
    "\n",
    "# Reading String\n",
    "print(\"Reading String ... \")\n",
    "for character in string:\n",
    "    print(character , end = '')\n",
    "\n",
    "# Updating String Element\n",
    "# As String is immutable we use a one / combination of these methods to update string\n",
    "# Slicing , Copying , Indexing , Built in string methods\n",
    "words = string.split(' ')\n",
    "new_string = ''.join(words[::-1])\n",
    "print(f'\\nUpdated String Is : {new_string}')\n",
    "\n",
    "# Deleting String\n",
    "# If tried to delete part of string / one character from string it raises error as string is immutable\n",
    "try:\n",
    "    del new_string[0]\n",
    "except Exception as e:\n",
    "    print('Error occured while deleting part of string :' , e)\n",
    "\n",
    "# However we can delete whole string variable\n",
    "del new_string"
   ]
  },
  {
   "cell_type": "code",
   "execution_count": 47,
   "metadata": {},
   "outputs": [
    {
     "name": "stdout",
     "output_type": "stream",
     "text": [
      "Actual String : the quick brown FOX jumps over the lazy dog   \n",
      "Capitalized String : The quick brown fox jumps over the lazy dog   \n",
      "Lower Case String : the quick brown fox jumps over the lazy dog   \n",
      "Upper Case String : THE QUICK BROWN FOX JUMPS OVER THE LAZY DOG   \n",
      "Swapping Case Of String : THE QUICK BROWN fox JUMPS OVER THE LAZY DOG   \n",
      "Title Case : The Quick Brown Fox Jumps Over The Lazy Dog   \n",
      "Index of value \"q\" : 4\n",
      "Replacing \"s\" with \"sss\" : the quick brown FOX jumpsss over the lazy dog   \n",
      "Is string alphanumeric ?  False\n",
      "Is string Alpha ?  False\n",
      "Is string digit ?  False\n",
      "Is the string a valid identifier ?  False\n",
      "Is string already in lower case ?  False\n",
      "Is string already in upper case ?  False\n",
      "Is string printable ?  True\n",
      "Centerred String : the quick brown FOX jumps over the lazy dog   \n",
      "Stripped of spaces : the quick brown FOX jumps over the lazy dog\n",
      "Joined String : t\th\te\t \tq\tu\ti\tc\tk\t \tb\tr\to\tw\tn\t \tF\tO\tX\t \tj\tu\tm\tp\ts\t \to\tv\te\tr\t \tt\th\te\t \tl\ta\tz\ty\t \td\to\tg\n",
      "Using Partition : ('the quick brown FOX jumps over the lazy dog', '', '')\n",
      "Using Split : ['the', 'quick', 'brown', 'FOX', 'jumps', 'over', 'the', 'lazy', 'dog']\n",
      "Number of times \"j\" occur in string : 1\n",
      "Does string endswith \"a\" ?  False\n",
      "Does string startswith \"t\" ?  True\n"
     ]
    }
   ],
   "source": [
    "# String Methods\n",
    "s = 'the quick brown FOX jumps over the lazy dog   '\n",
    "print('Actual String :' , s)\n",
    "print('Capitalized String :' , s.capitalize())\n",
    "print('Lower Case String :' , s.lower())\n",
    "print('Upper Case String :' , s.upper() )\n",
    "print('Swapping Case Of String :' , s.swapcase())\n",
    "print('Title Case :' , s.title())\n",
    "\n",
    "# Searching and replacing\n",
    "print('Index of value \"q\" :' , s.find('q'))\n",
    "print('Replacing \"s\" with \"sss\" :' , s.replace('s' , 'sss'))\n",
    "\n",
    "# Checking types\n",
    "print('Is string alphanumeric ? ', s.isalnum())\n",
    "print('Is string Alpha ? ' , s.isalpha())\n",
    "print('Is string digit ? ' , s.isdigit())\n",
    "print('Is the string a valid identifier ? ' , s.isidentifier())\n",
    "print('Is string already in lower case ? ' ,s.islower())\n",
    "print('Is string already in upper case ? ' ,s.isupper())\n",
    "print('Is string printable ? ' , s.isprintable())\n",
    "\n",
    "# Formatting\n",
    "# Returning a String in a centered field\n",
    "print('Centerred String :' , s.center(10))\n",
    "print('Stripped of spaces :' , s.strip())\n",
    "s = s.strip()\n",
    "\n",
    "# Joining\n",
    "l = list(s)\n",
    "joined_string = '\\t'.join(l)\n",
    "print('Joined String :' , joined_string)\n",
    "\n",
    "# Split string\n",
    "print('Using Partition :' , s.partition('fox'))\n",
    "print('Using Split :' , s.split(' '))\n",
    "\n",
    "# Counting\n",
    "print('Number of times \"j\" occur in string :' , s.count('j'))\n",
    "print('Does string endswith \"a\" ? ' , s.endswith('a'))\n",
    "print('Does string startswith \"t\" ? ' , s.startswith('t'))"
   ]
  },
  {
   "cell_type": "code",
   "execution_count": 18,
   "metadata": {},
   "outputs": [
    {
     "data": {
      "text/plain": [
       "' the quick brown fox jumps over the lazy dog   '"
      ]
     },
     "execution_count": 18,
     "metadata": {},
     "output_type": "execute_result"
    }
   ],
   "source": [
    "s"
   ]
  },
  {
   "cell_type": "code",
   "execution_count": null,
   "metadata": {},
   "outputs": [],
   "source": []
  },
  {
   "cell_type": "code",
   "execution_count": 3,
   "metadata": {},
   "outputs": [
    {
     "name": "stdout",
     "output_type": "stream",
     "text": [
      "type of variable : <class 'int'>\n",
      "Changing int to float : 3.0\n",
      "Changing into to complex : (3+0j)\n",
      "123\n",
      "27 10 18\n"
     ]
    }
   ],
   "source": [
    "# Integer\n",
    "variable = 3\n",
    "\n",
    "print('type of variable :' , type(variable))\n",
    "\n",
    "# Type conversion\n",
    "print('Changing int to float :' , float(variable))\n",
    "print('Changing into to complex :' , complex(variable))\n",
    "\n",
    "# underscore can be used as Delimter to integer\n",
    "variable = 1_2_3\n",
    "print(variable)\n",
    "\n",
    "# Binary , Octals and Hexadecimals\n",
    "binary = 0b11011\n",
    "octal = 0o12\n",
    "hexadecimal = 0x12\n",
    "\n",
    "print(binary , octal , hexadecimal)"
   ]
  },
  {
   "cell_type": "code",
   "execution_count": 5,
   "metadata": {},
   "outputs": [
    {
     "data": {
      "text/plain": [
       "9223372036854775807"
      ]
     },
     "execution_count": 5,
     "metadata": {},
     "output_type": "execute_result"
    }
   ],
   "source": [
    "import sys\n",
    "maximum_value_of_integer = sys.maxsize"
   ]
  },
  {
   "cell_type": "code",
   "execution_count": 8,
   "metadata": {},
   "outputs": [
    {
     "name": "stdout",
     "output_type": "stream",
     "text": [
      "type of variable : <class 'float'>\n",
      "Changing float to int : 3\n",
      "Changing float to complex : (3.3+0j)\n",
      "32.35\n",
      "nan\n",
      "inf\n"
     ]
    }
   ],
   "source": [
    "# Float\n",
    "variable = 3.3\n",
    "\n",
    "print('type of variable :' , type(variable))\n",
    "\n",
    "# Type conversion\n",
    "print('Changing float to int :' , int(variable))\n",
    "print('Changing float to complex :' , complex(variable))\n",
    "\n",
    "# underscore can be used as Delimter to Float also\n",
    "variable = 3_2.3_5\n",
    "print(variable)\n",
    "\n",
    "# inf and nan\n",
    "print(float('NaN'))\n",
    "print(float('inf'))"
   ]
  },
  {
   "cell_type": "code",
   "execution_count": 11,
   "metadata": {},
   "outputs": [
    {
     "name": "stdout",
     "output_type": "stream",
     "text": [
      "type of variable : <class 'complex'>\n",
      "Real part of variable : 3.0\n",
      "Imaginary part of variable : 0.0\n",
      "(32+35j)\n"
     ]
    }
   ],
   "source": [
    "# Complex\n",
    "variable = 3 + 0j\n",
    "\n",
    "print('type of variable :' , type(variable))\n",
    "\n",
    "print('Real part of variable :' , variable.real)\n",
    "print('Imaginary part of variable :' , variable.imag)\n",
    "\n",
    "\n",
    "# Type conversion\n",
    "# We can’t convert a complex number to int or float directly\n",
    "\n",
    "\n",
    "# underscore can be used as Delimter to Float also\n",
    "variable = 3_2 + 3_5j\n",
    "print(variable)"
   ]
  },
  {
   "cell_type": "code",
   "execution_count": 31,
   "metadata": {},
   "outputs": [
    {
     "name": "stdout",
     "output_type": "stream",
     "text": [
      "<class 'tuple'>\n",
      "(3+4j)\n",
      "(1, (3+4j), 'Elon')\n",
      "Tuple Value before changing : (1, 2, ['Hi'])\n",
      "List inside tuple is changed now : (1, 2, ['Hi', 'Hello'])\n",
      "(1, '2', (3+4j), 'Hello', 'Elon', 1, 2, ['Hi', 'Hello'])\n",
      "(1, 2, ['Hi', 'Hello'], 1, 2, ['Hi', 'Hello'], 1, 2, ['Hi', 'Hello'])\n",
      "1\n",
      "4\n",
      "1\n",
      "2\n",
      "(3+4j)\n",
      "Hello\n",
      "Elon\n",
      "True\n"
     ]
    }
   ],
   "source": [
    "# Tuples\n",
    "\n",
    "t1 = (1,'2',3+4j , 'Hello' , 'Elon')\n",
    "print(type(t1))\n",
    "\n",
    "# Indexing and Slicing\n",
    "print(t1[2])\n",
    "print(t1[::2])\n",
    "\n",
    "\n",
    "# Editing List Inside Tuple\n",
    "t2 = (1,2,['Hi'])\n",
    "print('Tuple Value before changing :' , t2)\n",
    "t2[2].append('Hello')\n",
    "print('List inside tuple is changed now :' , t2)\n",
    "\n",
    "# Adding tuples\n",
    "print(t1 + t2)\n",
    "\n",
    "# Multiplying tuples\n",
    "print(t2 * 3)\n",
    "\n",
    "# Built In Methods\n",
    "print(t1.count('Elon'))\n",
    "print(t1.index('Elon'))\n",
    "\n",
    "# Iterating\n",
    "for element in t1:\n",
    "    print(element)\n",
    "\n",
    "# Membership Test\n",
    "print('Elon' in t1)\n",
    "\n",
    "# As tuple is immutable , we can edit tuple by converting into list and doing list operations"
   ]
  },
  {
   "cell_type": "code",
   "execution_count": 38,
   "metadata": {},
   "outputs": [
    {
     "name": "stdout",
     "output_type": "stream",
     "text": [
      "range() document : range(stop) -> range object\n",
      "range(start, stop[, step]) -> range object\n",
      "\n",
      "Return an object that produces a sequence of integers from start (inclusive)\n",
      "to stop (exclusive) by step.  range(i, j) produces i, i+1, i+2, ..., j-1.\n",
      "start defaults to 0, and stop is omitted!  range(4) produces 0, 1, 2, 3.\n",
      "These are exactly the valid indices for a list of 4 elements.\n",
      "When step is given, it specifies the increment (or decrement).\n",
      "Using list() to get values from range object : [1, 2, 3, 4, 5, 6, 7, 8, 9, 10]\n",
      "Using list() to get values from range object (Negative Step Size): [15, 14, 13, 12, 11, 10, 9, 8, 7, 6, 5, 4, 3, 2]\n"
     ]
    }
   ],
   "source": [
    "# Range\n",
    "\n",
    "print('range() document :' , range.__doc__)\n",
    "\n",
    "# Positive Step Size\n",
    "range_object = range(1 , 11 ,  1)\n",
    "list_of_elements = list(range_object)\n",
    "print('Using list() to get values from range object :' , list_of_elements)\n",
    "\n",
    "# Using negative step size\n",
    "range_object = range(15 , 1 ,  -1)\n",
    "list_of_elements = list(range_object)\n",
    "print('Using list() to get values from range object (Negative Step Size):' , list_of_elements)"
   ]
  },
  {
   "cell_type": "code",
   "execution_count": 39,
   "metadata": {},
   "outputs": [
    {
     "ename": "TypeError",
     "evalue": "range expected at least 1 argument, got 0",
     "output_type": "error",
     "traceback": [
      "\u001b[0;31m---------------------------------------------------------------------------\u001b[0m",
      "\u001b[0;31mTypeError\u001b[0m                                 Traceback (most recent call last)",
      "\u001b[0;32m/tmp/ipykernel_13838/2741177838.py\u001b[0m in \u001b[0;36m<module>\u001b[0;34m\u001b[0m\n\u001b[0;32m----> 1\u001b[0;31m \u001b[0mrange\u001b[0m\u001b[0;34m(\u001b[0m\u001b[0;34m)\u001b[0m\u001b[0;34m\u001b[0m\u001b[0;34m\u001b[0m\u001b[0m\n\u001b[0m",
      "\u001b[0;31mTypeError\u001b[0m: range expected at least 1 argument, got 0"
     ]
    }
   ],
   "source": [
    "range()"
   ]
  },
  {
   "cell_type": "code",
   "execution_count": 41,
   "metadata": {},
   "outputs": [],
   "source": [
    "for i in range(-44):\n",
    "    print(i)"
   ]
  },
  {
   "cell_type": "code",
   "execution_count": 45,
   "metadata": {},
   "outputs": [
    {
     "name": "stdout",
     "output_type": "stream",
     "text": [
      "Dictionary : {frozenset({1, 2, 3, 4, 5}): 'Value'}\n",
      "frozenset({1, 2, 3, 4, 5, 6, 7, 8})\n",
      "frozenset({4, 5})\n",
      "frozenset({1, 2, 3})\n",
      "frozenset({1, 2, 3, 6, 7, 8})\n",
      "False\n",
      "False\n",
      "False\n"
     ]
    }
   ],
   "source": [
    "# Frozensets can do all operations as set , only thing is frozen sets are immutable\n",
    "# Creating frozensets\n",
    "fset1 = frozenset([1,2,3,4,5])\n",
    "fset2 = frozenset([4,5,6,7,8])\n",
    "\n",
    "# Using Frozenset as dictionary key\n",
    "d = {}\n",
    "d[fset1] = 'Value'\n",
    "print('Dictionary :' , d)\n",
    "\n",
    "# Copy\n",
    "f_copy = fset1.copy()\n",
    "\n",
    "# Union\n",
    "print(fset1.union(fset2))\n",
    "\n",
    "# Intersection\n",
    "print(fset1.intersection(fset2))\n",
    "\n",
    "# Difference\n",
    "print(fset1.difference(fset2))\n",
    "\n",
    "# Symmetric Difference\n",
    "print(fset1.symmetric_difference(fset2))\n",
    "\n",
    "# isdisjoint()\n",
    "print(fset1.isdisjoint(fset2))\n",
    "\n",
    "# issubset()\n",
    "print(fset1.issubset(fset2))\n",
    "\n",
    "# issuperset()\n",
    "print(fset1.issuperset(fset2))"
   ]
  },
  {
   "cell_type": "code",
   "execution_count": 14,
   "metadata": {},
   "outputs": [
    {
     "name": "stdout",
     "output_type": "stream",
     "text": [
      "True + True = 2\n",
      "True + False = 1\n",
      "False + False = 0\n",
      "Boolean value of None : False\n",
      "This line is executed ...\n",
      "Variable value : 1\n",
      "Variable value : 2\n",
      "Variable value : 3\n",
      "Variable value : 4\n",
      "Variable value : 5\n"
     ]
    }
   ],
   "source": [
    "# Booleans\n",
    "# Arithmetic operations on boolean\n",
    "print('True + True =' , True + True)\n",
    "print('True + False =' , True + False)\n",
    "print('False + False =' , False + False)\n",
    "\n",
    "# Boolean value of None\n",
    "print('Boolean value of None :' , bool(None))\n",
    "\n",
    "# Control flow using Boolean\n",
    "# if logic\n",
    "if True:\n",
    "    print('This line is executed ...')\n",
    "else:\n",
    "    print('This line will never be executed as if loop condition check is always True')\n",
    "\n",
    "# while logic\n",
    "var = 1\n",
    "while var <= 5:\n",
    "    print('Variable value :' , var)\n",
    "    var += 1"
   ]
  },
  {
   "cell_type": "code",
   "execution_count": 15,
   "metadata": {},
   "outputs": [
    {
     "name": "stdout",
     "output_type": "stream",
     "text": [
      "Integer conversion of True : 1\n",
      "Integer conversion of False : 0\n",
      "Float conversion of True : 1.0\n",
      "Float conversion of False : 0.0\n",
      "Imaginary number conversion of True : (1+0j)\n",
      "Imaginary number conversion of False : 0j\n",
      "String conversion of True : True\n",
      "String conversion of False : False\n"
     ]
    }
   ],
   "source": [
    "# Booleans\n",
    "# Boolean type conversion\n",
    "print('Integer conversion of True :' , int(True))\n",
    "print('Integer conversion of False :' , int(False))\n",
    "print('Float conversion of True :' , float(True))\n",
    "print('Float conversion of False :' , float(False))\n",
    "print('Imaginary number conversion of True :' , complex(True))\n",
    "print('Imaginary number conversion of False :' , complex(False))\n",
    "print('String conversion of True :' , str(True))\n",
    "print('String conversion of False :' , str(False))\n"
   ]
  },
  {
   "cell_type": "code",
   "execution_count": 43,
   "metadata": {},
   "outputs": [
    {
     "name": "stdout",
     "output_type": "stream",
     "text": [
      "Byte Object : b'\\x01\\x02\\x03'\n",
      "This Error Occured : bytes must be in range(0, 256)\n",
      "This Error Occured : 'bytes' object does not support item assignment\n",
      "Byte Variable : b'string'\n",
      "Decoded String Variable : string\n"
     ]
    }
   ],
   "source": [
    "# Bytes\n",
    "# Byte Object Creation\n",
    "byte_object = bytes([ 1, 2 , 3])\n",
    "print('Byte Object :' , byte_object)\n",
    "\n",
    "# Bytes can only represent values from 0 to 255\n",
    "try:\n",
    "    new_byte_object = bytes([1 , 2 , 256])\n",
    "except Exception as e:\n",
    "    print('This Error Occured :' , e)\n",
    "\n",
    "# Byte Objects are immutable\n",
    "try:\n",
    "    byte_object[0] = 'New Value'\n",
    "except Exception as e:\n",
    "    print('This Error Occured :' , e)\n",
    "\n",
    "# Type Conversion\n",
    "# String To Byte\n",
    "string_variable = 'string'\n",
    "byte_variable = bytes(string_variable , encoding= 'utf-8')\n",
    "print('Byte Variable :' , byte_variable)\n",
    "\n",
    "# Byte To String\n",
    "decoded_string_variable = byte_variable.decode()\n",
    "print('Decoded String Variable :' , decoded_string_variable)"
   ]
  },
  {
   "cell_type": "code",
   "execution_count": 44,
   "metadata": {},
   "outputs": [
    {
     "name": "stdout",
     "output_type": "stream",
     "text": [
      "Byte Array Object : bytearray(b'\\x01\\x02\\x03')\n",
      "Byte Array Object after changes : bytearray(b'7\\x02\\x03')\n",
      "This Error Occured : byte must be in range(0, 256)\n"
     ]
    },
    {
     "data": {
      "text/plain": [
       "bytearray"
      ]
     },
     "execution_count": 44,
     "metadata": {},
     "output_type": "execute_result"
    }
   ],
   "source": [
    "# Byte Arrays\n",
    "# Byte Arrays Object Creation\n",
    "byte_array_object = bytearray([1 , 2 , 3])\n",
    "print('Byte Array Object :' , byte_array_object)\n",
    "\n",
    "# byte arrays are same as bytes object but byte arrays are mutable\n",
    "byte_array_object[0] = 55\n",
    "print('Byte Array Object after changes :' , byte_array_object)\n",
    "\n",
    "# Bytes arrays also can only represent values from 0 to 255\n",
    "try:\n",
    "    new_byte_object = bytearray([1 , 2 , 256])\n",
    "except Exception as e:\n",
    "    print('This Error Occured :' , e)\n",
    "\n",
    "type(byte_array_object)"
   ]
  },
  {
   "cell_type": "code",
   "execution_count": 19,
   "metadata": {},
   "outputs": [
    {
     "name": "stdout",
     "output_type": "stream",
     "text": [
      "Type of memoryview object : <class 'memoryview'>\n",
      "memory view object on zero index :  1\n",
      "memory view to list : [1, 2, 3]\n",
      "memory view object after updating memory_view_object :  [33, 2, 3]\n",
      "memory view object after updating byte_array_object :  [33, 22, 3]\n"
     ]
    }
   ],
   "source": [
    "byte_array_object = bytearray([1 , 2 , 3])\n",
    "# a bytes-like object is required to pass into memoryview()\n",
    "memory_view_object = memoryview(byte_array_object)\n",
    "print('Type of memoryview object :' , type(memory_view_object))\n",
    "\n",
    "# Access memory\n",
    "print('memory view object on zero index : ' , memory_view_object[0])\n",
    "# Type conversion\n",
    "print('memory view to list :' , list(memory_view_object))\n",
    "\n",
    "# Updating zero index value to 33 using memoryview\n",
    "memory_view_object[0] = 33\n",
    "print('memory view object after updating memory_view_object : ' , list(memory_view_object))\n",
    "\n",
    "# If we update actual bytearray we pass inside that update reflects in memoryview also\n",
    "# Coz memory_view_object reference the same memory\n",
    "byte_array_object[1] = 22\n",
    "print('memory view object after updating byte_array_object : ' , list(memory_view_object))"
   ]
  },
  {
   "cell_type": "code",
   "execution_count": 40,
   "metadata": {},
   "outputs": [
    {
     "name": "stdout",
     "output_type": "stream",
     "text": [
      "Without memory view how much time it took : 0.1726300349982921\n",
      "With memory view how much time it took : 0.023860868001065683\n"
     ]
    }
   ],
   "source": [
    "import timeit\n",
    "\n",
    "#Increasing data size\n",
    "bytes_data = b'Sample String' * 5000\n",
    "# Code logic for deleting first index value of given data repeatedly\n",
    "bytes_time = timeit.timeit('while bytes_data: bytes_data = bytes_data[1:]', \"from __main__ import bytes_data\")\n",
    "memory_view_data = memoryview(bytes_data)\n",
    "memory_view_time = timeit.timeit('while memory_view_data: memory_view_data = memory_view_data[1:]', \"from __main__ import memory_view_data\")\n",
    "\n",
    "\n",
    "print('Without memory view how much time it took :' , bytes_time)\n",
    "print('With memory view how much time it took :' , memory_view_time)"
   ]
  },
  {
   "cell_type": "code",
   "execution_count": 42,
   "metadata": {},
   "outputs": [
    {
     "ename": "TypeError",
     "evalue": "'float' object is not callable",
     "output_type": "error",
     "traceback": [
      "\u001b[0;31m---------------------------------------------------------------------------\u001b[0m",
      "\u001b[0;31mTypeError\u001b[0m                                 Traceback (most recent call last)",
      "\u001b[0;32m/tmp/ipykernel_25871/1696946656.py\u001b[0m in \u001b[0;36m<module>\u001b[0;34m\u001b[0m\n\u001b[1;32m      1\u001b[0m \u001b[0;32mlambda\u001b[0m \u001b[0mx\u001b[0m\u001b[0;34m,\u001b[0m \u001b[0my\u001b[0m\u001b[0;34m:\u001b[0m \u001b[0mx\u001b[0m \u001b[0;34m+\u001b[0m \u001b[0my\u001b[0m\u001b[0;34m\u001b[0m\u001b[0;34m\u001b[0m\u001b[0m\n\u001b[0;32m----> 2\u001b[0;31m \u001b[0m_\u001b[0m\u001b[0;34m(\u001b[0m\u001b[0;36m2\u001b[0m\u001b[0;34m,\u001b[0m\u001b[0;36m3\u001b[0m\u001b[0;34m)\u001b[0m\u001b[0;34m\u001b[0m\u001b[0;34m\u001b[0m\u001b[0m\n\u001b[0m",
      "\u001b[0;31mTypeError\u001b[0m: 'float' object is not callable"
     ]
    }
   ],
   "source": [
    "lambda x, y: x + y\n",
    "_(2,3)"
   ]
  },
  {
   "cell_type": "code",
   "execution_count": 45,
   "metadata": {},
   "outputs": [],
   "source": [
    "a = lambda a , *args:  a"
   ]
  },
  {
   "cell_type": "code",
   "execution_count": 48,
   "metadata": {},
   "outputs": [
    {
     "data": {
      "text/plain": [
       "3"
      ]
     },
     "execution_count": 48,
     "metadata": {},
     "output_type": "execute_result"
    }
   ],
   "source": [
    "a(3, 5)"
   ]
  },
  {
   "cell_type": "code",
   "execution_count": 19,
   "metadata": {},
   "outputs": [],
   "source": [
    "class Person:\n",
    "\n",
    "    def greet(self , name = 'Karthik'):\n",
    "        print(f'Hello {name}')\n",
    "\n",
    "class Employee(Person):\n",
    "    def greet(self , name = 'Karthik'):\n",
    "        Person.greet(self)\n",
    "        print(f'Greetings {name}')\n"
   ]
  },
  {
   "cell_type": "code",
   "execution_count": 20,
   "metadata": {},
   "outputs": [
    {
     "name": "stdout",
     "output_type": "stream",
     "text": [
      "Hello Karthik\n",
      "Greetings Karthik\n"
     ]
    }
   ],
   "source": [
    "employee_object = Employee()\n",
    "employee_object.greet()"
   ]
  },
  {
   "cell_type": "code",
   "execution_count": null,
   "metadata": {},
   "outputs": [],
   "source": []
  },
  {
   "cell_type": "code",
   "execution_count": 23,
   "metadata": {},
   "outputs": [
    {
     "data": {
      "text/plain": [
       "{'2': 1, '5': 2, '0': 1, '7': 1, '3': 2, '1': 1, '4': 4, '6': 2}"
      ]
     },
     "execution_count": 23,
     "metadata": {},
     "output_type": "execute_result"
    }
   ],
   "source": [
    "number = '32345544667104'\n",
    "set_of_number = set([i for i in number])\n",
    "d = {}\n",
    "for ele in set_of_number:\n",
    "    d[ele] = 0\n",
    "for key in d.keys():\n",
    "    for ele in number:\n",
    "        if key == ele:\n",
    "            d[key] += 1\n",
    "d"
   ]
  },
  {
   "cell_type": "code",
   "execution_count": 28,
   "metadata": {},
   "outputs": [
    {
     "name": "stdout",
     "output_type": "stream",
     "text": [
      "**********\n"
     ]
    }
   ],
   "source": [
    "def fn(func):\n",
    "    def inner_fn():\n",
    "        return func()\n",
    "    return inner_fn()\n",
    "\n",
    "def fn1():\n",
    "    print('*'*10)\n",
    "fn(fn1)"
   ]
  },
  {
   "cell_type": "code",
   "execution_count": 29,
   "metadata": {},
   "outputs": [],
   "source": [
    "! echo 'Hi' > abc.txt"
   ]
  },
  {
   "cell_type": "code",
   "execution_count": 31,
   "metadata": {},
   "outputs": [
    {
     "name": "stdout",
     "output_type": "stream",
     "text": [
      "total 432K\n",
      "drwxrwxr-x 2 karthik karthik 4.0K Apr 27 22:55  python-recursion\n",
      "drwxrwxr-x 2 karthik karthik 4.0K Apr 27 22:56  python-decorators\n",
      "drwxrwxr-x 2 karthik karthik 4.0K Apr 27 23:21  python-first-order-and-higher-order-functions\n",
      "drwxrwxr-x 2 karthik karthik 4.0K May  2 13:47  python-useful-functions\n",
      "drwxrwxr-x 2 karthik karthik 4.0K May  2 15:19  python-namespace-and-scope-of-the-variables\n",
      "-rw-rw-r-- 1 karthik karthik 209K May  2 15:19 'Blog Code.ipynb'\n",
      "-rw-rw-r-- 1 karthik karthik   15 May  3 19:07  test_text_file.txt\n",
      "drwxrwxr-x 2 karthik karthik 4.0K May  3 19:31  pypi_odd_or_even\n",
      "drwxrwxr-x 2 karthik karthik 4.0K May  3 19:37  python-useful-tricks\n",
      "drwxrwxr-x 2 karthik karthik 4.0K May  3 19:37  python-execution-model\n",
      "drwxrwxr-x 2 karthik karthik 4.0K May  7 11:46  python-pickling\n",
      "drwxrwxr-x 2 karthik karthik 4.0K May  7 12:31  python-error-and-exception-handling\n",
      "drwxrwxr-x 3 karthik karthik 4.0K May  7 23:10  python-publishing-a-package-in-pypi\n",
      "drwxrwxr-x 2 karthik karthik 4.0K May  7 23:45  embed_code\n",
      "drwxrwxr-x 2 karthik karthik 4.0K May  8 00:00  python-sort-vs-sorted\n",
      "-rw-rw-r-- 1 karthik karthik  15K May  8 00:10 'Blog Code 1.ipynb'\n",
      "-rw-rw-r-- 1 karthik karthik  490 May 10 19:40  README.md\n",
      "drwxrwxr-x 2 karthik karthik 4.0K May 10 20:30  python-dictionary\n",
      "drwxrwxr-x 2 karthik karthik 4.0K May 10 21:30  python-hashable-vs-unhashable\n",
      "drwxrwxr-x 2 karthik karthik 4.0K May 11 22:26  python-class\n",
      "drwxrwxr-x 2 karthik karthik 4.0K May 12 22:00  python-lists\n",
      "-rw-rw-r-- 1 karthik karthik  24K May 13 16:21 'Blog Code 2.ipynb'\n",
      "drwxrwxr-x 2 karthik karthik 4.0K May 13 16:21  python-sets\n",
      "drwxrwxr-x 2 karthik karthik 4.0K May 13 19:54  python-json\n",
      "drwxrwxr-x 2 karthik karthik 4.0K May 13 20:37  python-os-library\n",
      "-rw-rw-r-- 1 karthik karthik    0 May 13 21:20  new_text.txt\n",
      "drwxrwxr-x 2 karthik karthik 4.0K May 13 22:15  python-f-string\n",
      "drwxrwxr-x 2 karthik karthik 4.0K May 15 07:53  python-magic-functions\n",
      "drwxrwxr-x 2 karthik karthik 4.0K May 15 22:55  python-file-handling\n",
      "-rw-rw-r-- 1 karthik karthik    0 May 15 22:59  test.txt\n",
      "-rw-rw-r-- 1 karthik karthik    0 May 15 22:59  demofile.txt\n",
      "drwxrwxr-x 2 karthik karthik 4.0K May 15 23:38  python-strings\n",
      "drwxrwxr-x 2 karthik karthik 4.0K May 16 15:14  python-integer\n",
      "drwxrwxr-x 2 karthik karthik 4.0K May 16 15:27  python-float\n",
      "drwxrwxr-x 2 karthik karthik 4.0K May 16 15:55  python-complex\n",
      "drwxrwxr-x 2 karthik karthik 4.0K May 16 16:10  python-tuples\n",
      "drwxrwxr-x 2 karthik karthik 4.0K May 16 17:02  python-range\n",
      "drwxrwxr-x 2 karthik karthik 4.0K May 16 17:26  python-frozensets\n",
      "drwxrwxr-x 2 karthik karthik 4.0K May 21 22:57  python-boolean\n",
      "drwxrwxr-x 2 karthik karthik 4.0K May 21 23:40  python-bytes-data-type\n",
      "drwxrwxr-x 2 karthik karthik 4.0K May 24 01:01  python-memoryview-data-type\n",
      "-rw-rw-r-- 1 karthik karthik  35K May 25 16:36 'Blog Code 3.ipynb'\n",
      "-rw-rw-r-- 1 karthik karthik    3 May 25 16:38  abc.txt\n"
     ]
    }
   ],
   "source": [
    "!ls -ltrh"
   ]
  },
  {
   "cell_type": "code",
   "execution_count": 33,
   "metadata": {},
   "outputs": [
    {
     "name": "stdout",
     "output_type": "stream",
     "text": [
      "Filesystem      Size  Used Avail Use% Mounted on\n",
      "udev            4.8G     0  4.8G   0% /dev\n",
      "tmpfs           983M  1.8M  981M   1% /run\n",
      "/dev/sda5       292G  169G  109G  61% /\n",
      "tmpfs           4.8G   71M  4.8G   2% /dev/shm\n",
      "tmpfs           5.0M  4.0K  5.0M   1% /run/lock\n",
      "tmpfs           4.8G     0  4.8G   0% /sys/fs/cgroup\n",
      "/dev/sda1       511M  4.0K  511M   1% /boot/efi\n",
      "tmpfs           983M   60K  983M   1% /run/user/1000\n"
     ]
    }
   ],
   "source": [
    "! df -h"
   ]
  },
  {
   "cell_type": "code",
   "execution_count": 8,
   "metadata": {},
   "outputs": [
    {
     "name": "stdout",
     "output_type": "stream",
     "text": [
      "Map object : [True, False, True]\n",
      "Filter object : [4, 8]\n",
      "Reduce object : 15\n"
     ]
    }
   ],
   "source": [
    "# map\n",
    "# fn to return True if string starts with 'A'\n",
    "function1 = lambda x : x.startswith('A')\n",
    "iterable1 = ['Apple' , 'Banana' , 'Aeroplane']\n",
    "map_object = map(function1 , iterable1)\n",
    "print('Map object :' , list(map_object))\n",
    "\n",
    "# filter\n",
    "# fn to return True if number is even\n",
    "function2 = lambda x : x % 2 == 0\n",
    "iterable2 = [3 , 4 , 8]\n",
    "filter_object = filter(function2 , iterable2)\n",
    "print('Filter object :' , list(filter_object))\n",
    "\n",
    "# reduce\n",
    "from functools import reduce\n",
    "# fn to add two numbers\n",
    "function3 = lambda a , b : a + b\n",
    "iterable3 = [3 , 4 , 8]\n",
    "reduce_object = reduce(function3 , iterable3)\n",
    "print('Reduce object :' , reduce_object)"
   ]
  },
  {
   "cell_type": "code",
   "execution_count": 9,
   "metadata": {},
   "outputs": [
    {
     "data": {
      "text/plain": [
       "int"
      ]
     },
     "execution_count": 9,
     "metadata": {},
     "output_type": "execute_result"
    }
   ],
   "source": [
    "type(reduce_object)"
   ]
  },
  {
   "cell_type": "code",
   "execution_count": 16,
   "metadata": {},
   "outputs": [
    {
     "name": "stdout",
     "output_type": "stream",
     "text": [
      "Length of the string \"abcde\": 5\n",
      "These are the passed arguments : ('default argument 1', 'default argument 2')\n",
      "This is function doc string\n",
      "These are the passed arguments : (1, 2, 3, 'abc')\n",
      "These are the passed key word arguments : {'key1': '123', 'key2': '456', 'key3': '789'}\n"
     ]
    }
   ],
   "source": [
    "# Built In Function len\n",
    "string = 'abcde'\n",
    "print(f'Length of the string \"{string}\":' , len(string))\n",
    "\n",
    "# Creating a User Defined Function\n",
    "def function_name(argument1 = 'default argument 1' , argument2 = 'default argument 2'):\n",
    "    '''This is function doc string''' \n",
    "\n",
    "    print('These are the passed arguments :' , (argument1 , argument2))\n",
    "\n",
    "# Calling function\n",
    "function_name()\n",
    "\n",
    "# Printing docstring\n",
    "print(function_name.__doc__)\n",
    "\n",
    "# Taking Multiple Args\n",
    "def function(*args , **kwargs):\n",
    "    print('These are the passed arguments :' , args)\n",
    "    print('These are the passed key word arguments :' , kwargs)\n",
    "\n",
    "# args in function is taken as a tuple and kwargs is taken as a dictionary\n",
    "function(1 , 2 , 3 , 'abc' , key1 = '123' , key2 = '456' , key3 = '789')"
   ]
  },
  {
   "cell_type": "code",
   "execution_count": 7,
   "metadata": {},
   "outputs": [
    {
     "name": "stdout",
     "output_type": "stream",
     "text": [
      "10\n"
     ]
    }
   ],
   "source": [
    "# Return a value in function\n",
    "# 3 is default value here if no value is passed\n",
    "def function_that_return(value = 3):\n",
    "    # Multiply value by 2 and return that number\n",
    "    return value * 2\n",
    "\n",
    "# Function that has no code but still not give error\n",
    "def function_that_pass():\n",
    "    pass\n",
    "\n",
    "print(function_that_return(5))\n",
    "function_that_pass()"
   ]
  },
  {
   "cell_type": "code",
   "execution_count": 1,
   "metadata": {},
   "outputs": [
    {
     "name": "stdout",
     "output_type": "stream",
     "text": [
      "[1, 2, 3]\n",
      "<list_iterator object at 0x7f92586a0e80>\n"
     ]
    }
   ],
   "source": [
    "# Iterable\n",
    "iterable_object = [1,2,3]\n",
    "# Iterator\n",
    "iterator_object = iter([1,2,3])\n",
    "\n",
    "print(iterable_object)\n",
    "print(iterator_object)"
   ]
  },
  {
   "cell_type": "code",
   "execution_count": 1,
   "metadata": {},
   "outputs": [
    {
     "name": "stdout",
     "output_type": "stream",
     "text": [
      "iterator_object_created_by_generator_function : <generator object generator_function at 0x7f5410b76b30>\n",
      "1\n",
      "2\n",
      "3\n"
     ]
    }
   ],
   "source": [
    "# Generators\n",
    "def generator_function(list_variable):\n",
    "    for element in list_variable:\n",
    "        yield element\n",
    "\n",
    "iterator_object_created_by_generator_function = generator_function([1,2,3])\n",
    "print('iterator_object_created_by_generator_function :' , iterator_object_created_by_generator_function)\n",
    "for value in iterator_object_created_by_generator_function:\n",
    "    print(value)"
   ]
  },
  {
   "cell_type": "code",
   "execution_count": 8,
   "metadata": {},
   "outputs": [
    {
     "name": "stdout",
     "output_type": "stream",
     "text": [
      "Printing function() object :  <generator object function at 0x7f53eee4f430>\n"
     ]
    },
    {
     "data": {
      "text/plain": [
       "<generator object function_1 at 0x7f53eee4f430>"
      ]
     },
     "execution_count": 8,
     "metadata": {},
     "output_type": "execute_result"
    }
   ],
   "source": [
    "# Function with return and yield\n",
    "def function():\n",
    "    yield 1\n",
    "    yield 2\n",
    "    yield 3\n",
    "    return 5\n",
    "print('Printing function() object : ' , function())\n",
    "# Even though function() has return keyword , Once it has yield keyword it is treated as a generator\n"
   ]
  },
  {
   "cell_type": "code",
   "execution_count": 25,
   "metadata": {},
   "outputs": [
    {
     "name": "stdout",
     "output_type": "stream",
     "text": [
      "Using return :  3\n",
      "**************************************************\n",
      "abc\n",
      "Using yield :  [3]\n"
     ]
    }
   ],
   "source": [
    "def function_1():\n",
    "    return 3\n",
    "    print('abc')\n",
    "# Here abc will not be printed as once return is used in function , function execution stops.\n",
    "print('Using return : ' , function_1())\n",
    "\n",
    "print('*' * 50)\n",
    "def function_2():\n",
    "    yield 3\n",
    "    print('abc')\n",
    "\n",
    "# This code will print abc as even though it yields 3 , it does not stop function execution \n",
    "# so the rest of code other than other yield will run when used with list() , But when using next() only\n",
    "# whatever value is yielded that is returned not the other code logic like print() \n",
    "a = list(function_2())\n",
    "print('Using yield : ' , a )"
   ]
  },
  {
   "cell_type": "code",
   "execution_count": 28,
   "metadata": {},
   "outputs": [
    {
     "name": "stdout",
     "output_type": "stream",
     "text": [
      "generator_object :  <generator object <genexpr> at 0x7f53eee65890>\n",
      "List of generator object : [1, 4, 9, 16, 25]\n"
     ]
    }
   ],
   "source": [
    "# Generator expression \n",
    "# Creating generator object just like list comprehension\n",
    "\n",
    "list_variable = [1,2,3,4,5]\n",
    "generator_object = (i ** 2 for i in list_variable)\n",
    "# Wait a min , So using '()' does not create tuple comprehension ?\n",
    "# Tuples are immutable so we can't assign them new values , \n",
    "# so there is no Tuple comprehension in Python\n",
    "\n",
    "print('generator_object : ' , generator_object)\n",
    "print('List of generator object :' , list(generator_object))"
   ]
  },
  {
   "cell_type": "code",
   "execution_count": 29,
   "metadata": {},
   "outputs": [
    {
     "name": "stdout",
     "output_type": "stream",
     "text": [
      "range_object : range(0, 5)\n",
      "list of range_object  [0, 1, 2, 3, 4]\n"
     ]
    }
   ],
   "source": [
    "# range() is an Built in and frequently used generator\n",
    "range_object = range(0 , 5)\n",
    "print('range_object :' , range_object)\n",
    "print('list of range_object ' , list(range_object))"
   ]
  },
  {
   "cell_type": "code",
   "execution_count": 41,
   "metadata": {},
   "outputs": [
    {
     "name": "stdout",
     "output_type": "stream",
     "text": [
      "2 + 3 + 5 : 10\n"
     ]
    }
   ],
   "source": [
    "# As function can be passed inside on another , Generators can do same too\n",
    "def add_3(number):\n",
    "    value = number + 3\n",
    "    yield value\n",
    "\n",
    "def add_5(number):\n",
    "    value = number + 5\n",
    "    yield value\n",
    "\n",
    "value = sum(add_3(sum(add_5(2))))\n",
    "print('2 + 3 + 5 :' , value)\n",
    "\n",
    "# So why we use sum() BIF ?\n",
    "# Unlike return keyword , yield will give generator object \n",
    "# we can't do any operation on them unless we convert them to basic data types"
   ]
  },
  {
   "cell_type": "code",
   "execution_count": 2,
   "metadata": {},
   "outputs": [
    {
     "data": {
      "text/plain": [
       "array(['1', '2', '3.3'], dtype='<U32')"
      ]
     },
     "execution_count": 2,
     "metadata": {},
     "output_type": "execute_result"
    }
   ],
   "source": [
    "# numpy array vs list\n",
    "import numpy as np\n",
    "np_array = np.array(['1' , 2 , 3.3])\n",
    "np_array"
   ]
  },
  {
   "cell_type": "code",
   "execution_count": 3,
   "metadata": {},
   "outputs": [
    {
     "name": "stderr",
     "output_type": "stream",
     "text": [
      "/tmp/ipykernel_18021/3311793972.py:2: VisibleDeprecationWarning: Creating an ndarray from ragged nested sequences (which is a list-or-tuple of lists-or-tuples-or ndarrays with different lengths or shapes) is deprecated. If you meant to do this, you must specify 'dtype=object' when creating the ndarray.\n",
      "  nested_numpy_array = np.array(nested_list)\n"
     ]
    }
   ],
   "source": [
    "nested_list = [[1,2,3] , [4,5]]\n",
    "nested_numpy_array = np.array(nested_list)"
   ]
  },
  {
   "cell_type": "code",
   "execution_count": 4,
   "metadata": {},
   "outputs": [
    {
     "name": "stderr",
     "output_type": "stream",
     "text": [
      "/tmp/ipykernel_18021/1927286877.py:1: VisibleDeprecationWarning: Creating an ndarray from ragged nested sequences (which is a list-or-tuple of lists-or-tuples-or ndarrays with different lengths or shapes) is deprecated. If you meant to do this, you must specify 'dtype=object' when creating the ndarray.\n",
      "  np.array([[1,2,3] , [1,2,3,4]])\n"
     ]
    },
    {
     "data": {
      "text/plain": [
       "array([list([1, 2, 3]), list([1, 2, 3, 4])], dtype=object)"
      ]
     },
     "execution_count": 4,
     "metadata": {},
     "output_type": "execute_result"
    }
   ],
   "source": [
    "np.array([[1,2,3] , [1,2,3,4]])"
   ]
  },
  {
   "cell_type": "code",
   "execution_count": 13,
   "metadata": {},
   "outputs": [
    {
     "ename": "ValueError",
     "evalue": "The truth value of an array with more than one element is ambiguous. Use a.any() or a.all()",
     "output_type": "error",
     "traceback": [
      "\u001b[0;31m---------------------------------------------------------------------------\u001b[0m",
      "\u001b[0;31mValueError\u001b[0m                                Traceback (most recent call last)",
      "\u001b[0;32m/tmp/ipykernel_18021/1970098924.py\u001b[0m in \u001b[0;36m<module>\u001b[0;34m\u001b[0m\n\u001b[1;32m      7\u001b[0m \u001b[0mlist_time\u001b[0m \u001b[0;34m=\u001b[0m \u001b[0mtimeit\u001b[0m\u001b[0;34m.\u001b[0m\u001b[0mtimeit\u001b[0m\u001b[0;34m(\u001b[0m\u001b[0;34m'while list_data: list_data = list_data[1:]'\u001b[0m\u001b[0;34m,\u001b[0m \u001b[0;34m\"from __main__ import list_data\"\u001b[0m\u001b[0;34m)\u001b[0m\u001b[0;34m\u001b[0m\u001b[0;34m\u001b[0m\u001b[0m\n\u001b[1;32m      8\u001b[0m \u001b[0mnumpy_array_data\u001b[0m \u001b[0;34m=\u001b[0m \u001b[0mnp\u001b[0m\u001b[0;34m.\u001b[0m\u001b[0marray\u001b[0m\u001b[0;34m(\u001b[0m\u001b[0mlist_data\u001b[0m\u001b[0;34m)\u001b[0m\u001b[0;34m\u001b[0m\u001b[0;34m\u001b[0m\u001b[0m\n\u001b[0;32m----> 9\u001b[0;31m \u001b[0mnumpy_array_time\u001b[0m \u001b[0;34m=\u001b[0m \u001b[0mtimeit\u001b[0m\u001b[0;34m.\u001b[0m\u001b[0mtimeit\u001b[0m\u001b[0;34m(\u001b[0m\u001b[0;34m'while numpy_array_data: numpy_array_data = numpy_array_data[1:]'\u001b[0m\u001b[0;34m,\u001b[0m \u001b[0;34m\"from __main__ import numpy_array_data\"\u001b[0m\u001b[0;34m)\u001b[0m\u001b[0;34m\u001b[0m\u001b[0;34m\u001b[0m\u001b[0m\n\u001b[0m\u001b[1;32m     10\u001b[0m \u001b[0;34m\u001b[0m\u001b[0m\n\u001b[1;32m     11\u001b[0m \u001b[0;34m\u001b[0m\u001b[0m\n",
      "\u001b[0;32m~/anaconda3/lib/python3.9/timeit.py\u001b[0m in \u001b[0;36mtimeit\u001b[0;34m(stmt, setup, timer, number, globals)\u001b[0m\n\u001b[1;32m    231\u001b[0m            number=default_number, globals=None):\n\u001b[1;32m    232\u001b[0m     \u001b[0;34m\"\"\"Convenience function to create Timer object and call timeit method.\"\"\"\u001b[0m\u001b[0;34m\u001b[0m\u001b[0;34m\u001b[0m\u001b[0m\n\u001b[0;32m--> 233\u001b[0;31m     \u001b[0;32mreturn\u001b[0m \u001b[0mTimer\u001b[0m\u001b[0;34m(\u001b[0m\u001b[0mstmt\u001b[0m\u001b[0;34m,\u001b[0m \u001b[0msetup\u001b[0m\u001b[0;34m,\u001b[0m \u001b[0mtimer\u001b[0m\u001b[0;34m,\u001b[0m \u001b[0mglobals\u001b[0m\u001b[0;34m)\u001b[0m\u001b[0;34m.\u001b[0m\u001b[0mtimeit\u001b[0m\u001b[0;34m(\u001b[0m\u001b[0mnumber\u001b[0m\u001b[0;34m)\u001b[0m\u001b[0;34m\u001b[0m\u001b[0;34m\u001b[0m\u001b[0m\n\u001b[0m\u001b[1;32m    234\u001b[0m \u001b[0;34m\u001b[0m\u001b[0m\n\u001b[1;32m    235\u001b[0m def repeat(stmt=\"pass\", setup=\"pass\", timer=default_timer,\n",
      "\u001b[0;32m~/anaconda3/lib/python3.9/timeit.py\u001b[0m in \u001b[0;36mtimeit\u001b[0;34m(self, number)\u001b[0m\n\u001b[1;32m    175\u001b[0m         \u001b[0mgc\u001b[0m\u001b[0;34m.\u001b[0m\u001b[0mdisable\u001b[0m\u001b[0;34m(\u001b[0m\u001b[0;34m)\u001b[0m\u001b[0;34m\u001b[0m\u001b[0;34m\u001b[0m\u001b[0m\n\u001b[1;32m    176\u001b[0m         \u001b[0;32mtry\u001b[0m\u001b[0;34m:\u001b[0m\u001b[0;34m\u001b[0m\u001b[0;34m\u001b[0m\u001b[0m\n\u001b[0;32m--> 177\u001b[0;31m             \u001b[0mtiming\u001b[0m \u001b[0;34m=\u001b[0m \u001b[0mself\u001b[0m\u001b[0;34m.\u001b[0m\u001b[0minner\u001b[0m\u001b[0;34m(\u001b[0m\u001b[0mit\u001b[0m\u001b[0;34m,\u001b[0m \u001b[0mself\u001b[0m\u001b[0;34m.\u001b[0m\u001b[0mtimer\u001b[0m\u001b[0;34m)\u001b[0m\u001b[0;34m\u001b[0m\u001b[0;34m\u001b[0m\u001b[0m\n\u001b[0m\u001b[1;32m    178\u001b[0m         \u001b[0;32mfinally\u001b[0m\u001b[0;34m:\u001b[0m\u001b[0;34m\u001b[0m\u001b[0;34m\u001b[0m\u001b[0m\n\u001b[1;32m    179\u001b[0m             \u001b[0;32mif\u001b[0m \u001b[0mgcold\u001b[0m\u001b[0;34m:\u001b[0m\u001b[0;34m\u001b[0m\u001b[0;34m\u001b[0m\u001b[0m\n",
      "\u001b[0;32m~/anaconda3/lib/python3.9/timeit.py\u001b[0m in \u001b[0;36minner\u001b[0;34m(_it, _timer)\u001b[0m\n",
      "\u001b[0;31mValueError\u001b[0m: The truth value of an array with more than one element is ambiguous. Use a.any() or a.all()"
     ]
    }
   ],
   "source": [
    "import timeit\n",
    "import numpy as np\n",
    "\n",
    "#Increasing data size\n",
    "list_data = [1,2,3] * 5000\n",
    "# Code logic for deleting first index value of given data repeatedly\n",
    "list_time = timeit.timeit('while list_data: list_data = list_data[1:]', \"from __main__ import list_data\")\n",
    "numpy_array_data = np.array(list_data)\n",
    "numpy_array_time = timeit.timeit('while numpy_array_data: numpy_array_data = numpy_array_data[1:]', \"from __main__ import numpy_array_data\")\n",
    "\n",
    "\n",
    "print('Lists how much time it took :' , list_time)\n",
    "print('Numpy Arrays how much time it took :' , numpy_array_time)"
   ]
  },
  {
   "cell_type": "code",
   "execution_count": 14,
   "metadata": {},
   "outputs": [
    {
     "ename": "AttributeError",
     "evalue": "'NoneType' object has no attribute 'append'",
     "output_type": "error",
     "traceback": [
      "\u001b[0;31m---------------------------------------------------------------------------\u001b[0m",
      "\u001b[0;31mAttributeError\u001b[0m                            Traceback (most recent call last)",
      "\u001b[0;32m/tmp/ipykernel_18021/312789123.py\u001b[0m in \u001b[0;36m<module>\u001b[0;34m\u001b[0m\n\u001b[1;32m      5\u001b[0m \u001b[0mlist_data\u001b[0m \u001b[0;34m=\u001b[0m \u001b[0;34m[\u001b[0m\u001b[0;36m1\u001b[0m\u001b[0;34m,\u001b[0m\u001b[0;36m2\u001b[0m\u001b[0;34m,\u001b[0m\u001b[0;36m3\u001b[0m\u001b[0;34m]\u001b[0m\u001b[0;34m\u001b[0m\u001b[0;34m\u001b[0m\u001b[0m\n\u001b[1;32m      6\u001b[0m \u001b[0;31m# Code logic for deleting first index value of given data repeatedly\u001b[0m\u001b[0;34m\u001b[0m\u001b[0;34m\u001b[0m\u001b[0m\n\u001b[0;32m----> 7\u001b[0;31m \u001b[0mlist_time\u001b[0m \u001b[0;34m=\u001b[0m \u001b[0mtimeit\u001b[0m\u001b[0;34m.\u001b[0m\u001b[0mtimeit\u001b[0m\u001b[0;34m(\u001b[0m\u001b[0;34m'for i in range(1000): list_data = list_data.append(i)'\u001b[0m\u001b[0;34m,\u001b[0m \u001b[0;34m\"from __main__ import list_data\"\u001b[0m\u001b[0;34m)\u001b[0m\u001b[0;34m\u001b[0m\u001b[0;34m\u001b[0m\u001b[0m\n\u001b[0m\u001b[1;32m      8\u001b[0m \u001b[0mnumpy_array_data\u001b[0m \u001b[0;34m=\u001b[0m \u001b[0mnp\u001b[0m\u001b[0;34m.\u001b[0m\u001b[0marray\u001b[0m\u001b[0;34m(\u001b[0m\u001b[0mlist_data\u001b[0m\u001b[0;34m)\u001b[0m\u001b[0;34m\u001b[0m\u001b[0;34m\u001b[0m\u001b[0m\n\u001b[1;32m      9\u001b[0m \u001b[0mnumpy_array_time\u001b[0m \u001b[0;34m=\u001b[0m \u001b[0mtimeit\u001b[0m\u001b[0;34m.\u001b[0m\u001b[0mtimeit\u001b[0m\u001b[0;34m(\u001b[0m\u001b[0;34m'for i in range(1000): nparr = np.append(nparr , [i])'\u001b[0m\u001b[0;34m,\u001b[0m \u001b[0;34m\"from __main__ import numpy_array_data\"\u001b[0m\u001b[0;34m)\u001b[0m\u001b[0;34m\u001b[0m\u001b[0;34m\u001b[0m\u001b[0m\n",
      "\u001b[0;32m~/anaconda3/lib/python3.9/timeit.py\u001b[0m in \u001b[0;36mtimeit\u001b[0;34m(stmt, setup, timer, number, globals)\u001b[0m\n\u001b[1;32m    231\u001b[0m            number=default_number, globals=None):\n\u001b[1;32m    232\u001b[0m     \u001b[0;34m\"\"\"Convenience function to create Timer object and call timeit method.\"\"\"\u001b[0m\u001b[0;34m\u001b[0m\u001b[0;34m\u001b[0m\u001b[0m\n\u001b[0;32m--> 233\u001b[0;31m     \u001b[0;32mreturn\u001b[0m \u001b[0mTimer\u001b[0m\u001b[0;34m(\u001b[0m\u001b[0mstmt\u001b[0m\u001b[0;34m,\u001b[0m \u001b[0msetup\u001b[0m\u001b[0;34m,\u001b[0m \u001b[0mtimer\u001b[0m\u001b[0;34m,\u001b[0m \u001b[0mglobals\u001b[0m\u001b[0;34m)\u001b[0m\u001b[0;34m.\u001b[0m\u001b[0mtimeit\u001b[0m\u001b[0;34m(\u001b[0m\u001b[0mnumber\u001b[0m\u001b[0;34m)\u001b[0m\u001b[0;34m\u001b[0m\u001b[0;34m\u001b[0m\u001b[0m\n\u001b[0m\u001b[1;32m    234\u001b[0m \u001b[0;34m\u001b[0m\u001b[0m\n\u001b[1;32m    235\u001b[0m def repeat(stmt=\"pass\", setup=\"pass\", timer=default_timer,\n",
      "\u001b[0;32m~/anaconda3/lib/python3.9/timeit.py\u001b[0m in \u001b[0;36mtimeit\u001b[0;34m(self, number)\u001b[0m\n\u001b[1;32m    175\u001b[0m         \u001b[0mgc\u001b[0m\u001b[0;34m.\u001b[0m\u001b[0mdisable\u001b[0m\u001b[0;34m(\u001b[0m\u001b[0;34m)\u001b[0m\u001b[0;34m\u001b[0m\u001b[0;34m\u001b[0m\u001b[0m\n\u001b[1;32m    176\u001b[0m         \u001b[0;32mtry\u001b[0m\u001b[0;34m:\u001b[0m\u001b[0;34m\u001b[0m\u001b[0;34m\u001b[0m\u001b[0m\n\u001b[0;32m--> 177\u001b[0;31m             \u001b[0mtiming\u001b[0m \u001b[0;34m=\u001b[0m \u001b[0mself\u001b[0m\u001b[0;34m.\u001b[0m\u001b[0minner\u001b[0m\u001b[0;34m(\u001b[0m\u001b[0mit\u001b[0m\u001b[0;34m,\u001b[0m \u001b[0mself\u001b[0m\u001b[0;34m.\u001b[0m\u001b[0mtimer\u001b[0m\u001b[0;34m)\u001b[0m\u001b[0;34m\u001b[0m\u001b[0;34m\u001b[0m\u001b[0m\n\u001b[0m\u001b[1;32m    178\u001b[0m         \u001b[0;32mfinally\u001b[0m\u001b[0;34m:\u001b[0m\u001b[0;34m\u001b[0m\u001b[0;34m\u001b[0m\u001b[0m\n\u001b[1;32m    179\u001b[0m             \u001b[0;32mif\u001b[0m \u001b[0mgcold\u001b[0m\u001b[0;34m:\u001b[0m\u001b[0;34m\u001b[0m\u001b[0;34m\u001b[0m\u001b[0m\n",
      "\u001b[0;32m~/anaconda3/lib/python3.9/timeit.py\u001b[0m in \u001b[0;36minner\u001b[0;34m(_it, _timer)\u001b[0m\n",
      "\u001b[0;31mAttributeError\u001b[0m: 'NoneType' object has no attribute 'append'"
     ]
    }
   ],
   "source": [
    "import timeit\n",
    "import numpy as np\n",
    "\n",
    "list_data = [1,2,3]\n",
    "list_time = timeit.timeit('for i in range(1000): list_data = list_data.append(i)', \"from __main__ import list_data\")\n",
    "numpy_array_data = np.array(list_data)\n",
    "numpy_array_time = timeit.timeit('for i in range(1000): nparr = np.append(nparr , [i])', \"from __main__ import numpy_array_data\")\n",
    "\n",
    "\n",
    "print('Lists how much time it took :' , list_time)\n",
    "print('Numpy Arrays how much time it took :' , numpy_array_time)"
   ]
  },
  {
   "cell_type": "code",
   "execution_count": 18,
   "metadata": {},
   "outputs": [
    {
     "name": "stdout",
     "output_type": "stream",
     "text": [
      "Appending in list Duration: 0:00:00.024553\n",
      "Appending in Numpy Array Duration: 0:00:18.373192\n"
     ]
    }
   ],
   "source": [
    "from datetime import datetime\n",
    "\n",
    "list_data = [1,2,3]\n",
    "numpy_array_data = np.array(list_data)\n",
    "list_data = [1,2,3]\n",
    "\n",
    "start_time = datetime.now()\n",
    "# Appending in list\n",
    "for i in range(100000):\n",
    "    list_data.append(i)\n",
    "end_time = datetime.now()\n",
    "print('Appending in list Duration: {}'.format(end_time - start_time))\n",
    "\n",
    "\n",
    "start_time = datetime.now()\n",
    "# Appending in Numpy Array\n",
    "for i in range(100000):\n",
    "    nparr = np.append(nparr , [i])\n",
    "end_time = datetime.now()\n",
    "print('Appending in Numpy Array Duration: {}'.format(end_time - start_time))\n"
   ]
  },
  {
   "cell_type": "code",
   "execution_count": 21,
   "metadata": {},
   "outputs": [
    {
     "name": "stdout",
     "output_type": "stream",
     "text": [
      "Size of 1000 element list : 64\n",
      "Size of 1000 element numpy array : 112\n"
     ]
    }
   ],
   "source": [
    "import numpy as np\n",
    "import sys\n",
    "\n",
    "print('Size of 1000 element list :' , sys.getsizeof([1]))\n",
    "print('Size of 1000 element numpy array :' , sys.getsizeof(np.array([1])))"
   ]
  },
  {
   "cell_type": "code",
   "execution_count": 23,
   "metadata": {},
   "outputs": [
    {
     "name": "stdout",
     "output_type": "stream",
     "text": [
      "List * 3 : [1, 2, 3, 1, 2, 3, 1, 2, 3]\n",
      "Numpy Array * 3: [3 6 9]\n"
     ]
    }
   ],
   "source": [
    "# Directly used for numerical operations\n",
    "list_1 = [1,2,3]\n",
    "numpy_1 = np.array(list_1)\n",
    "\n",
    "print('List * 3 :' , list_1 * 3)\n",
    "print('Numpy Array * 3:' , numpy_1 * 3)"
   ]
  },
  {
   "cell_type": "code",
   "execution_count": null,
   "metadata": {},
   "outputs": [],
   "source": []
  },
  {
   "cell_type": "code",
   "execution_count": null,
   "metadata": {},
   "outputs": [],
   "source": []
  },
  {
   "cell_type": "code",
   "execution_count": 6,
   "metadata": {},
   "outputs": [
    {
     "data": {
      "text/plain": [
       "array([1, 2, 3])"
      ]
     },
     "execution_count": 6,
     "metadata": {},
     "output_type": "execute_result"
    }
   ],
   "source": [
    "nparr = np.array([1,2,3])\n",
    "nparr"
   ]
  },
  {
   "cell_type": "code",
   "execution_count": 8,
   "metadata": {},
   "outputs": [
    {
     "data": {
      "text/plain": [
       "array([3])"
      ]
     },
     "execution_count": 8,
     "metadata": {},
     "output_type": "execute_result"
    }
   ],
   "source": [
    "nparr = nparr[1:]\n",
    "nparr"
   ]
  },
  {
   "cell_type": "code",
   "execution_count": 12,
   "metadata": {},
   "outputs": [
    {
     "data": {
      "text/plain": [
       "array([  3,   0,   1, ..., 997, 998, 999])"
      ]
     },
     "execution_count": 12,
     "metadata": {},
     "output_type": "execute_result"
    }
   ],
   "source": [
    "for i in range(1000):\n",
    "    nparr = np.append(nparr , [i])\n",
    "nparr"
   ]
  },
  {
   "cell_type": "code",
   "execution_count": null,
   "metadata": {},
   "outputs": [],
   "source": [
    "for i in range(1000): nparr = np.append(nparr , [i])"
   ]
  },
  {
   "cell_type": "code",
   "execution_count": null,
   "metadata": {},
   "outputs": [],
   "source": []
  },
  {
   "cell_type": "code",
   "execution_count": null,
   "metadata": {},
   "outputs": [],
   "source": []
  },
  {
   "cell_type": "code",
   "execution_count": null,
   "metadata": {},
   "outputs": [],
   "source": []
  },
  {
   "cell_type": "code",
   "execution_count": null,
   "metadata": {},
   "outputs": [],
   "source": []
  },
  {
   "cell_type": "code",
   "execution_count": null,
   "metadata": {},
   "outputs": [],
   "source": []
  },
  {
   "cell_type": "code",
   "execution_count": null,
   "metadata": {},
   "outputs": [],
   "source": []
  },
  {
   "cell_type": "code",
   "execution_count": null,
   "metadata": {},
   "outputs": [],
   "source": []
  },
  {
   "cell_type": "code",
   "execution_count": null,
   "metadata": {},
   "outputs": [],
   "source": []
  },
  {
   "cell_type": "code",
   "execution_count": null,
   "metadata": {},
   "outputs": [],
   "source": []
  },
  {
   "cell_type": "code",
   "execution_count": 37,
   "metadata": {},
   "outputs": [
    {
     "data": {
      "text/plain": [
       "143"
      ]
     },
     "execution_count": 37,
     "metadata": {},
     "output_type": "execute_result"
    }
   ],
   "source": [
    "def fibonacci_numbers(nums):\n",
    "    x, y = 0, 1\n",
    "    for _ in range(nums):\n",
    "        x, y = y, x+y\n",
    "        yield x\n",
    "\n",
    "def square(nums):\n",
    "    for num in nums:\n",
    "        yield num**2\n",
    "\n",
    "# print(sum(square(fibonacci_numbers(10))))\n",
    "sum(fibonacci_numbers(10))"
   ]
  },
  {
   "cell_type": "code",
   "execution_count": null,
   "metadata": {},
   "outputs": [],
   "source": []
  },
  {
   "cell_type": "code",
   "execution_count": null,
   "metadata": {},
   "outputs": [],
   "source": []
  },
  {
   "cell_type": "code",
   "execution_count": null,
   "metadata": {},
   "outputs": [],
   "source": []
  },
  {
   "cell_type": "code",
   "execution_count": null,
   "metadata": {},
   "outputs": [],
   "source": []
  },
  {
   "cell_type": "code",
   "execution_count": null,
   "metadata": {},
   "outputs": [],
   "source": []
  },
  {
   "cell_type": "code",
   "execution_count": null,
   "metadata": {},
   "outputs": [],
   "source": []
  },
  {
   "cell_type": "code",
   "execution_count": null,
   "metadata": {},
   "outputs": [],
   "source": []
  },
  {
   "cell_type": "code",
   "execution_count": null,
   "metadata": {},
   "outputs": [],
   "source": []
  },
  {
   "cell_type": "code",
   "execution_count": null,
   "metadata": {},
   "outputs": [],
   "source": []
  },
  {
   "cell_type": "code",
   "execution_count": null,
   "metadata": {},
   "outputs": [],
   "source": []
  },
  {
   "cell_type": "code",
   "execution_count": null,
   "metadata": {},
   "outputs": [],
   "source": []
  },
  {
   "cell_type": "code",
   "execution_count": null,
   "metadata": {},
   "outputs": [],
   "source": []
  },
  {
   "cell_type": "code",
   "execution_count": null,
   "metadata": {},
   "outputs": [],
   "source": []
  },
  {
   "cell_type": "code",
   "execution_count": null,
   "metadata": {},
   "outputs": [],
   "source": []
  },
  {
   "cell_type": "code",
   "execution_count": null,
   "metadata": {},
   "outputs": [],
   "source": []
  },
  {
   "cell_type": "code",
   "execution_count": null,
   "metadata": {},
   "outputs": [],
   "source": []
  },
  {
   "cell_type": "code",
   "execution_count": null,
   "metadata": {},
   "outputs": [],
   "source": []
  },
  {
   "cell_type": "code",
   "execution_count": null,
   "metadata": {},
   "outputs": [],
   "source": []
  },
  {
   "cell_type": "code",
   "execution_count": null,
   "metadata": {},
   "outputs": [],
   "source": []
  },
  {
   "cell_type": "code",
   "execution_count": null,
   "metadata": {},
   "outputs": [],
   "source": []
  },
  {
   "cell_type": "code",
   "execution_count": null,
   "metadata": {},
   "outputs": [],
   "source": []
  },
  {
   "cell_type": "code",
   "execution_count": 37,
   "metadata": {},
   "outputs": [
    {
     "data": {
      "text/plain": [
       "0.033759786005248316"
      ]
     },
     "execution_count": 37,
     "metadata": {},
     "output_type": "execute_result"
    }
   ],
   "source": [
    "memory_view_data = memoryview(bytes_data)\n",
    "memory_view_time = timeit.timeit('while memory_view_data: memory_view_data = memory_view_data[1:]', \"from __main__ import memory_view_data\")\n",
    "memory_view_time\n"
   ]
  },
  {
   "cell_type": "code",
   "execution_count": null,
   "metadata": {},
   "outputs": [],
   "source": []
  },
  {
   "cell_type": "code",
   "execution_count": null,
   "metadata": {},
   "outputs": [],
   "source": []
  },
  {
   "cell_type": "code",
   "execution_count": null,
   "metadata": {},
   "outputs": [],
   "source": []
  },
  {
   "cell_type": "code",
   "execution_count": null,
   "metadata": {},
   "outputs": [],
   "source": []
  },
  {
   "cell_type": "code",
   "execution_count": null,
   "metadata": {},
   "outputs": [],
   "source": []
  },
  {
   "cell_type": "code",
   "execution_count": null,
   "metadata": {},
   "outputs": [],
   "source": []
  },
  {
   "cell_type": "code",
   "execution_count": null,
   "metadata": {},
   "outputs": [],
   "source": []
  },
  {
   "cell_type": "code",
   "execution_count": null,
   "metadata": {},
   "outputs": [],
   "source": [
    "# Trying to edit byte object\n",
    "try:\n",
    "    byte_object = byte_object.capitalize()\n",
    "except:\n",
    "    print('Error occured while editing byte object')\n",
    "\n",
    "try:\n",
    "    byte_array_object = byte_array_object + b'123'\n",
    "except:\n",
    "    print('Error occured while editing byte array object')\n",
    "\n",
    "print('Byte Object After editing :' , byte_object)\n",
    "print('Byte Array Object After editing :' , byte_array_object)"
   ]
  },
  {
   "cell_type": "code",
   "execution_count": null,
   "metadata": {},
   "outputs": [],
   "source": []
  },
  {
   "cell_type": "code",
   "execution_count": null,
   "metadata": {},
   "outputs": [],
   "source": []
  },
  {
   "cell_type": "code",
   "execution_count": null,
   "metadata": {},
   "outputs": [],
   "source": []
  },
  {
   "cell_type": "code",
   "execution_count": null,
   "metadata": {},
   "outputs": [],
   "source": []
  },
  {
   "cell_type": "code",
   "execution_count": null,
   "metadata": {},
   "outputs": [],
   "source": []
  },
  {
   "cell_type": "code",
   "execution_count": null,
   "metadata": {},
   "outputs": [],
   "source": []
  },
  {
   "cell_type": "code",
   "execution_count": null,
   "metadata": {},
   "outputs": [],
   "source": []
  },
  {
   "cell_type": "code",
   "execution_count": null,
   "metadata": {},
   "outputs": [],
   "source": []
  },
  {
   "cell_type": "code",
   "execution_count": null,
   "metadata": {},
   "outputs": [],
   "source": []
  },
  {
   "cell_type": "code",
   "execution_count": null,
   "metadata": {},
   "outputs": [],
   "source": []
  }
 ],
 "metadata": {
  "interpreter": {
   "hash": "8fcae832899945c066d7d4c73ed987eb1ba1081328930f6357afc48f48ee0072"
  },
  "kernelspec": {
   "display_name": "Python 3.9.7 ('base')",
   "language": "python",
   "name": "python3"
  },
  "language_info": {
   "codemirror_mode": {
    "name": "ipython",
    "version": 3
   },
   "file_extension": ".py",
   "mimetype": "text/x-python",
   "name": "python",
   "nbconvert_exporter": "python",
   "pygments_lexer": "ipython3",
   "version": "3.9.7"
  },
  "orig_nbformat": 4
 },
 "nbformat": 4,
 "nbformat_minor": 2
}
