{
 "cells": [
  {
   "cell_type": "code",
   "execution_count": 18,
   "metadata": {},
   "outputs": [
    {
     "name": "stdout",
     "output_type": "stream",
     "text": [
      "Name Of OS Module: posix\n",
      "Dir name \"dir\" is created ...\n",
      "Current Working Directory : /home/karthik/.local/share/Trash/files/dir/dir/dir/dir/dir\n",
      "After changing to dir , Current Working Directory : /home/karthik/.local/share/Trash/files/dir/dir/dir/dir/dir/dir\n"
     ]
    },
    {
     "ename": "FileNotFoundError",
     "evalue": "[Errno 2] No such file or directory: 'dir'",
     "output_type": "error",
     "traceback": [
      "\u001b[0;31m---------------------------------------------------------------------------\u001b[0m",
      "\u001b[0;31mFileNotFoundError\u001b[0m                         Traceback (most recent call last)",
      "\u001b[0;32m/tmp/ipykernel_82374/1574229223.py\u001b[0m in \u001b[0;36m<module>\u001b[0;34m\u001b[0m\n\u001b[1;32m     21\u001b[0m \u001b[0;34m\u001b[0m\u001b[0m\n\u001b[1;32m     22\u001b[0m \u001b[0;31m# Delete dir\u001b[0m\u001b[0;34m\u001b[0m\u001b[0;34m\u001b[0m\u001b[0m\n\u001b[0;32m---> 23\u001b[0;31m \u001b[0mos\u001b[0m\u001b[0;34m.\u001b[0m\u001b[0mrmdir\u001b[0m\u001b[0;34m(\u001b[0m\u001b[0;34m'dir'\u001b[0m\u001b[0;34m)\u001b[0m\u001b[0;34m\u001b[0m\u001b[0;34m\u001b[0m\u001b[0m\n\u001b[0m\u001b[1;32m     24\u001b[0m \u001b[0mprint\u001b[0m\u001b[0;34m(\u001b[0m\u001b[0;34m'Deleted dir folder'\u001b[0m\u001b[0;34m)\u001b[0m\u001b[0;34m\u001b[0m\u001b[0;34m\u001b[0m\u001b[0m\n\u001b[1;32m     25\u001b[0m \u001b[0;34m\u001b[0m\u001b[0m\n",
      "\u001b[0;31mFileNotFoundError\u001b[0m: [Errno 2] No such file or directory: 'dir'"
     ]
    }
   ],
   "source": [
    "import os\n",
    "\n",
    "# Name of OS Module\n",
    "print('Name Of OS Module:' , os.name)\n",
    "\n",
    "# Checking if dir exist\n",
    "if os.path.exists('dir'):\n",
    "    print('dir folder already exist ...')\n",
    "else:\n",
    "    # If does not exist Creating New Directory\n",
    "    os.mkdir('dir')\n",
    "    print('Dir name \"dir\" is created ...')\n",
    "\n",
    "# Get current working directory\n",
    "print('Current Working Directory :' , os.getcwd())\n",
    "\n",
    "# Change Directory\n",
    "# As we already created 'dir' directory , will switch there\n",
    "os.chdir('dir')\n",
    "print('After changing to dir , Current Working Directory :' , os.getcwd())\n",
    "\n",
    "# Delete dir\n",
    "os.rmdir('dir')\n",
    "print('Deleted dir folder')\n",
    "\n",
    "# Create file\n",
    "with open('text.txt' , 'w') as f:\n",
    "    pass\n",
    "# Change File Name\n",
    "print('Changing File Name ...')\n",
    "os.rename('text.txt' , 'new_text.txt')\n",
    "\n",
    "\n",
    "# Folder content    \n",
    "content = os.listdir()\n",
    "print('Files and Directories in Current Folder :' , content)\n",
    "\n"
   ]
  },
  {
   "cell_type": "code",
   "execution_count": 4,
   "metadata": {},
   "outputs": [],
   "source": [
    "# If we use with , no need to manually close file pointer\n",
    "file_pointer =  open('new_file.txt' , 'w+')\n",
    "# Writing in file\n",
    "# file_pointer.write('Python is a great language')\n",
    "print('File content line 1' , file = file_pointer)"
   ]
  },
  {
   "cell_type": "code",
   "execution_count": 13,
   "metadata": {},
   "outputs": [
    {
     "name": "stdout",
     "output_type": "stream",
     "text": [
      "Creating String ...\n",
      "Reading String ... \n",
      "  This is an example string  \n",
      "Updated String Is : stringexampleanisThis\n",
      "Error occured while deleting part of string : 'str' object doesn't support item deletion\n"
     ]
    }
   ],
   "source": [
    "# Strings\n",
    "# CRUD on Strings\n",
    "\n",
    "# Created String\n",
    "print('Creating String ...')\n",
    "string = '  This is an example string  '\n",
    "\n",
    "# Reading String\n",
    "print(\"Reading String ... \")\n",
    "for character in string:\n",
    "    print(character , end = '')\n",
    "\n",
    "# Updating String Element\n",
    "# As String is immutable we use a one / combination of these methods to update string\n",
    "# Slicing , Copying , Indexing , Built in string methods\n",
    "words = string.split(' ')\n",
    "new_string = ''.join(words[::-1])\n",
    "print(f'\\nUpdated String Is : {new_string}')\n",
    "\n",
    "# Deleting String\n",
    "# If tried to delete part of string / one character from string it raises error as string is immutable\n",
    "try:\n",
    "    del new_string[0]\n",
    "except Exception as e:\n",
    "    print('Error occured while deleting part of string :' , e)\n",
    "\n",
    "# However we can delete whole string variable\n",
    "del new_string"
   ]
  },
  {
   "cell_type": "code",
   "execution_count": 47,
   "metadata": {},
   "outputs": [
    {
     "name": "stdout",
     "output_type": "stream",
     "text": [
      "Actual String : the quick brown FOX jumps over the lazy dog   \n",
      "Capitalized String : The quick brown fox jumps over the lazy dog   \n",
      "Lower Case String : the quick brown fox jumps over the lazy dog   \n",
      "Upper Case String : THE QUICK BROWN FOX JUMPS OVER THE LAZY DOG   \n",
      "Swapping Case Of String : THE QUICK BROWN fox JUMPS OVER THE LAZY DOG   \n",
      "Title Case : The Quick Brown Fox Jumps Over The Lazy Dog   \n",
      "Index of value \"q\" : 4\n",
      "Replacing \"s\" with \"sss\" : the quick brown FOX jumpsss over the lazy dog   \n",
      "Is string alphanumeric ?  False\n",
      "Is string Alpha ?  False\n",
      "Is string digit ?  False\n",
      "Is the string a valid identifier ?  False\n",
      "Is string already in lower case ?  False\n",
      "Is string already in upper case ?  False\n",
      "Is string printable ?  True\n",
      "Centerred String : the quick brown FOX jumps over the lazy dog   \n",
      "Stripped of spaces : the quick brown FOX jumps over the lazy dog\n",
      "Joined String : t\th\te\t \tq\tu\ti\tc\tk\t \tb\tr\to\tw\tn\t \tF\tO\tX\t \tj\tu\tm\tp\ts\t \to\tv\te\tr\t \tt\th\te\t \tl\ta\tz\ty\t \td\to\tg\n",
      "Using Partition : ('the quick brown FOX jumps over the lazy dog', '', '')\n",
      "Using Split : ['the', 'quick', 'brown', 'FOX', 'jumps', 'over', 'the', 'lazy', 'dog']\n",
      "Number of times \"j\" occur in string : 1\n",
      "Does string endswith \"a\" ?  False\n",
      "Does string startswith \"t\" ?  True\n"
     ]
    }
   ],
   "source": [
    "# String Methods\n",
    "s = 'the quick brown FOX jumps over the lazy dog   '\n",
    "print('Actual String :' , s)\n",
    "print('Capitalized String :' , s.capitalize())\n",
    "print('Lower Case String :' , s.lower())\n",
    "print('Upper Case String :' , s.upper() )\n",
    "print('Swapping Case Of String :' , s.swapcase())\n",
    "print('Title Case :' , s.title())\n",
    "\n",
    "# Searching and replacing\n",
    "print('Index of value \"q\" :' , s.find('q'))\n",
    "print('Replacing \"s\" with \"sss\" :' , s.replace('s' , 'sss'))\n",
    "\n",
    "# Checking types\n",
    "print('Is string alphanumeric ? ', s.isalnum())\n",
    "print('Is string Alpha ? ' , s.isalpha())\n",
    "print('Is string digit ? ' , s.isdigit())\n",
    "print('Is the string a valid identifier ? ' , s.isidentifier())\n",
    "print('Is string already in lower case ? ' ,s.islower())\n",
    "print('Is string already in upper case ? ' ,s.isupper())\n",
    "print('Is string printable ? ' , s.isprintable())\n",
    "\n",
    "# Formatting\n",
    "# Returning a String in a centered field\n",
    "print('Centerred String :' , s.center(10))\n",
    "print('Stripped of spaces :' , s.strip())\n",
    "s = s.strip()\n",
    "\n",
    "# Joining\n",
    "l = list(s)\n",
    "joined_string = '\\t'.join(l)\n",
    "print('Joined String :' , joined_string)\n",
    "\n",
    "# Split string\n",
    "print('Using Partition :' , s.partition('fox'))\n",
    "print('Using Split :' , s.split(' '))\n",
    "\n",
    "# Counting\n",
    "print('Number of times \"j\" occur in string :' , s.count('j'))\n",
    "print('Does string endswith \"a\" ? ' , s.endswith('a'))\n",
    "print('Does string startswith \"t\" ? ' , s.startswith('t'))"
   ]
  },
  {
   "cell_type": "code",
   "execution_count": 18,
   "metadata": {},
   "outputs": [
    {
     "data": {
      "text/plain": [
       "' the quick brown fox jumps over the lazy dog   '"
      ]
     },
     "execution_count": 18,
     "metadata": {},
     "output_type": "execute_result"
    }
   ],
   "source": [
    "s"
   ]
  },
  {
   "cell_type": "code",
   "execution_count": null,
   "metadata": {},
   "outputs": [],
   "source": []
  },
  {
   "cell_type": "code",
   "execution_count": 3,
   "metadata": {},
   "outputs": [
    {
     "name": "stdout",
     "output_type": "stream",
     "text": [
      "type of variable : <class 'int'>\n",
      "Changing int to float : 3.0\n",
      "Changing into to complex : (3+0j)\n",
      "123\n",
      "27 10 18\n"
     ]
    }
   ],
   "source": [
    "# Integer\n",
    "variable = 3\n",
    "\n",
    "print('type of variable :' , type(variable))\n",
    "\n",
    "# Type conversion\n",
    "print('Changing int to float :' , float(variable))\n",
    "print('Changing into to complex :' , complex(variable))\n",
    "\n",
    "# underscore can be used as Delimter to integer\n",
    "variable = 1_2_3\n",
    "print(variable)\n",
    "\n",
    "# Binary , Octals and Hexadecimals\n",
    "binary = 0b11011\n",
    "octal = 0o12\n",
    "hexadecimal = 0x12\n",
    "\n",
    "print(binary , octal , hexadecimal)"
   ]
  },
  {
   "cell_type": "code",
   "execution_count": 5,
   "metadata": {},
   "outputs": [
    {
     "data": {
      "text/plain": [
       "9223372036854775807"
      ]
     },
     "execution_count": 5,
     "metadata": {},
     "output_type": "execute_result"
    }
   ],
   "source": [
    "import sys\n",
    "maximum_value_of_integer = sys.maxsize"
   ]
  },
  {
   "cell_type": "code",
   "execution_count": 8,
   "metadata": {},
   "outputs": [
    {
     "name": "stdout",
     "output_type": "stream",
     "text": [
      "type of variable : <class 'float'>\n",
      "Changing float to int : 3\n",
      "Changing float to complex : (3.3+0j)\n",
      "32.35\n",
      "nan\n",
      "inf\n"
     ]
    }
   ],
   "source": [
    "# Float\n",
    "variable = 3.3\n",
    "\n",
    "print('type of variable :' , type(variable))\n",
    "\n",
    "# Type conversion\n",
    "print('Changing float to int :' , int(variable))\n",
    "print('Changing float to complex :' , complex(variable))\n",
    "\n",
    "# underscore can be used as Delimter to Float also\n",
    "variable = 3_2.3_5\n",
    "print(variable)\n",
    "\n",
    "# inf and nan\n",
    "print(float('NaN'))\n",
    "print(float('inf'))"
   ]
  },
  {
   "cell_type": "code",
   "execution_count": 11,
   "metadata": {},
   "outputs": [
    {
     "name": "stdout",
     "output_type": "stream",
     "text": [
      "type of variable : <class 'complex'>\n",
      "Real part of variable : 3.0\n",
      "Imaginary part of variable : 0.0\n",
      "(32+35j)\n"
     ]
    }
   ],
   "source": [
    "# Complex\n",
    "variable = 3 + 0j\n",
    "\n",
    "print('type of variable :' , type(variable))\n",
    "\n",
    "print('Real part of variable :' , variable.real)\n",
    "print('Imaginary part of variable :' , variable.imag)\n",
    "\n",
    "\n",
    "# Type conversion\n",
    "# We can’t convert a complex number to int or float directly\n",
    "\n",
    "\n",
    "# underscore can be used as Delimter to Float also\n",
    "variable = 3_2 + 3_5j\n",
    "print(variable)"
   ]
  },
  {
   "cell_type": "code",
   "execution_count": 31,
   "metadata": {},
   "outputs": [
    {
     "name": "stdout",
     "output_type": "stream",
     "text": [
      "<class 'tuple'>\n",
      "(3+4j)\n",
      "(1, (3+4j), 'Elon')\n",
      "Tuple Value before changing : (1, 2, ['Hi'])\n",
      "List inside tuple is changed now : (1, 2, ['Hi', 'Hello'])\n",
      "(1, '2', (3+4j), 'Hello', 'Elon', 1, 2, ['Hi', 'Hello'])\n",
      "(1, 2, ['Hi', 'Hello'], 1, 2, ['Hi', 'Hello'], 1, 2, ['Hi', 'Hello'])\n",
      "1\n",
      "4\n",
      "1\n",
      "2\n",
      "(3+4j)\n",
      "Hello\n",
      "Elon\n",
      "True\n"
     ]
    }
   ],
   "source": [
    "# Tuples\n",
    "\n",
    "t1 = (1,'2',3+4j , 'Hello' , 'Elon')\n",
    "print(type(t1))\n",
    "\n",
    "# Indexing and Slicing\n",
    "print(t1[2])\n",
    "print(t1[::2])\n",
    "\n",
    "\n",
    "# Editing List Inside Tuple\n",
    "t2 = (1,2,['Hi'])\n",
    "print('Tuple Value before changing :' , t2)\n",
    "t2[2].append('Hello')\n",
    "print('List inside tuple is changed now :' , t2)\n",
    "\n",
    "# Adding tuples\n",
    "print(t1 + t2)\n",
    "\n",
    "# Multiplying tuples\n",
    "print(t2 * 3)\n",
    "\n",
    "# Built In Methods\n",
    "print(t1.count('Elon'))\n",
    "print(t1.index('Elon'))\n",
    "\n",
    "# Iterating\n",
    "for element in t1:\n",
    "    print(element)\n",
    "\n",
    "# Membership Test\n",
    "print('Elon' in t1)\n",
    "\n",
    "# As tuple is immutable , we can edit tuple by converting into list and doing list operations"
   ]
  },
  {
   "cell_type": "code",
   "execution_count": 38,
   "metadata": {},
   "outputs": [
    {
     "name": "stdout",
     "output_type": "stream",
     "text": [
      "range() document : range(stop) -> range object\n",
      "range(start, stop[, step]) -> range object\n",
      "\n",
      "Return an object that produces a sequence of integers from start (inclusive)\n",
      "to stop (exclusive) by step.  range(i, j) produces i, i+1, i+2, ..., j-1.\n",
      "start defaults to 0, and stop is omitted!  range(4) produces 0, 1, 2, 3.\n",
      "These are exactly the valid indices for a list of 4 elements.\n",
      "When step is given, it specifies the increment (or decrement).\n",
      "Using list() to get values from range object : [1, 2, 3, 4, 5, 6, 7, 8, 9, 10]\n",
      "Using list() to get values from range object (Negative Step Size): [15, 14, 13, 12, 11, 10, 9, 8, 7, 6, 5, 4, 3, 2]\n"
     ]
    }
   ],
   "source": [
    "# Range\n",
    "\n",
    "print('range() document :' , range.__doc__)\n",
    "\n",
    "# Positive Step Size\n",
    "range_object = range(1 , 11 ,  1)\n",
    "list_of_elements = list(range_object)\n",
    "print('Using list() to get values from range object :' , list_of_elements)\n",
    "\n",
    "# Using negative step size\n",
    "range_object = range(15 , 1 ,  -1)\n",
    "list_of_elements = list(range_object)\n",
    "print('Using list() to get values from range object (Negative Step Size):' , list_of_elements)"
   ]
  },
  {
   "cell_type": "code",
   "execution_count": 39,
   "metadata": {},
   "outputs": [
    {
     "ename": "TypeError",
     "evalue": "range expected at least 1 argument, got 0",
     "output_type": "error",
     "traceback": [
      "\u001b[0;31m---------------------------------------------------------------------------\u001b[0m",
      "\u001b[0;31mTypeError\u001b[0m                                 Traceback (most recent call last)",
      "\u001b[0;32m/tmp/ipykernel_13838/2741177838.py\u001b[0m in \u001b[0;36m<module>\u001b[0;34m\u001b[0m\n\u001b[0;32m----> 1\u001b[0;31m \u001b[0mrange\u001b[0m\u001b[0;34m(\u001b[0m\u001b[0;34m)\u001b[0m\u001b[0;34m\u001b[0m\u001b[0;34m\u001b[0m\u001b[0m\n\u001b[0m",
      "\u001b[0;31mTypeError\u001b[0m: range expected at least 1 argument, got 0"
     ]
    }
   ],
   "source": [
    "range()"
   ]
  },
  {
   "cell_type": "code",
   "execution_count": 41,
   "metadata": {},
   "outputs": [],
   "source": [
    "for i in range(-44):\n",
    "    print(i)"
   ]
  },
  {
   "cell_type": "code",
   "execution_count": 45,
   "metadata": {},
   "outputs": [
    {
     "name": "stdout",
     "output_type": "stream",
     "text": [
      "Dictionary : {frozenset({1, 2, 3, 4, 5}): 'Value'}\n",
      "frozenset({1, 2, 3, 4, 5, 6, 7, 8})\n",
      "frozenset({4, 5})\n",
      "frozenset({1, 2, 3})\n",
      "frozenset({1, 2, 3, 6, 7, 8})\n",
      "False\n",
      "False\n",
      "False\n"
     ]
    }
   ],
   "source": [
    "# Frozensets can do all operations as set , only thing is frozen sets are immutable\n",
    "# Creating frozensets\n",
    "fset1 = frozenset([1,2,3,4,5])\n",
    "fset2 = frozenset([4,5,6,7,8])\n",
    "\n",
    "# Using Frozenset as dictionary key\n",
    "d = {}\n",
    "d[fset1] = 'Value'\n",
    "print('Dictionary :' , d)\n",
    "\n",
    "# Copy\n",
    "f_copy = fset1.copy()\n",
    "\n",
    "# Union\n",
    "print(fset1.union(fset2))\n",
    "\n",
    "# Intersection\n",
    "print(fset1.intersection(fset2))\n",
    "\n",
    "# Difference\n",
    "print(fset1.difference(fset2))\n",
    "\n",
    "# Symmetric Difference\n",
    "print(fset1.symmetric_difference(fset2))\n",
    "\n",
    "# isdisjoint()\n",
    "print(fset1.isdisjoint(fset2))\n",
    "\n",
    "# issubset()\n",
    "print(fset1.issubset(fset2))\n",
    "\n",
    "# issuperset()\n",
    "print(fset1.issuperset(fset2))"
   ]
  },
  {
   "cell_type": "code",
   "execution_count": 14,
   "metadata": {},
   "outputs": [
    {
     "name": "stdout",
     "output_type": "stream",
     "text": [
      "True + True = 2\n",
      "True + False = 1\n",
      "False + False = 0\n",
      "Boolean value of None : False\n",
      "This line is executed ...\n",
      "Variable value : 1\n",
      "Variable value : 2\n",
      "Variable value : 3\n",
      "Variable value : 4\n",
      "Variable value : 5\n"
     ]
    }
   ],
   "source": [
    "# Booleans\n",
    "# Arithmetic operations on boolean\n",
    "print('True + True =' , True + True)\n",
    "print('True + False =' , True + False)\n",
    "print('False + False =' , False + False)\n",
    "\n",
    "# Boolean value of None\n",
    "print('Boolean value of None :' , bool(None))\n",
    "\n",
    "# Control flow using Boolean\n",
    "# if logic\n",
    "if True:\n",
    "    print('This line is executed ...')\n",
    "else:\n",
    "    print('This line will never be executed as if loop condition check is always True')\n",
    "\n",
    "# while logic\n",
    "var = 1\n",
    "while var <= 5:\n",
    "    print('Variable value :' , var)\n",
    "    var += 1"
   ]
  },
  {
   "cell_type": "code",
   "execution_count": 15,
   "metadata": {},
   "outputs": [
    {
     "name": "stdout",
     "output_type": "stream",
     "text": [
      "Integer conversion of True : 1\n",
      "Integer conversion of False : 0\n",
      "Float conversion of True : 1.0\n",
      "Float conversion of False : 0.0\n",
      "Imaginary number conversion of True : (1+0j)\n",
      "Imaginary number conversion of False : 0j\n",
      "String conversion of True : True\n",
      "String conversion of False : False\n"
     ]
    }
   ],
   "source": [
    "# Booleans\n",
    "# Boolean type conversion\n",
    "print('Integer conversion of True :' , int(True))\n",
    "print('Integer conversion of False :' , int(False))\n",
    "print('Float conversion of True :' , float(True))\n",
    "print('Float conversion of False :' , float(False))\n",
    "print('Imaginary number conversion of True :' , complex(True))\n",
    "print('Imaginary number conversion of False :' , complex(False))\n",
    "print('String conversion of True :' , str(True))\n",
    "print('String conversion of False :' , str(False))\n"
   ]
  },
  {
   "cell_type": "code",
   "execution_count": 43,
   "metadata": {},
   "outputs": [
    {
     "name": "stdout",
     "output_type": "stream",
     "text": [
      "Byte Object : b'\\x01\\x02\\x03'\n",
      "This Error Occured : bytes must be in range(0, 256)\n",
      "This Error Occured : 'bytes' object does not support item assignment\n",
      "Byte Variable : b'string'\n",
      "Decoded String Variable : string\n"
     ]
    }
   ],
   "source": [
    "# Bytes\n",
    "# Byte Object Creation\n",
    "byte_object = bytes([ 1, 2 , 3])\n",
    "print('Byte Object :' , byte_object)\n",
    "\n",
    "# Bytes can only represent values from 0 to 255\n",
    "try:\n",
    "    new_byte_object = bytes([1 , 2 , 256])\n",
    "except Exception as e:\n",
    "    print('This Error Occured :' , e)\n",
    "\n",
    "# Byte Objects are immutable\n",
    "try:\n",
    "    byte_object[0] = 'New Value'\n",
    "except Exception as e:\n",
    "    print('This Error Occured :' , e)\n",
    "\n",
    "# Type Conversion\n",
    "# String To Byte\n",
    "string_variable = 'string'\n",
    "byte_variable = bytes(string_variable , encoding= 'utf-8')\n",
    "print('Byte Variable :' , byte_variable)\n",
    "\n",
    "# Byte To String\n",
    "decoded_string_variable = byte_variable.decode()\n",
    "print('Decoded String Variable :' , decoded_string_variable)"
   ]
  },
  {
   "cell_type": "code",
   "execution_count": 44,
   "metadata": {},
   "outputs": [
    {
     "name": "stdout",
     "output_type": "stream",
     "text": [
      "Byte Array Object : bytearray(b'\\x01\\x02\\x03')\n",
      "Byte Array Object after changes : bytearray(b'7\\x02\\x03')\n",
      "This Error Occured : byte must be in range(0, 256)\n"
     ]
    },
    {
     "data": {
      "text/plain": [
       "bytearray"
      ]
     },
     "execution_count": 44,
     "metadata": {},
     "output_type": "execute_result"
    }
   ],
   "source": [
    "# Byte Arrays\n",
    "# Byte Arrays Object Creation\n",
    "byte_array_object = bytearray([1 , 2 , 3])\n",
    "print('Byte Array Object :' , byte_array_object)\n",
    "\n",
    "# byte arrays are same as bytes object but byte arrays are mutable\n",
    "byte_array_object[0] = 55\n",
    "print('Byte Array Object after changes :' , byte_array_object)\n",
    "\n",
    "# Bytes arrays also can only represent values from 0 to 255\n",
    "try:\n",
    "    new_byte_object = bytearray([1 , 2 , 256])\n",
    "except Exception as e:\n",
    "    print('This Error Occured :' , e)\n",
    "\n",
    "type(byte_array_object)"
   ]
  },
  {
   "cell_type": "code",
   "execution_count": 19,
   "metadata": {},
   "outputs": [
    {
     "name": "stdout",
     "output_type": "stream",
     "text": [
      "Type of memoryview object : <class 'memoryview'>\n",
      "memory view object on zero index :  1\n",
      "memory view to list : [1, 2, 3]\n",
      "memory view object after updating memory_view_object :  [33, 2, 3]\n",
      "memory view object after updating byte_array_object :  [33, 22, 3]\n"
     ]
    }
   ],
   "source": [
    "byte_array_object = bytearray([1 , 2 , 3])\n",
    "# a bytes-like object is required to pass into memoryview()\n",
    "memory_view_object = memoryview(byte_array_object)\n",
    "print('Type of memoryview object :' , type(memory_view_object))\n",
    "\n",
    "# Access memory\n",
    "print('memory view object on zero index : ' , memory_view_object[0])\n",
    "# Type conversion\n",
    "print('memory view to list :' , list(memory_view_object))\n",
    "\n",
    "# Updating zero index value to 33 using memoryview\n",
    "memory_view_object[0] = 33\n",
    "print('memory view object after updating memory_view_object : ' , list(memory_view_object))\n",
    "\n",
    "# If we update actual bytearray we pass inside that update reflects in memoryview also\n",
    "# Coz memory_view_object reference the same memory\n",
    "byte_array_object[1] = 22\n",
    "print('memory view object after updating byte_array_object : ' , list(memory_view_object))"
   ]
  },
  {
   "cell_type": "code",
   "execution_count": 40,
   "metadata": {},
   "outputs": [
    {
     "name": "stdout",
     "output_type": "stream",
     "text": [
      "Without memory view how much time it took : 0.1726300349982921\n",
      "With memory view how much time it took : 0.023860868001065683\n"
     ]
    }
   ],
   "source": [
    "import timeit\n",
    "\n",
    "#Increasing data size\n",
    "bytes_data = b'Sample String' * 5000\n",
    "# Code logic for deleting first index value of given data repeatedly\n",
    "bytes_time = timeit.timeit('while bytes_data: bytes_data = bytes_data[1:]', \"from __main__ import bytes_data\")\n",
    "memory_view_data = memoryview(bytes_data)\n",
    "memory_view_time = timeit.timeit('while memory_view_data: memory_view_data = memory_view_data[1:]', \"from __main__ import memory_view_data\")\n",
    "\n",
    "\n",
    "print('Without memory view how much time it took :' , bytes_time)\n",
    "print('With memory view how much time it took :' , memory_view_time)"
   ]
  },
  {
   "cell_type": "code",
   "execution_count": 42,
   "metadata": {},
   "outputs": [
    {
     "ename": "TypeError",
     "evalue": "'float' object is not callable",
     "output_type": "error",
     "traceback": [
      "\u001b[0;31m---------------------------------------------------------------------------\u001b[0m",
      "\u001b[0;31mTypeError\u001b[0m                                 Traceback (most recent call last)",
      "\u001b[0;32m/tmp/ipykernel_25871/1696946656.py\u001b[0m in \u001b[0;36m<module>\u001b[0;34m\u001b[0m\n\u001b[1;32m      1\u001b[0m \u001b[0;32mlambda\u001b[0m \u001b[0mx\u001b[0m\u001b[0;34m,\u001b[0m \u001b[0my\u001b[0m\u001b[0;34m:\u001b[0m \u001b[0mx\u001b[0m \u001b[0;34m+\u001b[0m \u001b[0my\u001b[0m\u001b[0;34m\u001b[0m\u001b[0;34m\u001b[0m\u001b[0m\n\u001b[0;32m----> 2\u001b[0;31m \u001b[0m_\u001b[0m\u001b[0;34m(\u001b[0m\u001b[0;36m2\u001b[0m\u001b[0;34m,\u001b[0m\u001b[0;36m3\u001b[0m\u001b[0;34m)\u001b[0m\u001b[0;34m\u001b[0m\u001b[0;34m\u001b[0m\u001b[0m\n\u001b[0m",
      "\u001b[0;31mTypeError\u001b[0m: 'float' object is not callable"
     ]
    }
   ],
   "source": [
    "lambda x, y: x + y\n",
    "_(2,3)"
   ]
  },
  {
   "cell_type": "code",
   "execution_count": 45,
   "metadata": {},
   "outputs": [],
   "source": [
    "a = lambda a , *args:  a"
   ]
  },
  {
   "cell_type": "code",
   "execution_count": 48,
   "metadata": {},
   "outputs": [
    {
     "data": {
      "text/plain": [
       "3"
      ]
     },
     "execution_count": 48,
     "metadata": {},
     "output_type": "execute_result"
    }
   ],
   "source": [
    "a(3, 5)"
   ]
  },
  {
   "cell_type": "code",
   "execution_count": 19,
   "metadata": {},
   "outputs": [],
   "source": [
    "class Person:\n",
    "\n",
    "    def greet(self , name = 'Karthik'):\n",
    "        print(f'Hello {name}')\n",
    "\n",
    "class Employee(Person):\n",
    "    def greet(self , name = 'Karthik'):\n",
    "        Person.greet(self)\n",
    "        print(f'Greetings {name}')\n"
   ]
  },
  {
   "cell_type": "code",
   "execution_count": 20,
   "metadata": {},
   "outputs": [
    {
     "name": "stdout",
     "output_type": "stream",
     "text": [
      "Hello Karthik\n",
      "Greetings Karthik\n"
     ]
    }
   ],
   "source": [
    "employee_object = Employee()\n",
    "employee_object.greet()"
   ]
  },
  {
   "cell_type": "code",
   "execution_count": null,
   "metadata": {},
   "outputs": [],
   "source": []
  },
  {
   "cell_type": "code",
   "execution_count": 23,
   "metadata": {},
   "outputs": [
    {
     "data": {
      "text/plain": [
       "{'2': 1, '5': 2, '0': 1, '7': 1, '3': 2, '1': 1, '4': 4, '6': 2}"
      ]
     },
     "execution_count": 23,
     "metadata": {},
     "output_type": "execute_result"
    }
   ],
   "source": [
    "number = '32345544667104'\n",
    "set_of_number = set([i for i in number])\n",
    "d = {}\n",
    "for ele in set_of_number:\n",
    "    d[ele] = 0\n",
    "for key in d.keys():\n",
    "    for ele in number:\n",
    "        if key == ele:\n",
    "            d[key] += 1\n",
    "d"
   ]
  },
  {
   "cell_type": "code",
   "execution_count": 28,
   "metadata": {},
   "outputs": [
    {
     "name": "stdout",
     "output_type": "stream",
     "text": [
      "**********\n"
     ]
    }
   ],
   "source": [
    "def fn(func):\n",
    "    def inner_fn():\n",
    "        return func()\n",
    "    return inner_fn()\n",
    "\n",
    "def fn1():\n",
    "    print('*'*10)\n",
    "fn(fn1)"
   ]
  },
  {
   "cell_type": "code",
   "execution_count": 29,
   "metadata": {},
   "outputs": [],
   "source": [
    "! echo 'Hi' > abc.txt"
   ]
  },
  {
   "cell_type": "code",
   "execution_count": 31,
   "metadata": {},
   "outputs": [
    {
     "name": "stdout",
     "output_type": "stream",
     "text": [
      "total 432K\n",
      "drwxrwxr-x 2 karthik karthik 4.0K Apr 27 22:55  python-recursion\n",
      "drwxrwxr-x 2 karthik karthik 4.0K Apr 27 22:56  python-decorators\n",
      "drwxrwxr-x 2 karthik karthik 4.0K Apr 27 23:21  python-first-order-and-higher-order-functions\n",
      "drwxrwxr-x 2 karthik karthik 4.0K May  2 13:47  python-useful-functions\n",
      "drwxrwxr-x 2 karthik karthik 4.0K May  2 15:19  python-namespace-and-scope-of-the-variables\n",
      "-rw-rw-r-- 1 karthik karthik 209K May  2 15:19 'Blog Code.ipynb'\n",
      "-rw-rw-r-- 1 karthik karthik   15 May  3 19:07  test_text_file.txt\n",
      "drwxrwxr-x 2 karthik karthik 4.0K May  3 19:31  pypi_odd_or_even\n",
      "drwxrwxr-x 2 karthik karthik 4.0K May  3 19:37  python-useful-tricks\n",
      "drwxrwxr-x 2 karthik karthik 4.0K May  3 19:37  python-execution-model\n",
      "drwxrwxr-x 2 karthik karthik 4.0K May  7 11:46  python-pickling\n",
      "drwxrwxr-x 2 karthik karthik 4.0K May  7 12:31  python-error-and-exception-handling\n",
      "drwxrwxr-x 3 karthik karthik 4.0K May  7 23:10  python-publishing-a-package-in-pypi\n",
      "drwxrwxr-x 2 karthik karthik 4.0K May  7 23:45  embed_code\n",
      "drwxrwxr-x 2 karthik karthik 4.0K May  8 00:00  python-sort-vs-sorted\n",
      "-rw-rw-r-- 1 karthik karthik  15K May  8 00:10 'Blog Code 1.ipynb'\n",
      "-rw-rw-r-- 1 karthik karthik  490 May 10 19:40  README.md\n",
      "drwxrwxr-x 2 karthik karthik 4.0K May 10 20:30  python-dictionary\n",
      "drwxrwxr-x 2 karthik karthik 4.0K May 10 21:30  python-hashable-vs-unhashable\n",
      "drwxrwxr-x 2 karthik karthik 4.0K May 11 22:26  python-class\n",
      "drwxrwxr-x 2 karthik karthik 4.0K May 12 22:00  python-lists\n",
      "-rw-rw-r-- 1 karthik karthik  24K May 13 16:21 'Blog Code 2.ipynb'\n",
      "drwxrwxr-x 2 karthik karthik 4.0K May 13 16:21  python-sets\n",
      "drwxrwxr-x 2 karthik karthik 4.0K May 13 19:54  python-json\n",
      "drwxrwxr-x 2 karthik karthik 4.0K May 13 20:37  python-os-library\n",
      "-rw-rw-r-- 1 karthik karthik    0 May 13 21:20  new_text.txt\n",
      "drwxrwxr-x 2 karthik karthik 4.0K May 13 22:15  python-f-string\n",
      "drwxrwxr-x 2 karthik karthik 4.0K May 15 07:53  python-magic-functions\n",
      "drwxrwxr-x 2 karthik karthik 4.0K May 15 22:55  python-file-handling\n",
      "-rw-rw-r-- 1 karthik karthik    0 May 15 22:59  test.txt\n",
      "-rw-rw-r-- 1 karthik karthik    0 May 15 22:59  demofile.txt\n",
      "drwxrwxr-x 2 karthik karthik 4.0K May 15 23:38  python-strings\n",
      "drwxrwxr-x 2 karthik karthik 4.0K May 16 15:14  python-integer\n",
      "drwxrwxr-x 2 karthik karthik 4.0K May 16 15:27  python-float\n",
      "drwxrwxr-x 2 karthik karthik 4.0K May 16 15:55  python-complex\n",
      "drwxrwxr-x 2 karthik karthik 4.0K May 16 16:10  python-tuples\n",
      "drwxrwxr-x 2 karthik karthik 4.0K May 16 17:02  python-range\n",
      "drwxrwxr-x 2 karthik karthik 4.0K May 16 17:26  python-frozensets\n",
      "drwxrwxr-x 2 karthik karthik 4.0K May 21 22:57  python-boolean\n",
      "drwxrwxr-x 2 karthik karthik 4.0K May 21 23:40  python-bytes-data-type\n",
      "drwxrwxr-x 2 karthik karthik 4.0K May 24 01:01  python-memoryview-data-type\n",
      "-rw-rw-r-- 1 karthik karthik  35K May 25 16:36 'Blog Code 3.ipynb'\n",
      "-rw-rw-r-- 1 karthik karthik    3 May 25 16:38  abc.txt\n"
     ]
    }
   ],
   "source": [
    "!ls -ltrh"
   ]
  },
  {
   "cell_type": "code",
   "execution_count": 33,
   "metadata": {},
   "outputs": [
    {
     "name": "stdout",
     "output_type": "stream",
     "text": [
      "Filesystem      Size  Used Avail Use% Mounted on\n",
      "udev            4.8G     0  4.8G   0% /dev\n",
      "tmpfs           983M  1.8M  981M   1% /run\n",
      "/dev/sda5       292G  169G  109G  61% /\n",
      "tmpfs           4.8G   71M  4.8G   2% /dev/shm\n",
      "tmpfs           5.0M  4.0K  5.0M   1% /run/lock\n",
      "tmpfs           4.8G     0  4.8G   0% /sys/fs/cgroup\n",
      "/dev/sda1       511M  4.0K  511M   1% /boot/efi\n",
      "tmpfs           983M   60K  983M   1% /run/user/1000\n"
     ]
    }
   ],
   "source": [
    "! df -h"
   ]
  },
  {
   "cell_type": "code",
   "execution_count": 8,
   "metadata": {},
   "outputs": [
    {
     "name": "stdout",
     "output_type": "stream",
     "text": [
      "Map object : [True, False, True]\n",
      "Filter object : [4, 8]\n",
      "Reduce object : 15\n"
     ]
    }
   ],
   "source": [
    "# map\n",
    "# fn to return True if string starts with 'A'\n",
    "function1 = lambda x : x.startswith('A')\n",
    "iterable1 = ['Apple' , 'Banana' , 'Aeroplane']\n",
    "map_object = map(function1 , iterable1)\n",
    "print('Map object :' , list(map_object))\n",
    "\n",
    "# filter\n",
    "# fn to return True if number is even\n",
    "function2 = lambda x : x % 2 == 0\n",
    "iterable2 = [3 , 4 , 8]\n",
    "filter_object = filter(function2 , iterable2)\n",
    "print('Filter object :' , list(filter_object))\n",
    "\n",
    "# reduce\n",
    "from functools import reduce\n",
    "# fn to add two numbers\n",
    "function3 = lambda a , b : a + b\n",
    "iterable3 = [3 , 4 , 8]\n",
    "reduce_object = reduce(function3 , iterable3)\n",
    "print('Reduce object :' , reduce_object)"
   ]
  },
  {
   "cell_type": "code",
   "execution_count": 9,
   "metadata": {},
   "outputs": [
    {
     "data": {
      "text/plain": [
       "int"
      ]
     },
     "execution_count": 9,
     "metadata": {},
     "output_type": "execute_result"
    }
   ],
   "source": [
    "type(reduce_object)"
   ]
  },
  {
   "cell_type": "code",
   "execution_count": 16,
   "metadata": {},
   "outputs": [
    {
     "name": "stdout",
     "output_type": "stream",
     "text": [
      "Length of the string \"abcde\": 5\n",
      "These are the passed arguments : ('default argument 1', 'default argument 2')\n",
      "This is function doc string\n",
      "These are the passed arguments : (1, 2, 3, 'abc')\n",
      "These are the passed key word arguments : {'key1': '123', 'key2': '456', 'key3': '789'}\n"
     ]
    }
   ],
   "source": [
    "# Built In Function len\n",
    "string = 'abcde'\n",
    "print(f'Length of the string \"{string}\":' , len(string))\n",
    "\n",
    "# Creating a User Defined Function\n",
    "def function_name(argument1 = 'default argument 1' , argument2 = 'default argument 2'):\n",
    "    '''This is function doc string''' \n",
    "\n",
    "    print('These are the passed arguments :' , (argument1 , argument2))\n",
    "\n",
    "# Calling function\n",
    "function_name()\n",
    "\n",
    "# Printing docstring\n",
    "print(function_name.__doc__)\n",
    "\n",
    "# Taking Multiple Args\n",
    "def function(*args , **kwargs):\n",
    "    print('These are the passed arguments :' , args)\n",
    "    print('These are the passed key word arguments :' , kwargs)\n",
    "\n",
    "# args in function is taken as a tuple and kwargs is taken as a dictionary\n",
    "function(1 , 2 , 3 , 'abc' , key1 = '123' , key2 = '456' , key3 = '789')"
   ]
  },
  {
   "cell_type": "code",
   "execution_count": 7,
   "metadata": {},
   "outputs": [
    {
     "name": "stdout",
     "output_type": "stream",
     "text": [
      "10\n"
     ]
    }
   ],
   "source": [
    "# Return a value in function\n",
    "# 3 is default value here if no value is passed\n",
    "def function_that_return(value = 3):\n",
    "    # Multiply value by 2 and return that number\n",
    "    return value * 2\n",
    "\n",
    "# Function that has no code but still not give error\n",
    "def function_that_pass():\n",
    "    pass\n",
    "\n",
    "print(function_that_return(5))\n",
    "function_that_pass()"
   ]
  },
  {
   "cell_type": "code",
   "execution_count": 1,
   "metadata": {},
   "outputs": [
    {
     "name": "stdout",
     "output_type": "stream",
     "text": [
      "[1, 2, 3]\n",
      "<list_iterator object at 0x7f92586a0e80>\n"
     ]
    }
   ],
   "source": [
    "# Iterable\n",
    "iterable_object = [1,2,3]\n",
    "# Iterator\n",
    "iterator_object = iter([1,2,3])\n",
    "\n",
    "print(iterable_object)\n",
    "print(iterator_object)"
   ]
  },
  {
   "cell_type": "code",
   "execution_count": 1,
   "metadata": {},
   "outputs": [
    {
     "name": "stdout",
     "output_type": "stream",
     "text": [
      "iterator_object_created_by_generator_function : <generator object generator_function at 0x7f5410b76b30>\n",
      "1\n",
      "2\n",
      "3\n"
     ]
    }
   ],
   "source": [
    "# Generators\n",
    "def generator_function(list_variable):\n",
    "    for element in list_variable:\n",
    "        yield element\n",
    "\n",
    "iterator_object_created_by_generator_function = generator_function([1,2,3])\n",
    "print('iterator_object_created_by_generator_function :' , iterator_object_created_by_generator_function)\n",
    "for value in iterator_object_created_by_generator_function:\n",
    "    print(value)"
   ]
  },
  {
   "cell_type": "code",
   "execution_count": 8,
   "metadata": {},
   "outputs": [
    {
     "name": "stdout",
     "output_type": "stream",
     "text": [
      "Printing function() object :  <generator object function at 0x7f53eee4f430>\n"
     ]
    },
    {
     "data": {
      "text/plain": [
       "<generator object function_1 at 0x7f53eee4f430>"
      ]
     },
     "execution_count": 8,
     "metadata": {},
     "output_type": "execute_result"
    }
   ],
   "source": [
    "# Function with return and yield\n",
    "def function():\n",
    "    yield 1\n",
    "    yield 2\n",
    "    yield 3\n",
    "    return 5\n",
    "print('Printing function() object : ' , function())\n",
    "# Even though function() has return keyword , Once it has yield keyword it is treated as a generator\n"
   ]
  },
  {
   "cell_type": "code",
   "execution_count": 25,
   "metadata": {},
   "outputs": [
    {
     "name": "stdout",
     "output_type": "stream",
     "text": [
      "Using return :  3\n",
      "**************************************************\n",
      "abc\n",
      "Using yield :  [3]\n"
     ]
    }
   ],
   "source": [
    "def function_1():\n",
    "    return 3\n",
    "    print('abc')\n",
    "# Here abc will not be printed as once return is used in function , function execution stops.\n",
    "print('Using return : ' , function_1())\n",
    "\n",
    "print('*' * 50)\n",
    "def function_2():\n",
    "    yield 3\n",
    "    print('abc')\n",
    "\n",
    "# This code will print abc as even though it yields 3 , it does not stop function execution \n",
    "# so the rest of code other than other yield will run when used with list() , But when using next() only\n",
    "# whatever value is yielded that is returned not the other code logic like print() \n",
    "a = list(function_2())\n",
    "print('Using yield : ' , a )"
   ]
  },
  {
   "cell_type": "code",
   "execution_count": 28,
   "metadata": {},
   "outputs": [
    {
     "name": "stdout",
     "output_type": "stream",
     "text": [
      "generator_object :  <generator object <genexpr> at 0x7f53eee65890>\n",
      "List of generator object : [1, 4, 9, 16, 25]\n"
     ]
    }
   ],
   "source": [
    "# Generator expression \n",
    "# Creating generator object just like list comprehension\n",
    "\n",
    "list_variable = [1,2,3,4,5]\n",
    "generator_object = (i ** 2 for i in list_variable)\n",
    "# Wait a min , So using '()' does not create tuple comprehension ?\n",
    "# Tuples are immutable so we can't assign them new values , \n",
    "# so there is no Tuple comprehension in Python\n",
    "\n",
    "print('generator_object : ' , generator_object)\n",
    "print('List of generator object :' , list(generator_object))"
   ]
  },
  {
   "cell_type": "code",
   "execution_count": 29,
   "metadata": {},
   "outputs": [
    {
     "name": "stdout",
     "output_type": "stream",
     "text": [
      "range_object : range(0, 5)\n",
      "list of range_object  [0, 1, 2, 3, 4]\n"
     ]
    }
   ],
   "source": [
    "# range() is an Built in and frequently used generator\n",
    "range_object = range(0 , 5)\n",
    "print('range_object :' , range_object)\n",
    "print('list of range_object ' , list(range_object))"
   ]
  },
  {
   "cell_type": "code",
   "execution_count": 41,
   "metadata": {},
   "outputs": [
    {
     "name": "stdout",
     "output_type": "stream",
     "text": [
      "2 + 3 + 5 : 10\n"
     ]
    }
   ],
   "source": [
    "# As function can be passed inside on another , Generators can do same too\n",
    "def add_3(number):\n",
    "    value = number + 3\n",
    "    yield value\n",
    "\n",
    "def add_5(number):\n",
    "    value = number + 5\n",
    "    yield value\n",
    "\n",
    "value = sum(add_3(sum(add_5(2))))\n",
    "print('2 + 3 + 5 :' , value)\n",
    "\n",
    "# So why we use sum() BIF ?\n",
    "# Unlike return keyword , yield will give generator object \n",
    "# we can't do any operation on them unless we convert them to basic data types"
   ]
  },
  {
   "cell_type": "code",
   "execution_count": 2,
   "metadata": {},
   "outputs": [
    {
     "data": {
      "text/plain": [
       "array(['1', '2', '3.3'], dtype='<U32')"
      ]
     },
     "execution_count": 2,
     "metadata": {},
     "output_type": "execute_result"
    }
   ],
   "source": [
    "# numpy array vs list\n",
    "import numpy as np\n",
    "np_array = np.array(['1' , 2 , 3.3])\n",
    "np_array"
   ]
  },
  {
   "cell_type": "code",
   "execution_count": 3,
   "metadata": {},
   "outputs": [
    {
     "name": "stderr",
     "output_type": "stream",
     "text": [
      "/tmp/ipykernel_18021/3311793972.py:2: VisibleDeprecationWarning: Creating an ndarray from ragged nested sequences (which is a list-or-tuple of lists-or-tuples-or ndarrays with different lengths or shapes) is deprecated. If you meant to do this, you must specify 'dtype=object' when creating the ndarray.\n",
      "  nested_numpy_array = np.array(nested_list)\n"
     ]
    }
   ],
   "source": [
    "nested_list = [[1,2,3] , [4,5]]\n",
    "nested_numpy_array = np.array(nested_list)"
   ]
  },
  {
   "cell_type": "code",
   "execution_count": 4,
   "metadata": {},
   "outputs": [
    {
     "name": "stderr",
     "output_type": "stream",
     "text": [
      "/tmp/ipykernel_18021/1927286877.py:1: VisibleDeprecationWarning: Creating an ndarray from ragged nested sequences (which is a list-or-tuple of lists-or-tuples-or ndarrays with different lengths or shapes) is deprecated. If you meant to do this, you must specify 'dtype=object' when creating the ndarray.\n",
      "  np.array([[1,2,3] , [1,2,3,4]])\n"
     ]
    },
    {
     "data": {
      "text/plain": [
       "array([list([1, 2, 3]), list([1, 2, 3, 4])], dtype=object)"
      ]
     },
     "execution_count": 4,
     "metadata": {},
     "output_type": "execute_result"
    }
   ],
   "source": [
    "np.array([[1,2,3] , [1,2,3,4]])"
   ]
  },
  {
   "cell_type": "code",
   "execution_count": 13,
   "metadata": {},
   "outputs": [
    {
     "ename": "ValueError",
     "evalue": "The truth value of an array with more than one element is ambiguous. Use a.any() or a.all()",
     "output_type": "error",
     "traceback": [
      "\u001b[0;31m---------------------------------------------------------------------------\u001b[0m",
      "\u001b[0;31mValueError\u001b[0m                                Traceback (most recent call last)",
      "\u001b[0;32m/tmp/ipykernel_18021/1970098924.py\u001b[0m in \u001b[0;36m<module>\u001b[0;34m\u001b[0m\n\u001b[1;32m      7\u001b[0m \u001b[0mlist_time\u001b[0m \u001b[0;34m=\u001b[0m \u001b[0mtimeit\u001b[0m\u001b[0;34m.\u001b[0m\u001b[0mtimeit\u001b[0m\u001b[0;34m(\u001b[0m\u001b[0;34m'while list_data: list_data = list_data[1:]'\u001b[0m\u001b[0;34m,\u001b[0m \u001b[0;34m\"from __main__ import list_data\"\u001b[0m\u001b[0;34m)\u001b[0m\u001b[0;34m\u001b[0m\u001b[0;34m\u001b[0m\u001b[0m\n\u001b[1;32m      8\u001b[0m \u001b[0mnumpy_array_data\u001b[0m \u001b[0;34m=\u001b[0m \u001b[0mnp\u001b[0m\u001b[0;34m.\u001b[0m\u001b[0marray\u001b[0m\u001b[0;34m(\u001b[0m\u001b[0mlist_data\u001b[0m\u001b[0;34m)\u001b[0m\u001b[0;34m\u001b[0m\u001b[0;34m\u001b[0m\u001b[0m\n\u001b[0;32m----> 9\u001b[0;31m \u001b[0mnumpy_array_time\u001b[0m \u001b[0;34m=\u001b[0m \u001b[0mtimeit\u001b[0m\u001b[0;34m.\u001b[0m\u001b[0mtimeit\u001b[0m\u001b[0;34m(\u001b[0m\u001b[0;34m'while numpy_array_data: numpy_array_data = numpy_array_data[1:]'\u001b[0m\u001b[0;34m,\u001b[0m \u001b[0;34m\"from __main__ import numpy_array_data\"\u001b[0m\u001b[0;34m)\u001b[0m\u001b[0;34m\u001b[0m\u001b[0;34m\u001b[0m\u001b[0m\n\u001b[0m\u001b[1;32m     10\u001b[0m \u001b[0;34m\u001b[0m\u001b[0m\n\u001b[1;32m     11\u001b[0m \u001b[0;34m\u001b[0m\u001b[0m\n",
      "\u001b[0;32m~/anaconda3/lib/python3.9/timeit.py\u001b[0m in \u001b[0;36mtimeit\u001b[0;34m(stmt, setup, timer, number, globals)\u001b[0m\n\u001b[1;32m    231\u001b[0m            number=default_number, globals=None):\n\u001b[1;32m    232\u001b[0m     \u001b[0;34m\"\"\"Convenience function to create Timer object and call timeit method.\"\"\"\u001b[0m\u001b[0;34m\u001b[0m\u001b[0;34m\u001b[0m\u001b[0m\n\u001b[0;32m--> 233\u001b[0;31m     \u001b[0;32mreturn\u001b[0m \u001b[0mTimer\u001b[0m\u001b[0;34m(\u001b[0m\u001b[0mstmt\u001b[0m\u001b[0;34m,\u001b[0m \u001b[0msetup\u001b[0m\u001b[0;34m,\u001b[0m \u001b[0mtimer\u001b[0m\u001b[0;34m,\u001b[0m \u001b[0mglobals\u001b[0m\u001b[0;34m)\u001b[0m\u001b[0;34m.\u001b[0m\u001b[0mtimeit\u001b[0m\u001b[0;34m(\u001b[0m\u001b[0mnumber\u001b[0m\u001b[0;34m)\u001b[0m\u001b[0;34m\u001b[0m\u001b[0;34m\u001b[0m\u001b[0m\n\u001b[0m\u001b[1;32m    234\u001b[0m \u001b[0;34m\u001b[0m\u001b[0m\n\u001b[1;32m    235\u001b[0m def repeat(stmt=\"pass\", setup=\"pass\", timer=default_timer,\n",
      "\u001b[0;32m~/anaconda3/lib/python3.9/timeit.py\u001b[0m in \u001b[0;36mtimeit\u001b[0;34m(self, number)\u001b[0m\n\u001b[1;32m    175\u001b[0m         \u001b[0mgc\u001b[0m\u001b[0;34m.\u001b[0m\u001b[0mdisable\u001b[0m\u001b[0;34m(\u001b[0m\u001b[0;34m)\u001b[0m\u001b[0;34m\u001b[0m\u001b[0;34m\u001b[0m\u001b[0m\n\u001b[1;32m    176\u001b[0m         \u001b[0;32mtry\u001b[0m\u001b[0;34m:\u001b[0m\u001b[0;34m\u001b[0m\u001b[0;34m\u001b[0m\u001b[0m\n\u001b[0;32m--> 177\u001b[0;31m             \u001b[0mtiming\u001b[0m \u001b[0;34m=\u001b[0m \u001b[0mself\u001b[0m\u001b[0;34m.\u001b[0m\u001b[0minner\u001b[0m\u001b[0;34m(\u001b[0m\u001b[0mit\u001b[0m\u001b[0;34m,\u001b[0m \u001b[0mself\u001b[0m\u001b[0;34m.\u001b[0m\u001b[0mtimer\u001b[0m\u001b[0;34m)\u001b[0m\u001b[0;34m\u001b[0m\u001b[0;34m\u001b[0m\u001b[0m\n\u001b[0m\u001b[1;32m    178\u001b[0m         \u001b[0;32mfinally\u001b[0m\u001b[0;34m:\u001b[0m\u001b[0;34m\u001b[0m\u001b[0;34m\u001b[0m\u001b[0m\n\u001b[1;32m    179\u001b[0m             \u001b[0;32mif\u001b[0m \u001b[0mgcold\u001b[0m\u001b[0;34m:\u001b[0m\u001b[0;34m\u001b[0m\u001b[0;34m\u001b[0m\u001b[0m\n",
      "\u001b[0;32m~/anaconda3/lib/python3.9/timeit.py\u001b[0m in \u001b[0;36minner\u001b[0;34m(_it, _timer)\u001b[0m\n",
      "\u001b[0;31mValueError\u001b[0m: The truth value of an array with more than one element is ambiguous. Use a.any() or a.all()"
     ]
    }
   ],
   "source": [
    "import timeit\n",
    "import numpy as np\n",
    "\n",
    "#Increasing data size\n",
    "list_data = [1,2,3] * 5000\n",
    "# Code logic for deleting first index value of given data repeatedly\n",
    "list_time = timeit.timeit('while list_data: list_data = list_data[1:]', \"from __main__ import list_data\")\n",
    "numpy_array_data = np.array(list_data)\n",
    "numpy_array_time = timeit.timeit('while numpy_array_data: numpy_array_data = numpy_array_data[1:]', \"from __main__ import numpy_array_data\")\n",
    "\n",
    "\n",
    "print('Lists how much time it took :' , list_time)\n",
    "print('Numpy Arrays how much time it took :' , numpy_array_time)"
   ]
  },
  {
   "cell_type": "code",
   "execution_count": 14,
   "metadata": {},
   "outputs": [
    {
     "ename": "AttributeError",
     "evalue": "'NoneType' object has no attribute 'append'",
     "output_type": "error",
     "traceback": [
      "\u001b[0;31m---------------------------------------------------------------------------\u001b[0m",
      "\u001b[0;31mAttributeError\u001b[0m                            Traceback (most recent call last)",
      "\u001b[0;32m/tmp/ipykernel_18021/312789123.py\u001b[0m in \u001b[0;36m<module>\u001b[0;34m\u001b[0m\n\u001b[1;32m      5\u001b[0m \u001b[0mlist_data\u001b[0m \u001b[0;34m=\u001b[0m \u001b[0;34m[\u001b[0m\u001b[0;36m1\u001b[0m\u001b[0;34m,\u001b[0m\u001b[0;36m2\u001b[0m\u001b[0;34m,\u001b[0m\u001b[0;36m3\u001b[0m\u001b[0;34m]\u001b[0m\u001b[0;34m\u001b[0m\u001b[0;34m\u001b[0m\u001b[0m\n\u001b[1;32m      6\u001b[0m \u001b[0;31m# Code logic for deleting first index value of given data repeatedly\u001b[0m\u001b[0;34m\u001b[0m\u001b[0;34m\u001b[0m\u001b[0m\n\u001b[0;32m----> 7\u001b[0;31m \u001b[0mlist_time\u001b[0m \u001b[0;34m=\u001b[0m \u001b[0mtimeit\u001b[0m\u001b[0;34m.\u001b[0m\u001b[0mtimeit\u001b[0m\u001b[0;34m(\u001b[0m\u001b[0;34m'for i in range(1000): list_data = list_data.append(i)'\u001b[0m\u001b[0;34m,\u001b[0m \u001b[0;34m\"from __main__ import list_data\"\u001b[0m\u001b[0;34m)\u001b[0m\u001b[0;34m\u001b[0m\u001b[0;34m\u001b[0m\u001b[0m\n\u001b[0m\u001b[1;32m      8\u001b[0m \u001b[0mnumpy_array_data\u001b[0m \u001b[0;34m=\u001b[0m \u001b[0mnp\u001b[0m\u001b[0;34m.\u001b[0m\u001b[0marray\u001b[0m\u001b[0;34m(\u001b[0m\u001b[0mlist_data\u001b[0m\u001b[0;34m)\u001b[0m\u001b[0;34m\u001b[0m\u001b[0;34m\u001b[0m\u001b[0m\n\u001b[1;32m      9\u001b[0m \u001b[0mnumpy_array_time\u001b[0m \u001b[0;34m=\u001b[0m \u001b[0mtimeit\u001b[0m\u001b[0;34m.\u001b[0m\u001b[0mtimeit\u001b[0m\u001b[0;34m(\u001b[0m\u001b[0;34m'for i in range(1000): nparr = np.append(nparr , [i])'\u001b[0m\u001b[0;34m,\u001b[0m \u001b[0;34m\"from __main__ import numpy_array_data\"\u001b[0m\u001b[0;34m)\u001b[0m\u001b[0;34m\u001b[0m\u001b[0;34m\u001b[0m\u001b[0m\n",
      "\u001b[0;32m~/anaconda3/lib/python3.9/timeit.py\u001b[0m in \u001b[0;36mtimeit\u001b[0;34m(stmt, setup, timer, number, globals)\u001b[0m\n\u001b[1;32m    231\u001b[0m            number=default_number, globals=None):\n\u001b[1;32m    232\u001b[0m     \u001b[0;34m\"\"\"Convenience function to create Timer object and call timeit method.\"\"\"\u001b[0m\u001b[0;34m\u001b[0m\u001b[0;34m\u001b[0m\u001b[0m\n\u001b[0;32m--> 233\u001b[0;31m     \u001b[0;32mreturn\u001b[0m \u001b[0mTimer\u001b[0m\u001b[0;34m(\u001b[0m\u001b[0mstmt\u001b[0m\u001b[0;34m,\u001b[0m \u001b[0msetup\u001b[0m\u001b[0;34m,\u001b[0m \u001b[0mtimer\u001b[0m\u001b[0;34m,\u001b[0m \u001b[0mglobals\u001b[0m\u001b[0;34m)\u001b[0m\u001b[0;34m.\u001b[0m\u001b[0mtimeit\u001b[0m\u001b[0;34m(\u001b[0m\u001b[0mnumber\u001b[0m\u001b[0;34m)\u001b[0m\u001b[0;34m\u001b[0m\u001b[0;34m\u001b[0m\u001b[0m\n\u001b[0m\u001b[1;32m    234\u001b[0m \u001b[0;34m\u001b[0m\u001b[0m\n\u001b[1;32m    235\u001b[0m def repeat(stmt=\"pass\", setup=\"pass\", timer=default_timer,\n",
      "\u001b[0;32m~/anaconda3/lib/python3.9/timeit.py\u001b[0m in \u001b[0;36mtimeit\u001b[0;34m(self, number)\u001b[0m\n\u001b[1;32m    175\u001b[0m         \u001b[0mgc\u001b[0m\u001b[0;34m.\u001b[0m\u001b[0mdisable\u001b[0m\u001b[0;34m(\u001b[0m\u001b[0;34m)\u001b[0m\u001b[0;34m\u001b[0m\u001b[0;34m\u001b[0m\u001b[0m\n\u001b[1;32m    176\u001b[0m         \u001b[0;32mtry\u001b[0m\u001b[0;34m:\u001b[0m\u001b[0;34m\u001b[0m\u001b[0;34m\u001b[0m\u001b[0m\n\u001b[0;32m--> 177\u001b[0;31m             \u001b[0mtiming\u001b[0m \u001b[0;34m=\u001b[0m \u001b[0mself\u001b[0m\u001b[0;34m.\u001b[0m\u001b[0minner\u001b[0m\u001b[0;34m(\u001b[0m\u001b[0mit\u001b[0m\u001b[0;34m,\u001b[0m \u001b[0mself\u001b[0m\u001b[0;34m.\u001b[0m\u001b[0mtimer\u001b[0m\u001b[0;34m)\u001b[0m\u001b[0;34m\u001b[0m\u001b[0;34m\u001b[0m\u001b[0m\n\u001b[0m\u001b[1;32m    178\u001b[0m         \u001b[0;32mfinally\u001b[0m\u001b[0;34m:\u001b[0m\u001b[0;34m\u001b[0m\u001b[0;34m\u001b[0m\u001b[0m\n\u001b[1;32m    179\u001b[0m             \u001b[0;32mif\u001b[0m \u001b[0mgcold\u001b[0m\u001b[0;34m:\u001b[0m\u001b[0;34m\u001b[0m\u001b[0;34m\u001b[0m\u001b[0m\n",
      "\u001b[0;32m~/anaconda3/lib/python3.9/timeit.py\u001b[0m in \u001b[0;36minner\u001b[0;34m(_it, _timer)\u001b[0m\n",
      "\u001b[0;31mAttributeError\u001b[0m: 'NoneType' object has no attribute 'append'"
     ]
    }
   ],
   "source": [
    "import timeit\n",
    "import numpy as np\n",
    "\n",
    "list_data = [1,2,3]\n",
    "list_time = timeit.timeit('for i in range(1000): list_data = list_data.append(i)', \"from __main__ import list_data\")\n",
    "numpy_array_data = np.array(list_data)\n",
    "numpy_array_time = timeit.timeit('for i in range(1000): nparr = np.append(nparr , [i])', \"from __main__ import numpy_array_data\")\n",
    "\n",
    "\n",
    "print('Lists how much time it took :' , list_time)\n",
    "print('Numpy Arrays how much time it took :' , numpy_array_time)"
   ]
  },
  {
   "cell_type": "code",
   "execution_count": 18,
   "metadata": {},
   "outputs": [
    {
     "name": "stdout",
     "output_type": "stream",
     "text": [
      "Appending in list Duration: 0:00:00.024553\n",
      "Appending in Numpy Array Duration: 0:00:18.373192\n"
     ]
    }
   ],
   "source": [
    "from datetime import datetime\n",
    "\n",
    "list_data = [1,2,3]\n",
    "numpy_array_data = np.array(list_data)\n",
    "list_data = [1,2,3]\n",
    "\n",
    "start_time = datetime.now()\n",
    "# Appending in list\n",
    "for i in range(100000):\n",
    "    list_data.append(i)\n",
    "end_time = datetime.now()\n",
    "print('Appending in list Duration: {}'.format(end_time - start_time))\n",
    "\n",
    "\n",
    "start_time = datetime.now()\n",
    "# Appending in Numpy Array\n",
    "for i in range(100000):\n",
    "    nparr = np.append(nparr , [i])\n",
    "end_time = datetime.now()\n",
    "print('Appending in Numpy Array Duration: {}'.format(end_time - start_time))\n"
   ]
  },
  {
   "cell_type": "code",
   "execution_count": 21,
   "metadata": {},
   "outputs": [
    {
     "name": "stdout",
     "output_type": "stream",
     "text": [
      "Size of 1000 element list : 64\n",
      "Size of 1000 element numpy array : 112\n"
     ]
    }
   ],
   "source": [
    "import numpy as np\n",
    "import sys\n",
    "\n",
    "print('Size of 1000 element list :' , sys.getsizeof([1]))\n",
    "print('Size of 1000 element numpy array :' , sys.getsizeof(np.array([1])))"
   ]
  },
  {
   "cell_type": "code",
   "execution_count": 23,
   "metadata": {},
   "outputs": [
    {
     "name": "stdout",
     "output_type": "stream",
     "text": [
      "List * 3 : [1, 2, 3, 1, 2, 3, 1, 2, 3]\n",
      "Numpy Array * 3: [3 6 9]\n"
     ]
    }
   ],
   "source": [
    "# Directly used for numerical operations\n",
    "list_1 = [1,2,3]\n",
    "numpy_1 = np.array(list_1)\n",
    "\n",
    "print('List * 3 :' , list_1 * 3)\n",
    "print('Numpy Array * 3:' , numpy_1 * 3)"
   ]
  },
  {
   "cell_type": "code",
   "execution_count": null,
   "metadata": {},
   "outputs": [],
   "source": []
  },
  {
   "cell_type": "code",
   "execution_count": 2,
   "metadata": {},
   "outputs": [
    {
     "data": {
      "text/plain": [
       "15"
      ]
     },
     "execution_count": 2,
     "metadata": {},
     "output_type": "execute_result"
    }
   ],
   "source": [
    "a=\"5*3\"\n",
    "eval(a)"
   ]
  },
  {
   "cell_type": "code",
   "execution_count": 5,
   "metadata": {},
   "outputs": [
    {
     "data": {
      "text/plain": [
       "[1, 10, 9, 5, 10, 11, 1, 2]"
      ]
     },
     "execution_count": 5,
     "metadata": {},
     "output_type": "execute_result"
    }
   ],
   "source": [
    "a = [1,10,9,5] \n",
    "b = [10, 11, 1, 2]\n",
    "c = a + b\n",
    "c "
   ]
  },
  {
   "cell_type": "code",
   "execution_count": 11,
   "metadata": {},
   "outputs": [],
   "source": [
    "def unique(l):\n",
    "    d = {}\n",
    "    for ele in l:\n",
    "        d[ele] = 0\n",
    "    for ele in l:\n",
    "        d[ele] += 1\n",
    "    return d\n",
    "\n",
    "unique_dict = unique(c)"
   ]
  },
  {
   "cell_type": "code",
   "execution_count": 12,
   "metadata": {},
   "outputs": [
    {
     "data": {
      "text/plain": [
       "[1, 10, 9, 5, 11, 2]"
      ]
     },
     "execution_count": 12,
     "metadata": {},
     "output_type": "execute_result"
    }
   ],
   "source": [
    "unique_list = list(unique_dict.keys())\n",
    "unique_list"
   ]
  },
  {
   "cell_type": "code",
   "execution_count": 15,
   "metadata": {},
   "outputs": [],
   "source": [
    "def sort(l):\n",
    "    l1 = []\n",
    "    middle = l[len(l) // 2]\n",
    "    print(l)\n",
    "    print(middle)\n",
    "    for ele in l:\n",
    "        if ele > middle:\n",
    "            l1.append(ele)\n",
    "        elif ele <= middle:\n",
    "            l1.insert(0 , ele)\n",
    "    return l1\n"
   ]
  },
  {
   "cell_type": "code",
   "execution_count": 16,
   "metadata": {},
   "outputs": [
    {
     "name": "stdout",
     "output_type": "stream",
     "text": [
      "[1, 10, 9, 5, 11, 2]\n",
      "5\n"
     ]
    },
    {
     "data": {
      "text/plain": [
       "[2, 5, 1, 10, 9, 11]"
      ]
     },
     "execution_count": 16,
     "metadata": {},
     "output_type": "execute_result"
    }
   ],
   "source": [
    "sort(unique_list)"
   ]
  },
  {
   "cell_type": "code",
   "execution_count": 17,
   "metadata": {},
   "outputs": [],
   "source": [
    "def quick_sort(list_variable):\n",
    "    \n",
    "    for i in range(len(list_variable)):\n",
    "        try:\n",
    "            if list_variable[i] > list_variable[i+1]:\n",
    "                list_variable[i] , list_variable[i+1] = list_variable[i+1] , list_variable[i]\n",
    "        except:\n",
    "            pass\n",
    "    return list_variable"
   ]
  },
  {
   "cell_type": "code",
   "execution_count": 18,
   "metadata": {},
   "outputs": [
    {
     "data": {
      "text/plain": [
       "[1, 9, 5, 10, 2, 11]"
      ]
     },
     "execution_count": 18,
     "metadata": {},
     "output_type": "execute_result"
    }
   ],
   "source": [
    "quick_sort(unique_list)"
   ]
  },
  {
   "cell_type": "code",
   "execution_count": 19,
   "metadata": {},
   "outputs": [],
   "source": [
    "string = 'template101from22python101ab4c10'"
   ]
  },
  {
   "cell_type": "code",
   "execution_count": 32,
   "metadata": {},
   "outputs": [
    {
     "name": "stdout",
     "output_type": "stream",
     "text": [
      "8\n",
      "True\n",
      "9\n",
      "True\n",
      "10\n",
      "True\n",
      "15\n",
      "True\n",
      "16\n",
      "True\n",
      "23\n",
      "True\n",
      "24\n",
      "True\n",
      "25\n",
      "True\n",
      "28\n",
      "True\n",
      "30\n",
      "True\n",
      "31\n",
      "True\n"
     ]
    },
    {
     "data": {
      "text/plain": [
       "['1',\n",
       " '*',\n",
       " '0',\n",
       " '*',\n",
       " '1',\n",
       " '*',\n",
       " '2',\n",
       " '*',\n",
       " '2',\n",
       " '*',\n",
       " '1',\n",
       " '*',\n",
       " '0',\n",
       " '*',\n",
       " '1',\n",
       " '*',\n",
       " '4',\n",
       " '*',\n",
       " '1',\n",
       " '*',\n",
       " '0',\n",
       " '*']"
      ]
     },
     "execution_count": 32,
     "metadata": {},
     "output_type": "execute_result"
    }
   ],
   "source": [
    "l = []\n",
    "is_before_element_string = False\n",
    "\n",
    "for index , element in enumerate(list(string)):\n",
    "    if element.isalpha():\n",
    "        is_before_element_string = True\n",
    "    else:\n",
    "        l.append(element)\n",
    "        print(index)\n",
    "        print(is_before_element_string)\n",
    "        if is_before_element_string:\n",
    "            l.append('*')\n",
    "\n",
    "l"
   ]
  },
  {
   "cell_type": "code",
   "execution_count": 25,
   "metadata": {},
   "outputs": [
    {
     "name": "stdout",
     "output_type": "stream",
     "text": [
      " Name in Person Object : Karthik\n",
      "Length of <class 'str'> :  6\n",
      "Length of <class 'list'> :  3\n",
      " Name in Employee Object : Karthik\n",
      "Hello Karthik\n"
     ]
    }
   ],
   "source": [
    "# OOP\n",
    "\n",
    "# Data Abstraction (Having Class / function in other .py files and importing them here to reduce coding complexity)\n",
    "# Importing Greet class from abstract.py in same folder\n",
    "from abstract import Greet\n",
    "\n",
    "# Class\n",
    "class Person:\n",
    "\n",
    "    # Class Variable\n",
    "    name = 'Karthik'\n",
    "\n",
    "    # Encapsulation\n",
    "    # Protected Member (Accessible within classes and subclasses)\n",
    "    _age = 25\n",
    "    # Private Member (Accessible only within class)\n",
    "    __salary = 1200000\n",
    "    \n",
    "    # Method\n",
    "    def print_name(self):\n",
    "        print(' Name in Person Object :' , Person.name)\n",
    "\n",
    "    # Method overloading (Compile time polymorphism)\n",
    "    def function_name(self , value):\n",
    "        value_dtype = type(value)\n",
    "        print(f'Length of {value_dtype} : ' , len(value))\n",
    "\n",
    "\n",
    "# Inheritance \n",
    "class Employee(Person):\n",
    "    \n",
    "    # Method overridding (Run time polymorphism)\n",
    "    def print_name(self):\n",
    "        print(' Name in Employee Object :' , Person.name)\n",
    "\n",
    "\n",
    "# Implementing Data Abstraction and Multiple Inheritance\n",
    "class Welcome(Employee , Greet):\n",
    "\n",
    "    def welcoming(self):\n",
    "        Greet.greet(self , Employee.name)\n",
    "\n",
    "# Object\n",
    "person_object = Person()\n",
    "# Calling print_name() method\n",
    "person_object.print_name()\n",
    "\n",
    "# Polymorphism\n",
    "person_object.function_name('String')\n",
    "person_object.function_name([1 , 2 , 3])\n",
    "\n",
    "# Inherited object\n",
    "employee_object = Employee()\n",
    "\n",
    "# Calling print_name() method on Employee object\n",
    "employee_object.print_name()\n",
    "\n",
    "# Data abstraction implementation\n",
    "greet_object = Welcome()\n",
    "greet_object.welcoming()"
   ]
  },
  {
   "cell_type": "code",
   "execution_count": 44,
   "metadata": {},
   "outputs": [
    {
     "name": "stdout",
     "output_type": "stream",
     "text": [
      "Currently in B Class\n",
      "Method output of A Class\n"
     ]
    }
   ],
   "source": [
    "# Single Inheritance\n",
    "# Parent Class\n",
    "class A:\n",
    "    def place(self):\n",
    "        print('Method output of A Class')\n",
    "\n",
    "#Child Class\n",
    "class B(A):\n",
    "    def __init__(self):\n",
    "        print('Currently in B Class')\n",
    "\n",
    "b_object = B()\n",
    "b_object.place()"
   ]
  },
  {
   "cell_type": "code",
   "execution_count": 48,
   "metadata": {},
   "outputs": [
    {
     "name": "stdout",
     "output_type": "stream",
     "text": [
      "Method output of A Class\n"
     ]
    }
   ],
   "source": [
    "# Multiple Inheritance\n",
    "# First Base Class\n",
    "class A:\n",
    "    def greet(self):\n",
    "        print('Method output of A Class')\n",
    "\n",
    "# Second Base Class\n",
    "class B:\n",
    "    def greet(self):\n",
    "        print('Method output of B Class')\n",
    "\n",
    "# Child Class\n",
    "class C(A , B):\n",
    "    pass\n",
    "\n",
    "# Here Method output of A Class is printed due to Method Resolution Order in Python\n",
    "c_object = C()\n",
    "c_object.greet()"
   ]
  },
  {
   "cell_type": "code",
   "execution_count": 50,
   "metadata": {},
   "outputs": [
    {
     "name": "stdout",
     "output_type": "stream",
     "text": [
      "Class A Variable : 1\n",
      "Class B Variable : 3\n"
     ]
    }
   ],
   "source": [
    "# Multi Level Inheritance\n",
    "# Base Class\n",
    "class A:\n",
    "    class_a_variable = 1\n",
    "    def greet(self):\n",
    "        print('Method output of A Class')\n",
    "\n",
    "class B(A):\n",
    "    class_b_variable = 3\n",
    "    def greet(self):\n",
    "        print('Method output of B Class')\n",
    "\n",
    "# Class C will have access to both class A and class B attributes and methods\n",
    "class C(B):\n",
    "    print('Class A Variable :' , A.class_a_variable)\n",
    "    print('Class B Variable :' , B.class_b_variable)"
   ]
  },
  {
   "cell_type": "code",
   "execution_count": 52,
   "metadata": {},
   "outputs": [
    {
     "name": "stdout",
     "output_type": "stream",
     "text": [
      "Class A Object Created\n",
      "Hello \n"
     ]
    }
   ],
   "source": [
    "# Composition\n",
    "class A:\n",
    "    def __init__(self):\n",
    "        print('Class A Object Created')\n",
    "    def greet(self , name):\n",
    "        print(f'Hello {name}')\n",
    "\n",
    "class B:\n",
    "    \n",
    "    # Here we create class A object\n",
    "    class_a_object = A()\n",
    "    # Here we can reuse class A method in class B , Achieving code reusability without inheritance\n",
    "    class_a_object.greet('')"
   ]
  },
  {
   "cell_type": "code",
   "execution_count": null,
   "metadata": {},
   "outputs": [],
   "source": [
    "def get_even():\n",
    "    for i in range(10):\n",
    "        if i % 2 == 0:\n",
    "            yield i"
   ]
  },
  {
   "cell_type": "code",
   "execution_count": 1,
   "metadata": {},
   "outputs": [
    {
     "name": "stdout",
     "output_type": "stream",
     "text": [
      "Searching for Python\n",
      "<!doctype html><html lang=\"en-IN\"><head><meta charset=\"UTF-8\"><meta content=\"/images/branding/googleg/1x/googleg_standard_color_128dp.png\" itemprop=\"image\"><title>Python - Google Search</title><script nonce=\"BD2I4SYwaWSmkfIoRH4JAA\">(function(){\n",
      "document.documentElement.addEventListener(\"submit\",function(b){var a;if(a=b.target){var c=a.getAttribute(\"data-submitfalse\");a=\"1\"===c||\"q\"===c&&!a.elements.q.value?!0:!1}else a=!1;a&&(b.preventDefault(),b.stopPropagation())},!0);document.documentElement.addEventListener(\"click\",function(b){var a;a:{for(a=b.target;a&&a!==document.documentElement;a=a.parentElement)if(\"A\"===a.tagName){a=\"1\"===a.getAttribute(\"data-nohref\");break a}a=!1}a&&b.preventDefault()},!0);}).call(this);(function(){\n",
      "var a=window.performance;window.start=Date.now();a:{var b=window;if(a){var c=a.timing;if(c){var d=c.navigationStart,f=c.responseStart;if(f>d&&f<=window.start){window.start=f;b.wsrt=f-d;break a}}a.now&&(b.wsrt=Math.floor(a.now()))}}window.google=window.google||{};var h=function(g){g&&g.target.setAttribute(\"data-iml\",Date.now())};document.documentElement.addEventListener(\"load\",h,!0);google.rglh=function(){document.documentElement.removeEventListener(\"load\",h,!0)};}).call(this);(function(){window.google.erd={jsr:1,bv:1595,de:true};})();(function(){var sdo=false;var mei=10;\n",
      "var f=this||self;var g,h=null!=(g=f.mei)?g:1,m,n=null!=(m=f.sdo)?m:!0,p=0,q,r=google.erd,u=r.jsr;google.ml=function(a,b,d,k,c){c=void 0===c?2:c;b&&(q=a&&a.message);if(google.dl)return google.dl(a,c,d),null;if(0>u){window.console&&console.error(a,d);if(-2===u)throw a;b=!1}else b=!a||!a.message||\"Error loading script\"===a.message||p>=h&&!k?!1:!0;if(!b)return null;p++;d=d||{};var e=c;c=encodeURIComponent;b=\"/gen_204?atyp=i&ei=\"+c(google.kEI);google.kEXPI&&(b+=\"&jexpid=\"+c(google.kEXPI));b+=\"&srcpg=\"+c(google.sn)+\"&jsr=\"+c(r.jsr)+\"&bver=\"+c(r.bv)+(\"&jsel=\"+e);e=a.lineNumber;void 0!==e&&(b+=\"&line=\"+\n",
      "e);var l=a.fileName;l&&(b+=\"&script=\"+c(l),e&&l===window.location.href&&(e=document.documentElement.outerHTML.split(\"\\n\")[e],b+=\"&cad=\"+c(e?e.substring(0,300):\"No script found.\")));for(var t in d)b+=\"&\",b+=c(t),b+=\"=\",b+=c(d[t]);b=b+\"&emsg=\"+c(a.name+\": \"+a.message);b=b+\"&jsst=\"+c(a.stack||\"N/A\");12288<=b.length&&(b=b.substr(0,12288));a=b;k||google.log(0,\"\",a);return a};window.onerror=function(a,b,d,k,c){q!==a&&(a=c instanceof Error?c:Error(a),void 0===d||\"lineNumber\"in a||(a.lineNumber=d),void 0===b||\"fileName\"in a||(a.fileName=b),google.ml(a,!1,void 0,!1,\"SyntaxError\"===a.name||\"SyntaxError\"===a.message.substring(0,11)?2:0));q=null;n&&p>=h&&(window.onerror=null)};})();(function(){\n",
      "var c=[],e=0;window.ping=function(b){-1==b.indexOf(\"&zx\")&&(b+=\"&zx=\"+Date.now());var a=new Image,d=e++;c[d]=a;a.onerror=a.onload=a.onabort=function(){delete c[d]};a.src=b};}).call(this);</script><style>body{margin:0 auto;max-width:652px;padding:0 8px;}a{color:#1a0dab;text-decoration:none;tap-highlight-color:rgba(0,0,0,.10)}a:visited{color:#4b11a8}a:hover{text-decoration:underline}img{border:0}html{font-family:Roboto,Helvetica Neue,Arial,sans-serif;font-size:14px;line-height:20px;text-size-adjust:100%;color:#3c4043;word-wrap:break-word;background-color:#fff}.bRsWnc{background-color:#fff;border-top:1px solid #dadce0;height:39px;overflow:hidden}.N6RWV{height:51px;overflow-scrolling:touch;overflow-x:auto;overflow-y:hidden}.Uv67qb{box-pack:justify;font-size:12px;line-height:37px;justify-content:space-between;justify-content:space-between}.Uv67qb a,.Uv67qb span{color:#70757a;display:block;flex:none;padding:0 16px;text-align:center;text-transform:uppercase;}span.OXXup{border-bottom:2px solid #4285f4;color:#4285f4;font-weight:bold}a.eZt8xd:visited{color:#70757a}.FElbsf{border-left:1px solid rgba(0,0,0,.12)}header article{overflow:visible}.Pg70bf{height:39px;display:box;display:flex;display:flex;width:100%}.H0PQec{position:relative;flex:1}.sbc{display:flex;width:100%}.Pg70bf input{margin:2px 4px 2px 8px;}.x{width:26px;color:#70757a;font:27px/38px arial, sans-serif;line-height:40px;}#qdClwb{flex:0 0 auto;width:39px;height:39px;border-bottom:0;padding:0;border-top-right-radius:8px;background-color:#1a73e8;border:1px solid #1558d6;background-image:url(data:image/gif;base64,R0lGODdhJAAjAPIHAODr/nCk+MPZ/FmV96zK+/7+/5K5+kqL9iwAAAAAJAAjAEADani63P4wykmbKcQRXDscQAEMXmmeaLQVLCukzyC09AjfeK7v/MAajACLhPMVAgwjsUcEiZa8xgAYrVqv2Kx2iwsIAAABknfBBAKrTE4IcMyot8ur8datqIbQfJdnAfo2WE6BV05wXIiJigkAOw==);}.sc{font-size:16px;position:absolute;top:39px;left:0;right:0;box-shadow:0px 2px 5px rgba(0,0,0,.2);z-index:2;background-color:#fff}.sc>div{padding:10px 10px;padding-left:16px;padding-left:14px;border-top:1px solid #dfe1e5}.scs{background-color:#f8f9fa;}.noHIxc{display:block;font-size:16px;padding:0 0 0 8px;flex:1;height:35px;outline:none;border:none;width:100%;-webkit-tap-highlight-color:rgba(0,0,0,.00);overflow:hidden;}.sbc input[type=text]{background:none}.sml .cOl4Id{display:none}.l{display:none}.sml header{background:none}.sml .l{display:block;padding:0 8px}.sml .l{letter-spacing:-1px;text-align:center;border-radius:2px 0 0 0;font:22px/36px Futura, Arial, sans-serif;font-smoothing:antialiased}.bz1lBb{background:#fff;border-radius:8px 8px 0 0;box-shadow:0 0 0 1px #dfe1e5;margin-top:24px;}.KP7LCb{border-radius:0 0 8px 8px;box-shadow:0px 1px 0px 1px #dfe1e5;margin-bottom:30px;overflow:hidden}body{margin:0 auto 0 156px;max-width:652px;min-width:652px}.cOl4Id{letter-spacing:-1px;text-align:center;font:22pt Futura, Arial, sans-serif;height:37px;font-smoothing:antialiased;padding:32px 28px 0 24px;position:absolute;left:0;top:0}.cOl4Id span{display:inline-block}.V6gwVd{color:#4285f4}.iWkuvd{color:#ea4335}.cDrQ7{color:#fcc934}.ntlR9{color:#34a853}.tJ3Myc{-webkit-transform:rotate(-20deg);position:relative;left:-1px;display:inline-block}footer{text-align:center;margin-top:18px}footer a,footer a:visited,.smiUbb{color:#70757a}.xeDNfc{margin:0 13px}#EOlPnc{margin-top:36px}#EOlPnc>div{margin:20px}.Srfpq{color:#70757a}</style></head><body jsmodel=\"hspDDf\"><header id=\"hdr\"><script nonce=\"BD2I4SYwaWSmkfIoRH4JAA\">(function(){\n",
      "var k=this||self,l=function(a){var b=typeof a;return\"object\"==b&&null!=a||\"function\"==b},m=function(a,b){function c(){}c.prototype=b.prototype;a.j=b.prototype;a.prototype=new c;a.prototype.constructor=a;a.l=function(d,e,f){for(var g=Array(arguments.length-2),h=2;h<arguments.length;h++)g[h-2]=arguments[h];return b.prototype[e].apply(d,g)}};var n=Array.prototype.indexOf?function(a,b){return Array.prototype.indexOf.call(a,b,void 0)}:function(a,b){if(\"string\"===typeof a)return\"string\"!==typeof b||1!=b.length?-1:a.indexOf(b,0);for(var c=0;c<a.length;c++)if(c in a&&a[c]===b)return c;return-1};var p=function(a){return\"string\"==typeof a.className?a.className:a.getAttribute&&a.getAttribute(\"class\")||\"\"},q=function(a,b){\"string\"==typeof a.className?a.className=b:a.setAttribute&&a.setAttribute(\"class\",b)},r=function(a,b){a.classList?b=a.classList.contains(b):(a=a.classList?a.classList:p(a).match(/\\S+/g)||[],b=0<=n(a,b));return b},v=function(){var a=t,b=u;a.classList?a.classList.remove(b):r(a,b)&&q(a,Array.prototype.filter.call(a.classList?a.classList:p(a).match(/\\S+/g)||[],function(c){return c!=\n",
      "b}).join(\" \"))};function w(){var a=k.navigator;return a&&(a=a.userAgent)?a:\"\"};var x=function(a){x[\" \"](a);return a};x[\" \"]=function(){};var y=-1!=w().indexOf(\"Gecko\")&&!(-1!=w().toLowerCase().indexOf(\"webkit\")&&-1==w().indexOf(\"Edge\"))&&!(-1!=w().indexOf(\"Trident\")||-1!=w().indexOf(\"MSIE\"))&&-1==w().indexOf(\"Edge\");var z=function(a,b){this.type=a;this.target=b};z.prototype.g=function(){};var A=function(){if(!k.addEventListener||!Object.defineProperty)return!1;var a=!1,b=Object.defineProperty({},\"passive\",{get:function(){a=!0}});try{k.addEventListener(\"test\",function(){},b),k.removeEventListener(\"test\",function(){},b)}catch(c){}return a}();var C=function(a){z.call(this,a?a.type:\"\");this.relatedTarget=this.target=null;this.button=this.screenY=this.screenX=this.clientY=this.clientX=0;this.key=\"\";this.keyCode=0;this.metaKey=this.shiftKey=this.altKey=this.ctrlKey=!1;this.state=null;this.pointerId=0;this.pointerType=\"\";this.h=null;if(a){var b=this.type=a.type,c=a.changedTouches&&a.changedTouches.length?a.changedTouches[0]:null;this.target=a.target||a.srcElement;var d=a.relatedTarget;if(d){if(y){a:{try{x(d.nodeName);var e=!0;break a}catch(f){}e=\n",
      "!1}e||(d=null)}}else\"mouseover\"==b?d=a.fromElement:\"mouseout\"==b&&(d=a.toElement);this.relatedTarget=d;c?(this.clientX=void 0!==c.clientX?c.clientX:c.pageX,this.clientY=void 0!==c.clientY?c.clientY:c.pageY,this.screenX=c.screenX||0,this.screenY=c.screenY||0):(this.clientX=void 0!==a.clientX?a.clientX:a.pageX,this.clientY=void 0!==a.clientY?a.clientY:a.pageY,this.screenX=a.screenX||0,this.screenY=a.screenY||0);this.button=a.button;this.keyCode=a.keyCode||0;this.key=a.key||\"\";this.ctrlKey=a.ctrlKey;this.altKey=a.altKey;this.shiftKey=a.shiftKey;this.metaKey=a.metaKey;this.pointerId=a.pointerId||0;this.pointerType=\"string\"===typeof a.pointerType?a.pointerType:B[a.pointerType]||\"\";this.state=a.state;this.h=a;a.defaultPrevented&&C.j.g.call(this)}};m(C,z);var B={2:\"touch\",3:\"pen\",4:\"mouse\"};C.prototype.g=function(){C.j.g.call(this);var a=this.h;a.preventDefault?a.preventDefault():a.returnValue=!1};var D=\"closure_listenable_\"+(1E6*Math.random()|0);var E=0;var F=function(a,b,c,d,e){this.listener=a;this.proxy=null;this.src=b;this.type=c;this.capture=!!d;this.h=e;this.key=++E;this.g=this.i=!1},G=function(a){a.g=!0;a.listener=null;a.proxy=null;a.src=null;a.h=null};var H=function(a){this.src=a;this.g={};this.h=0};H.prototype.add=function(a,b,c,d,e){var f=a.toString();a=this.g[f];a||(a=this.g[f]=[],this.h++);var g;a:{for(g=0;g<a.length;++g){var h=a[g];if(!h.g&&h.listener==b&&h.capture==!!d&&h.h==e)break a}g=-1}-1<g?(b=a[g],c||(b.i=!1)):(b=new F(b,this.src,f,!!d,e),b.i=c,a.push(b));return b};var I=\"closure_lm_\"+(1E6*Math.random()|0),J={},K=0,M=function(a,b,c,d,e){if(d&&d.once)return L(a,b,c,d,e);if(Array.isArray(b)){for(var f=0;f<b.length;f++)M(a,b[f],c,d,e);return null}c=N(c);return a&&a[D]?a.g(b,c,l(d)?!!d.capture:!!d,e):O(a,b,c,!1,d,e)},O=function(a,b,c,d,e,f){if(!b)throw Error(\"a\");var g=l(e)?!!e.capture:!!e,h=P(a);h||(a[I]=h=new H(a));c=h.add(b,c,d,g,f);if(c.proxy)return c;d=Q();c.proxy=d;d.src=a;d.listener=c;if(a.addEventListener)A||(e=g),void 0===e&&(e=!1),a.addEventListener(b.toString(),d,e);else if(a.attachEvent)a.attachEvent(R(b.toString()),d);else if(a.addListener&&a.removeListener)a.addListener(d);else throw Error(\"b\");K++;return c},Q=function(){var a=S,b=function(c){return a.call(b.src,b.listener,c)};return b},L=function(a,b,c,d,e){if(Array.isArray(b)){for(var f=0;f<b.length;f++)L(a,b[f],c,d,e);return null}c=N(c);return a&&a[D]?a.h(b,c,l(d)?!!d.capture:!!d,e):O(a,b,c,!0,d,e)},T=function(a){if(\"number\"!==typeof a&&a&&!a.g){var b=a.src;if(b&&b[D])b.o(a);else{var c=a.type,d=a.proxy;b.removeEventListener?b.removeEventListener(c,d,a.capture):b.detachEvent?b.detachEvent(R(c),d):b.addListener&&b.removeListener&&b.removeListener(d);K--;if(c=P(b)){d=a.type;if(d in c.g){var e=c.g[d],f=n(e,a),g;(g=0<=f)&&Array.prototype.splice.call(e,f,1);g&&(G(a),0==c.g[d].length&&(delete c.g[d],c.h--))}0==c.h&&(c.src=null,b[I]=null)}else G(a)}}},R=function(a){return a in J?J[a]:J[a]=\"on\"+a},S=function(a,b){if(a.g)a=!0;else{b=new C(b,this);var c=a.listener,d=a.h||a.src;a.i&&T(a);a=c.call(d,b)}return a},P=function(a){a=a[I];return a instanceof H?a:null},U=\"__closure_events_fn_\"+(1E9*Math.random()>>>0),N=function(a){if(\"function\"===typeof a)return a;a[U]||(a[U]=function(b){return a.handleEvent(b)});return a[U]};var u,t=document.documentElement,V;function W(){T(V);V=L(t,\"mousedown\",function(){v();X()},{capture:!0})}function X(){T(V);V=M(t,\"keydown\",function(a){if(9===a.keyCode){a=t;var b=u;if(a.classList)a.classList.add(b);else if(!r(a,b)){var c=p(a);q(a,c+(0<c.length?\" \"+b:b))}W()}})};u=\"zAoYTe\";X();}).call(this);(function(){var c=500;(function(){\n",
      "window.screen&&window.screen.width<=c&&window.screen.height<=c&&document.getElementById(\"hdr\").classList.add(\"sml\");}).call(this);})();</script><div class=\"cOl4Id\"><a href=\"/?sa=X&amp;ved=0ahUKEwi42NCzs5j4AhXOrJUCHaGrA_8QOwgC\"><span class=\"V6gwVd\">G</span><span class=\"iWkuvd\">o</span><span class=\"cDrQ7\">o</span><span class=\"V6gwVd\">g</span><span class=\"ntlR9\">l</span><span class=\"iWkuvd tJ3Myc\">e</span></a></div><div class=\"bz1lBb\"><form class=\"Pg70bf\" id=\"sf\"><a class=\"l\" href=\"/?output=search&amp;ie=UTF-8&amp;sa=X&amp;ved=0ahUKEwi42NCzs5j4AhXOrJUCHaGrA_8QPAgE\"><span class=\"V6gwVd\">G</span><span class=\"iWkuvd\">o</span><span class=\"cDrQ7\">o</span><span class=\"V6gwVd\">g</span><span class=\"ntlR9\">l</span><span class=\"iWkuvd tJ3Myc\">e</span></a><input name=\"ie\" value=\"ISO-8859-1\" type=\"hidden\"><div class=\"H0PQec\"><div class=\"sbc esbc\"><input class=\"noHIxc\" value=\"Python\" autocapitalize=\"none\" autocomplete=\"off\" name=\"q\" spellcheck=\"false\" type=\"text\"><input name=\"oq\" type=\"hidden\"><input name=\"aqs\" type=\"hidden\"><div class=\"x\">×</div><div class=\"sc\"></div></div></div><button id=\"qdClwb\" type=\"submit\"></button></form></div><noscript><meta content=\"0;url=/search?q=Python&amp;ie=UTF-8&amp;gbv=1&amp;sei=8LmdYrigF87Z1sQPodeO-A8\" http-equiv=\"refresh\"><style>table,div,span,p{display:none}</style><div style=\"display:block\">Please click <a href=\"/search?q=Python&amp;ie=UTF-8&amp;gbv=1&amp;sei=8LmdYrigF87Z1sQPodeO-A8\">here</a> if you are not redirected within a few seconds.</div></noscript></header><div id=\"main\"><div><div class=\"KP7LCb\"> <div class=\"bRsWnc\"> <div class=\"N6RWV\"> <div class=\"Pg70bf Uv67qb\"> <span class=\"OXXup\">All</span><a class=\"eZt8xd\" href=\"/search?q=Python&amp;ie=UTF-8&amp;source=lnms&amp;tbm=bks&amp;sa=X&amp;ved=0ahUKEwi42NCzs5j4AhXOrJUCHaGrA_8Q_AUICCgB\">Books</a><a class=\"eZt8xd\" href=\"/search?q=Python&amp;ie=UTF-8&amp;source=lnms&amp;tbm=isch&amp;sa=X&amp;ved=0ahUKEwi42NCzs5j4AhXOrJUCHaGrA_8Q_AUICSgC\">Images</a><a class=\"eZt8xd\" href=\"/search?q=Python&amp;ie=UTF-8&amp;source=lnms&amp;tbm=nws&amp;sa=X&amp;ved=0ahUKEwi42NCzs5j4AhXOrJUCHaGrA_8Q_AUICigD\">News</a>  <a href=\"https://maps.google.com/maps?q=Python&amp;um=1&amp;ie=UTF-8&amp;sa=X&amp;ved=0ahUKEwi42NCzs5j4AhXOrJUCHaGrA_8Q_AUICygE\">Maps</a>  <a href=\"/search?q=Python&amp;ie=UTF-8&amp;source=lnms&amp;tbm=vid&amp;sa=X&amp;ved=0ahUKEwi42NCzs5j4AhXOrJUCHaGrA_8Q_AUIDCgF\">Videos</a>  <a href=\"/search?q=Python&amp;ie=UTF-8&amp;source=lnms&amp;tbm=shop&amp;sa=X&amp;ved=0ahUKEwi42NCzs5j4AhXOrJUCHaGrA_8Q_AUIDSgG\">Shopping</a>  <div class=\"FElbsf\"><a href=\"/advanced_search\" style=\"white-space:nowrap\" id=\"st-toggle\" role=\"button\">Search tools</a></div> </div> </div> </div> </div><div class=\"Pg70bf wEsjbd ZINbbc xpd O9g5cc uUPGi\" style=\"display:none\" id=\"st-card\"><style>.wEsjbd{background-color:#fff;height:44px;white-space:nowrap}.coPU8c{height:60px;overflow-scrolling:touch;overflow-x:auto;overflow-y:hidden}.Xj2aue{height:44px;overflow:hidden}.RnNGze{margin:11px 16px}.wEsjbd div,.wEsjbd a,.wEsjbd li{outline-width:0;outline:none}</style><div class=\"Xj2aue\"><div class=\"coPU8c\"><div class=\"RnNGze\"><style>.PA9J5{display:inline-block}.RXaOfd{display:inline-block;height:22px;position:relative;padding-top:0;padding-bottom:0;padding-right:16px;padding-left:0;line-height:22px;cursor:pointer;text-transform:uppercase;font-size:12px;color:#70757a}.sa1toc{display:none;position:absolute;background:#fff;border:1px solid #d6d6d6;box-shadow:0 2px 4px rgba(0,0,0,.3);margin:0;white-space:nowrap;z-index:103;line-height:17px;padding-top:5px;padding-bottom:5px;padding-left:0}.PA9J5:hover .sa1toc{display:block}.mGSy8d a:active,.RXaOfd:active{color:#4285f4}</style><div class=\"PA9J5\"><div class=\"RXaOfd\" role=\"button\" tabindex=\"0\"><style>.TWMOUc{display:inline-block;padding-right:14px;white-space:nowrap}.vQYuGf{font-weight:bold}.OmTIzf{border-color:#909090 transparent;border-style:solid;border-width:4px 4px 0 4px;width:0;height:0;margin-left:-10px;top:50%;margin-top:-2px;position:absolute}.RXaOfd:active .OmTIzf{border-color:#4285f4 transparent}</style><div class=\"TWMOUc\">Any time</div><span class=\"OmTIzf\"></span></div><ul class=\"sa1toc ozatM\"><style>.ozatM{font-size:12px;text-transform:uppercase}.ozatM .yNFsl,.ozatM li{list-style-type:none;list-style-position:outside;list-style-image:none}.yNFsl.SkUj4c,.yNFsl a{color:rgba(0,0,0,0.54);text-decoration:none;padding:6px 44px 6px 14px;line-height:17px;display:block}.SkUj4c{background-image:url(//ssl.gstatic.com/ui/v1/menu/checkmark2.png);background-position:right center;background-repeat:no-repeat}.SkUj4c:active{background-color:#f8f9fa}</style><li class=\"yNFsl SkUj4c\">Any time</li><li class=\"yNFsl\"><a href=\"/search?q=Python&amp;ie=UTF-8&amp;source=lnt&amp;tbs=qdr:h&amp;sa=X&amp;ved=0ahUKEwi42NCzs5j4AhXOrJUCHaGrA_8QpwUIDw\">Past hour</a></li><li class=\"yNFsl\"><a href=\"/search?q=Python&amp;ie=UTF-8&amp;source=lnt&amp;tbs=qdr:d&amp;sa=X&amp;ved=0ahUKEwi42NCzs5j4AhXOrJUCHaGrA_8QpwUIEA\">Past 24 hours</a></li><li class=\"yNFsl\"><a href=\"/search?q=Python&amp;ie=UTF-8&amp;source=lnt&amp;tbs=qdr:w&amp;sa=X&amp;ved=0ahUKEwi42NCzs5j4AhXOrJUCHaGrA_8QpwUIEQ\">Past week</a></li><li class=\"yNFsl\"><a href=\"/search?q=Python&amp;ie=UTF-8&amp;source=lnt&amp;tbs=qdr:m&amp;sa=X&amp;ved=0ahUKEwi42NCzs5j4AhXOrJUCHaGrA_8QpwUIEg\">Past month</a></li><li class=\"yNFsl\"><a href=\"/search?q=Python&amp;ie=UTF-8&amp;source=lnt&amp;tbs=qdr:y&amp;sa=X&amp;ved=0ahUKEwi42NCzs5j4AhXOrJUCHaGrA_8QpwUIEw\">Past year</a></li></ul></div><div class=\"PA9J5\"><div class=\"RXaOfd\" role=\"button\" tabindex=\"0\"><div class=\"TWMOUc\">All results</div><span class=\"OmTIzf\"></span></div><ul class=\"sa1toc ozatM\"><li class=\"yNFsl SkUj4c\">All results</li><li class=\"yNFsl\"><a href=\"/search?q=Python&amp;ie=UTF-8&amp;source=lnt&amp;tbs=li:1&amp;sa=X&amp;ved=0ahUKEwi42NCzs5j4AhXOrJUCHaGrA_8QpwUIFQ\">Verbatim</a></li></ul></div></div></div></div><script nonce=\"BD2I4SYwaWSmkfIoRH4JAA\">(function(){\n",
      "var a=document.getElementById(\"st-toggle\"),b=document.getElementById(\"st-card\");a&&b&&a.addEventListener(\"click\",function(c){b.style.display=b.style.display?\"\":\"none\";c.preventDefault()},!1);}).call(this);</script></div></div><style>.ZINbbc{background-color:#fff;margin-bottom:30px;box-shadow:0 0 0 1px #dfe1e5;border-radius:8px}.uUPGi{font-size:14px;line-height:22px;}.O9g5cc>*:first-child{border-top-left-radius:8px;border-top-right-radius:8px}.O9g5cc>*:last-child{border-bottom-left-radius:8px;border-bottom-right-radius:8px}.O9g5cc>.qxDOhb>*:first-child{border-top-left-radius:8px;border-top-right-radius:8px}.O9g5cc>.qxDOhb>*:last-child{border-bottom-left-radius:8px;border-bottom-right-radius:8px}.RO6NFd .RO6NFd{box-shadow:none;margin-bottom:0px}.luh4tb{background:transparent !important;box-shadow:none !important;border:none !important}.ZINbbc.luh4tb{margin-top:-12px;margin-bottom:18px}.rl7ilb{display:block;clear:both}.egMi0{margin-bottom:-22px}.kCrYT{padding:12px 16px 12px}a.fdYsqf{color:#4b11a8}.l97dzf{font-weight:400}.zBAuLc{line-height:normal;margin:0;padding:0}.BNeawe{white-space:pre-line;word-wrap:break-word}.vvjwJb{color:#1a0dab;font-size:20px;line-height:26px}a:visited .vvjwJb,.vvjwJb a:visited{color:#4b11a8}.vvjwJb.HrGdeb{color:#fff}a:visited .vvjwJb.HrGdeb,.vvjwJb.HrGdeb a:visited{color:rgba(255,255,255,.70)}.UPmit{font-size:14px;line-height:22px}.UPmit.HrGdeb{color:rgba(255,255,255,.70)}.UPmit.AP7Wnd{color:#0d652d}.Ey4n2{padding-bottom:12px}.s3v9rd{font-size:14px;line-height:22px}.s3v9rd.HrGdeb{color:#fff}.s3v9rd.AP7Wnd{color:#202124}.yRG22b{padding-left:48px;margin:0}.MSiauf{padding-bottom:8px}.XLloXe{color:#1a0dab;font-size:14px;line-height:20px}a:visited .XLloXe,.XLloXe a:visited{color:#4b11a8}.XLloXe.HrGdeb{color:#fff}a:visited .XLloXe.HrGdeb,.XLloXe.HrGdeb a:visited{color:rgba(255,255,255,.70)}.mEUgP{font-weight:bold;font-size:16px;color:#000;margin:0;padding:12px 16px 12px}.atOwb{font-weight:bold}.x54gtf{height:1px;background-color:#dadce0;margin:0 16px}.Q0HXG{height:1px;background-color:#dadce0}.C7GS5b{margin-left:12px;display:table-cell;vertical-align:middle}.rkGIWe{padding:14px}.xpc .hwc,.xpx .hwx{display:none}.iIWm4b{box-sizing:border-box;min-height:48px}.fLtXsc{padding:14px;position:relative}.NtmAdb{width:40px;height:40px;overflow:hidden;margin-top:-10px;margin-bottom:-16px;margin-right:8px;border-radius:4px}.xpc .NtmAdb{display:inline-block}.xpx .NtmAdb{display:none}.Lt3Tzc{display:inline-block;padding-right:26px}.Lym8W{width:14px;height:20px;position:relative;margin:0 auto}.xCgLUe{position:absolute;right:16px;margin-top:-10px;top:50%}.Lym8W div{position:absolute;border-left:7px solid transparent;border-right:7px solid transparent;width:0;height:0;left:0}.IyYaEd{top:7px;border-top:7px solid #70757a}.ECUHQe{top:4px;border-top:7px solid #fff}.AeQQub{bottom:7px;border-bottom:7px solid #70757a}.YCU7eb{bottom:4px;border-bottom:7px solid #fff}.qxDOhb{border-radius:0}.yStFkb .xpd{border-radius:8px;box-shadow:none;border:1px solid #dadce0;margin-bottom:0}.oTWEpb{padding-top:12px}.n1Qedd{overflow:hidden;text-align:center}.KMAGC{margin:0 auto;display:block}.ho0sdc{margin:0 -50%;display:inline-block}.EDgFbc{color:#1a0dab}a:visited .EDgFbc{color:#4b11a8}.EDgFbc.VyZZLb{color:#fff}a:visited .EDgFbc.VyZZLb{color:rgba(255,255,255,.70)}.P1NWSe{display:table;width:100%;padding-top:16px;padding-bottom:16px;margin-bottom:-12px}.wOMIed{display:table-cell;vertical-align:top}.nkPlDb{vertical-align:middle}.JhFlyf{color:#3c4043;font-size:14px;text-align:center}.VQFmSd{display:block;white-space:pre-line;word-wrap:break-word}.JhFlyf.VQFmSd{line-height:22px}.f4J0H{padding:18px}.xUrNXd.VyZZLb{color:rgba(255,255,255,.70)}.xUrNXd.UMOHqf{color:#70757a}.nGphre{float:right;padding-left:16px}.UykT9d{border-radius:8px;display:block}.nYT7Qb{clear:both}.RJI4s{vertical-align:middle}.deIvCb{font-size:16px;line-height:20px;font-weight:400}.deIvCb.HrGdeb{color:#fff}.deIvCb.AP7Wnd{color:#202124}.tAd8D{font-size:14px;line-height:20px}.tAd8D.HrGdeb{color:rgba(255,255,255,.70)}.tAd8D.AP7Wnd{color:#70757a}.skVgpb{display:table;table-layout:fixed;width:100%}.VGHMXd{display:table-cell;vertical-align:middle;height:52px;text-align:center}.LpaDrb{margin:0 auto 8px;display:block}.vbShOe{padding-top:0}.AVsepf{padding-bottom:8px}.AVsepf.u2x1Od{padding-bottom:0}.Ru8idb{margin-top:-16px}.punez{font-weight:700;letter-spacing:0.75px;text-transform:uppercase}.wyrwXc{font-size:12px;line-height:16px}.wyrwXc.HrGdeb{color:#fff}.wyrwXc.AP7Wnd{color:#202124}.Xdlr0d{overflow-x:auto;-webkit-overflow-scrolling:touch;margin:0 -8px;padding:2px 0 16px 24px;margin-top:-2px;transform:translate3d(0,0,0)}.idg8be{display:table;border-collapse:separate;border-spacing:8px 0;margin:0 -8px;padding-right:16px}.BVG0Nb{display:table-cell;vertical-align:top;background-color:#fff;border-radius:8px;box-shadow:0 0 0 1px #dfe1e5;overflow:hidden}.h1hFNe{display:inline-block;position:relative}.Iaa5if{overflow:hidden;position:relative}.l7d08{align-items:center;display:flex;flex-direction:column;justify-content:space-around}hr{border:0;border-bottom:1px solid #dadce0;margin:0}.BUybKe,.HsnFBf{margin-left:16px}.BUybKe,.oM2GA{margin-right:16px}.XO7rhc{margin-right:-16px;margin-left:-16px}.ZM7ZNb{margin-right:-16px}.HbX59e{margin-left:0px}.r2fjmd{margin-bottom:0px;margin-top:0px}.gGQDvd{padding:14px;position:relative}.Q71vJc{display:block;position:relative;width:100%}.kjGX2{position:absolute;left:48px;right:0;vertical-align:bottom;display:inline-block;color:#3c4043}.ieB2Dd{overflow:hidden;margin-top:-10px;margin-bottom:-16px;margin-right:8px;border-radius:4px;display:inline-block;border-radius:50%;padding:10px}.OEaqif{width:20px;height:20px;display:block}.lRVwie{text-overflow:ellipsis;white-space:nowrap;overflow:hidden}.rLshyf,.BmP5tf{padding-top:12px;padding-bottom:12px}.YOx3Ab{padding-left:16px;}.w1C3Le,.BmP5tf,.G5NbBd,.CS4w5b{padding-left:16px;padding-right:16px;}.G5NbBd{padding-bottom:12px}.CS4w5b{padding-top:12px}.nMymef{display:flex}.G5eFlf{flex:1;display:block}.nMymef span{text-align:center}.EYqSq{margin:6px 4px 9px 0;border-radius:100%;display:inline-block;height:10px;vertical-align:middle;width:10px}.dfB0uf{color:#3c4043;font-weight:bold}</style><div><!--SW_C_X--></div><div></div><div><div class=\"ZINbbc luh4tb xpd O9g5cc uUPGi\"><div class=\"egMi0 kCrYT\"><a href=\"/url?q=https://www.python.org/&amp;sa=U&amp;ved=2ahUKEwi42NCzs5j4AhXOrJUCHaGrA_8QFnoECAMQAg&amp;usg=AOvVaw2_Bn_OktH0I6jFSFNeiVIV\"><h3 class=\"zBAuLc l97dzf\"><div class=\"BNeawe vvjwJb AP7Wnd\">Python.org</div></h3><div class=\"BNeawe UPmit AP7Wnd\">www.python.org</div></a></div><div class=\"kCrYT\"><div><div class=\"BNeawe s3v9rd AP7Wnd\"><div><div class=\"MSiauf\"><div class=\"BNeawe s3v9rd AP7Wnd\">The official home of the Python Programming Language.</div></div><div><div class=\"MSiauf\"><div class=\"BNeawe s3v9rd AP7Wnd\"><span class=\"BNeawe\"><a href=\"/url?q=https://www.python.org/downloads/&amp;sa=U&amp;ved=2ahUKEwi42NCzs5j4AhXOrJUCHaGrA_8QjBB6BAgDEAU&amp;usg=AOvVaw1HrH8RdUkjZcARVtd6vLwF\"><span class=\"XLloXe AP7Wnd\">Download</span></a></span></div></div><div class=\"MSiauf\"><div class=\"BNeawe s3v9rd AP7Wnd\"><span class=\"BNeawe\"><a href=\"/url?q=https://www.python.org/about/gettingstarted/&amp;sa=U&amp;ved=2ahUKEwi42NCzs5j4AhXOrJUCHaGrA_8QjBB6BAgDEAc&amp;usg=AOvVaw12oAieZ9uBQfptVpQwTZE2\"><span class=\"XLloXe AP7Wnd\">Python For Beginners</span></a></span></div></div><div class=\"MSiauf\"><div class=\"BNeawe s3v9rd AP7Wnd\"><span class=\"BNeawe\"><a href=\"/url?q=https://docs.python.org/3/tutorial/&amp;sa=U&amp;ved=2ahUKEwi42NCzs5j4AhXOrJUCHaGrA_8QjBB6BAgDEAk&amp;usg=AOvVaw1wch3jUqoDpvSIo0JQ9eFr\"><span class=\"XLloXe AP7Wnd\">Tutorial</span></a></span></div></div><div><div class=\"BNeawe s3v9rd AP7Wnd\"><span class=\"BNeawe\"><a href=\"/url?q=https://www.python.org/about/&amp;sa=U&amp;ved=2ahUKEwi42NCzs5j4AhXOrJUCHaGrA_8QjBB6BAgDEAs&amp;usg=AOvVaw2SvdaMBA8_k7wreACNr-Dq\"><span class=\"XLloXe AP7Wnd\">About</span></a></span></div></div></div></div></div></div></div></div></div><div><div class=\"ZINbbc luh4tb xpd O9g5cc uUPGi\"><div class=\"egMi0 kCrYT\"><a href=\"/url?q=https://www.w3schools.com/python/&amp;sa=U&amp;ved=2ahUKEwi42NCzs5j4AhXOrJUCHaGrA_8QFnoECAcQAg&amp;usg=AOvVaw2ScV7bb019tD2zdIoNQkXv\"><h3 class=\"zBAuLc l97dzf\"><div class=\"BNeawe vvjwJb AP7Wnd\">Python Tutorial - W3Schools</div></h3><div class=\"BNeawe UPmit AP7Wnd\">www.w3schools.com &#8250; python</div></a></div><div class=\"kCrYT\"><div><div class=\"BNeawe s3v9rd AP7Wnd\"><div><div class=\"MSiauf\"><div class=\"BNeawe s3v9rd AP7Wnd\">Python is a popular programming language. Python can be used on a server to create web applications. Start learning Python now » ...</div></div><div><div class=\"BNeawe s3v9rd AP7Wnd\"><span class=\"BNeawe\"><a href=\"/url?q=https://www.w3schools.com/python/python_intro.asp&amp;sa=U&amp;ved=2ahUKEwi42NCzs5j4AhXOrJUCHaGrA_8Q0gJ6BAgHEAU&amp;usg=AOvVaw3uo-rKFwSvjHVE3-BWTyJv\"><span class=\"XLloXe AP7Wnd\">Python Introduction</span></a></span> · <span class=\"BNeawe\"><a href=\"/url?q=https://www.w3schools.com/python/python_lists.asp&amp;sa=U&amp;ved=2ahUKEwi42NCzs5j4AhXOrJUCHaGrA_8Q0gJ6BAgHEAY&amp;usg=AOvVaw2rQlbqqljfadu3FOg4SV_6\"><span class=\"XLloXe AP7Wnd\">Python Lists</span></a></span> · <span class=\"BNeawe\"><a href=\"/url?q=https://www.w3schools.com/python/python_strings.asp&amp;sa=U&amp;ved=2ahUKEwi42NCzs5j4AhXOrJUCHaGrA_8Q0gJ6BAgHEAc&amp;usg=AOvVaw39poZgCuEwaPRUOJ74sUrI\"><span class=\"XLloXe AP7Wnd\">Python Strings</span></a></span> · <span class=\"BNeawe\"><a href=\"/url?q=https://www.w3schools.com/python/python_variables.asp&amp;sa=U&amp;ved=2ahUKEwi42NCzs5j4AhXOrJUCHaGrA_8Q0gJ6BAgHEAg&amp;usg=AOvVaw1Ps-rHjBjUJ_EjHfRd6VQO\"><span class=\"XLloXe AP7Wnd\">Python Variables</span></a></span></div></div></div></div></div></div></div></div><div><div class=\"ZINbbc xpd O9g5cc uUPGi\"><div></div><div class=\"mEUgP\"><span><div class=\"BNeawe\"><span class=\"atOwb UMOHqf\">People also ask</span></div></span></div><div class=\"x54gtf\"></div><div><div class=\"xpc\"><div class=\"duf-h\"><div class=\"fLtXsc iIWm4b\" aria-expanded=\"false\" id=\"tsuid1\" role=\"button\" tabindex=\"0\" data-ved=\"2ahUKEwi42NCzs5j4AhXOrJUCHaGrA_8Quk56BAgCEAI\"><div class=\"Lt3Tzc\">What is Python used for?</div><div class=\"Lym8W xCgLUe\"><div class=\"AeQQub hwc\"></div><div class=\"YCU7eb hwc\"></div><div class=\"IyYaEd hwx\"></div><div class=\"ECUHQe hwx\"></div></div></div></div><div class=\"qxDOhb\" id=\"accdef_1\"></div></div></div><div class=\"x54gtf\"></div><div><div class=\"xpc\"><div class=\"duf-h\"><div class=\"fLtXsc iIWm4b\" aria-expanded=\"false\" id=\"tsuid2\" role=\"button\" tabindex=\"0\" data-ved=\"2ahUKEwi42NCzs5j4AhXOrJUCHaGrA_8Quk56BAgCEAk\"><div class=\"Lt3Tzc\">Is Python easy to learn?</div><div class=\"Lym8W xCgLUe\"><div class=\"AeQQub hwc\"></div><div class=\"YCU7eb hwc\"></div><div class=\"IyYaEd hwx\"></div><div class=\"ECUHQe hwx\"></div></div></div></div><div class=\"qxDOhb\" id=\"accdef_3\"></div></div></div><div class=\"x54gtf\"></div><div><div class=\"xpc\"><div class=\"duf-h\"><div class=\"fLtXsc iIWm4b\" aria-expanded=\"false\" id=\"tsuid3\" role=\"button\" tabindex=\"0\" data-ved=\"2ahUKEwi42NCzs5j4AhXOrJUCHaGrA_8Quk56BAgCEBA\"><div class=\"Lt3Tzc\">What are basics of Python?</div><div class=\"Lym8W xCgLUe\"><div class=\"AeQQub hwc\"></div><div class=\"YCU7eb hwc\"></div><div class=\"IyYaEd hwx\"></div><div class=\"ECUHQe hwx\"></div></div></div></div><div class=\"qxDOhb\" id=\"accdef_5\"></div></div></div><div class=\"x54gtf\"></div><div><div class=\"xpc\"><div class=\"duf-h\"><div class=\"fLtXsc iIWm4b\" aria-expanded=\"false\" id=\"tsuid4\" role=\"button\" tabindex=\"0\" data-ved=\"2ahUKEwi42NCzs5j4AhXOrJUCHaGrA_8Quk56BAgCEBc\"><div class=\"Lt3Tzc\">How much does Python cost?</div><div class=\"Lym8W xCgLUe\"><div class=\"AeQQub hwc\"></div><div class=\"YCU7eb hwc\"></div><div class=\"IyYaEd hwx\"></div><div class=\"ECUHQe hwx\"></div></div></div></div><div class=\"qxDOhb\" id=\"accdef_7\"></div></div></div></div></div><div><div class=\"ZINbbc luh4tb xpd O9g5cc uUPGi\"><div class=\"egMi0 kCrYT\"><a href=\"/url?q=https://en.wikipedia.org/wiki/Python_(programming_language)&amp;sa=U&amp;ved=2ahUKEwi42NCzs5j4AhXOrJUCHaGrA_8QFnoECAoQAg&amp;usg=AOvVaw3MXq-qf-tnWSjX2L1_28mg\"><h3 class=\"zBAuLc l97dzf\"><div class=\"BNeawe vvjwJb AP7Wnd\">Python (programming language) - Wikipedia</div></h3><div class=\"BNeawe UPmit AP7Wnd\">en.wikipedia.org &#8250; wiki &#8250; Python_(programming_language)</div></a></div><div class=\"kCrYT\"><div><div class=\"BNeawe s3v9rd AP7Wnd\"><div><div class=\"MSiauf\"><div class=\"BNeawe s3v9rd AP7Wnd\">Python is a high-level, interpreted, general-purpose programming language. Its design philosophy emphasizes code readability with the use of significant ...</div></div><div><div class=\"BNeawe s3v9rd AP7Wnd\">Paradigm: <span class=\"BNeawe\"><a href=\"/url?q=http://en.wikipedia.org/wiki/Multi-paradigm_programming_language&amp;sa=U&amp;ved=2ahUKEwi42NCzs5j4AhXOrJUCHaGrA_8Qs2Z6BAgKEAU&amp;usg=AOvVaw3LwVBA1sbeYf2JavK0wZnW\"><span class=\"XLloXe AP7Wnd\">Multi-paradigm</span></a></span><span class=\"xUrNXd UMOHqf\">: </span><span class=\"BNeawe\"><a href=\"/url?q=http://en.wikipedia.org/wiki/Object-oriented_programming&amp;sa=U&amp;ved=2ahUKEwi42NCzs5j4AhXOrJUCHaGrA_8Qs2Z6BAgKEAY&amp;usg=AOvVaw1C1o3oTn9EqM0DXp-t1j8K\"><span class=\"XLloXe AP7Wnd\">object-oriented</span></a></span><span class=\"xUrNXd UMOHqf\">, </span><span class=\"BNeawe\"><a href=\"/url?q=http://en.wikipedia.org/wiki/Procedural_programming&amp;sa=U&amp;ved=2ahUKEwi42NCzs5j4AhXOrJUCHaGrA_8Qs2Z6BAgKEAc&amp;usg=AOvVaw1BhplV-Bi1crbkzUxCBJwC\"><span class=\"XLloXe AP7Wnd\">procedural</span></a></span><span class=\"xUrNXd UMOHqf\"> (</span><span class=\"BNeawe\"><a href=\"/url?q=http://en.wikipedia.org/wiki/Imperative_programming&amp;sa=U&amp;ved=2ahUKEwi42NCzs5j4AhXOrJUCHaGrA_8Qs2Z6BAgKEAg&amp;usg=AOvVaw2yMDjFhKNt1m9J8dqMt10l\"><span class=\"XLloXe AP7Wnd\">imperative</span></a></span><span class=\"xUrNXd UMOHqf\">), </span><span class=\"BNeawe\"><a href=\"/url?q=http://en.wikipedia.org/wiki/Functional_programming&amp;sa=U&amp;ved=2ahUKEwi42NCzs5j4AhXOrJUCHaGrA_8Qs2Z6BAgKEAk&amp;usg=AOvVaw1SibQLuzhOG6a-YpINwYYA\"><span class=\"XLloXe AP7Wnd\">functional</span></a></span><span class=\"xUrNXd UMOHqf\">, </span><span class=\"BNeawe\"><a href=\"/url?q=http://en.wikipedia.org/wiki/Structured_programming&amp;sa=U&amp;ved=2ahUKEwi42NCzs5j4AhXOrJUCHaGrA_8Qs2Z6BAgKEAo&amp;usg=AOvVaw2VQDxfWiNKuzmrOXsnlIaf\"><span class=\"XLloXe AP7Wnd\">structured</span></a></span><span class=\"xUrNXd UMOHqf\">, </span><span class=\"BNeawe\"><a href=\"/url?q=http://en.wikipedia.org/wiki/Reflective_programming&amp;sa=U&amp;ved=2ahUKEwi42NCzs5j4AhXOrJUCHaGrA_8Qs2Z6BAgKEAs&amp;usg=AOvVaw2PfvytuGYaZAmA9c1TSP0X\"><span class=\"XLloXe AP7Wnd\">reflective</span></a></span><br>Preview release: <span class=\"xUrNXd UMOHqf\">3.11.0b3 / 1 June 2022; 4 days ago</span><br>Designed by: <span class=\"BNeawe\"><a href=\"/url?q=http://en.wikipedia.org/wiki/Guido_van_Rossum&amp;sa=U&amp;ved=2ahUKEwi42NCzs5j4AhXOrJUCHaGrA_8Qs2Z6BAgKEA4&amp;usg=AOvVaw0tLOO1Y6DLe81LYCRWSWKI\"><span class=\"XLloXe AP7Wnd\">Guido van Rossum</span></a></span><br>Developer: <span class=\"BNeawe\"><a href=\"/url?q=http://en.wikipedia.org/wiki/Python_Software_Foundation&amp;sa=U&amp;ved=2ahUKEwi42NCzs5j4AhXOrJUCHaGrA_8Qs2Z6BAgKEBA&amp;usg=AOvVaw1nVopGUfFINX4BEDQTSPGK\"><span class=\"XLloXe AP7Wnd\">Python Software Foundation</span></a></span></div></div></div></div></div></div></div></div><div><div class=\"ZINbbc xpd O9g5cc uUPGi\"><div class=\"kCrYT\"><div class=\"nGphre\"><a href=\"/url?q=https://en.wikipedia.org/wiki/Python_(programming_language)&amp;sa=U&amp;ved=2ahUKEwi42NCzs5j4AhXOrJUCHaGrA_8QwW56BAgGEAI&amp;usg=AOvVaw2m2bBS6eB9miMM70zbng5j\"><img class=\"UykT9d\" alt=\"Python\" src=\"data:image/gif;base64,R0lGODlhAQABAIAAAP///////yH5BAEKAAEALAAAAAABAAEAAAICTAEAOw==\" style=\"max-width:72px;max-height:72px\" id=\"dimg_9\" data-deferred=\"1\"></a></div><span><h3 class=\"zBAuLc l97dzf\"><div class=\"BNeawe deIvCb AP7Wnd\">Python</div></h3></span><span><div class=\"BNeawe tAd8D AP7Wnd\">High-level programming language</div></span><div class=\"nYT7Qb\"></div></div><div class=\"xpc\"><div><div class=\"Q0HXG\"></div><div class=\"kCrYT\"><div><div class=\"BNeawe s3v9rd AP7Wnd\"><div><div class=\"BNeawe s3v9rd AP7Wnd\">Python is a high-level, interpreted, general-purpose programming language. Its design philosophy emphasizes code readability with the use of significant indentation.\n",
      "Python is dynamically-typed and garbage-collected. <span class=\"BNeawe\"><a href=\"/url?q=https://en.wikipedia.org/wiki/Python_(programming_language)&amp;sa=U&amp;ved=2ahUKEwi42NCzs5j4AhXOrJUCHaGrA_8QmhN6BAgGEAc&amp;usg=AOvVaw3UecFuMywi9xPcvaf_LHoI\"><span class=\"XLloXe AP7Wnd\">Wikipedia</span></a></span></div></div></div></div></div><div class=\"vbShOe kCrYT\"><div class=\"AVsepf\"><div class=\"BNeawe s3v9rd AP7Wnd\"><span><span class=\"BNeawe s3v9rd AP7Wnd\">Developer</span></span>: <span><span class=\"BNeawe tAd8D AP7Wnd\"><span class=\"BNeawe\"><a href=\"/search?ie=UTF-8&amp;q=Python+Software+Foundation&amp;stick=H4sIAAAAAAAAAOPgE-LQz9U3MK0yjFfiBLGMjXMMC7REiout9MtTk9ISk0uKrVJSy1Jz8gsWsUoFVJZk5OcpBOenlZQnFqUquOWX5qUklmTm5wEARRLJ1UoAAAA&amp;sa=X&amp;ved=2ahUKEwi42NCzs5j4AhXOrJUCHaGrA_8QmxN6BAgGEAk\"><span class=\"XLloXe AP7Wnd\">Python Software Foundation</span></a></span></span></span></div></div><div class=\"AVsepf\"><div class=\"BNeawe s3v9rd AP7Wnd\"><span><span class=\"BNeawe s3v9rd AP7Wnd\">First appeared</span></span>: <span><span class=\"BNeawe tAd8D AP7Wnd\">20 February 1991; 31 years ago</span></span></div></div><div class=\"AVsepf\"><div class=\"BNeawe s3v9rd AP7Wnd\"><span><span class=\"BNeawe s3v9rd AP7Wnd\">OS</span></span>: <span><span class=\"BNeawe tAd8D AP7Wnd\"><span class=\"BNeawe\"><a href=\"/search?ie=UTF-8&amp;q=Windows&amp;stick=H4sIAAAAAAAAAOPgE-LQz9U3MK0yjFcCs0yK4i20-IuLrfTLU5PSEpNLiq3yixexsodn5qXklxcDAIMXZSIxAAAA&amp;sa=X&amp;ved=2ahUKEwi42NCzs5j4AhXOrJUCHaGrA_8QmxN6BAgGEAw\"><span class=\"XLloXe AP7Wnd\">Windows</span></a></span>, <span class=\"BNeawe\"><a href=\"/search?ie=UTF-8&amp;q=macOS&amp;stick=H4sIAAAAAAAAAOPgE-LQz9U3MK0yjFeCsEwri7T4i4ut9MtTk9ISk0uKrfKLF7Gy5iYm-wcDAFc3wQUvAAAA&amp;sa=X&amp;ved=2ahUKEwi42NCzs5j4AhXOrJUCHaGrA_8QmxN6BAgGEA0\"><span class=\"XLloXe AP7Wnd\">macOS</span></a></span>, <span class=\"BNeawe\"><a href=\"/search?ie=UTF-8&amp;q=Linux&amp;stick=H4sIAAAAAAAAAOPgE-LQz9U3MK0yjFfiBLHSCqqqCrT4i4ut9MtTk9ISk0uKrfKLF7Gy-mTmlVYAANFHIoIwAAAA&amp;sa=X&amp;ved=2ahUKEwi42NCzs5j4AhXOrJUCHaGrA_8QmxN6BAgGEA4\"><span class=\"XLloXe AP7Wnd\">Linux</span></a></span>/<span class=\"BNeawe\"><a href=\"/search?ie=UTF-8&amp;q=UNIX&amp;stick=H4sIAAAAAAAAAOPgE-LQz9U3MK0yjFfiBLHSCqqqCrT4i4ut9MtTk9ISk0uKrfKLF7GyhPp5RgAA2O-wly8AAAA&amp;sa=X&amp;ved=2ahUKEwi42NCzs5j4AhXOrJUCHaGrA_8QmxN6BAgGEA8\"><span class=\"XLloXe AP7Wnd\">UNIX</span></a></span>, <span class=\"BNeawe\"><a href=\"/search?ie=UTF-8&amp;q=Android&amp;stick=H4sIAAAAAAAAAOPgE-LQz9U3MK0yjFfiArGMyitK0su1-IuLrfTLU5PSEpNLiq3yixexsjvmpRTlZ6YAAKHn8OEzAAAA&amp;sa=X&amp;ved=2ahUKEwi42NCzs5j4AhXOrJUCHaGrA_8QmxN6BAgGEBA\"><span class=\"XLloXe AP7Wnd\">Android</span></a></span> and more</span></span></div></div><div class=\"AVsepf\"><div class=\"BNeawe s3v9rd AP7Wnd\"><span><span class=\"BNeawe s3v9rd AP7Wnd\">Designed by</span></span>: <span><span class=\"BNeawe tAd8D AP7Wnd\"><span class=\"BNeawe\"><a href=\"/search?ie=UTF-8&amp;q=Guido+van+Rossum&amp;stick=H4sIAAAAAAAAAOPgE-LQz9U3MK0yjFfiBLEMMwxMk7UMMsqt9JPzc3JSk0sy8_P0C4ry04sSc3Mz89LjcxLz0ksT01OLrVJSizPT81JTFJIqF7EKuJdmpuQrlCXmKQTlFxeX5gIAXhtP9lwAAAA&amp;sa=X&amp;ved=2ahUKEwi42NCzs5j4AhXOrJUCHaGrA_8QmxN6BAgGEBI\"><span class=\"XLloXe AP7Wnd\">Guido van Rossum</span></a></span></span></span></div></div><div class=\"AVsepf hwc\"><div class=\"BNeawe s3v9rd AP7Wnd\"><span><span class=\"BNeawe s3v9rd AP7Wnd\">Stable release</span></span>: <span><span class=\"BNeawe tAd8D AP7Wnd\">3.10.4 / 24 March 2022; 2 months ago</span></span></div></div><div class=\"AVsepf hwc\"><div class=\"BNeawe s3v9rd AP7Wnd\"><span><span class=\"BNeawe s3v9rd AP7Wnd\">Filename extensions</span></span>: <span><span class=\"BNeawe tAd8D AP7Wnd\">.py,.pyi,.pyc,.pyd,.pyo (prior to 3.5),.pyw,.pyz (since 3.5)</span></span></div></div><div class=\"AVsepf u2x1Od hwc\"><div class=\"BNeawe s3v9rd AP7Wnd\"><span><span class=\"BNeawe s3v9rd AP7Wnd\">Typing discipline</span></span>: <span><span class=\"BNeawe tAd8D AP7Wnd\"><span class=\"BNeawe\"><a href=\"/search?ie=UTF-8&amp;q=Duck&amp;stick=H4sIAAAAAAAAAOPgE-LQz9U3MK0yjFfiBLGMLIos4rWki4ut9MtTk9ISk0uKrUoqC1LjUzKLkzMLcjLzFrGyuJQmZwMAwi9X8jsAAAA&amp;sa=X&amp;ved=2ahUKEwi42NCzs5j4AhXOrJUCHaGrA_8QmxN6BAgGEBY\"><span class=\"XLloXe AP7Wnd\">Duck</span></a></span>, <span class=\"BNeawe\"><a href=\"/search?ie=UTF-8&amp;q=dynamic&amp;stick=H4sIAAAAAAAAAOPgE-LQz9U3MK0yjFfi1k_XNzQCAuO0HC3p4mIr_fLUpLTE5JJiq5LKgtT4lMzi5MyCnMy8RazsKZV5ibmZyQDImWrbQAAAAA&amp;sa=X&amp;ved=2ahUKEwi42NCzs5j4AhXOrJUCHaGrA_8QmxN6BAgGEBc\"><span class=\"XLloXe AP7Wnd\">dynamic</span></a></span>, <span class=\"BNeawe\"><a href=\"/search?ie=UTF-8&amp;q=strong+typing&amp;stick=H4sIAAAAAAAAAOPgE-LQz9U3MK0yjFfi1k_XNzQyyKhKKqvQki4uttIvT01KS0wuKbYqqSxIjU_JLE7OLMjJzFvEyltcUpSfl64AFM_MSwcAT-qhtUYAAAA&amp;sa=X&amp;ved=2ahUKEwi42NCzs5j4AhXOrJUCHaGrA_8QmxN6BAgGEBg\"><span class=\"XLloXe AP7Wnd\">strong typing</span></a></span>; gradual (since 3.5, but ignored in <span class=\"BNeawe\"><a href=\"/search?ie=UTF-8&amp;q=CPython&amp;stick=H4sIAAAAAAAAAOPgE-LQz9U3MK0yjFfiBLHMkioqkrSki4ut9MtTk9ISk0uKrUoqC1LjUzKLkzMLcjLzFrGyOwdUlmTk5wEAPgUXRT4AAAA&amp;sa=X&amp;ved=2ahUKEwi42NCzs5j4AhXOrJUCHaGrA_8QmxN6BAgGEBk\"><span class=\"XLloXe AP7Wnd\">CPython</span></a></span>)</span></span></div></div></div><div class=\"Q0HXG\"></div><div><div class=\"kCrYT\"><span class=\"punez\"><div class=\"BNeawe wyrwXc AP7Wnd\">IDE Python</div></span></div><div><div><div class=\"Xdlr0d\"><div class=\"idg8be\"><a class=\"BVG0Nb\" href=\"/search?ie=UTF-8&amp;q=IDLE&amp;stick=H4sIAAAAAAAAAONgFuLQz9U3MK0yjFfiArGMCosqsku0RLKTrfST83Nz8_OsUvLL88oTi1KKF7GyeLr4uAIAHTjxWjUAAAA&amp;sa=X&amp;ved=2ahUKEwi42NCzs5j4AhXOrJUCHaGrA_8Q0I4BegQIBhAc\"><div><div style=\"width:112px\"><div class=\"l7d08\" style=\"width:112px;height:112px\"><img class=\"h1hFNe\" alt=\"\" src=\"data:image/gif;base64,R0lGODlhAQABAIAAAP///////yH5BAEKAAEALAAAAAABAAEAAAICTAEAOw==\" style=\"max-width:112px;max-height:112px\" id=\"dimg_35\" data-deferred=\"1\"></div><div class=\"RWuggc kCrYT\"><div><div class=\"BNeawe s3v9rd AP7Wnd\">IDLE</div></div></div></div></div></a><a class=\"BVG0Nb\" href=\"/search?ie=UTF-8&amp;q=PyCharm&amp;stick=H4sIAAAAAAAAAONgFuLQz9U3MK0yjFfiArFSik1TKqq0RLKTrfST83Nz8_OsUvLL88oTi1KKF7GyB1Q6ZyQW5QIA9R-D-jgAAAA&amp;sa=X&amp;ved=2ahUKEwi42NCzs5j4AhXOrJUCHaGrA_8Q0I4BegQIBhAe\"><div><div style=\"width:112px\"><div class=\"l7d08\" style=\"width:112px;height:112px\"><img class=\"h1hFNe\" alt=\"\" src=\"data:image/gif;base64,R0lGODlhAQABAIAAAP///////yH5BAEKAAEALAAAAAABAAEAAAICTAEAOw==\" style=\"max-width:112px;max-height:112px\" id=\"dimg_39\" data-deferred=\"1\"></div><div class=\"RWuggc kCrYT\"><div><div class=\"BNeawe s3v9rd AP7Wnd\">PyCharm</div></div></div></div></div></a><a class=\"BVG0Nb\" href=\"/search?ie=UTF-8&amp;q=Spyder+(software)&amp;stick=H4sIAAAAAAAAAONgFuLQz9U3MK0yjFfiArGyLLPTsyq1RLKTrfST83Nz8_OsUvLL88oTi1KKF7EKBhdUpqQWKWgU56eVAMVSNQEgf8z_QgAAAA&amp;sa=X&amp;ved=2ahUKEwi42NCzs5j4AhXOrJUCHaGrA_8Q0I4BegQIBhAg\"><div><div style=\"width:112px\"><div class=\"l7d08\" style=\"width:112px;height:112px\"><img class=\"h1hFNe\" alt=\"\" src=\"data:image/gif;base64,R0lGODlhAQABAIAAAP///////yH5BAEKAAEALAAAAAABAAEAAAICTAEAOw==\" style=\"max-width:112px;max-height:112px\" id=\"dimg_43\" data-deferred=\"1\"></div><div class=\"RWuggc kCrYT\"><div><div class=\"BNeawe s3v9rd AP7Wnd\">Spyder</div></div></div></div></div></a><a class=\"BVG0Nb\" href=\"/search?ie=UTF-8&amp;q=Atom+(text+editor)&amp;stick=H4sIAAAAAAAAAONgFuLQz9U3MK0yjFfiArHiK0wrjNO1RLKTrfST83Nz8_OsUvLL88oTi1KKF7EKOZbk5ypolKRWlCikpmSW5BdpAgAK5nrWQwAAAA&amp;sa=X&amp;ved=2ahUKEwi42NCzs5j4AhXOrJUCHaGrA_8Q0I4BegQIBhAi\"><div><div style=\"width:112px\"><div class=\"l7d08\" style=\"width:112px;height:112px\"><img class=\"h1hFNe\" alt=\"\" src=\"data:image/gif;base64,R0lGODlhAQABAIAAAP///////yH5BAEKAAEALAAAAAABAAEAAAICTAEAOw==\" style=\"max-width:112px;max-height:112px\" id=\"dimg_45\" data-deferred=\"1\"></div><div class=\"RWuggc kCrYT\"><div><div class=\"BNeawe s3v9rd AP7Wnd\">Atom</div></div></div></div></div></a><a class=\"BVG0Nb\" href=\"/search?ie=UTF-8&amp;q=Thonny&amp;stick=H4sIAAAAAAAAAONgFuLQz9U3MK0yjFfi1U_XNzRMzkkvMLRMrtISyU620k_Oz83Nz7NKyS_PK08sSilexMoWkpGfl1cJAE0118k6AAAA&amp;sa=X&amp;ved=2ahUKEwi42NCzs5j4AhXOrJUCHaGrA_8Q0I4BegQIBhAk\"><div><div style=\"width:112px\"><div class=\"l7d08\" style=\"width:112px;height:112px\"><img class=\"h1hFNe\" alt=\"\" src=\"data:image/gif;base64,R0lGODlhAQABAIAAAP///////yH5BAEKAAEALAAAAAABAAEAAAICTAEAOw==\" style=\"max-width:112px;max-height:112px\" id=\"dimg_47\" data-deferred=\"1\"></div><div class=\"RWuggc kCrYT\"><div><div class=\"BNeawe s3v9rd AP7Wnd\">Thonny</div></div></div></div></div></a><a class=\"BVG0Nb\" href=\"/search?ie=UTF-8&amp;q=PyDev&amp;stick=H4sIAAAAAAAAAONgFuLQz9U3MK0yjFfiArFM0tMzUiq1RLKTrfST83Nz8_OsUvLL88oTi1KKF7GyBlS6pJYBALI4ny42AAAA&amp;sa=X&amp;ved=2ahUKEwi42NCzs5j4AhXOrJUCHaGrA_8Q0I4BegQIBhAm\"><div><div style=\"width:112px\"><div class=\"l7d08\" style=\"width:112px;height:112px\"><img class=\"h1hFNe\" alt=\"\" src=\"data:image/gif;base64,R0lGODlhAQABAIAAAP///////yH5BAEKAAEALAAAAAABAAEAAAICTAEAOw==\" style=\"max-width:112px;max-height:112px\" id=\"dimg_49\" data-deferred=\"1\"></div><div class=\"RWuggc kCrYT\"><div><div class=\"BNeawe s3v9rd AP7Wnd\">PyDev</div></div></div></div></div></a></div></div></div></div></div><div class=\"hwc\"><div class=\"kCrYT\"><span class=\"punez\"><div class=\"BNeawe wyrwXc AP7Wnd\">Programming Libraries Python</div></span></div><div><div><div class=\"Xdlr0d\"><div class=\"idg8be\"><a class=\"BVG0Nb\" href=\"/search?ie=UTF-8&amp;q=TensorFlow&amp;stick=H4sIAAAAAAAAAONgFuLQz9U3MK0yjFfi1U_XNzRMKi8wLDbKNtYSyU620k_Oz83Nz7NKyS_PK08sSilexMoVkppXnF_klpNfDgCx8fy7PgAAAA&amp;sa=X&amp;ved=2ahUKEwi42NCzs5j4AhXOrJUCHaGrA_8Q0I4BegQIBhAp\"><div><div style=\"width:112px\"><div class=\"l7d08\" style=\"width:112px;height:112px\"><img class=\"h1hFNe\" alt=\"\" data-ll=\"https://encrypted-tbn0.gstatic.com/images?q=tbn:ANd9GcQvaw1iiA3z8bWohdl1jhKj-Nb-4TjPgq6ozEdiH7bQee_hagghMG6NPjU&amp;s=0\" src=\"data:image/gif;base64,R0lGODlhAQABAIAAAP///////yH5BAEKAAEALAAAAAABAAEAAAICTAEAOw==\" style=\"max-width:112px;max-height:112px\"></div><div class=\"RWuggc kCrYT\"><div><div class=\"BNeawe s3v9rd AP7Wnd\">TensorFlow</div></div></div></div></div></a><a class=\"BVG0Nb\" href=\"/search?ie=UTF-8&amp;q=PyTorch&amp;stick=H4sIAAAAAAAAAONgFuLQz9U3MK0yjFfi1U_XNzRMTzG2NDAtM9QSyU620k_Oz83Nz7NKyS_PK08sSilexMoeUBmSX5ScAQBZXISTOwAAAA&amp;sa=X&amp;ved=2ahUKEwi42NCzs5j4AhXOrJUCHaGrA_8Q0I4BegQIBhAr\"><div><div style=\"width:112px\"><div class=\"l7d08\" style=\"width:112px;height:112px\"><img class=\"h1hFNe\" alt=\"\" data-ll=\"https://encrypted-tbn0.gstatic.com/images?q=tbn:ANd9GcTz9OqRf6HgBLQF75m_qHc53BOAszUBRn2KrLHSCog&amp;s=0\" src=\"data:image/gif;base64,R0lGODlhAQABAIAAAP///////yH5BAEKAAEALAAAAAABAAEAAAICTAEAOw==\" style=\"max-width:112px;max-height:112px\"></div><div class=\"RWuggc kCrYT\"><div><div class=\"BNeawe s3v9rd AP7Wnd\">PyTorch</div></div></div></div></div></a><a class=\"BVG0Nb\" href=\"/search?ie=UTF-8&amp;q=Requests&amp;stick=H4sIAAAAAAAAAONgFuLQz9U3MK0yjFfiBrEMjTLyDHOMtUSyk630k_Nzc_PzrFLyy_PKE4tSihexcgSlFpamFpcUAwBfX6itOgAAAA&amp;sa=X&amp;ved=2ahUKEwi42NCzs5j4AhXOrJUCHaGrA_8Q0I4BegQIBhAt\"><div><div style=\"width:112px\"><div class=\"l7d08\" style=\"width:112px;height:112px\"><img class=\"h1hFNe\" alt=\"\" data-ll=\"https://encrypted-tbn0.gstatic.com/images?q=tbn:ANd9GcRXrE0vXmvS06-32G05akx9oaVlGg9eNLpG31ICGXIlvQex3tSTQD3P8YI&amp;s=0\" src=\"data:image/gif;base64,R0lGODlhAQABAIAAAP///////yH5BAEKAAEALAAAAAABAAEAAAICTAEAOw==\" style=\"max-width:112px;max-height:112px\"></div><div class=\"RWuggc kCrYT\"><div><div class=\"BNeawe s3v9rd AP7Wnd\">Requests</div></div></div></div></div></a><a class=\"BVG0Nb\" href=\"/search?ie=UTF-8&amp;q=Theano&amp;stick=H4sIAAAAAAAAAONgFuLQz9U3MK0yjFfiArEyLE1zMyy0RLKTrfST83Nz8_OsUvLL88oTi1KKF7GyhWSkJublAwAMoZDCNwAAAA&amp;sa=X&amp;ved=2ahUKEwi42NCzs5j4AhXOrJUCHaGrA_8Q0I4BegQIBhAv\"><div><div style=\"width:112px\"><div class=\"l7d08\" style=\"width:112px;height:112px\"><img class=\"h1hFNe\" alt=\"\" data-ll=\"https://encrypted-tbn0.gstatic.com/images?q=tbn:ANd9GcQq6W0gBklHmeezRKcpNvJB2yorctiuVKXVQHzij4byaNheF0SS2MLhwhY&amp;s=0\" src=\"data:image/gif;base64,R0lGODlhAQABAIAAAP///////yH5BAEKAAEALAAAAAABAAEAAAICTAEAOw==\" style=\"max-width:112px;max-height:112px\"></div><div class=\"RWuggc kCrYT\"><div><div class=\"BNeawe s3v9rd AP7Wnd\">Theano</div></div></div></div></div></a><a class=\"BVG0Nb\" href=\"/search?ie=UTF-8&amp;q=OpenCV&amp;stick=H4sIAAAAAAAAAONgFuLQz9U3MK0yjFfiBLHMsgyyTLREspOt9JPzc3Pz86xS8svzyhOLUooXsbL5F6TmOYcBALOm3_c2AAAA&amp;sa=X&amp;ved=2ahUKEwi42NCzs5j4AhXOrJUCHaGrA_8Q0I4BegQIBhAx\"><div><div style=\"width:112px\"><div class=\"l7d08\" style=\"width:112px;height:112px\"><img class=\"h1hFNe\" alt=\"\" data-ll=\"https://encrypted-tbn0.gstatic.com/images?q=tbn:ANd9GcTUJR3jwqew6fIOYrqLSJIrDtaZpTQHGlbIj_F5BBag3mQsSo3s3Uzatjk&amp;s=0\" src=\"data:image/gif;base64,R0lGODlhAQABAIAAAP///////yH5BAEKAAEALAAAAAABAAEAAAICTAEAOw==\" style=\"max-width:112px;max-height:112px\"></div><div class=\"RWuggc kCrYT\"><div><div class=\"BNeawe s3v9rd AP7Wnd\">OpenCV</div></div></div></div></div></a><a class=\"BVG0Nb\" href=\"/search?ie=UTF-8&amp;q=Chainer&amp;stick=H4sIAAAAAAAAAONgFuLQz9U3MK0yjFfi1U_XNzRMt0zLM7Y0KNESyU620k_Oz83Nz7NKyS_PK08sSilexMrunJGYmZdaBAAPrb0-OwAAAA&amp;sa=X&amp;ved=2ahUKEwi42NCzs5j4AhXOrJUCHaGrA_8Q0I4BegQIBhAz\"><div><div style=\"width:112px\"><div class=\"l7d08\" style=\"width:112px;height:112px\"><img class=\"h1hFNe\" alt=\"\" data-ll=\"https://encrypted-tbn0.gstatic.com/images?q=tbn:ANd9GcQ05ajTHLfbh7bua1_f_vbh9Ez3j1L-O6EqTWDf_2FrpF-5cax9DNOS4WM&amp;s=0\" src=\"data:image/gif;base64,R0lGODlhAQABAIAAAP///////yH5BAEKAAEALAAAAAABAAEAAAICTAEAOw==\" style=\"max-width:112px;max-height:112px\"></div><div class=\"RWuggc kCrYT\"><div><div class=\"BNeawe s3v9rd AP7Wnd\">Chainer</div></div></div></div></div></a></div></div></div></div></div><hr></div><div class=\"duf-h\"><div class=\"fLtXsc iIWm4b\" aria-expanded=\"false\" id=\"tsuid5\" style=\"text-align:center\" role=\"button\" tabindex=\"0\"><div class=\"Lym8W\"><div class=\"AeQQub hwc\"></div><div class=\"YCU7eb hwc\"></div><div class=\"IyYaEd hwx\"></div><div class=\"ECUHQe hwx\"></div></div></div></div></div></div></div><div><div class=\"ZINbbc luh4tb xpd O9g5cc uUPGi\"><div class=\"egMi0 kCrYT\"><a href=\"/url?q=https://www.tutorialspoint.com/python/index.htm&amp;sa=U&amp;ved=2ahUKEwi42NCzs5j4AhXOrJUCHaGrA_8QFnoECAEQAg&amp;usg=AOvVaw35W9b-_cTqKoJshz-Gx6Mu\"><h3 class=\"zBAuLc l97dzf\"><div class=\"BNeawe vvjwJb AP7Wnd\">Python Tutorial - Tutorialspoint</div></h3><div class=\"BNeawe UPmit AP7Wnd\">www.tutorialspoint.com &#8250; python</div></a></div><div class=\"kCrYT\"><div><div class=\"BNeawe s3v9rd AP7Wnd\"><div><div><div class=\"BNeawe s3v9rd AP7Wnd\">Python is a general-purpose interpreted, interactive, object-oriented, and high-level programming language. It was created by Guido van Rossum during 1985- ...</div></div></div></div></div></div></div></div><div><div class=\"ZINbbc luh4tb xpd O9g5cc uUPGi\"><div class=\"egMi0 kCrYT\"><a href=\"/url?q=https://www.codecademy.com/catalog/language/python&amp;sa=U&amp;ved=2ahUKEwi42NCzs5j4AhXOrJUCHaGrA_8QFnoECAAQAg&amp;usg=AOvVaw3LhbMmwwR7tDkaNSPrd-po\"><h3 class=\"zBAuLc l97dzf\"><div class=\"BNeawe vvjwJb AP7Wnd\">Python Courses &amp; Tutorials - Codecademy</div></h3><div class=\"BNeawe UPmit AP7Wnd\">www.codecademy.com &#8250; catalog &#8250; language &#8250; python</div></a></div><div class=\"kCrYT\"><div><div class=\"BNeawe s3v9rd AP7Wnd\"><div><div><div class=\"BNeawe s3v9rd AP7Wnd\">Python is a general-purpose, versatile, and powerful programming language. It's a great first language because it's concise and easy to read.</div></div></div></div></div></div></div></div><div><div class=\"ZINbbc luh4tb xpd O9g5cc uUPGi\"><div class=\"egMi0 kCrYT\"><a href=\"/url?q=https://www.codecademy.com/learn/learn-python&amp;sa=U&amp;ved=2ahUKEwi42NCzs5j4AhXOrJUCHaGrA_8QFnoECAkQAg&amp;usg=AOvVaw2QD5bG_-EywhpGj5tbnKat\"><h3 class=\"zBAuLc l97dzf\"><div class=\"BNeawe vvjwJb AP7Wnd\">Learn Python 2 - Codecademy</div></h3><div class=\"BNeawe UPmit AP7Wnd\">www.codecademy.com &#8250; learn &#8250; learn-python</div></a></div><div class=\"kCrYT\"><div><div class=\"BNeawe s3v9rd AP7Wnd\"><div><div><div class=\"BNeawe s3v9rd AP7Wnd\">Python is a general-purpose, versatile and popular programming language. It's great as a first language because it is concise and easy to read, ...</div></div></div></div></div></div></div></div><div><div class=\"ZINbbc xpd O9g5cc uUPGi\"><div class=\"kCrYT\"><div class=\"BNeawe deIvCb AP7Wnd\"><span class=\"atOwb UMOHqf\">Top stories</span></div></div><div><div><div><div class=\"Xdlr0d\"><div class=\"idg8be\"><a class=\"BVG0Nb\" href=\"/url?q=https://www.analyticsinsight.net/top-10-indian-companies-hiring-python-developers-with-good-packages/&amp;sa=U&amp;ved=2ahUKEwi42NCzs5j4AhXOrJUCHaGrA_8Q0PADegQIBBAD&amp;usg=AOvVaw2IcKx6HvWsiFNiBAhlV60g\"><div><div style=\"width:232px\"><div class=\"l7d08\" style=\"background-color:;width:232px;height:128px\"><img class=\"h1hFNe\" alt=\"\" src=\"data:image/gif;base64,R0lGODlhAQABAIAAAP///////yH5BAEKAAEALAAAAAABAAEAAAICTAEAOw==\" style=\"max-width:232px;max-height:128px\" id=\"dimg_5\" data-deferred=\"1\"></div><div class=\"RWuggc kCrYT\"><div><div class=\"BNeawe s3v9rd AP7Wnd\"><span class=\"UMOHqf EDgFbc\">Top 10 Indian Companies Hiring Python Developers with Good Packages</span></div></div><div><div class=\"BNeawe tAd8D AP7Wnd\">Analytics Insight\n",
      "23 hours ago</div></div></div></div></div></a><a class=\"BVG0Nb\" href=\"/url?q=https://www.analyticsinsight.net/top-10-best-laptops-for-python-programming-language-usage/&amp;sa=U&amp;ved=2ahUKEwi42NCzs5j4AhXOrJUCHaGrA_8Q0PADegQIBBAH&amp;usg=AOvVaw0F-Wa0irry-7hhhMkss16E\"><div><div style=\"width:232px\"><div class=\"l7d08\" style=\"background-color:;width:232px;height:128px\"><img class=\"h1hFNe\" alt=\"\" src=\"data:image/gif;base64,R0lGODlhAQABAIAAAP///////yH5BAEKAAEALAAAAAABAAEAAAICTAEAOw==\" style=\"max-width:232px;max-height:128px\" id=\"dimg_15\" data-deferred=\"1\"></div><div class=\"RWuggc kCrYT\"><div><div class=\"BNeawe s3v9rd AP7Wnd\"><span class=\"UMOHqf EDgFbc\">Top 10 Best Laptops for Python Programming Language Usage</span></div></div><div><div class=\"BNeawe tAd8D AP7Wnd\">Analytics Insight\n",
      "19 hours ago</div></div></div></div></div></a><a class=\"BVG0Nb\" href=\"/url?q=https://www.analyticsinsight.net/top-10-tips-to-write-best-python-code-as-a-data-scientist/&amp;sa=U&amp;ved=2ahUKEwi42NCzs5j4AhXOrJUCHaGrA_8Q0PADegQIBBAL&amp;usg=AOvVaw2KR2vtwrXKR7bbwx6G2goI\"><div><div style=\"width:232px\"><div class=\"l7d08\" style=\"width:232px;height:128px\"><img class=\"h1hFNe\" alt=\"\" src=\"data:image/gif;base64,R0lGODlhAQABAIAAAP///////yH5BAEKAAEALAAAAAABAAEAAAICTAEAOw==\" style=\"max-width:232px;max-height:128px\" id=\"dimg_19\" data-deferred=\"1\"></div><div class=\"RWuggc kCrYT\"><div><div class=\"BNeawe s3v9rd AP7Wnd\"><span class=\"UMOHqf EDgFbc\">Top 10 Tips to Write Best Python Code as a Data Scientist</span></div></div><div><div class=\"BNeawe tAd8D AP7Wnd\">Analytics Insight\n",
      "3 days ago</div></div></div></div></div></a><a class=\"BVG0Nb\" href=\"/url?q=https://hackaday.com/2022/05/28/ai-attempts-converting-python-code-to-c/&amp;sa=U&amp;ved=2ahUKEwi42NCzs5j4AhXOrJUCHaGrA_8Q0PADegQIBBAP&amp;usg=AOvVaw2xXzDK3ijbfHrE3CvfKLdS\"><div><div style=\"width:232px\"><div class=\"l7d08\" style=\"width:232px;height:128px\"><img class=\"h1hFNe\" alt=\"\" src=\"data:image/gif;base64,R0lGODlhAQABAIAAAP///////yH5BAEKAAEALAAAAAABAAEAAAICTAEAOw==\" style=\"max-width:232px;max-height:128px\" id=\"dimg_25\" data-deferred=\"1\"></div><div class=\"RWuggc kCrYT\"><div><div class=\"BNeawe s3v9rd AP7Wnd\"><span class=\"UMOHqf EDgFbc\">AI Attempts Converting Python Code To C++</span></div></div><div><div class=\"BNeawe tAd8D AP7Wnd\">Hackaday\n",
      "1 week ago</div></div></div></div></div></a><a class=\"BVG0Nb\" href=\"/url?q=https://www.techradar.com/news/python-libraries-are-being-attacked-for-aws-keys&amp;sa=U&amp;ved=2ahUKEwi42NCzs5j4AhXOrJUCHaGrA_8Q0PADegQIBBAT&amp;usg=AOvVaw0--c3dHXS5LYkcsA5TSEdh\"><div><div style=\"width:232px\"><div class=\"l7d08\" style=\"width:232px;height:128px\"><img class=\"h1hFNe\" alt=\"\" src=\"data:image/gif;base64,R0lGODlhAQABAIAAAP///////yH5BAEKAAEALAAAAAABAAEAAAICTAEAOw==\" style=\"max-width:232px;max-height:128px\" id=\"dimg_27\" data-deferred=\"1\"></div><div class=\"RWuggc kCrYT\"><div><div class=\"BNeawe s3v9rd AP7Wnd\"><span class=\"UMOHqf EDgFbc\">Python libraries are being attacked for AWS keys</span></div></div><div><div class=\"BNeawe tAd8D AP7Wnd\">TechRadar\n",
      "2 weeks ago</div></div></div></div></div></a><a class=\"BVG0Nb\" href=\"/url?q=https://www.searchenginejournal.com/python-ecommerce-category-pages/449397/&amp;sa=U&amp;ved=2ahUKEwi42NCzs5j4AhXOrJUCHaGrA_8Q0PADegQIBBAX&amp;usg=AOvVaw3T1mB5YzGAdANa8_CuCZFd\"><div><div style=\"width:232px\"><div class=\"l7d08\" style=\"width:232px;height:128px\"><img class=\"h1hFNe\" alt=\"\" src=\"data:image/gif;base64,R0lGODlhAQABAIAAAP///////yH5BAEKAAEALAAAAAABAAEAAAICTAEAOw==\" style=\"max-width:232px;max-height:128px\" id=\"dimg_29\" data-deferred=\"1\"></div><div class=\"RWuggc kCrYT\"><div><div class=\"BNeawe s3v9rd AP7Wnd\"><span class=\"UMOHqf EDgFbc\">How To Automate Ecommerce Category Page Creation With Python</span></div></div><div><div class=\"BNeawe tAd8D AP7Wnd\">Search Engine Journal\n",
      "1 week ago</div></div></div></div></div></a><a class=\"BVG0Nb\" href=\"/url?q=https://www.tomshardware.com/how-to/create-python-executable-applications&amp;sa=U&amp;ved=2ahUKEwi42NCzs5j4AhXOrJUCHaGrA_8Q0PADegQIBBAb&amp;usg=AOvVaw3C0Rvif6-18o275OAVkwwZ\"><div><div style=\"width:232px\"><div class=\"l7d08\" style=\"width:232px;height:128px\"><img class=\"h1hFNe\" alt=\"\" src=\"data:image/gif;base64,R0lGODlhAQABAIAAAP///////yH5BAEKAAEALAAAAAABAAEAAAICTAEAOw==\" style=\"max-width:232px;max-height:128px\" id=\"dimg_31\" data-deferred=\"1\"></div><div class=\"RWuggc kCrYT\"><div><div class=\"BNeawe s3v9rd AP7Wnd\"><span class=\"UMOHqf EDgFbc\">How to Create Executable Applications in Python</span></div></div><div><div class=\"BNeawe tAd8D AP7Wnd\">Tom's Hardware\n",
      "2 weeks ago</div></div></div></div></div></a><a class=\"BVG0Nb\" href=\"/url?q=https://hackaday.com/2022/05/27/hackaday-prize-2022-pewpew-lcd-plays-with-python/&amp;sa=U&amp;ved=2ahUKEwi42NCzs5j4AhXOrJUCHaGrA_8Q0PADegQIBBAf&amp;usg=AOvVaw2Z_BZB5ysQQniackpEfeAF\"><div><div style=\"width:232px\"><div class=\"l7d08\" style=\"width:232px;height:128px\"><img class=\"h1hFNe\" alt=\"\" src=\"data:image/gif;base64,R0lGODlhAQABAIAAAP///////yH5BAEKAAEALAAAAAABAAEAAAICTAEAOw==\" style=\"max-width:232px;max-height:128px\" id=\"dimg_33\" data-deferred=\"1\"></div><div class=\"RWuggc kCrYT\"><div><div class=\"BNeawe s3v9rd AP7Wnd\"><span class=\"UMOHqf EDgFbc\">Prize 2022: PewPew LCD Plays With Python | Hackaday</span></div></div><div><div class=\"BNeawe tAd8D AP7Wnd\">Hackaday\n",
      "1 week ago</div></div></div></div></div></a><a class=\"BVG0Nb\" href=\"/url?q=https://www.bleepingcomputer.com/news/security/popular-python-and-php-libraries-hijacked-to-steal-aws-keys/&amp;sa=U&amp;ved=2ahUKEwi42NCzs5j4AhXOrJUCHaGrA_8Q0PADegQIBBAj&amp;usg=AOvVaw0mfmX1w-FoX5CKF4Fggjuz\"><div><div style=\"width:232px\"><div class=\"l7d08\" style=\"background-color:;width:232px;height:128px\"><img class=\"h1hFNe\" alt=\"\" src=\"data:image/gif;base64,R0lGODlhAQABAIAAAP///////yH5BAEKAAEALAAAAAABAAEAAAICTAEAOw==\" style=\"max-width:232px;max-height:128px\" id=\"dimg_37\" data-deferred=\"1\"></div><div class=\"RWuggc kCrYT\"><div><div class=\"BNeawe s3v9rd AP7Wnd\"><span class=\"UMOHqf EDgFbc\">Popular Python and PHP libraries hijacked to steal AWS keys</span></div></div><div><div class=\"BNeawe tAd8D AP7Wnd\">Bleeping Computer\n",
      "2 weeks ago</div></div></div></div></div></a><a class=\"BVG0Nb\" href=\"/url?q=https://www.infoworld.com/article/3661248/developer-survey-javascript-and-python-reign-but-rust-is-rising.html&amp;sa=U&amp;ved=2ahUKEwi42NCzs5j4AhXOrJUCHaGrA_8Q0PADegQIBBAn&amp;usg=AOvVaw0oecueeOU67bL7nUoSlgsw\"><div><div style=\"width:232px\"><div class=\"l7d08\" style=\"background-color:;width:232px;height:128px\"><img class=\"h1hFNe\" alt=\"\" src=\"data:image/gif;base64,R0lGODlhAQABAIAAAP///////yH5BAEKAAEALAAAAAABAAEAAAICTAEAOw==\" style=\"max-width:232px;max-height:128px\" id=\"dimg_41\" data-deferred=\"1\"></div><div class=\"RWuggc kCrYT\"><div><div class=\"BNeawe s3v9rd AP7Wnd\"><span class=\"UMOHqf EDgFbc\">Developer survey: JavaScript and Python reign, but Rust is rising</span></div></div><div><div class=\"BNeawe tAd8D AP7Wnd\">InfoWorld\n",
      "2 weeks ago</div></div></div></div></div></a></div></div></div></div></div></div></div><div><div class=\"ZINbbc luh4tb xpd O9g5cc uUPGi\"><div class=\"egMi0 kCrYT\"><a href=\"/url?q=https://www.programiz.com/python-programming/online-compiler/&amp;sa=U&amp;ved=2ahUKEwi42NCzs5j4AhXOrJUCHaGrA_8QFnoECAgQAg&amp;usg=AOvVaw1V4l1OZTNqjtA_DjgOhra_\"><h3 class=\"zBAuLc l97dzf\"><div class=\"BNeawe vvjwJb AP7Wnd\">Online Python Compiler (Interpreter) - Programiz</div></h3><div class=\"BNeawe UPmit AP7Wnd\">www.programiz.com &#8250; python-programming &#8250; online-compiler</div></a></div><div class=\"kCrYT\"><div><div class=\"BNeawe s3v9rd AP7Wnd\"><div><div><div class=\"BNeawe s3v9rd AP7Wnd\">Write and run Python code using our online compiler (interpreter). You can use Python Shell like IDLE, and take inputs from the user in our Python compiler.</div></div></div></div></div></div></div></div><div><div class=\"ZINbbc xpd O9g5cc uUPGi\"><div></div><div class=\"mEUgP\"><span><div class=\"BNeawe\">Related searches</div></span></div><div class=\"x54gtf\"></div><div><div class=\"gGQDvd iIWm4b\"><a class=\"Q71vJc\" href=\"/search?ie=UTF-8&amp;q=www.python.org+download&amp;sa=X&amp;ved=2ahUKEwi42NCzs5j4AhXOrJUCHaGrA_8Q1QJ6BAgFEAI\"><accordion-entry-search-icon><span class=\"ieB2Dd\"><img class=\"OEaqif\" alt=\"\" src=\"data:image/gif;base64,R0lGODlhAQABAIAAAP///////yH5BAEKAAEALAAAAAABAAEAAAICTAEAOw==\" style=\"max-width:20px;max-height:20px\" id=\"dimg_1\" data-deferred=\"1\"></span></accordion-entry-search-icon><div class=\"kjGX2\"><span><div class=\"BNeawe s3v9rd AP7Wnd lRVwie\">www.python.org download</div></span></div></a></div></div><div class=\"x54gtf\"></div><div><div class=\"gGQDvd iIWm4b\"><a class=\"Q71vJc\" href=\"/search?ie=UTF-8&amp;q=Python+W3Schools&amp;sa=X&amp;ved=2ahUKEwi42NCzs5j4AhXOrJUCHaGrA_8Q1QJ6BAgFEAQ\"><accordion-entry-search-icon><span class=\"ieB2Dd\"><img class=\"OEaqif\" alt=\"\" src=\"data:image/gif;base64,R0lGODlhAQABAIAAAP///////yH5BAEKAAEALAAAAAABAAEAAAICTAEAOw==\" style=\"max-width:20px;max-height:20px\" id=\"dimg_3\" data-deferred=\"1\"></span></accordion-entry-search-icon><div class=\"kjGX2\"><span><div class=\"BNeawe s3v9rd AP7Wnd lRVwie\">Python W3Schools</div></span></div></a></div></div><div class=\"x54gtf\"></div><div><div class=\"gGQDvd iIWm4b\"><a class=\"Q71vJc\" href=\"/search?ie=UTF-8&amp;q=Python+programming+language&amp;sa=X&amp;ved=2ahUKEwi42NCzs5j4AhXOrJUCHaGrA_8Q1QJ6BAgFEAY\"><accordion-entry-search-icon><span class=\"ieB2Dd\"><img class=\"OEaqif\" alt=\"\" src=\"data:image/gif;base64,R0lGODlhAQABAIAAAP///////yH5BAEKAAEALAAAAAABAAEAAAICTAEAOw==\" style=\"max-width:20px;max-height:20px\" id=\"dimg_7\" data-deferred=\"1\"></span></accordion-entry-search-icon><div class=\"kjGX2\"><span><div class=\"BNeawe s3v9rd AP7Wnd lRVwie\">Python programming language</div></span></div></a></div></div><div class=\"x54gtf\"></div><div><div class=\"gGQDvd iIWm4b\"><a class=\"Q71vJc\" href=\"/search?ie=UTF-8&amp;q=Python+online&amp;sa=X&amp;ved=2ahUKEwi42NCzs5j4AhXOrJUCHaGrA_8Q1QJ6BAgFEAg\"><accordion-entry-search-icon><span class=\"ieB2Dd\"><img class=\"OEaqif\" alt=\"\" src=\"data:image/gif;base64,R0lGODlhAQABAIAAAP///////yH5BAEKAAEALAAAAAABAAEAAAICTAEAOw==\" style=\"max-width:20px;max-height:20px\" id=\"dimg_11\" data-deferred=\"1\"></span></accordion-entry-search-icon><div class=\"kjGX2\"><span><div class=\"BNeawe s3v9rd AP7Wnd lRVwie\">Python online</div></span></div></a></div></div><div class=\"x54gtf\"></div><div><div class=\"gGQDvd iIWm4b\"><a class=\"Q71vJc\" href=\"/search?ie=UTF-8&amp;q=Python+tutorial&amp;sa=X&amp;ved=2ahUKEwi42NCzs5j4AhXOrJUCHaGrA_8Q1QJ6BAgFEAo\"><accordion-entry-search-icon><span class=\"ieB2Dd\"><img class=\"OEaqif\" alt=\"\" src=\"data:image/gif;base64,R0lGODlhAQABAIAAAP///////yH5BAEKAAEALAAAAAABAAEAAAICTAEAOw==\" style=\"max-width:20px;max-height:20px\" id=\"dimg_13\" data-deferred=\"1\"></span></accordion-entry-search-icon><div class=\"kjGX2\"><span><div class=\"BNeawe s3v9rd AP7Wnd lRVwie\">Python tutorial</div></span></div></a></div></div><div class=\"x54gtf\"></div><div><div class=\"gGQDvd iIWm4b\"><a class=\"Q71vJc\" href=\"/search?ie=UTF-8&amp;q=Python+javatpoint&amp;sa=X&amp;ved=2ahUKEwi42NCzs5j4AhXOrJUCHaGrA_8Q1QJ6BAgFEAw\"><accordion-entry-search-icon><span class=\"ieB2Dd\"><img class=\"OEaqif\" alt=\"\" src=\"data:image/gif;base64,R0lGODlhAQABAIAAAP///////yH5BAEKAAEALAAAAAABAAEAAAICTAEAOw==\" style=\"max-width:20px;max-height:20px\" id=\"dimg_17\" data-deferred=\"1\"></span></accordion-entry-search-icon><div class=\"kjGX2\"><span><div class=\"BNeawe s3v9rd AP7Wnd lRVwie\">Python javatpoint</div></span></div></a></div></div><div class=\"x54gtf\"></div><div><div class=\"gGQDvd iIWm4b\"><a class=\"Q71vJc\" href=\"/search?ie=UTF-8&amp;q=Python+3&amp;sa=X&amp;ved=2ahUKEwi42NCzs5j4AhXOrJUCHaGrA_8Q1QJ6BAgFEA4\"><accordion-entry-search-icon><span class=\"ieB2Dd\"><img class=\"OEaqif\" alt=\"\" src=\"data:image/gif;base64,R0lGODlhAQABAIAAAP///////yH5BAEKAAEALAAAAAABAAEAAAICTAEAOw==\" style=\"max-width:20px;max-height:20px\" id=\"dimg_21\" data-deferred=\"1\"></span></accordion-entry-search-icon><div class=\"kjGX2\"><span><div class=\"BNeawe s3v9rd AP7Wnd lRVwie\">Python 3</div></span></div></a></div></div><div class=\"x54gtf\"></div><div><div class=\"gGQDvd iIWm4b\"><a class=\"Q71vJc\" href=\"/search?ie=UTF-8&amp;q=Python+operator&amp;sa=X&amp;ved=2ahUKEwi42NCzs5j4AhXOrJUCHaGrA_8Q1QJ6BAgFEBA\"><accordion-entry-search-icon><span class=\"ieB2Dd\"><img class=\"OEaqif\" alt=\"\" src=\"data:image/gif;base64,R0lGODlhAQABAIAAAP///////yH5BAEKAAEALAAAAAABAAEAAAICTAEAOw==\" style=\"max-width:20px;max-height:20px\" id=\"dimg_23\" data-deferred=\"1\"></span></accordion-entry-search-icon><div class=\"kjGX2\"><span><div class=\"BNeawe s3v9rd AP7Wnd lRVwie\">Python operator</div></span></div></a></div></div></div></div><footer> <div>  <div class=\"ZINbbc xpd O9g5cc uUPGi BmP5tf\"><div class=\"nMymef MUxGbd lyLwlc\"><a class=\"nBDE1b G5eFlf\" href=\"/search?q=Python&amp;ie=UTF-8&amp;ei=8LmdYrigF87Z1sQPodeO-A8&amp;start=10&amp;sa=N\" aria-label=\"Next page\">Next &gt;</a></div></div> </div>  <div id=\"EOlPnc\"><div class=\"Srfpq\"><div><span class=\"EYqSq unknown_loc\"></span><span class=\"dfB0uf\">Tirunelveli, Tamil Nadu</span></div><span>From your IP address</span><span>&nbsp;-&nbsp;</span><a href=\"/url?q=https://support.google.com/websearch%3Fp%3Dws_settings_location%26hl%3Den-IN&amp;sa=U&amp;ved=0ahUKEwi42NCzs5j4AhXOrJUCHaGrA_8Qty4I3AE&amp;usg=AOvVaw1yLhwt3jCnofWXH82XqdKg\">Learn more</a></div><div><a href=\"/url?q=https://accounts.google.com/ServiceLogin%3Fcontinue%3Dhttps://www.google.com/search%253Fq%253DPython%26hl%3Den&amp;sa=U&amp;ved=0ahUKEwi42NCzs5j4AhXOrJUCHaGrA_8Qxs8CCN0B&amp;usg=AOvVaw3Uzgzos4XcsqAREPhzKOJs\">Sign in</a></div><div><a class=\"xeDNfc\" href=\"https://www.google.com/preferences?hl=en-IN&amp;fg=1&amp;sa=X&amp;ved=0ahUKEwi42NCzs5j4AhXOrJUCHaGrA_8Q5fUCCN4B\">Settings</a><a class=\"xeDNfc\" href=\"https://policies.google.com/privacy?hl=en-IN&amp;fg=1\">Privacy</a><a class=\"xeDNfc\" href=\"https://policies.google.com/terms?hl=en-IN&amp;fg=1\">Terms</a></div></div> </footer><script nonce=\"BD2I4SYwaWSmkfIoRH4JAA\">(function(){var hl='en-IN';(function(){\n",
      "var f=this||self,g=function(a){return a};\n",
      "var h,k=function(){if(void 0===h){var a=null,b=f.trustedTypes;if(b&&b.createPolicy){try{a=b.createPolicy(\"goog#html\",{createHTML:g,createScript:g,createScriptURL:g})}catch(c){f.console&&f.console.error(c.message)}h=a}else h=a}return h};var p=function(a,b){this.h=a===l&&b||\"\";this.g=m},q=function(a){return a instanceof p&&a.constructor===p&&a.g===m?a.h:\"type_error:Const\"},m={},l={};var t=function(a,b){this.g=b===r?a:\"\"};t.prototype.toString=function(){return this.g+\"\"};var u=function(a){return a instanceof t&&a.constructor===t?a.g:\"type_error:TrustedResourceUrl\"},y=function(){var a={},b=q(new p(l,\"/complete/search\"));if(!v.test(b))throw Error(\"a`\"+b);var c=b.replace(w,function(e,d){if(!Object.prototype.hasOwnProperty.call(a,d))throw Error(\"b`\"+d+\"`\"+b+\"`\"+JSON.stringify(a));e=a[d];return e instanceof p?q(e):encodeURIComponent(String(e))});return x(c)},w=/%{(\\w+)}/g,v=RegExp(\"^((https:)?//[0-9a-z.:[\\\\]-]+/|/[^/\\\\\\\\]|[^:/\\\\\\\\%]+/|[^:/\\\\\\\\%]*[?#]|about:blank#)\",\"i\"),z=/^([^?#]*)(\\?[^#]*)?(#[\\s\\S]*)?/,r={},x=function(a){var b=k();a=b?b.createScriptURL(a):a;return new t(a,r)},A=function(a,b,c){if(null==c)return b;if(\"string\"===typeof c)return c?a+encodeURIComponent(c):\"\";for(var e in c)if(Object.prototype.hasOwnProperty.call(c,e)){var d=c[e];d=Array.isArray(d)?d:[d];for(var n=0;n<d.length;n++){var P=d[n];null!=P&&(b||(b=a),b+=(b.length>a.length?\"&\":\"\")+encodeURIComponent(e)+\"=\"+encodeURIComponent(String(P)))}}return b};var B={},C=function(a,b,c){this.g=c===B?a:\"\"};C.prototype.toString=function(){return this.g.toString()};var D=function(a){var b=k();a=b?b.createHTML(a):a;return new C(a,null,B)};function E(a,b){if(void 0!==a.tagName){if(\"script\"===a.tagName.toLowerCase())throw Error(\"c\");if(\"style\"===a.tagName.toLowerCase())throw Error(\"d\");}a.innerHTML=b instanceof C&&b.constructor===C?b.g:\"type_error:SafeHtml\"};var F=document.querySelector(\".l\"),G=document.querySelector(\"#sf\"),H=G.querySelector(\".sbc\"),I=G.querySelector(\"[type=text]\"),J=G.querySelector(\"[type=submit]\"),K=G.querySelector(\".sc\"),L=G.querySelector(\".x\"),M=I.value,N=[],O=-1,Q=M,R,S,T;M||(L&&(L.style.display=\"none\"),U(!1));function U(a){if(H.classList.contains(\"esbc\")){var b=H.classList.contains(\"chsbc\"),c=H.classList.contains(\"rtlsbc\");a&&(K.style.display=\"block\",b?(G.style.borderRadius=\"20px 20px 0 0\",K.style.borderBottom=\"1px solid #DFE1E5\",J.style.borderRadius=c?\"20px 0 0 0\":\"0 20px 0 0\"):H.style.borderRadius=c?\"0 8px 0 0\":\"8px 0 0 0\");a||(K.style.display=\"none\",b?(G.style.borderRadius=\"20px\",K.style.borderBottom=\"none\",J.style.borderRadius=c?\"20px 0 0 20px\":\"0 20px 20px 0\"):H.style.borderRadius=c?\"0 8px 8px 0\":\"8px 0 0 8px\")}}function V(){G.querySelector(\"[name=oq]\").value=Q;G.querySelector(\"[name=aqs]\").value=\"heirloom-srp.\"+(0<=O?O:\"\")+\".\"+(0<N.length?\"0l\"+N.length:\"\")}\n",
      "function W(){R=null;if(S){var a={client:\"heirloom-srp\",hl:hl,json:\"t\",callback:\"hS\",q:S};\"undefined\"!==typeof ds&&ds&&(a.ds=ds);var b=document;var c=\"SCRIPT\";\"application/xhtml+xml\"===b.contentType&&(c=c.toLowerCase());c=b.createElement(c);b=y();b=z.exec(u(b).toString());var e=b[3]||\"\";a=x(b[1]+A(\"?\",b[2]||\"\",a)+A(\"#\",e));c.src=u(a);var d,n;(d=(a=null==(n=(d=(c.ownerDocument&&c.ownerDocument.defaultView||window).document).querySelector)?void 0:n.call(d,\"script[nonce]\"))?a.nonce||a.getAttribute(\"nonce\")||\n",
      "\"\":\"\")&&c.setAttribute(\"nonce\",d);document.body.appendChild(c);S=null;R=setTimeout(W,500)}}function X(){for(;K.firstChild;)K.removeChild(K.firstChild);N=[];O=-1;U(!1)}function Y(){var a=K.querySelector(\".scs\");a&&(a.className=\"\");0<=O?(a=K.childNodes[O],a.className=\"scs\",M=a.textContent):M=Q;I.value=M}I.addEventListener(\"focus\",function(){F&&(F.style.display=\"none\")},!1);I.addEventListener(\"blur\",function(){X();F&&(F.style.display=\"\")},!1);I.addEventListener(\"keyup\",function(a){M=I.value;T=!1;13===a.which?V():27===a.which?(X(),F&&(F.style.display=\"\"),M=Q,I.value=M):40===a.which?(O++,O>=N.length&&(O=-1),Y()):38===a.which?(O--,-1>O&&(O=N.length-1),Y()):(a=M)?(L&&(L.style.display=\"\"),S=a,R||W(),Q=a):(L&&(L.style.display=\"none\"),U(!1),X(),Q=\"\",T=!0)},!1);J.addEventListener(\"click\",V,!1);L.addEventListener(\"click\",function(){I.value=\"\";L.style.display=\"none\";U(!1)},!1);H.addEventListener(\"click\",function(){I.focus()},!1);window.hS=function(a){if(!T){X();0===a[1].length&&U(!1);for(var b=0;b<a[1].length;b++){var c=a[1][b][0],e=document.createElement(\"div\");E(e,D(c));e.addEventListener(\"mousedown\",function(d){d.preventDefault();return!1},!1);c=c.replace(/<\\/?b>/g,\"\");e.addEventListener(\"click\",function(d){return function(){O=d;V();Y();X();G.submit()}}(b),!1);e.addEventListener(\"mouseover\",function(d){return function(){O!==d&&(O=d,Y())}}(b),!1);K.appendChild(e);U(!0);N.push(c)}}};}).call(this);})();(function(){\n",
      "function b(a){for(a=a.target||a.srcElement;a&&\"A\"!==a.nodeName;)a=a.parentElement;a&&(a.href||\"\").match(/\\/search.*[?&]tbm=isch/)&&(a.href+=\"&biw=\"+document.documentElement.clientWidth,a.href+=\"&bih=\"+document.documentElement.clientHeight)}document.addEventListener(\"click\",b,!1);document.addEventListener(\"touchStart\",b,!1);}).call(this);</script></div><!-- cctlcm 5 cctlcm --><textarea class=\"csi\" name=\"csi\" style=\"display:none\"></textarea><script nonce=\"BD2I4SYwaWSmkfIoRH4JAA\">(function(){var e='8LmdYrigF87Z1sQPodeO-A8';var sn='web';var timl=false;(function(){\n",
      "function y(a){if(!a||z(a))return 0;if(!a.getBoundingClientRect)return 1;var c=function(b){return b.getBoundingClientRect()};return A(a,c)?0:K(a,c)}function A(a,c){var b;a:{for(b=a;b&&null!==b;b=b.parentElement)if(\"hidden\"===b.style.overflow)break a;b=null}if(!b)return!1;a=c(a);c=c(b);return a.bottom<c.top||a.top>=c.bottom||a.right<c.left||a.left>=c.right}\n",
      "function z(a){return\"none\"===a.style.display?!0:document.defaultView&&document.defaultView.getComputedStyle?(a=document.defaultView.getComputedStyle(a),!!a&&(\"hidden\"===a.visibility||\"0px\"===a.height&&\"0px\"===a.width)):!1}\n",
      "function K(a,c){var b=c(a);a=b.left+window.pageXOffset;c=b.top+window.pageYOffset;var f=b.width;b=b.height;var g=0;if(0>=b&&0>=f)return g;var p=window.innerHeight||document.documentElement.clientHeight;0>c+b?g=2:c>=p&&(g=4);if(0>a+f||a>=(window.innerWidth||document.documentElement.clientWidth))g|=8;g||(g=1,c+b>p&&(g|=4));return g};var L=e,M=sn,N=\"undefined\"===typeof de?!0:!1!==de,O=[];function P(a,c,b){a=\"/gen_204?atyp=csi&s=\"+(M||\"web\")+\"&t=\"+a+(\"&lite=1&ei=\"+L+\"&conn=\"+(window.navigator&&window.navigator.connection?window.navigator.connection.type:-1)+c);c=\"&rt=\";for(var f in b)a+=\"\"+c+f+\".\"+b[f],c=\",\";return a}function Q(a){a={prt:a};window.wsrt&&(a.wsrt=window.wsrt);return a}function R(a){window.ping?window.ping(a):(new Image).src=a}\n",
      "(function(){for(var a=(new Date).getTime()-window.start,c=Q(a),b=0,f=0,g=0,p=document.getElementsByTagName(\"img\"),q=N?\"&biw=\"+window.innerWidth+\"&bih=\"+window.innerHeight:\"\",S=function(h,r){h.onload=function(){f=(new Date).getTime()-window.start;r&&++u==g&&(b=f,B());h.onload=null}},B=function(){q+=\"&ima=\"+g;c.aft=b;R(P(\"aft\",q,c))},u=0,T=0,d=void 0;d=p[T++];){var t=y(d),n=!!(t&1);n&&++g;var l=d.hasAttribute(\"data-ilite\"),v=d.hasAttribute(\"data-deferred\")||l,C=d.getAttribute(\"data-src\")||d.getAttribute(\"data-lzysrc\"),D=!v&&C;O.push([t,v,D,google.ldi&&d.id&&google.ldi[d.id]||l&&C]);l=(t=d.complete&&(l||!v&&!(n&&D)))&&Number(d.getAttribute(\"data-iml\"))||0;t&&l?(n&&++u,l&&(d=l-window.start,n&&(b=Math.max(b,d)),f=Math.max(f,d))):S(d,n)}b||(b=a);f||(f=b);u==g&&B();google.rglh&&google.rglh();window.addEventListener(\"load\",function(){window.setTimeout(function(){c.ol=(new Date).getTime()-window.start;timl&&(c.iml=f);var h=window.performance&&window.performance.timing;h&&(c.rqst=h.responseEnd-h.requestStart,c.rspt=h.responseEnd-\n",
      "h.responseStart);for(var r=h=0,E=0,F=0,G=0,H=0,U=0,k;k=O[U++];){var m=k[0],w=k[1],I=k[2];k=k[3];var V=0==m,x=m&8,J=m&4;(m=1==m||2==m||x&&!J)&&!x&&(w&&!k||++E,I&&++H);w&&(m&&k&&++h,J&&!k&&++r);V||x?I||++G:w||++F}q+=\"&ime=\"+E+\"&imel=\"+H+(\"&imex=\"+F+\"&imeh=\"+G)+(\"&imea=\"+h+\"&imeb=\"+r);R(P(\"all\",q,c))},0)},!1)})();}).call(this);})();</script><script nonce=\"BD2I4SYwaWSmkfIoRH4JAA\">\n",
      "function _setImagesSrc(e,d){function f(b){b.onerror=function(){b.style.display=\"none\"};b.src=d}for(var g=0,a=void 0;a=e[g++];){var c=document.getElementById(a)||document.querySelector('img[data-iid=\"'+a+'\"]');c?(a=void 0,(null==(a=google.c)?0:a.setup)&&google.c.setup(c),f(c)):(google.iir=google.iir||{},google.iir[a]=d)}}\"undefined\"==typeof window.google&&(window.google={});</script><script nonce=\"BD2I4SYwaWSmkfIoRH4JAA\">(function(){var s='data:image/jpeg;base64,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\\x3d';var i=['dimg_9'];_setImagesSrc(i,s);})();</script><script nonce=\"BD2I4SYwaWSmkfIoRH4JAA\">(function(){var s='data:image/jpeg;base64,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';var i=['dimg_35'];_setImagesSrc(i,s);})();</script><script nonce=\"BD2I4SYwaWSmkfIoRH4JAA\">(function(){var s='data:image/jpeg;base64,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\\x3d\\x3d';var i=['dimg_39'];_setImagesSrc(i,s);})();</script><script nonce=\"BD2I4SYwaWSmkfIoRH4JAA\">(function(){var s='data:image/png;base64,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\\x3d';var i=['dimg_43'];_setImagesSrc(i,s);})();</script><script nonce=\"BD2I4SYwaWSmkfIoRH4JAA\">(function(){var s='data:image/png;base64,iVBORw0KGgoAAAANSUhEUgAAAG8AAABwCAMAAAAnm94cAAAAbFBMVEX///8AAAD19fXu7u7S0tL7+/vo6Oh+fn65ubnX19fk5OSzs7Pr6+vIyMjf39/Ly8t2dnY2NjZwcHCgoKBbW1tHR0eGhobAwMCUlJQVFRVAQECmpqYsLCyOjo5gYGBUVFQlJSUMDAxoaGgdHR3d3UpvAAAHaUlEQVRogb1a6YKCOAxGbgSVQ5BDBPX933GnaTl6pWV2dr9fM6WQNvlyNNVxULiXNE3jBJ/0Z/DvJ4ZX/D+IK097VO5/K82dTjy6wfySP5T181ncq+MmeJ0k1PhXkrHY5t4PSqzgraJKwvNtrJevtIH2hctdWJ2FOjZk8ErObBb4iy3voXq+L2qfWPyAvIa8MO0GErb8+aZa3Uatrp/u9Uz/fliLc79kvseNpR39ii/NThdh3/JxBvkDzH1aUzom0xth0KNbLIXhbDHcc9gWeIUttrbyQD9XabhVLOOx7C3lhm8wpqcXB7cnllA8uPxQltdyszBXueSLnbyzSp0UvDSvp9J6mba+/hsSQBmpeZ7/1jMfdPS0k5eqeSgiZjyRDU3wIc/sDDiSqWfTLBqCTh8N61urjwAam6WNGqIsACWpooOMnEw1zImoOH1ifNgTtDTLo+JmxMg3+5BmlkfFFWqmUFz+UF6k87odDugzMsijQaX2kCmOM9g51fo9fXBvqThD9IdZqAb4qVrbDNR2pmRT4oveA40vNKrMxi+RNPW2EodSC56dOqM4iJ+9nbwr+aS63rnSEI1TZf2GZX4IydxI9cR7nlDbbkgscwwB6KJWPaFlmI1XebN1uGbFrmKc+rndqpPPyzK9s+/KNqKeMNp+xR6pkqA+zXd/L46Si2S2wPWu/mVox/zz+dAytp6m1+dT5mNbxbck9P7i3OSST09xU06UjxiKexkNl8y1rP1U8B6FUYyEOq8e2XGhXpr/QtiC7jM+Dsj0R1xW1/d9URTPLzqraB42Rk0a+dXnq6nSix/SaP/eu0jgXW+PoYrus0pm3+IHzmBQrHlbJU0KumrLTdK2lDXTaKszb3zv9RGlIex1TUn0+Glw9OCcjsIht2tUu3TbTdq3TEFpPicA4ptVcgmuQ8n5UJ+KtozX53N0Wx4Gewk0jlkkBbb+6/DpNonfcR+23fUs/OJYBTUvLT9C2P6R4/iPhS47t3pHq8Tzsrlc0HS8yYCThzI9oXBv+abZJqODjMylpCyXDE+rZOtUxsGL11bKl9YL1KYq4r6YQiFxHtTmDkm+kHG6MnmNMgKlTAzkwuK34n4QrnFkAHmaRlBArUaTnk2d7I2jhsJZtJDEQU5UoNArVCzK2klcH+Gjrm67sv6TgwQNOHCA8czVpiNGCAm0KeRgFfBKZlEFCfGQouLNHhIXf+tXlpGiz8FaQIvWJ834nMjDGI9/IouDESFh3xUiQbTuu+P4AUWPqku0e9NBgyINDwJZLqcN/M4hDqHF6d1BGwgQp+dMeGcnj/cTYAyaRVzUfrR6f/Icz/bihAPJZHZVTN+3NSrscObkvbhnEGnFfiUPrEfJYm3P8Z6XxxfbLqQg1FmRw85t+ShX2GfvvTxhta2sD0meSPcVaypRsFDJF3ZwnA3yNGUXsK0upAm+1nzLYjDGKBjBALyPgQJ37kG1iuuk8AzOiUV3tk7ZxhAtnk4APs+rfGDiejkbBBDfEXlLu1sKCyUbHeQNOl47zUWpbGBAl1Kb4tqNhTVvRY+MvX88wVVsEMEVc8GB7Py88JCbBeus6CR5gwh6vQtGVNNBywTu1EAvWOA179gGK51Ck3q1bDKJNI13PBtkH0QQqhUa0iy2/Jv++Fm3SwTgDCxXubIPYlApNBzZ6WsdcdNq1zuEILnWgCn3nwmgUI67SflmFss17zSciwQ9SnIBV9Hl1/Lzq8vFVIPb/+Cklr1FGkJ23dFwERdpm3w3ce/AJ9vbtWZne2dNYDlSueQiQWjllGlf4PBYXZeCRKoWexc87iuvwLKTFYhzfUPfDoI8X5lAeLO9ziOO/TR3ZFfAZoQkBk5veSHbHgpImttNSDR2rciLEKwMSEQHAtC0brVqF8sRMuQAAYCEWFs1x57WMwlI7Oxk/rpvged6QGy2PfCDN6i6EbG1Ri3vYykSbSx52Wr0doQwqdbTvE52TCWgJtblAhHE+zq18lNbryfZzjZD90iyk7ugatT2BKWtct1DSNPmlZN1iedGDeBCSpt6aPVoNCF+gcjhgudyWsybroFT+wgaG3yH/o7KcE8a22eTwbA02r4z/LLlwF14q3cHChq48YLbPyZvRtVFvRB15wPyRqM8VuBh5ZOPk24Psr+vgQ6UM0iAPLC/ysJ1aAGMtJIO8MUql7gdLhD8we7Egfh7sDkB6zLpBA728QXimfLEP+w5cj1hNswtSLCgUOcHr+Z1xJqV6oqtOFDA5MpYVEkKZAJVRTfkW9t7ZUgBQlcxZtciXOpjP23o5byTGtyFRy+knCBmv6I7TbxJlrsgiV21PV2cpQ4raQwNknG9BJJWnLEuf87X+aAh6wP/0pF7T9EY3bdLro8iiLs5fTZzjlHgwUCCt3YGN9SabLY00+r1Mi+AXoPx5z97hOKvcWt97PUXDfSjn7luFhdqm6II9ve53xKNTO7uWrtfhNtcAHEIh2nu3t3cNw9j+edL+r//6scN4dkyJO2ugCm3fyPtGC7bT6IL65/Z/Dv46ZjnTYr6+T8ZCVFaGonzpQAAAABJRU5ErkJggg\\x3d\\x3d';var i=['dimg_45'];_setImagesSrc(i,s);})();</script><script nonce=\"BD2I4SYwaWSmkfIoRH4JAA\">(function(){var s='data:image/png;base64,iVBORw0KGgoAAAANSUhEUgAAAHAAAABwCAMAAADxPgR5AAAAZlBMVEX///8AAAD39/fw8PBsbGzq6urGxsbQ0NDt7e2Xl5dvb2+3t7f7+/vg4ODBwcEeHh4oKCheXl5OTk5HR0epqana2tqGhoaOjo5/f38VFRUzMzOvr690dHQuLi5ZWVlCQkI7OzsMDAyhhP05AAAEA0lEQVRoge2ZbbuqKhCGGw1RU0FFzUyt//8nNy/aFl/aa0F2zgefrmux0uJ2YGYY6HQ6dOjQoUOHDh069FdO9E1alOQAXbFX9wgXuGD3MLzLV3jnNCnPqDvHuyzUjG2adVkGmp6EEMpVAzwcA15x451QJQLrah9cpXyKJnEGuVcA/HseAkiT1/wjzwu6VKqrvFHxxndvJsAS2O+/NKgHA7fJnsa8AjqD0Mjrn3/WcYUcXEmVdb011u9UiSFFRXnlCuIYTe/58Sgmbt/nrmTCO6EaunTSi3AXMTMF952505KX6L0smWvCG8JCl/A9PPxf3263NmVcF+S+ZBJ/L0WernwEMvEO/fP71gpGoEGQGamR0eW3XwRKUvY1IIOS/42+B2wg/C6QbQCdJGC7LLnKQs7VgXEvwrLcAcigE81FBzoPnmk4Mfg8sAGClsAGeuxfCNSGCe0tUK4CM2Ap3wYARhn7rdga0OlBmb0DsIHWXwB9OgCN6qb3YpCeFkC3fSrg+eO8MSwq3UIyuO4OwLtKbbluIR2C8/PAkZRpJZlPQnVxF6AguW0/veqT827A/iYaDPn0qkvYfsBMNIkO9GthNs9vuwHDuYWylIOvAZWF+HvA/9DCommYfDUfWo3fAeMn1JOC+fqRvLoxpLXMBnyvnYZXXAg1HTzYB5BRvmohuYqmu05XJy+F1mybPxUi604jU9t8uWfcYlskVqtTCNn06pDaFmr4VF7sgJ7qINS34i69TabLKfDoojHffCWWQDlGmd4N32oMDxCf80zs8DKs9tvY+LzmBRQFBpqNFC8xpJviir6iIlMzyke1tSnlPCqePJ4BXdpHigt1UGBcXJ7AC0d5L7CrjxUwmFuonIZXbeNOGwXtUMJFvEC2OOnzauEd8yEdSozzNJeiqs4lnQeHRQLAcrIWc6jisNeTd0zkWKKnDTCQ7rlhYTlbLc5yUO2A6QjUfP01h3OgZwt0YQBSzdVdKt8vgY4tMB6Bqf4cKiwWQCJIiY3ToBGobwS3hlS6dGADjNeBLpWkZtVCK+CWhTRfG9LUHrhp4RoQkd2A63OIYQBS89S2ZaHKNKnuvCG0CmiRvGMV8RvAK8DkeNGhICsdKyBSD+3PgFE6rhaTKgoPpyilzWFKrJ6WzfuohkwzBTKoxWJ9onLNNhRSpcR9AVw5xWjgLprIqoyKJdAlPwEyqEQTWB0DDsDFGde6hZJELYHBj4Hq/I9XGDZAh9BCdD+fl0qSGg2YQOecnBBMfhH6KwbP/sFrwFnuSCB1T0ULWj18A5rT5Wd/TRS/lywqzTM8RUmqlcdYbt6o7fEbSpKVSXF4loHbbKDja9dVu/20geL484elhw4dOnTo0KFDh/4P+gO7oDcxPNGWcgAAAABJRU5ErkJggg\\x3d\\x3d';var i=['dimg_47'];_setImagesSrc(i,s);})();</script><script nonce=\"BD2I4SYwaWSmkfIoRH4JAA\">(function(){var s='data:image/jpeg;base64,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\\x3d\\x3d';var i=['dimg_49'];_setImagesSrc(i,s);})();</script><script nonce=\"BD2I4SYwaWSmkfIoRH4JAA\">(function(){var s='data:image/jpeg;base64,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\\x3d\\x3d';var i=['dimg_5'];_setImagesSrc(i,s);})();</script><script nonce=\"BD2I4SYwaWSmkfIoRH4JAA\">(function(){var s='data:image/jpeg;base64,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';var i=['dimg_15'];_setImagesSrc(i,s);})();</script><script nonce=\"BD2I4SYwaWSmkfIoRH4JAA\">(function(){var s='data:image/jpeg;base64,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\\x3d\\x3d';var i=['dimg_19'];_setImagesSrc(i,s);})();</script><script nonce=\"BD2I4SYwaWSmkfIoRH4JAA\">(function(){var s='data:image/jpeg;base64,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\\x3d';var i=['dimg_25'];_setImagesSrc(i,s);})();</script><script nonce=\"BD2I4SYwaWSmkfIoRH4JAA\">(function(){var s='data:image/jpeg;base64,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';var i=['dimg_27'];_setImagesSrc(i,s);})();</script><script nonce=\"BD2I4SYwaWSmkfIoRH4JAA\">(function(){var s='data:image/jpeg;base64,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\\x3d\\x3d';var i=['dimg_29'];_setImagesSrc(i,s);})();</script><script nonce=\"BD2I4SYwaWSmkfIoRH4JAA\">(function(){var s='data:image/jpeg;base64,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\\x3d';var i=['dimg_31'];_setImagesSrc(i,s);})();</script><script nonce=\"BD2I4SYwaWSmkfIoRH4JAA\">(function(){var s='data:image/jpeg;base64,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\\x3d';var i=['dimg_33'];_setImagesSrc(i,s);})();</script><script nonce=\"BD2I4SYwaWSmkfIoRH4JAA\">(function(){var s='data:image/jpeg;base64,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';var i=['dimg_37'];_setImagesSrc(i,s);})();</script><script nonce=\"BD2I4SYwaWSmkfIoRH4JAA\">(function(){var s='data:image/jpeg;base64,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\\x3d';var i=['dimg_41'];_setImagesSrc(i,s);})();</script><script nonce=\"BD2I4SYwaWSmkfIoRH4JAA\">(function(){var s='data:image/png;base64,iVBORw0KGgoAAAANSUhEUgAAABQAAAAUCAYAAACNiR0NAAABAUlEQVR4AWMYesChoYElLjkzPj4lY3d8csZjIL4MxPNjUzPcSTYsISFLAqj5NBD/h+LPQPwbiT87NCuLh2gDgRr2QzXuT0jNMoBYksARn5zuHJ+UcR0kB6RXE2VYXHJGOlTDZmzyIJcB5e+D1CSkZDgQNBAaZv+jU1JkcKpJygiGeZ0I76a/Byq8jU9NZFqaCNTA48SE33/iDcw8TIyBt0GKQTFN0Msp6f2EIyUpo57YSIlLSrMhIg0WCIBcCfXSdlzJBsheTHQ6jEnOUgEFOLaEDbMIlhZBOYrorAdJk+nroVnvPsSgdGdoOF7HZyhZ2XPoGQoqjbCpIbt0AiejIQMArVLI7k/DXFkAAAAASUVORK5CYII\\x3d';var i=['dimg_1','dimg_3','dimg_7','dimg_11','dimg_13','dimg_17','dimg_21','dimg_23'];_setImagesSrc(i,s);})();</script><script nonce=\"BD2I4SYwaWSmkfIoRH4JAA\">(function(){var e='8LmdYrigF87Z1sQPodeO-A8';(function(){\n",
      "var a=e;2===(window.performance&&window.performance.navigation&&window.performance.navigation.type)&&window.ping(\"/gen_204?ct=backbutton&ei=\"+a);}).call(this);})();(function(){\n",
      "var b=[function(){google.tick&&google.tick(\"load\",\"dcl\")}];google.dclc=function(a){b.length?b.push(a):a()};function c(){for(var a=b.shift();a;)a(),a=b.shift()}window.addEventListener?(document.addEventListener(\"DOMContentLoaded\",c,!1),window.addEventListener(\"load\",c,!1)):window.attachEvent&&window.attachEvent(\"onload\",c);}).call(this);\n",
      "window.jsl=window.jsl||{};window.jsl.dh=function(a,b,f){try{var g=document.getElementById(a);if(g)g.innerHTML=b,f&&f();else{var c={id:a,script:String(!!f),milestone:String(google.jslm||0)};google.jsla&&(c.async=google.jsla);var h=a.indexOf(\"_\"),d=0<h?a.substring(0,h):\"\",k=document.createElement(\"div\");k.innerHTML=b;var e=k.children[0];if(e&&(c.tag=e.tagName,c[\"class\"]=String(e.className||null),c.name=String(e.getAttribute(\"jsname\")),d)){a=[];var l=document.querySelectorAll('[id^=\"'+d+'_\"]');for(b=0;b<l.length;++b)a.push(l[b].id);c.ids=a.join(\",\")}google.ml(Error(d?\"Missing ID with prefix \"+d:\"Missing ID\"),!1,c)}}catch(m){google.ml(m,!0,{\"jsl.dh\":!0})}};(function(){var x=false;\n",
      "google.jslm=x?2:1;})();(function(){(function(){google.csct={};google.csct.ps='AOvVaw30-jQRRMl-uuaqzARz6Zo6\\x26ust\\x3d1654590320415668';})();})();(function(){(function(){google.csct.rd=true;})();})();(function(){(function(){google.csct.rl=true;})();})();(function(){\n",
      "window.xp=function(b){function f(k,g,h){return\"xp\"+(\"x\"==g?\"c\":\"x\")+h}for(var c=/\\bxp(x|c)(\\d?)\\b/,a=b;a;){var e=a.className,d=e.match(c);if(d){d=\"c\"==d[1];a.className=e.replace(c,f);b&&b.setAttribute(\"aria-expanded\",d);if(d)for(b=a.getElementsByTagName(\"img\"),c=0;c<b.length;++c)if(a=b[c],e=a.getAttribute(\"data-ll\"))a.src=e,a.removeAttribute(\"data-ll\");break}a=a.parentElement}};})();(function(){(function(){\n",
      "window.logVe=function(a){a&&a.attributes[\"data-ved\"]&&window.ping(\"/gen_204?ved=\"+a.attributes[\"data-ved\"].value)};}).call(this);})();(function(){(function(){var id='tsuid1';var lve=true;(function(){\n",
      "\n",
      "\n",
      "var e=\"undefined\"!=typeof navigator&&!/Opera/.test(navigator.userAgent)&&/WebKit/.test(navigator.userAgent),f={A:1,INPUT:1,TEXTAREA:1,SELECT:1,BUTTON:1},g={Enter:13,\" \":32},h={A:13,BUTTON:0,CHECKBOX:32,COMBOBOX:13,FILE:0,GRIDCELL:13,LINK:13,LISTBOX:13,MENU:0,MENUBAR:0,MENUITEM:0,MENUITEMCHECKBOX:0,MENUITEMRADIO:0,OPTION:0,RADIO:32,RADIOGROUP:32,RESET:0,SUBMIT:0,SWITCH:32,TAB:0,TREE:13,TREEITEM:13},k={CHECKBOX:!0,FILE:!0,OPTION:!0,RADIO:!0},l={COLOR:!0,DATE:!0,DATETIME:!0,\"DATETIME-LOCAL\":!0,EMAIL:!0,MONTH:!0,NUMBER:!0,PASSWORD:!0,RANGE:!0,SEARCH:!0,TEL:!0,TEXT:!0,TEXTAREA:!0,TIME:!0,URL:!0,WEEK:!0};document.getElementById(id).onclick=function(){window.xp(this);lve&&window.logVe(this)};document.getElementById(id).onkeydown=function(d){var c=d.which||d.keyCode;!c&&d.key&&(c=g[d.key]);e&&3==c&&(c=13);if(13!=c&&32!=c)c=!1;else{var a=d.target||d.srcElement;!a.getAttribute&&a.parentNode&&(a=a.parentNode);var b;if(!(b=\"keydown\"!=d.type)){if(b=\"getAttribute\"in a)b=!((a.getAttribute(\"type\")||a.tagName).toUpperCase()in l);b=!(b&&!(\"BUTTON\"==a.tagName.toUpperCase()||a.type&&\"FILE\"==a.type.toUpperCase())&&!a.isContentEditable)}(b=b||d.ctrlKey||d.shiftKey||d.altKey||d.metaKey||(a.getAttribute(\"type\")||\n",
      "a.tagName).toUpperCase()in k&&32==c)||((b=a.tagName in f)||(b=a.getAttributeNode(\"tabindex\"),b=null!=b&&b.specified),b=!(b&&!a.disabled));if(b)c=!1;else{b=(a.getAttribute(\"role\")||a.type||a.tagName).toUpperCase();var m=!(b in h)&&13==c;a=\"INPUT\"!=a.tagName.toUpperCase()||!!a.type;c=(0==h[b]%c||m)&&a}}c&&(d.preventDefault(),window.xp(this),lve&&window.logVe(this))};}).call(this);})();})();(function(){window.jsl=window.jsl||{};window.jsl.dh=window.jsl.dh||function(i,c,d){try{var e=document.getElementById(i);if(e){e.innerHTML=c;if(d){d();}}else{if(window.jsl.el){window.jsl.el(new Error('Missing ID.'),{'id':i});}}}catch(e){if(window.jsl.el){window.jsl.el(new Error('jsl.dh'));}}};})();(function(){window.jsl.dh('accdef_1','\\x3cdiv\\x3e\\x3cdiv style\\x3d\\x22padding-bottom:12px;padding-top:0px\\x22 class\\x3d\\x22hwc kCrYT\\x22\\x3e\\x3cdiv class\\x3d\\x22yStFkb\\x22\\x3e\\x3cdiv class\\x3d\\x22ZINbbc xpd O9g5cc uUPGi\\x22\\x3e\\x3cdiv class\\x3d\\x22kCrYT\\x22\\x3e\\x3cdiv\\x3e\\x3cdiv class\\x3d\\x22BNeawe s3v9rd AP7Wnd\\x22\\x3e\\x3cdiv\\x3e\\x3cdiv class\\x3d\\x22BNeawe s3v9rd AP7Wnd\\x22\\x3ePython is a computer programming language often used to \\x3cspan class\\x3d\\x22atOwb UMOHqf\\x22\\x3ebuild websites and software, automate tasks, and conduct data analysis\\x3c/span\\x3e. Python is a general-purpose language, meaning it can be used to create a variety of different programs and isn\\x27t specialized for any specific problems.\\x3c/div\\x3e\\x3c/div\\x3e\\x3c/div\\x3e\\x3c/div\\x3e\\x3c/div\\x3e\\x3cdiv class\\x3d\\x22x54gtf\\x22\\x3e\\x3c/div\\x3e\\x3cdiv class\\x3d\\x22kCrYT\\x22\\x3e\\x3ca href\\x3d\\x22/url?q\\x3dhttps://www.coursera.org/articles/what-is-python-used-for-a-beginners-guide-to-using-python\\x26amp;sa\\x3dU\\x26amp;ved\\x3d2ahUKEwi42NCzs5j4AhXOrJUCHaGrA_8QFXoECAIQBQ\\x26amp;usg\\x3dAOvVaw0-q5MfWAKUChEmDlZL5PWE\\x22\\x3e\\x3cspan\\x3e\\x3cdiv class\\x3d\\x22BNeawe vvjwJb AP7Wnd\\x22\\x3e\\x3cspan class\\x3d\\x22UMOHqf EDgFbc\\x22\\x3eWhat Is Python Used For? A Beginner\\x27s Guide - Coursera\\x3c/span\\x3e\\x3c/div\\x3e\\x3c/span\\x3e\\x3cspan\\x3e\\x3cdiv class\\x3d\\x22BNeawe UPmit AP7Wnd\\x22\\x3ewww.coursera.org \\u203a articles \\u203a what-is-python-used-for-a-beginners-guide-t...\\x3c/div\\x3e\\x3c/span\\x3e\\x3c/a\\x3e\\x3c/div\\x3e\\x3c/div\\x3e\\x3c/div\\x3e\\x3cdiv\\x3e\\x3cdiv class\\x3d\\x22P1NWSe\\x22\\x3e\\x3cdiv class\\x3d\\x22wOMIed nkPlDb\\x22\\x3e\\x3cspan class\\x3d\\x22JhFlyf VQFmSd\\x22\\x3e\\x3ca class\\x3d\\x22f4J0H\\x22 href\\x3d\\x22https://www.google.com/search?ie\\x3dUTF-8\\x26amp;ei\\x3d8LmdYrigF87Z1sQPodeO-A8\\x26amp;q\\x3dWhat+is+Python+used+for?\\x26amp;sa\\x3dX\\x26amp;ved\\x3d2ahUKEwi42NCzs5j4AhXOrJUCHaGrA_8Qzmd6BAgCEAc\\x22\\x3eMore results\\x3c/a\\x3e\\x3c/span\\x3e\\x3c/div\\x3e\\x3c/div\\x3e\\x3c/div\\x3e\\x3c/div\\x3e\\x3c/div\\x3e');})();(function(){(function(){var id='tsuid2';var lve=true;(function(){\n",
      "\n",
      "\n",
      "var e=\"undefined\"!=typeof navigator&&!/Opera/.test(navigator.userAgent)&&/WebKit/.test(navigator.userAgent),f={A:1,INPUT:1,TEXTAREA:1,SELECT:1,BUTTON:1},g={Enter:13,\" \":32},h={A:13,BUTTON:0,CHECKBOX:32,COMBOBOX:13,FILE:0,GRIDCELL:13,LINK:13,LISTBOX:13,MENU:0,MENUBAR:0,MENUITEM:0,MENUITEMCHECKBOX:0,MENUITEMRADIO:0,OPTION:0,RADIO:32,RADIOGROUP:32,RESET:0,SUBMIT:0,SWITCH:32,TAB:0,TREE:13,TREEITEM:13},k={CHECKBOX:!0,FILE:!0,OPTION:!0,RADIO:!0},l={COLOR:!0,DATE:!0,DATETIME:!0,\"DATETIME-LOCAL\":!0,EMAIL:!0,MONTH:!0,NUMBER:!0,PASSWORD:!0,RANGE:!0,SEARCH:!0,TEL:!0,TEXT:!0,TEXTAREA:!0,TIME:!0,URL:!0,WEEK:!0};document.getElementById(id).onclick=function(){window.xp(this);lve&&window.logVe(this)};document.getElementById(id).onkeydown=function(d){var c=d.which||d.keyCode;!c&&d.key&&(c=g[d.key]);e&&3==c&&(c=13);if(13!=c&&32!=c)c=!1;else{var a=d.target||d.srcElement;!a.getAttribute&&a.parentNode&&(a=a.parentNode);var b;if(!(b=\"keydown\"!=d.type)){if(b=\"getAttribute\"in a)b=!((a.getAttribute(\"type\")||a.tagName).toUpperCase()in l);b=!(b&&!(\"BUTTON\"==a.tagName.toUpperCase()||a.type&&\"FILE\"==a.type.toUpperCase())&&!a.isContentEditable)}(b=b||d.ctrlKey||d.shiftKey||d.altKey||d.metaKey||(a.getAttribute(\"type\")||\n",
      "a.tagName).toUpperCase()in k&&32==c)||((b=a.tagName in f)||(b=a.getAttributeNode(\"tabindex\"),b=null!=b&&b.specified),b=!(b&&!a.disabled));if(b)c=!1;else{b=(a.getAttribute(\"role\")||a.type||a.tagName).toUpperCase();var m=!(b in h)&&13==c;a=\"INPUT\"!=a.tagName.toUpperCase()||!!a.type;c=(0==h[b]%c||m)&&a}}c&&(d.preventDefault(),window.xp(this),lve&&window.logVe(this))};}).call(this);})();})();(function(){window.jsl.dh('accdef_3','\\x3cdiv\\x3e\\x3cdiv style\\x3d\\x22padding-bottom:12px;padding-top:0px\\x22 class\\x3d\\x22hwc kCrYT\\x22\\x3e\\x3cdiv class\\x3d\\x22yStFkb\\x22\\x3e\\x3cdiv class\\x3d\\x22ZINbbc xpd O9g5cc uUPGi\\x22\\x3e\\x3cdiv class\\x3d\\x22kCrYT\\x22\\x3e\\x3cdiv\\x3e\\x3cdiv class\\x3d\\x22BNeawe s3v9rd AP7Wnd\\x22\\x3e\\x3cdiv\\x3e\\x3cdiv class\\x3d\\x22BNeawe s3v9rd AP7Wnd\\x22\\x3e\\x3cspan class\\x3d\\x22atOwb UMOHqf\\x22\\x3ePython is widely considered among the easiest programming languages for beginners to learn\\x3c/span\\x3e. If you\\x27re interested in learning a programming language, Python is a good place to start.\\x3c/div\\x3e\\x3c/div\\x3e\\x3c/div\\x3e\\x3c/div\\x3e\\x3c/div\\x3e\\x3cdiv class\\x3d\\x22x54gtf\\x22\\x3e\\x3c/div\\x3e\\x3cdiv class\\x3d\\x22kCrYT\\x22\\x3e\\x3ca href\\x3d\\x22/url?q\\x3dhttps://www.coursera.org/articles/how-long-does-it-take-to-learn-python-tips-for-learning\\x26amp;sa\\x3dU\\x26amp;ved\\x3d2ahUKEwi42NCzs5j4AhXOrJUCHaGrA_8QFXoECAIQDA\\x26amp;usg\\x3dAOvVaw2spgAqt64jAoW59pH_VboI\\x22\\x3e\\x3cspan\\x3e\\x3cdiv class\\x3d\\x22BNeawe vvjwJb AP7Wnd\\x22\\x3e\\x3cspan class\\x3d\\x22UMOHqf EDgFbc\\x22\\x3eHow Long Does it Take to Learn Python? (+ Tips for Learning)\\x3c/span\\x3e\\x3c/div\\x3e\\x3c/span\\x3e\\x3cspan\\x3e\\x3cdiv class\\x3d\\x22BNeawe UPmit AP7Wnd\\x22\\x3ewww.coursera.org \\u203a articles \\u203a how-long-does-it-take-to-learn-python-tips-f...\\x3c/div\\x3e\\x3c/span\\x3e\\x3c/a\\x3e\\x3c/div\\x3e\\x3c/div\\x3e\\x3c/div\\x3e\\x3cdiv\\x3e\\x3cdiv class\\x3d\\x22P1NWSe\\x22\\x3e\\x3cdiv class\\x3d\\x22wOMIed nkPlDb\\x22\\x3e\\x3cspan class\\x3d\\x22JhFlyf VQFmSd\\x22\\x3e\\x3ca class\\x3d\\x22f4J0H\\x22 href\\x3d\\x22https://www.google.com/search?ie\\x3dUTF-8\\x26amp;ei\\x3d8LmdYrigF87Z1sQPodeO-A8\\x26amp;q\\x3dIs+Python+easy+to+learn?\\x26amp;sa\\x3dX\\x26amp;ved\\x3d2ahUKEwi42NCzs5j4AhXOrJUCHaGrA_8Qzmd6BAgCEA4\\x22\\x3eMore results\\x3c/a\\x3e\\x3c/span\\x3e\\x3c/div\\x3e\\x3c/div\\x3e\\x3c/div\\x3e\\x3c/div\\x3e\\x3c/div\\x3e');})();(function(){(function(){var id='tsuid3';var lve=true;(function(){\n",
      "\n",
      "\n",
      "var e=\"undefined\"!=typeof navigator&&!/Opera/.test(navigator.userAgent)&&/WebKit/.test(navigator.userAgent),f={A:1,INPUT:1,TEXTAREA:1,SELECT:1,BUTTON:1},g={Enter:13,\" \":32},h={A:13,BUTTON:0,CHECKBOX:32,COMBOBOX:13,FILE:0,GRIDCELL:13,LINK:13,LISTBOX:13,MENU:0,MENUBAR:0,MENUITEM:0,MENUITEMCHECKBOX:0,MENUITEMRADIO:0,OPTION:0,RADIO:32,RADIOGROUP:32,RESET:0,SUBMIT:0,SWITCH:32,TAB:0,TREE:13,TREEITEM:13},k={CHECKBOX:!0,FILE:!0,OPTION:!0,RADIO:!0},l={COLOR:!0,DATE:!0,DATETIME:!0,\"DATETIME-LOCAL\":!0,EMAIL:!0,MONTH:!0,NUMBER:!0,PASSWORD:!0,RANGE:!0,SEARCH:!0,TEL:!0,TEXT:!0,TEXTAREA:!0,TIME:!0,URL:!0,WEEK:!0};document.getElementById(id).onclick=function(){window.xp(this);lve&&window.logVe(this)};document.getElementById(id).onkeydown=function(d){var c=d.which||d.keyCode;!c&&d.key&&(c=g[d.key]);e&&3==c&&(c=13);if(13!=c&&32!=c)c=!1;else{var a=d.target||d.srcElement;!a.getAttribute&&a.parentNode&&(a=a.parentNode);var b;if(!(b=\"keydown\"!=d.type)){if(b=\"getAttribute\"in a)b=!((a.getAttribute(\"type\")||a.tagName).toUpperCase()in l);b=!(b&&!(\"BUTTON\"==a.tagName.toUpperCase()||a.type&&\"FILE\"==a.type.toUpperCase())&&!a.isContentEditable)}(b=b||d.ctrlKey||d.shiftKey||d.altKey||d.metaKey||(a.getAttribute(\"type\")||\n",
      "a.tagName).toUpperCase()in k&&32==c)||((b=a.tagName in f)||(b=a.getAttributeNode(\"tabindex\"),b=null!=b&&b.specified),b=!(b&&!a.disabled));if(b)c=!1;else{b=(a.getAttribute(\"role\")||a.type||a.tagName).toUpperCase();var m=!(b in h)&&13==c;a=\"INPUT\"!=a.tagName.toUpperCase()||!!a.type;c=(0==h[b]%c||m)&&a}}c&&(d.preventDefault(),window.xp(this),lve&&window.logVe(this))};}).call(this);})();})();(function(){window.jsl.dh('accdef_5','\\x3cdiv\\x3e\\x3cdiv style\\x3d\\x22padding-bottom:12px;padding-top:0px\\x22 class\\x3d\\x22hwc kCrYT\\x22\\x3e\\x3cdiv class\\x3d\\x22yStFkb\\x22\\x3e\\x3cdiv class\\x3d\\x22ZINbbc xpd O9g5cc uUPGi\\x22\\x3e\\x3cdiv class\\x3d\\x22kCrYT\\x22\\x3e\\x3cdiv\\x3e\\x3cdiv class\\x3d\\x22BNeawe s3v9rd AP7Wnd\\x22\\x3e\\x3cdiv\\x3e\\x3cdiv class\\x3d\\x22BNeawe s3v9rd AP7Wnd\\x22\\x3e\\x3cspan class\\x3d\\x22atOwb UMOHqf\\x22\\x3ePython has a simple syntax similar to the English language\\x3c/span\\x3e. Python has syntax that allows developers to write programs with fewer lines than some other programming languages. Python runs on an interpreter system, meaning that code can be executed as soon as it is written. This means that prototyping can be very quick.\\x3c/div\\x3e\\x3c/div\\x3e\\x3c/div\\x3e\\x3c/div\\x3e\\x3c/div\\x3e\\x3cdiv class\\x3d\\x22x54gtf\\x22\\x3e\\x3c/div\\x3e\\x3cdiv class\\x3d\\x22kCrYT\\x22\\x3e\\x3ca href\\x3d\\x22/url?q\\x3dhttps://www.w3schools.com/python/python_intro.asp\\x26amp;sa\\x3dU\\x26amp;ved\\x3d2ahUKEwi42NCzs5j4AhXOrJUCHaGrA_8QFXoECAIQEw\\x26amp;usg\\x3dAOvVaw2UeodNerOhmSlXNOaT82P4\\x22\\x3e\\x3cspan\\x3e\\x3cdiv class\\x3d\\x22BNeawe vvjwJb AP7Wnd\\x22\\x3e\\x3cspan class\\x3d\\x22UMOHqf EDgFbc\\x22\\x3eIntroduction to Python - W3Schools\\x3c/span\\x3e\\x3c/div\\x3e\\x3c/span\\x3e\\x3cspan\\x3e\\x3cdiv class\\x3d\\x22BNeawe UPmit AP7Wnd\\x22\\x3ewww.w3schools.com \\u203a python \\u203a python_intro\\x3c/div\\x3e\\x3c/span\\x3e\\x3c/a\\x3e\\x3c/div\\x3e\\x3c/div\\x3e\\x3c/div\\x3e\\x3cdiv\\x3e\\x3cdiv class\\x3d\\x22P1NWSe\\x22\\x3e\\x3cdiv class\\x3d\\x22wOMIed nkPlDb\\x22\\x3e\\x3cspan class\\x3d\\x22JhFlyf VQFmSd\\x22\\x3e\\x3ca class\\x3d\\x22f4J0H\\x22 href\\x3d\\x22https://www.google.com/search?ie\\x3dUTF-8\\x26amp;ei\\x3d8LmdYrigF87Z1sQPodeO-A8\\x26amp;q\\x3dWhat+are+basics+of+Python?\\x26amp;sa\\x3dX\\x26amp;ved\\x3d2ahUKEwi42NCzs5j4AhXOrJUCHaGrA_8Qzmd6BAgCEBU\\x22\\x3eMore results\\x3c/a\\x3e\\x3c/span\\x3e\\x3c/div\\x3e\\x3c/div\\x3e\\x3c/div\\x3e\\x3c/div\\x3e\\x3c/div\\x3e');})();(function(){(function(){var id='tsuid4';var lve=true;(function(){\n",
      "\n",
      "\n",
      "var e=\"undefined\"!=typeof navigator&&!/Opera/.test(navigator.userAgent)&&/WebKit/.test(navigator.userAgent),f={A:1,INPUT:1,TEXTAREA:1,SELECT:1,BUTTON:1},g={Enter:13,\" \":32},h={A:13,BUTTON:0,CHECKBOX:32,COMBOBOX:13,FILE:0,GRIDCELL:13,LINK:13,LISTBOX:13,MENU:0,MENUBAR:0,MENUITEM:0,MENUITEMCHECKBOX:0,MENUITEMRADIO:0,OPTION:0,RADIO:32,RADIOGROUP:32,RESET:0,SUBMIT:0,SWITCH:32,TAB:0,TREE:13,TREEITEM:13},k={CHECKBOX:!0,FILE:!0,OPTION:!0,RADIO:!0},l={COLOR:!0,DATE:!0,DATETIME:!0,\"DATETIME-LOCAL\":!0,EMAIL:!0,MONTH:!0,NUMBER:!0,PASSWORD:!0,RANGE:!0,SEARCH:!0,TEL:!0,TEXT:!0,TEXTAREA:!0,TIME:!0,URL:!0,WEEK:!0};document.getElementById(id).onclick=function(){window.xp(this);lve&&window.logVe(this)};document.getElementById(id).onkeydown=function(d){var c=d.which||d.keyCode;!c&&d.key&&(c=g[d.key]);e&&3==c&&(c=13);if(13!=c&&32!=c)c=!1;else{var a=d.target||d.srcElement;!a.getAttribute&&a.parentNode&&(a=a.parentNode);var b;if(!(b=\"keydown\"!=d.type)){if(b=\"getAttribute\"in a)b=!((a.getAttribute(\"type\")||a.tagName).toUpperCase()in l);b=!(b&&!(\"BUTTON\"==a.tagName.toUpperCase()||a.type&&\"FILE\"==a.type.toUpperCase())&&!a.isContentEditable)}(b=b||d.ctrlKey||d.shiftKey||d.altKey||d.metaKey||(a.getAttribute(\"type\")||\n",
      "a.tagName).toUpperCase()in k&&32==c)||((b=a.tagName in f)||(b=a.getAttributeNode(\"tabindex\"),b=null!=b&&b.specified),b=!(b&&!a.disabled));if(b)c=!1;else{b=(a.getAttribute(\"role\")||a.type||a.tagName).toUpperCase();var m=!(b in h)&&13==c;a=\"INPUT\"!=a.tagName.toUpperCase()||!!a.type;c=(0==h[b]%c||m)&&a}}c&&(d.preventDefault(),window.xp(this),lve&&window.logVe(this))};}).call(this);})();})();(function(){window.jsl.dh('accdef_7','\\x3cdiv\\x3e\\x3cdiv style\\x3d\\x22padding-bottom:12px;padding-top:0px\\x22 class\\x3d\\x22hwc kCrYT\\x22\\x3e\\x3cdiv class\\x3d\\x22yStFkb\\x22\\x3e\\x3cdiv class\\x3d\\x22ZINbbc xpd O9g5cc uUPGi\\x22\\x3e\\x3cdiv class\\x3d\\x22kCrYT\\x22\\x3e\\x3cdiv\\x3e\\x3cdiv class\\x3d\\x22BNeawe s3v9rd AP7Wnd\\x22\\x3e\\x3cdiv\\x3e\\x3cdiv class\\x3d\\x22BNeawe s3v9rd AP7Wnd\\x22\\x3ePython is an open-sourcing programming language. Therefore, it is freely available for everyone to access, download, and execute. There are \\x3cspan class\\x3d\\x22atOwb UMOHqf\\x22\\x3eno licensing costs\\x3c/span\\x3e involved with Python.\\x3c/div\\x3e\\x3c/div\\x3e\\x3c/div\\x3e\\x3c/div\\x3e\\x3c/div\\x3e\\x3cdiv class\\x3d\\x22x54gtf\\x22\\x3e\\x3c/div\\x3e\\x3cdiv class\\x3d\\x22kCrYT\\x22\\x3e\\x3ca href\\x3d\\x22/url?q\\x3dhttps://www.botreetechnologies.com/blog/how-much-does-it-cost-to-build-a-python-application/\\x26amp;sa\\x3dU\\x26amp;ved\\x3d2ahUKEwi42NCzs5j4AhXOrJUCHaGrA_8QFXoECAIQGg\\x26amp;usg\\x3dAOvVaw3mx5-_uBhaNcpj9dp9kpyn\\x22\\x3e\\x3cspan\\x3e\\x3cdiv class\\x3d\\x22BNeawe vvjwJb AP7Wnd\\x22\\x3e\\x3cspan class\\x3d\\x22UMOHqf EDgFbc\\x22\\x3eHow Much Does it Cost to Build a Python Application?\\x3c/span\\x3e\\x3c/div\\x3e\\x3c/span\\x3e\\x3cspan\\x3e\\x3cdiv class\\x3d\\x22BNeawe UPmit AP7Wnd\\x22\\x3ewww.botreetechnologies.com \\u203a blog \\u203a how-much-does-it-cost-to-build-a-p...\\x3c/div\\x3e\\x3c/span\\x3e\\x3c/a\\x3e\\x3c/div\\x3e\\x3c/div\\x3e\\x3c/div\\x3e\\x3cdiv\\x3e\\x3cdiv class\\x3d\\x22P1NWSe\\x22\\x3e\\x3cdiv class\\x3d\\x22wOMIed nkPlDb\\x22\\x3e\\x3cspan class\\x3d\\x22JhFlyf VQFmSd\\x22\\x3e\\x3ca class\\x3d\\x22f4J0H\\x22 href\\x3d\\x22https://www.google.com/search?ie\\x3dUTF-8\\x26amp;ei\\x3d8LmdYrigF87Z1sQPodeO-A8\\x26amp;q\\x3dHow+much+does+Python+cost?\\x26amp;sa\\x3dX\\x26amp;ved\\x3d2ahUKEwi42NCzs5j4AhXOrJUCHaGrA_8Qzmd6BAgCEBw\\x22\\x3eMore results\\x3c/a\\x3e\\x3c/span\\x3e\\x3c/div\\x3e\\x3c/div\\x3e\\x3c/div\\x3e\\x3c/div\\x3e\\x3c/div\\x3e');})();(function(){(function(){var id='tsuid5';var lve=false;(function(){\n",
      "\n",
      "\n",
      "var e=\"undefined\"!=typeof navigator&&!/Opera/.test(navigator.userAgent)&&/WebKit/.test(navigator.userAgent),f={A:1,INPUT:1,TEXTAREA:1,SELECT:1,BUTTON:1},g={Enter:13,\" \":32},h={A:13,BUTTON:0,CHECKBOX:32,COMBOBOX:13,FILE:0,GRIDCELL:13,LINK:13,LISTBOX:13,MENU:0,MENUBAR:0,MENUITEM:0,MENUITEMCHECKBOX:0,MENUITEMRADIO:0,OPTION:0,RADIO:32,RADIOGROUP:32,RESET:0,SUBMIT:0,SWITCH:32,TAB:0,TREE:13,TREEITEM:13},k={CHECKBOX:!0,FILE:!0,OPTION:!0,RADIO:!0},l={COLOR:!0,DATE:!0,DATETIME:!0,\"DATETIME-LOCAL\":!0,EMAIL:!0,MONTH:!0,NUMBER:!0,PASSWORD:!0,RANGE:!0,SEARCH:!0,TEL:!0,TEXT:!0,TEXTAREA:!0,TIME:!0,URL:!0,WEEK:!0};document.getElementById(id).onclick=function(){window.xp(this);lve&&window.logVe(this)};document.getElementById(id).onkeydown=function(d){var c=d.which||d.keyCode;!c&&d.key&&(c=g[d.key]);e&&3==c&&(c=13);if(13!=c&&32!=c)c=!1;else{var a=d.target||d.srcElement;!a.getAttribute&&a.parentNode&&(a=a.parentNode);var b;if(!(b=\"keydown\"!=d.type)){if(b=\"getAttribute\"in a)b=!((a.getAttribute(\"type\")||a.tagName).toUpperCase()in l);b=!(b&&!(\"BUTTON\"==a.tagName.toUpperCase()||a.type&&\"FILE\"==a.type.toUpperCase())&&!a.isContentEditable)}(b=b||d.ctrlKey||d.shiftKey||d.altKey||d.metaKey||(a.getAttribute(\"type\")||\n",
      "a.tagName).toUpperCase()in k&&32==c)||((b=a.tagName in f)||(b=a.getAttributeNode(\"tabindex\"),b=null!=b&&b.specified),b=!(b&&!a.disabled));if(b)c=!1;else{b=(a.getAttribute(\"role\")||a.type||a.tagName).toUpperCase();var m=!(b in h)&&13==c;a=\"INPUT\"!=a.tagName.toUpperCase()||!!a.type;c=(0==h[b]%c||m)&&a}}c&&(d.preventDefault(),window.xp(this),lve&&window.logVe(this))};}).call(this);})();})();google.drty&&google.drty(undefined,true);</script></body></html>\n"
     ]
    }
   ],
   "source": [
    "import requests\n",
    "def google_search_with_query(query):\n",
    "    print(f'Searching for {query}')\n",
    "    r = requests.get(f'https://www.google.com/search?q={query}')\n",
    "    print(r.text)\n",
    "\n",
    "google_search_with_query('Python')"
   ]
  },
  {
   "cell_type": "code",
   "execution_count": null,
   "metadata": {},
   "outputs": [],
   "source": [
    "class A:\n",
    "    def __init__(self):\n",
    "        print('Class A Object Created')\n",
    "    def greet(self , name):\n",
    "        print(f'Hello {name}')"
   ]
  },
  {
   "cell_type": "code",
   "execution_count": 2,
   "metadata": {},
   "outputs": [
    {
     "ename": "SyntaxError",
     "evalue": "invalid syntax (3883363209.py, line 1)",
     "output_type": "error",
     "traceback": [
      "\u001b[0;36m  File \u001b[0;32m\"/tmp/ipykernel_11468/3883363209.py\"\u001b[0;36m, line \u001b[0;32m1\u001b[0m\n\u001b[0;31m    while = 2\u001b[0m\n\u001b[0m          ^\u001b[0m\n\u001b[0;31mSyntaxError\u001b[0m\u001b[0;31m:\u001b[0m invalid syntax\n"
     ]
    }
   ],
   "source": [
    "while = 2"
   ]
  },
  {
   "cell_type": "code",
   "execution_count": 4,
   "metadata": {},
   "outputs": [],
   "source": [
    "_1abc = 3"
   ]
  },
  {
   "cell_type": "code",
   "execution_count": 5,
   "metadata": {},
   "outputs": [
    {
     "name": "stdout",
     "output_type": "stream",
     "text": [
      "Hi\n"
     ]
    }
   ],
   "source": [
    "# This is a Single Line Comment\n",
    "print('Hi')"
   ]
  },
  {
   "cell_type": "code",
   "execution_count": null,
   "metadata": {},
   "outputs": [],
   "source": [
    "print('Hi') # This is an Inline Comment"
   ]
  },
  {
   "cell_type": "code",
   "execution_count": 8,
   "metadata": {},
   "outputs": [
    {
     "name": "stdout",
     "output_type": "stream",
     "text": [
      "Hi\n"
     ]
    }
   ],
   "source": [
    "# This is a Multi Line Comment\n",
    "# It can be achieved by using triple quotes ''' or \"\"\"\n",
    "# Or can be achieved by multiple single line comments\n",
    "\n",
    "'''\n",
    "This is a \n",
    "Multi Line Comment\n",
    "It can be achieved by using triple quotes\n",
    "'''\n",
    "print('Hi')"
   ]
  },
  {
   "cell_type": "code",
   "execution_count": 9,
   "metadata": {},
   "outputs": [
    {
     "data": {
      "text/plain": [
       "'This is function documentation'"
      ]
     },
     "execution_count": 9,
     "metadata": {},
     "output_type": "execute_result"
    }
   ],
   "source": [
    "# Multi line string as an function document\n",
    "def function():\n",
    "    '''This is function documentation'''\n",
    "    print('Hi')\n",
    "\n",
    "function.__doc__"
   ]
  },
  {
   "cell_type": "code",
   "execution_count": 12,
   "metadata": {},
   "outputs": [
    {
     "name": "stdout",
     "output_type": "stream",
     "text": [
      "A Value : 1\n",
      "B Value : 5\n"
     ]
    }
   ],
   "source": [
    "# Single line statement\n",
    "a = 1\n",
    "\n",
    "# Multi line statement\n",
    "b = a *\\\n",
    "    2 +\\\n",
    "    3\n",
    "\n",
    "# Converting multi line statement to single line statement using ;\n",
    "print('A Value :' , a); print('B Value :' , b)"
   ]
  },
  {
   "cell_type": "code",
   "execution_count": 1,
   "metadata": {},
   "outputs": [],
   "source": [
    "# How Python Stores A Variable\n",
    "\n",
    "variable_name = 'Value'\n",
    "\n",
    "# Here 'Value' is stored in heap memory and variable_name is stored in stack memory"
   ]
  },
  {
   "cell_type": "code",
   "execution_count": 6,
   "metadata": {},
   "outputs": [
    {
     "name": "stdout",
     "output_type": "stream",
     "text": [
      "val1 , val2 : 3 3\n",
      "val1 , val2 : 5 3\n",
      "val1 , val2 : 5 4\n"
     ]
    }
   ],
   "source": [
    "val1 = 3\n",
    "val2 = val1\n",
    "\n",
    "print('val1 , val2 :',val1 , val2)\n",
    "\n",
    "# Changing val1 will not change val2\n",
    "val1 = 5\n",
    "print('val1 , val2 :',val1 , val2)\n",
    "\n",
    "# Changing val2 will change val1\n",
    "val2 = 4\n",
    "print('val1 , val2 :',val1 , val2)"
   ]
  },
  {
   "cell_type": "code",
   "execution_count": 9,
   "metadata": {},
   "outputs": [
    {
     "name": "stdout",
     "output_type": "stream",
     "text": [
      "140380128004464\n",
      "140380128004464\n"
     ]
    }
   ],
   "source": [
    "# How Python Stores A Variable\n",
    "\n",
    "# reference count of 3 = 1\n",
    "a = 3\n",
    "# reference count of 3 = 2\n",
    "b = 3\n",
    "\n",
    "# Both a and b are pointing to same memory location\n",
    "print(id(a))\n",
    "print(id(b))\n",
    "\n",
    "\n",
    "# reference count of 3 = 1\n",
    "del a\n",
    "# reference count of 3 = 0\n",
    "del b\n",
    "\n",
    "# After deleting both the references to 3 , 3 will be garbage collected"
   ]
  },
  {
   "cell_type": "code",
   "execution_count": 10,
   "metadata": {},
   "outputs": [
    {
     "name": "stdout",
     "output_type": "stream",
     "text": [
      "3\n"
     ]
    }
   ],
   "source": [
    "def function():\n",
    "    # a is allocated on stack memory\n",
    "    # All variables inside function is stored on stack memory\n",
    "    # stack memory is deleted once the function returns (even if returns None)\n",
    "    a = 3\n",
    "    return a\n",
    "\n",
    "# x is allocated on heap memory\n",
    "# heap memory is bigger compared to stack memory coz all global scope variables are stored in heap memory\n",
    "x = function()\n",
    "print(x)"
   ]
  },
  {
   "cell_type": "code",
   "execution_count": null,
   "metadata": {},
   "outputs": [],
   "source": []
  },
  {
   "cell_type": "code",
   "execution_count": null,
   "metadata": {},
   "outputs": [],
   "source": []
  },
  {
   "cell_type": "code",
   "execution_count": null,
   "metadata": {},
   "outputs": [],
   "source": []
  },
  {
   "cell_type": "code",
   "execution_count": null,
   "metadata": {},
   "outputs": [],
   "source": []
  },
  {
   "cell_type": "code",
   "execution_count": null,
   "metadata": {},
   "outputs": [],
   "source": []
  },
  {
   "cell_type": "code",
   "execution_count": null,
   "metadata": {},
   "outputs": [],
   "source": []
  },
  {
   "cell_type": "code",
   "execution_count": null,
   "metadata": {},
   "outputs": [],
   "source": []
  },
  {
   "cell_type": "code",
   "execution_count": null,
   "metadata": {},
   "outputs": [],
   "source": []
  },
  {
   "cell_type": "code",
   "execution_count": null,
   "metadata": {},
   "outputs": [],
   "source": []
  },
  {
   "cell_type": "code",
   "execution_count": null,
   "metadata": {},
   "outputs": [],
   "source": []
  },
  {
   "cell_type": "code",
   "execution_count": null,
   "metadata": {},
   "outputs": [],
   "source": []
  },
  {
   "cell_type": "code",
   "execution_count": null,
   "metadata": {},
   "outputs": [],
   "source": []
  },
  {
   "cell_type": "code",
   "execution_count": null,
   "metadata": {},
   "outputs": [],
   "source": []
  },
  {
   "cell_type": "code",
   "execution_count": null,
   "metadata": {},
   "outputs": [],
   "source": []
  },
  {
   "cell_type": "code",
   "execution_count": null,
   "metadata": {},
   "outputs": [],
   "source": []
  },
  {
   "cell_type": "code",
   "execution_count": null,
   "metadata": {},
   "outputs": [],
   "source": []
  },
  {
   "cell_type": "code",
   "execution_count": 6,
   "metadata": {},
   "outputs": [
    {
     "data": {
      "text/plain": [
       "array([1, 2, 3])"
      ]
     },
     "execution_count": 6,
     "metadata": {},
     "output_type": "execute_result"
    }
   ],
   "source": [
    "nparr = np.array([1,2,3])\n",
    "nparr"
   ]
  },
  {
   "cell_type": "code",
   "execution_count": 8,
   "metadata": {},
   "outputs": [
    {
     "data": {
      "text/plain": [
       "array([3])"
      ]
     },
     "execution_count": 8,
     "metadata": {},
     "output_type": "execute_result"
    }
   ],
   "source": [
    "nparr = nparr[1:]\n",
    "nparr"
   ]
  },
  {
   "cell_type": "code",
   "execution_count": 12,
   "metadata": {},
   "outputs": [
    {
     "data": {
      "text/plain": [
       "array([  3,   0,   1, ..., 997, 998, 999])"
      ]
     },
     "execution_count": 12,
     "metadata": {},
     "output_type": "execute_result"
    }
   ],
   "source": [
    "for i in range(1000):\n",
    "    nparr = np.append(nparr , [i])\n",
    "nparr"
   ]
  },
  {
   "cell_type": "code",
   "execution_count": null,
   "metadata": {},
   "outputs": [],
   "source": [
    "for i in range(1000): nparr = np.append(nparr , [i])"
   ]
  },
  {
   "cell_type": "code",
   "execution_count": 37,
   "metadata": {},
   "outputs": [
    {
     "data": {
      "text/plain": [
       "143"
      ]
     },
     "execution_count": 37,
     "metadata": {},
     "output_type": "execute_result"
    }
   ],
   "source": [
    "def fibonacci_numbers(nums):\n",
    "    x, y = 0, 1\n",
    "    for _ in range(nums):\n",
    "        x, y = y, x+y\n",
    "        yield x\n",
    "\n",
    "def square(nums):\n",
    "    for num in nums:\n",
    "        yield num**2\n",
    "\n",
    "# print(sum(square(fibonacci_numbers(10))))\n",
    "sum(fibonacci_numbers(10))"
   ]
  },
  {
   "cell_type": "code",
   "execution_count": null,
   "metadata": {},
   "outputs": [],
   "source": []
  },
  {
   "cell_type": "code",
   "execution_count": null,
   "metadata": {},
   "outputs": [],
   "source": []
  },
  {
   "cell_type": "code",
   "execution_count": null,
   "metadata": {},
   "outputs": [],
   "source": []
  },
  {
   "cell_type": "code",
   "execution_count": null,
   "metadata": {},
   "outputs": [],
   "source": []
  },
  {
   "cell_type": "code",
   "execution_count": null,
   "metadata": {},
   "outputs": [],
   "source": []
  },
  {
   "cell_type": "code",
   "execution_count": null,
   "metadata": {},
   "outputs": [],
   "source": []
  },
  {
   "cell_type": "code",
   "execution_count": null,
   "metadata": {},
   "outputs": [],
   "source": []
  },
  {
   "cell_type": "code",
   "execution_count": null,
   "metadata": {},
   "outputs": [],
   "source": []
  },
  {
   "cell_type": "code",
   "execution_count": null,
   "metadata": {},
   "outputs": [],
   "source": []
  },
  {
   "cell_type": "code",
   "execution_count": null,
   "metadata": {},
   "outputs": [],
   "source": []
  },
  {
   "cell_type": "code",
   "execution_count": null,
   "metadata": {},
   "outputs": [],
   "source": []
  },
  {
   "cell_type": "code",
   "execution_count": null,
   "metadata": {},
   "outputs": [],
   "source": []
  },
  {
   "cell_type": "code",
   "execution_count": null,
   "metadata": {},
   "outputs": [],
   "source": []
  },
  {
   "cell_type": "code",
   "execution_count": null,
   "metadata": {},
   "outputs": [],
   "source": []
  },
  {
   "cell_type": "code",
   "execution_count": null,
   "metadata": {},
   "outputs": [],
   "source": []
  },
  {
   "cell_type": "code",
   "execution_count": null,
   "metadata": {},
   "outputs": [],
   "source": []
  },
  {
   "cell_type": "code",
   "execution_count": null,
   "metadata": {},
   "outputs": [],
   "source": []
  },
  {
   "cell_type": "code",
   "execution_count": null,
   "metadata": {},
   "outputs": [],
   "source": []
  },
  {
   "cell_type": "code",
   "execution_count": null,
   "metadata": {},
   "outputs": [],
   "source": []
  },
  {
   "cell_type": "code",
   "execution_count": null,
   "metadata": {},
   "outputs": [],
   "source": []
  },
  {
   "cell_type": "code",
   "execution_count": null,
   "metadata": {},
   "outputs": [],
   "source": []
  },
  {
   "cell_type": "code",
   "execution_count": null,
   "metadata": {},
   "outputs": [],
   "source": []
  },
  {
   "cell_type": "code",
   "execution_count": null,
   "metadata": {},
   "outputs": [],
   "source": []
  },
  {
   "cell_type": "code",
   "execution_count": null,
   "metadata": {},
   "outputs": [],
   "source": []
  },
  {
   "cell_type": "code",
   "execution_count": null,
   "metadata": {},
   "outputs": [],
   "source": []
  },
  {
   "cell_type": "code",
   "execution_count": null,
   "metadata": {},
   "outputs": [],
   "source": []
  },
  {
   "cell_type": "code",
   "execution_count": null,
   "metadata": {},
   "outputs": [],
   "source": []
  },
  {
   "cell_type": "code",
   "execution_count": null,
   "metadata": {},
   "outputs": [],
   "source": []
  },
  {
   "cell_type": "code",
   "execution_count": null,
   "metadata": {},
   "outputs": [],
   "source": []
  },
  {
   "cell_type": "code",
   "execution_count": null,
   "metadata": {},
   "outputs": [],
   "source": []
  },
  {
   "cell_type": "code",
   "execution_count": null,
   "metadata": {},
   "outputs": [],
   "source": []
  },
  {
   "cell_type": "code",
   "execution_count": null,
   "metadata": {},
   "outputs": [],
   "source": []
  },
  {
   "cell_type": "code",
   "execution_count": null,
   "metadata": {},
   "outputs": [],
   "source": []
  },
  {
   "cell_type": "code",
   "execution_count": null,
   "metadata": {},
   "outputs": [],
   "source": []
  },
  {
   "cell_type": "code",
   "execution_count": 37,
   "metadata": {},
   "outputs": [
    {
     "data": {
      "text/plain": [
       "0.033759786005248316"
      ]
     },
     "execution_count": 37,
     "metadata": {},
     "output_type": "execute_result"
    }
   ],
   "source": [
    "memory_view_data = memoryview(bytes_data)\n",
    "memory_view_time = timeit.timeit('while memory_view_data: memory_view_data = memory_view_data[1:]', \"from __main__ import memory_view_data\")\n",
    "memory_view_time\n"
   ]
  },
  {
   "cell_type": "code",
   "execution_count": null,
   "metadata": {},
   "outputs": [],
   "source": []
  },
  {
   "cell_type": "code",
   "execution_count": null,
   "metadata": {},
   "outputs": [],
   "source": []
  },
  {
   "cell_type": "code",
   "execution_count": null,
   "metadata": {},
   "outputs": [],
   "source": []
  },
  {
   "cell_type": "code",
   "execution_count": null,
   "metadata": {},
   "outputs": [],
   "source": []
  },
  {
   "cell_type": "code",
   "execution_count": null,
   "metadata": {},
   "outputs": [],
   "source": []
  },
  {
   "cell_type": "code",
   "execution_count": null,
   "metadata": {},
   "outputs": [],
   "source": []
  },
  {
   "cell_type": "code",
   "execution_count": null,
   "metadata": {},
   "outputs": [],
   "source": []
  },
  {
   "cell_type": "code",
   "execution_count": null,
   "metadata": {},
   "outputs": [],
   "source": [
    "# Trying to edit byte object\n",
    "try:\n",
    "    byte_object = byte_object.capitalize()\n",
    "except:\n",
    "    print('Error occured while editing byte object')\n",
    "\n",
    "try:\n",
    "    byte_array_object = byte_array_object + b'123'\n",
    "except:\n",
    "    print('Error occured while editing byte array object')\n",
    "\n",
    "print('Byte Object After editing :' , byte_object)\n",
    "print('Byte Array Object After editing :' , byte_array_object)"
   ]
  },
  {
   "cell_type": "code",
   "execution_count": null,
   "metadata": {},
   "outputs": [],
   "source": []
  },
  {
   "cell_type": "code",
   "execution_count": null,
   "metadata": {},
   "outputs": [],
   "source": []
  },
  {
   "cell_type": "code",
   "execution_count": null,
   "metadata": {},
   "outputs": [],
   "source": []
  },
  {
   "cell_type": "code",
   "execution_count": null,
   "metadata": {},
   "outputs": [],
   "source": []
  },
  {
   "cell_type": "code",
   "execution_count": null,
   "metadata": {},
   "outputs": [],
   "source": []
  },
  {
   "cell_type": "code",
   "execution_count": null,
   "metadata": {},
   "outputs": [],
   "source": []
  },
  {
   "cell_type": "code",
   "execution_count": null,
   "metadata": {},
   "outputs": [],
   "source": []
  },
  {
   "cell_type": "code",
   "execution_count": null,
   "metadata": {},
   "outputs": [],
   "source": []
  },
  {
   "cell_type": "code",
   "execution_count": null,
   "metadata": {},
   "outputs": [],
   "source": []
  },
  {
   "cell_type": "code",
   "execution_count": null,
   "metadata": {},
   "outputs": [],
   "source": []
  }
 ],
 "metadata": {
  "interpreter": {
   "hash": "8fcae832899945c066d7d4c73ed987eb1ba1081328930f6357afc48f48ee0072"
  },
  "kernelspec": {
   "display_name": "Python 3.9.7 ('base')",
   "language": "python",
   "name": "python3"
  },
  "language_info": {
   "codemirror_mode": {
    "name": "ipython",
    "version": 3
   },
   "file_extension": ".py",
   "mimetype": "text/x-python",
   "name": "python",
   "nbconvert_exporter": "python",
   "pygments_lexer": "ipython3",
   "version": "3.9.7"
  },
  "orig_nbformat": 4
 },
 "nbformat": 4,
 "nbformat_minor": 2
}
