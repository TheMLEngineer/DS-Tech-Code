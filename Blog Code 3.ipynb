{
 "cells": [
  {
   "cell_type": "code",
   "execution_count": 18,
   "metadata": {},
   "outputs": [
    {
     "name": "stdout",
     "output_type": "stream",
     "text": [
      "Name Of OS Module: posix\n",
      "Dir name \"dir\" is created ...\n",
      "Current Working Directory : /home/karthik/.local/share/Trash/files/dir/dir/dir/dir/dir\n",
      "After changing to dir , Current Working Directory : /home/karthik/.local/share/Trash/files/dir/dir/dir/dir/dir/dir\n"
     ]
    },
    {
     "ename": "FileNotFoundError",
     "evalue": "[Errno 2] No such file or directory: 'dir'",
     "output_type": "error",
     "traceback": [
      "\u001b[0;31m---------------------------------------------------------------------------\u001b[0m",
      "\u001b[0;31mFileNotFoundError\u001b[0m                         Traceback (most recent call last)",
      "\u001b[0;32m/tmp/ipykernel_82374/1574229223.py\u001b[0m in \u001b[0;36m<module>\u001b[0;34m\u001b[0m\n\u001b[1;32m     21\u001b[0m \u001b[0;34m\u001b[0m\u001b[0m\n\u001b[1;32m     22\u001b[0m \u001b[0;31m# Delete dir\u001b[0m\u001b[0;34m\u001b[0m\u001b[0;34m\u001b[0m\u001b[0m\n\u001b[0;32m---> 23\u001b[0;31m \u001b[0mos\u001b[0m\u001b[0;34m.\u001b[0m\u001b[0mrmdir\u001b[0m\u001b[0;34m(\u001b[0m\u001b[0;34m'dir'\u001b[0m\u001b[0;34m)\u001b[0m\u001b[0;34m\u001b[0m\u001b[0;34m\u001b[0m\u001b[0m\n\u001b[0m\u001b[1;32m     24\u001b[0m \u001b[0mprint\u001b[0m\u001b[0;34m(\u001b[0m\u001b[0;34m'Deleted dir folder'\u001b[0m\u001b[0;34m)\u001b[0m\u001b[0;34m\u001b[0m\u001b[0;34m\u001b[0m\u001b[0m\n\u001b[1;32m     25\u001b[0m \u001b[0;34m\u001b[0m\u001b[0m\n",
      "\u001b[0;31mFileNotFoundError\u001b[0m: [Errno 2] No such file or directory: 'dir'"
     ]
    }
   ],
   "source": [
    "import os\n",
    "\n",
    "# Name of OS Module\n",
    "print('Name Of OS Module:' , os.name)\n",
    "\n",
    "# Checking if dir exist\n",
    "if os.path.exists('dir'):\n",
    "    print('dir folder already exist ...')\n",
    "else:\n",
    "    # If does not exist Creating New Directory\n",
    "    os.mkdir('dir')\n",
    "    print('Dir name \"dir\" is created ...')\n",
    "\n",
    "# Get current working directory\n",
    "print('Current Working Directory :' , os.getcwd())\n",
    "\n",
    "# Change Directory\n",
    "# As we already created 'dir' directory , will switch there\n",
    "os.chdir('dir')\n",
    "print('After changing to dir , Current Working Directory :' , os.getcwd())\n",
    "\n",
    "# Delete dir\n",
    "os.rmdir('dir')\n",
    "print('Deleted dir folder')\n",
    "\n",
    "# Create file\n",
    "with open('text.txt' , 'w') as f:\n",
    "    pass\n",
    "# Change File Name\n",
    "print('Changing File Name ...')\n",
    "os.rename('text.txt' , 'new_text.txt')\n",
    "\n",
    "\n",
    "# Folder content    \n",
    "content = os.listdir()\n",
    "print('Files and Directories in Current Folder :' , content)\n",
    "\n"
   ]
  },
  {
   "cell_type": "code",
   "execution_count": 4,
   "metadata": {},
   "outputs": [],
   "source": [
    "# If we use with , no need to manually close file pointer\n",
    "file_pointer =  open('new_file.txt' , 'w+')\n",
    "# Writing in file\n",
    "# file_pointer.write('Python is a great language')\n",
    "print('File content line 1' , file = file_pointer)"
   ]
  },
  {
   "cell_type": "code",
   "execution_count": 13,
   "metadata": {},
   "outputs": [
    {
     "name": "stdout",
     "output_type": "stream",
     "text": [
      "Creating String ...\n",
      "Reading String ... \n",
      "  This is an example string  \n",
      "Updated String Is : stringexampleanisThis\n",
      "Error occured while deleting part of string : 'str' object doesn't support item deletion\n"
     ]
    }
   ],
   "source": [
    "# Strings\n",
    "# CRUD on Strings\n",
    "\n",
    "# Created String\n",
    "print('Creating String ...')\n",
    "string = '  This is an example string  '\n",
    "\n",
    "# Reading String\n",
    "print(\"Reading String ... \")\n",
    "for character in string:\n",
    "    print(character , end = '')\n",
    "\n",
    "# Updating String Element\n",
    "# As String is immutable we use a one / combination of these methods to update string\n",
    "# Slicing , Copying , Indexing , Built in string methods\n",
    "words = string.split(' ')\n",
    "new_string = ''.join(words[::-1])\n",
    "print(f'\\nUpdated String Is : {new_string}')\n",
    "\n",
    "# Deleting String\n",
    "# If tried to delete part of string / one character from string it raises error as string is immutable\n",
    "try:\n",
    "    del new_string[0]\n",
    "except Exception as e:\n",
    "    print('Error occured while deleting part of string :' , e)\n",
    "\n",
    "# However we can delete whole string variable\n",
    "del new_string"
   ]
  },
  {
   "cell_type": "code",
   "execution_count": 47,
   "metadata": {},
   "outputs": [
    {
     "name": "stdout",
     "output_type": "stream",
     "text": [
      "Actual String : the quick brown FOX jumps over the lazy dog   \n",
      "Capitalized String : The quick brown fox jumps over the lazy dog   \n",
      "Lower Case String : the quick brown fox jumps over the lazy dog   \n",
      "Upper Case String : THE QUICK BROWN FOX JUMPS OVER THE LAZY DOG   \n",
      "Swapping Case Of String : THE QUICK BROWN fox JUMPS OVER THE LAZY DOG   \n",
      "Title Case : The Quick Brown Fox Jumps Over The Lazy Dog   \n",
      "Index of value \"q\" : 4\n",
      "Replacing \"s\" with \"sss\" : the quick brown FOX jumpsss over the lazy dog   \n",
      "Is string alphanumeric ?  False\n",
      "Is string Alpha ?  False\n",
      "Is string digit ?  False\n",
      "Is the string a valid identifier ?  False\n",
      "Is string already in lower case ?  False\n",
      "Is string already in upper case ?  False\n",
      "Is string printable ?  True\n",
      "Centerred String : the quick brown FOX jumps over the lazy dog   \n",
      "Stripped of spaces : the quick brown FOX jumps over the lazy dog\n",
      "Joined String : t\th\te\t \tq\tu\ti\tc\tk\t \tb\tr\to\tw\tn\t \tF\tO\tX\t \tj\tu\tm\tp\ts\t \to\tv\te\tr\t \tt\th\te\t \tl\ta\tz\ty\t \td\to\tg\n",
      "Using Partition : ('the quick brown FOX jumps over the lazy dog', '', '')\n",
      "Using Split : ['the', 'quick', 'brown', 'FOX', 'jumps', 'over', 'the', 'lazy', 'dog']\n",
      "Number of times \"j\" occur in string : 1\n",
      "Does string endswith \"a\" ?  False\n",
      "Does string startswith \"t\" ?  True\n"
     ]
    }
   ],
   "source": [
    "# String Methods\n",
    "s = 'the quick brown FOX jumps over the lazy dog   '\n",
    "print('Actual String :' , s)\n",
    "print('Capitalized String :' , s.capitalize())\n",
    "print('Lower Case String :' , s.lower())\n",
    "print('Upper Case String :' , s.upper() )\n",
    "print('Swapping Case Of String :' , s.swapcase())\n",
    "print('Title Case :' , s.title())\n",
    "\n",
    "# Searching and replacing\n",
    "print('Index of value \"q\" :' , s.find('q'))\n",
    "print('Replacing \"s\" with \"sss\" :' , s.replace('s' , 'sss'))\n",
    "\n",
    "# Checking types\n",
    "print('Is string alphanumeric ? ', s.isalnum())\n",
    "print('Is string Alpha ? ' , s.isalpha())\n",
    "print('Is string digit ? ' , s.isdigit())\n",
    "print('Is the string a valid identifier ? ' , s.isidentifier())\n",
    "print('Is string already in lower case ? ' ,s.islower())\n",
    "print('Is string already in upper case ? ' ,s.isupper())\n",
    "print('Is string printable ? ' , s.isprintable())\n",
    "\n",
    "# Formatting\n",
    "# Returning a String in a centered field\n",
    "print('Centerred String :' , s.center(10))\n",
    "print('Stripped of spaces :' , s.strip())\n",
    "s = s.strip()\n",
    "\n",
    "# Joining\n",
    "l = list(s)\n",
    "joined_string = '\\t'.join(l)\n",
    "print('Joined String :' , joined_string)\n",
    "\n",
    "# Split string\n",
    "print('Using Partition :' , s.partition('fox'))\n",
    "print('Using Split :' , s.split(' '))\n",
    "\n",
    "# Counting\n",
    "print('Number of times \"j\" occur in string :' , s.count('j'))\n",
    "print('Does string endswith \"a\" ? ' , s.endswith('a'))\n",
    "print('Does string startswith \"t\" ? ' , s.startswith('t'))"
   ]
  },
  {
   "cell_type": "code",
   "execution_count": 18,
   "metadata": {},
   "outputs": [
    {
     "data": {
      "text/plain": [
       "' the quick brown fox jumps over the lazy dog   '"
      ]
     },
     "execution_count": 18,
     "metadata": {},
     "output_type": "execute_result"
    }
   ],
   "source": [
    "s"
   ]
  },
  {
   "cell_type": "code",
   "execution_count": null,
   "metadata": {},
   "outputs": [],
   "source": []
  },
  {
   "cell_type": "code",
   "execution_count": 3,
   "metadata": {},
   "outputs": [
    {
     "name": "stdout",
     "output_type": "stream",
     "text": [
      "type of variable : <class 'int'>\n",
      "Changing int to float : 3.0\n",
      "Changing into to complex : (3+0j)\n",
      "123\n",
      "27 10 18\n"
     ]
    }
   ],
   "source": [
    "# Integer\n",
    "variable = 3\n",
    "\n",
    "print('type of variable :' , type(variable))\n",
    "\n",
    "# Type conversion\n",
    "print('Changing int to float :' , float(variable))\n",
    "print('Changing into to complex :' , complex(variable))\n",
    "\n",
    "# underscore can be used as Delimter to integer\n",
    "variable = 1_2_3\n",
    "print(variable)\n",
    "\n",
    "# Binary , Octals and Hexadecimals\n",
    "binary = 0b11011\n",
    "octal = 0o12\n",
    "hexadecimal = 0x12\n",
    "\n",
    "print(binary , octal , hexadecimal)"
   ]
  },
  {
   "cell_type": "code",
   "execution_count": 5,
   "metadata": {},
   "outputs": [
    {
     "data": {
      "text/plain": [
       "9223372036854775807"
      ]
     },
     "execution_count": 5,
     "metadata": {},
     "output_type": "execute_result"
    }
   ],
   "source": [
    "import sys\n",
    "maximum_value_of_integer = sys.maxsize"
   ]
  },
  {
   "cell_type": "code",
   "execution_count": 8,
   "metadata": {},
   "outputs": [
    {
     "name": "stdout",
     "output_type": "stream",
     "text": [
      "type of variable : <class 'float'>\n",
      "Changing float to int : 3\n",
      "Changing float to complex : (3.3+0j)\n",
      "32.35\n",
      "nan\n",
      "inf\n"
     ]
    }
   ],
   "source": [
    "# Float\n",
    "variable = 3.3\n",
    "\n",
    "print('type of variable :' , type(variable))\n",
    "\n",
    "# Type conversion\n",
    "print('Changing float to int :' , int(variable))\n",
    "print('Changing float to complex :' , complex(variable))\n",
    "\n",
    "# underscore can be used as Delimter to Float also\n",
    "variable = 3_2.3_5\n",
    "print(variable)\n",
    "\n",
    "# inf and nan\n",
    "print(float('NaN'))\n",
    "print(float('inf'))"
   ]
  },
  {
   "cell_type": "code",
   "execution_count": 11,
   "metadata": {},
   "outputs": [
    {
     "name": "stdout",
     "output_type": "stream",
     "text": [
      "type of variable : <class 'complex'>\n",
      "Real part of variable : 3.0\n",
      "Imaginary part of variable : 0.0\n",
      "(32+35j)\n"
     ]
    }
   ],
   "source": [
    "# Complex\n",
    "variable = 3 + 0j\n",
    "\n",
    "print('type of variable :' , type(variable))\n",
    "\n",
    "print('Real part of variable :' , variable.real)\n",
    "print('Imaginary part of variable :' , variable.imag)\n",
    "\n",
    "\n",
    "# Type conversion\n",
    "# We can’t convert a complex number to int or float directly\n",
    "\n",
    "\n",
    "# underscore can be used as Delimter to Float also\n",
    "variable = 3_2 + 3_5j\n",
    "print(variable)"
   ]
  },
  {
   "cell_type": "code",
   "execution_count": 31,
   "metadata": {},
   "outputs": [
    {
     "name": "stdout",
     "output_type": "stream",
     "text": [
      "<class 'tuple'>\n",
      "(3+4j)\n",
      "(1, (3+4j), 'Elon')\n",
      "Tuple Value before changing : (1, 2, ['Hi'])\n",
      "List inside tuple is changed now : (1, 2, ['Hi', 'Hello'])\n",
      "(1, '2', (3+4j), 'Hello', 'Elon', 1, 2, ['Hi', 'Hello'])\n",
      "(1, 2, ['Hi', 'Hello'], 1, 2, ['Hi', 'Hello'], 1, 2, ['Hi', 'Hello'])\n",
      "1\n",
      "4\n",
      "1\n",
      "2\n",
      "(3+4j)\n",
      "Hello\n",
      "Elon\n",
      "True\n"
     ]
    }
   ],
   "source": [
    "# Tuples\n",
    "\n",
    "t1 = (1,'2',3+4j , 'Hello' , 'Elon')\n",
    "print(type(t1))\n",
    "\n",
    "# Indexing and Slicing\n",
    "print(t1[2])\n",
    "print(t1[::2])\n",
    "\n",
    "\n",
    "# Editing List Inside Tuple\n",
    "t2 = (1,2,['Hi'])\n",
    "print('Tuple Value before changing :' , t2)\n",
    "t2[2].append('Hello')\n",
    "print('List inside tuple is changed now :' , t2)\n",
    "\n",
    "# Adding tuples\n",
    "print(t1 + t2)\n",
    "\n",
    "# Multiplying tuples\n",
    "print(t2 * 3)\n",
    "\n",
    "# Built In Methods\n",
    "print(t1.count('Elon'))\n",
    "print(t1.index('Elon'))\n",
    "\n",
    "# Iterating\n",
    "for element in t1:\n",
    "    print(element)\n",
    "\n",
    "# Membership Test\n",
    "print('Elon' in t1)\n",
    "\n",
    "# As tuple is immutable , we can edit tuple by converting into list and doing list operations"
   ]
  },
  {
   "cell_type": "code",
   "execution_count": 38,
   "metadata": {},
   "outputs": [
    {
     "name": "stdout",
     "output_type": "stream",
     "text": [
      "range() document : range(stop) -> range object\n",
      "range(start, stop[, step]) -> range object\n",
      "\n",
      "Return an object that produces a sequence of integers from start (inclusive)\n",
      "to stop (exclusive) by step.  range(i, j) produces i, i+1, i+2, ..., j-1.\n",
      "start defaults to 0, and stop is omitted!  range(4) produces 0, 1, 2, 3.\n",
      "These are exactly the valid indices for a list of 4 elements.\n",
      "When step is given, it specifies the increment (or decrement).\n",
      "Using list() to get values from range object : [1, 2, 3, 4, 5, 6, 7, 8, 9, 10]\n",
      "Using list() to get values from range object (Negative Step Size): [15, 14, 13, 12, 11, 10, 9, 8, 7, 6, 5, 4, 3, 2]\n"
     ]
    }
   ],
   "source": [
    "# Range\n",
    "\n",
    "print('range() document :' , range.__doc__)\n",
    "\n",
    "# Positive Step Size\n",
    "range_object = range(1 , 11 ,  1)\n",
    "list_of_elements = list(range_object)\n",
    "print('Using list() to get values from range object :' , list_of_elements)\n",
    "\n",
    "# Using negative step size\n",
    "range_object = range(15 , 1 ,  -1)\n",
    "list_of_elements = list(range_object)\n",
    "print('Using list() to get values from range object (Negative Step Size):' , list_of_elements)"
   ]
  },
  {
   "cell_type": "code",
   "execution_count": 39,
   "metadata": {},
   "outputs": [
    {
     "ename": "TypeError",
     "evalue": "range expected at least 1 argument, got 0",
     "output_type": "error",
     "traceback": [
      "\u001b[0;31m---------------------------------------------------------------------------\u001b[0m",
      "\u001b[0;31mTypeError\u001b[0m                                 Traceback (most recent call last)",
      "\u001b[0;32m/tmp/ipykernel_13838/2741177838.py\u001b[0m in \u001b[0;36m<module>\u001b[0;34m\u001b[0m\n\u001b[0;32m----> 1\u001b[0;31m \u001b[0mrange\u001b[0m\u001b[0;34m(\u001b[0m\u001b[0;34m)\u001b[0m\u001b[0;34m\u001b[0m\u001b[0;34m\u001b[0m\u001b[0m\n\u001b[0m",
      "\u001b[0;31mTypeError\u001b[0m: range expected at least 1 argument, got 0"
     ]
    }
   ],
   "source": [
    "range()"
   ]
  },
  {
   "cell_type": "code",
   "execution_count": 41,
   "metadata": {},
   "outputs": [],
   "source": [
    "for i in range(-44):\n",
    "    print(i)"
   ]
  },
  {
   "cell_type": "code",
   "execution_count": 45,
   "metadata": {},
   "outputs": [
    {
     "name": "stdout",
     "output_type": "stream",
     "text": [
      "Dictionary : {frozenset({1, 2, 3, 4, 5}): 'Value'}\n",
      "frozenset({1, 2, 3, 4, 5, 6, 7, 8})\n",
      "frozenset({4, 5})\n",
      "frozenset({1, 2, 3})\n",
      "frozenset({1, 2, 3, 6, 7, 8})\n",
      "False\n",
      "False\n",
      "False\n"
     ]
    }
   ],
   "source": [
    "# Frozensets can do all operations as set , only thing is frozen sets are immutable\n",
    "# Creating frozensets\n",
    "fset1 = frozenset([1,2,3,4,5])\n",
    "fset2 = frozenset([4,5,6,7,8])\n",
    "\n",
    "# Using Frozenset as dictionary key\n",
    "d = {}\n",
    "d[fset1] = 'Value'\n",
    "print('Dictionary :' , d)\n",
    "\n",
    "# Copy\n",
    "f_copy = fset1.copy()\n",
    "\n",
    "# Union\n",
    "print(fset1.union(fset2))\n",
    "\n",
    "# Intersection\n",
    "print(fset1.intersection(fset2))\n",
    "\n",
    "# Difference\n",
    "print(fset1.difference(fset2))\n",
    "\n",
    "# Symmetric Difference\n",
    "print(fset1.symmetric_difference(fset2))\n",
    "\n",
    "# isdisjoint()\n",
    "print(fset1.isdisjoint(fset2))\n",
    "\n",
    "# issubset()\n",
    "print(fset1.issubset(fset2))\n",
    "\n",
    "# issuperset()\n",
    "print(fset1.issuperset(fset2))"
   ]
  },
  {
   "cell_type": "code",
   "execution_count": null,
   "metadata": {},
   "outputs": [],
   "source": []
  },
  {
   "cell_type": "code",
   "execution_count": null,
   "metadata": {},
   "outputs": [],
   "source": []
  },
  {
   "cell_type": "code",
   "execution_count": null,
   "metadata": {},
   "outputs": [],
   "source": []
  },
  {
   "cell_type": "code",
   "execution_count": null,
   "metadata": {},
   "outputs": [],
   "source": []
  },
  {
   "cell_type": "code",
   "execution_count": null,
   "metadata": {},
   "outputs": [],
   "source": []
  },
  {
   "cell_type": "code",
   "execution_count": null,
   "metadata": {},
   "outputs": [],
   "source": []
  },
  {
   "cell_type": "code",
   "execution_count": null,
   "metadata": {},
   "outputs": [],
   "source": []
  },
  {
   "cell_type": "code",
   "execution_count": null,
   "metadata": {},
   "outputs": [],
   "source": []
  },
  {
   "cell_type": "code",
   "execution_count": null,
   "metadata": {},
   "outputs": [],
   "source": []
  },
  {
   "cell_type": "code",
   "execution_count": null,
   "metadata": {},
   "outputs": [],
   "source": []
  },
  {
   "cell_type": "code",
   "execution_count": null,
   "metadata": {},
   "outputs": [],
   "source": []
  },
  {
   "cell_type": "code",
   "execution_count": null,
   "metadata": {},
   "outputs": [],
   "source": []
  },
  {
   "cell_type": "code",
   "execution_count": null,
   "metadata": {},
   "outputs": [],
   "source": []
  },
  {
   "cell_type": "code",
   "execution_count": null,
   "metadata": {},
   "outputs": [],
   "source": []
  }
 ],
 "metadata": {
  "interpreter": {
   "hash": "8fcae832899945c066d7d4c73ed987eb1ba1081328930f6357afc48f48ee0072"
  },
  "kernelspec": {
   "display_name": "Python 3.9.7 ('base')",
   "language": "python",
   "name": "python3"
  },
  "language_info": {
   "codemirror_mode": {
    "name": "ipython",
    "version": 3
   },
   "file_extension": ".py",
   "mimetype": "text/x-python",
   "name": "python",
   "nbconvert_exporter": "python",
   "pygments_lexer": "ipython3",
   "version": "3.9.7"
  },
  "orig_nbformat": 4
 },
 "nbformat": 4,
 "nbformat_minor": 2
}
