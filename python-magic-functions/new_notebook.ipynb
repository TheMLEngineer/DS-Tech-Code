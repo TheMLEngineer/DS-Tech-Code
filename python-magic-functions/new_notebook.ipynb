{
 "cells": [
  {
   "cell_type": "code",
   "execution_count": 1,
   "id": "bf7e5a1e",
   "metadata": {},
   "outputs": [],
   "source": [
    "# Here new_file.txt will be created if not already present and File Content Will be written inside the file"
   ]
  },
  {
   "cell_type": "code",
   "execution_count": 2,
   "id": "224df1f2",
   "metadata": {},
   "outputs": [],
   "source": [
    " %%writefile new_file.txt\n",
    " File Content1\n",
    " File Content2\n",
    " File Content3"
   ]
  },
  {
   "cell_type": "code",
   "execution_count": 3,
   "id": "95ad6b01",
   "metadata": {},
   "outputs": [],
   "source": [
    "# Copy code content in cells one to two and paste it in pastebin and share URL\n",
    "%pastebin 1 - 2"
   ]
  },
  {
   "cell_type": "code",
   "execution_count": 4,
   "id": "eb888e1b",
   "metadata": {},
   "outputs": [],
   "source": [
    "# To check how much time it takes to run code we can use %timeit\n",
    "%timeit [i**i for i in range(100)]"
   ]
  },
  {
   "cell_type": "code",
   "execution_count": 5,
   "id": "12cec893",
   "metadata": {},
   "outputs": [],
   "source": [
    " # Info about magic functions\n",
    " %magic"
   ]
  },
  {
   "cell_type": "code",
   "execution_count": 6,
   "id": "5d7d04bf",
   "metadata": {},
   "outputs": [],
   "source": [
    "# To enable the inline backend for usage with the Notebook\n",
    "%matplotlib inline"
   ]
  }
 ],
 "metadata": {},
 "nbformat": 4,
 "nbformat_minor": 5
}
