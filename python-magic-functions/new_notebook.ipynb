{
 "cells": [
  {
   "cell_type": "code",
   "execution_count": 1,
   "id": "50a4cd21",
   "metadata": {},
   "outputs": [],
   "source": [
    "# Here new_file.txt will be created if not already present and File Content Will be written inside the file"
   ]
  },
  {
   "cell_type": "code",
   "execution_count": 2,
   "id": "5ab9fcf2",
   "metadata": {},
   "outputs": [],
   "source": [
    " %%writefile new_file.txt\n",
    " File Content1\n",
    " File Content2\n",
    " File Content3"
   ]
  },
  {
   "cell_type": "code",
   "execution_count": 3,
   "id": "5ea10da9",
   "metadata": {},
   "outputs": [],
   "source": [
    "# Copy code content in cells one to two and paste it in pastebin and share URL\n",
    "%pastebin 1 - 2"
   ]
  },
  {
   "cell_type": "code",
   "execution_count": 4,
   "id": "ee80d893",
   "metadata": {},
   "outputs": [],
   "source": [
    "# To check how much time it takes to run code we can use %timeit\n",
    "%timeit [i**i for i in range(100)]"
   ]
  },
  {
   "cell_type": "code",
   "execution_count": 5,
   "id": "cca0d752",
   "metadata": {},
   "outputs": [],
   "source": [
    "# Check PWD\n",
    "%whereami"
   ]
  },
  {
   "cell_type": "code",
   "execution_count": 6,
   "id": "932e43b9",
   "metadata": {},
   "outputs": [],
   "source": [
    "# Check PWD\n",
    "%whereami"
   ]
  },
  {
   "cell_type": "code",
   "execution_count": 7,
   "id": "a26384f7",
   "metadata": {},
   "outputs": [],
   "source": [
    " %magic"
   ]
  },
  {
   "cell_type": "code",
   "execution_count": 8,
   "id": "83ba37fd",
   "metadata": {},
   "outputs": [],
   "source": [
    " # Info about magic functions\n",
    " %magic"
   ]
  },
  {
   "cell_type": "code",
   "execution_count": 9,
   "id": "cb3ff6f9",
   "metadata": {},
   "outputs": [],
   "source": [
    "# To enable the inline backend for usage with the Notebook\n",
    "%matplotlib inline"
   ]
  }
 ],
 "metadata": {},
 "nbformat": 4,
 "nbformat_minor": 5
}
