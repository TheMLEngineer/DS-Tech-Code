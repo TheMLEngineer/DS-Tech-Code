{
 "cells": [
  {
   "cell_type": "code",
   "execution_count": 2,
   "metadata": {},
   "outputs": [
    {
     "name": "stdout",
     "output_type": "stream",
     "text": [
      "a value : 3\n",
      "b value : 5\n",
      "a + b : 8\n",
      "a - b : -2\n",
      "a * b : 15\n",
      "a / b : 0.6\n",
      "a % b : 3\n",
      "a ** b : 243\n",
      "a // b : 0\n"
     ]
    }
   ],
   "source": [
    "# Arithmatic Operators\n",
    "a = 3\n",
    "b = 5\n",
    "\n",
    "print('a value :' , a)\n",
    "print('b value :' , b)\n",
    "print('a + b :' , a + b)\n",
    "print('a - b :' , a - b)\n",
    "print('a * b :' , a * b)\n",
    "print('a / b :' , a / b)\n",
    "print('a % b :' , a % b)\n",
    "print('a ** b :' , a ** b)\n",
    "print('a // b :' , a // b)"
   ]
  },
  {
   "cell_type": "code",
   "execution_count": 3,
   "metadata": {},
   "outputs": [
    {
     "name": "stdout",
     "output_type": "stream",
     "text": [
      "a value : 3\n",
      "b value : 5\n",
      "Is a < b ?  True\n",
      "Is a > b ?  False\n",
      "Is a <= b ?  True\n",
      "Is a >= b ?  False\n",
      "Is a == b ?  False\n",
      "Is a != b ?  True\n"
     ]
    }
   ],
   "source": [
    "# Comparison Operators\n",
    "\n",
    "a = 3\n",
    "b = 5\n",
    "\n",
    "print('a value :' , a)\n",
    "print('b value :' , b)\n",
    "print('Is a < b ? ' , a < b)\n",
    "print('Is a > b ? ' , a > b)\n",
    "print('Is a <= b ? ' , a <= b)\n",
    "print('Is a >= b ? ' , a >= b)\n",
    "print('Is a == b ? ' , a == b)\n",
    "print('Is a != b ? ' , a != b)"
   ]
  },
  {
   "cell_type": "code",
   "execution_count": 4,
   "metadata": {},
   "outputs": [
    {
     "name": "stdout",
     "output_type": "stream",
     "text": [
      "a value : True\n",
      "b value : False\n",
      "a and b :  False\n",
      "a or b :  True\n",
      "not(a and b)?  True\n"
     ]
    }
   ],
   "source": [
    "# Logical Operators\n",
    "\n",
    "a = True\n",
    "b = False\n",
    "\n",
    "print('a value :' , a)\n",
    "print('b value :' , b)\n",
    "print('a and b : ' , a and b )\n",
    "print('a or b : ' , a or b)\n",
    "print('not(a and b)? ' , not(a and b))"
   ]
  },
  {
   "cell_type": "code",
   "execution_count": 6,
   "metadata": {},
   "outputs": [
    {
     "name": "stdout",
     "output_type": "stream",
     "text": [
      "a value : 3\n",
      "b value : 4\n",
      "a & b : 0\n",
      "a | b : 7\n",
      "~a : -4\n",
      "a ^ b : 7\n",
      "a >> b : 0\n",
      "a << b : 48\n"
     ]
    }
   ],
   "source": [
    "# Bitwise Operators\n",
    "\n",
    "a = 3\n",
    "b = 4\n",
    "\n",
    "print('a value :' , a)\n",
    "print('b value :' , b)\n",
    "\n",
    "print('a & b :' , a & b)\n",
    "print('a | b :' , a | b)\n",
    "print('~a :' , ~a)\n",
    "print('a ^ b :' , a ^ b)\n",
    "print('a >> b :' , a >> b)\n",
    "print('a << b :' , a << b)\n"
   ]
  },
  {
   "cell_type": "code",
   "execution_count": 10,
   "metadata": {},
   "outputs": [
    {
     "name": "stdout",
     "output_type": "stream",
     "text": [
      "a is c : True\n",
      "a is b : False\n",
      "a == b : True\n",
      "a is not b : True\n"
     ]
    }
   ],
   "source": [
    "# Identity Operators\n",
    "\n",
    "a = [3 , 5]\n",
    "b = [3 , 5]\n",
    "c = a\n",
    "\n",
    "# This will return TRUE as a and b refer to same object in same memory location\n",
    "print('a is c :' , a is c)\n",
    "\n",
    "# This will return False as even though a and b has same value , they are not in same memory location\n",
    "print('a is b :' , a is b)\n",
    "\n",
    "# But a == b will return True as , == checks for value but is operator checks for object and memory location\n",
    "print('a == b :' , a == b)\n",
    "\n",
    "# is not operator , this will return True\n",
    "print('a is not b :' , a is not b)\n"
   ]
  },
  {
   "cell_type": "code",
   "execution_count": 11,
   "metadata": {},
   "outputs": [
    {
     "name": "stdout",
     "output_type": "stream",
     "text": [
      "Is 3 in list ?  True\n",
      "Is 8 not in list ?  True\n"
     ]
    }
   ],
   "source": [
    "# Membership operators\n",
    "\n",
    "l = [3 , 5 , 7]\n",
    "\n",
    "print('Is 3 in list ? ' , 3 in l)\n",
    "print('Is 8 not in list ? ' , 8 not in l)"
   ]
  },
  {
   "cell_type": "code",
   "execution_count": 17,
   "metadata": {},
   "outputs": [
    {
     "name": "stdout",
     "output_type": "stream",
     "text": [
      "a value after assignment : 3\n",
      "a value after +=5 : 8\n",
      "a value after -=5 : 3\n",
      "a value after *=5 : 15\n",
      "a value after /=5 : 3.0\n",
      "a value after %=5 : 3.0\n",
      "a value after //=5 : 0.0\n",
      "a value after **=5 : 0.0\n",
      "a value after &=5 : 0\n",
      "a value after |=5 : 5\n",
      "a value after ^=5 : 0\n",
      "a value after >>=5 : 0\n",
      "a value after <<=5 : 0\n"
     ]
    }
   ],
   "source": [
    "# Assignment Operators\n",
    "\n",
    "\n",
    "a = 3\n",
    "print('a value after assignment :' , a)\n",
    "\n",
    "a += 5\n",
    "print('a value after +=5 :' , a)\n",
    "\n",
    "a -= 5\n",
    "print('a value after -=5 :' , a)\n",
    "\n",
    "a *= 5\n",
    "print('a value after *=5 :' , a)\n",
    "\n",
    "a /= 5\n",
    "print('a value after /=5 :' , a)\n",
    "\n",
    "a %= 5\n",
    "print('a value after %=5 :' , a)\n",
    "\n",
    "a //= 5\n",
    "print('a value after //=5 :' , a)\n",
    "\n",
    "a **= 5\n",
    "print('a value after **=5 :' , a)\n",
    "\n",
    "# As current a value is in float , converting it to integer\n",
    "a = int(a)\n",
    "\n",
    "a &= 5\n",
    "print('a value after &=5 :' , a)\n",
    "\n",
    "a |= 5\n",
    "print('a value after |=5 :' , a)\n",
    "\n",
    "a ^= 5\n",
    "print('a value after ^=5 :' , a)\n",
    "\n",
    "a >>= 5\n",
    "print('a value after >>=5 :' , a)\n",
    "\n",
    "a <<= 5\n",
    "print('a value after <<=5 :' , a)\n"
   ]
  },
  {
   "cell_type": "code",
   "execution_count": 1,
   "metadata": {},
   "outputs": [
    {
     "data": {
      "text/plain": [
       "(6000, 4000)"
      ]
     },
     "execution_count": 1,
     "metadata": {},
     "output_type": "execute_result"
    }
   ],
   "source": [
    "from PIL import Image\n",
    "foo = Image.open(\"/home/karthik/Downloads/DSC.jpg\")\n",
    "foo.size"
   ]
  },
  {
   "cell_type": "code",
   "execution_count": null,
   "metadata": {},
   "outputs": [],
   "source": [
    "foo = foo.resize((160,300),Image.ANTIALIAS)\n",
    "foo.save(\"/home/karthik/Downloads/DSC_Compressed.jpg\",quality=95)"
   ]
  },
  {
   "cell_type": "code",
   "execution_count": null,
   "metadata": {},
   "outputs": [],
   "source": []
  },
  {
   "cell_type": "code",
   "execution_count": null,
   "metadata": {},
   "outputs": [],
   "source": []
  },
  {
   "cell_type": "code",
   "execution_count": null,
   "metadata": {},
   "outputs": [],
   "source": []
  },
  {
   "cell_type": "code",
   "execution_count": null,
   "metadata": {},
   "outputs": [],
   "source": []
  },
  {
   "cell_type": "code",
   "execution_count": null,
   "metadata": {},
   "outputs": [],
   "source": []
  },
  {
   "cell_type": "code",
   "execution_count": null,
   "metadata": {},
   "outputs": [],
   "source": []
  },
  {
   "cell_type": "code",
   "execution_count": null,
   "metadata": {},
   "outputs": [],
   "source": []
  },
  {
   "cell_type": "code",
   "execution_count": null,
   "metadata": {},
   "outputs": [],
   "source": []
  },
  {
   "cell_type": "code",
   "execution_count": null,
   "metadata": {},
   "outputs": [],
   "source": []
  },
  {
   "cell_type": "code",
   "execution_count": null,
   "metadata": {},
   "outputs": [],
   "source": []
  },
  {
   "cell_type": "code",
   "execution_count": null,
   "metadata": {},
   "outputs": [],
   "source": []
  },
  {
   "cell_type": "code",
   "execution_count": null,
   "metadata": {},
   "outputs": [],
   "source": []
  },
  {
   "cell_type": "code",
   "execution_count": null,
   "metadata": {},
   "outputs": [],
   "source": []
  },
  {
   "cell_type": "code",
   "execution_count": null,
   "metadata": {},
   "outputs": [],
   "source": []
  },
  {
   "cell_type": "code",
   "execution_count": null,
   "metadata": {},
   "outputs": [],
   "source": []
  },
  {
   "cell_type": "code",
   "execution_count": null,
   "metadata": {},
   "outputs": [],
   "source": []
  },
  {
   "cell_type": "code",
   "execution_count": null,
   "metadata": {},
   "outputs": [],
   "source": []
  },
  {
   "cell_type": "code",
   "execution_count": null,
   "metadata": {},
   "outputs": [],
   "source": []
  },
  {
   "cell_type": "code",
   "execution_count": null,
   "metadata": {},
   "outputs": [],
   "source": []
  },
  {
   "cell_type": "code",
   "execution_count": null,
   "metadata": {},
   "outputs": [],
   "source": []
  },
  {
   "cell_type": "code",
   "execution_count": null,
   "metadata": {},
   "outputs": [],
   "source": []
  },
  {
   "cell_type": "code",
   "execution_count": null,
   "metadata": {},
   "outputs": [],
   "source": []
  },
  {
   "cell_type": "code",
   "execution_count": null,
   "metadata": {},
   "outputs": [],
   "source": []
  },
  {
   "cell_type": "code",
   "execution_count": null,
   "metadata": {},
   "outputs": [],
   "source": []
  },
  {
   "cell_type": "code",
   "execution_count": null,
   "metadata": {},
   "outputs": [],
   "source": []
  },
  {
   "cell_type": "code",
   "execution_count": null,
   "metadata": {},
   "outputs": [],
   "source": []
  },
  {
   "cell_type": "code",
   "execution_count": null,
   "metadata": {},
   "outputs": [],
   "source": []
  },
  {
   "cell_type": "code",
   "execution_count": null,
   "metadata": {},
   "outputs": [],
   "source": []
  },
  {
   "cell_type": "code",
   "execution_count": null,
   "metadata": {},
   "outputs": [],
   "source": []
  },
  {
   "cell_type": "code",
   "execution_count": null,
   "metadata": {},
   "outputs": [],
   "source": []
  },
  {
   "cell_type": "code",
   "execution_count": null,
   "metadata": {},
   "outputs": [],
   "source": []
  },
  {
   "cell_type": "code",
   "execution_count": null,
   "metadata": {},
   "outputs": [],
   "source": []
  },
  {
   "cell_type": "code",
   "execution_count": null,
   "metadata": {},
   "outputs": [],
   "source": []
  },
  {
   "cell_type": "code",
   "execution_count": null,
   "metadata": {},
   "outputs": [],
   "source": []
  },
  {
   "cell_type": "code",
   "execution_count": null,
   "metadata": {},
   "outputs": [],
   "source": []
  },
  {
   "cell_type": "code",
   "execution_count": null,
   "metadata": {},
   "outputs": [],
   "source": []
  },
  {
   "cell_type": "code",
   "execution_count": null,
   "metadata": {},
   "outputs": [],
   "source": []
  },
  {
   "cell_type": "code",
   "execution_count": null,
   "metadata": {},
   "outputs": [],
   "source": []
  },
  {
   "cell_type": "code",
   "execution_count": null,
   "metadata": {},
   "outputs": [],
   "source": []
  },
  {
   "cell_type": "code",
   "execution_count": null,
   "metadata": {},
   "outputs": [],
   "source": []
  },
  {
   "cell_type": "code",
   "execution_count": null,
   "metadata": {},
   "outputs": [],
   "source": []
  },
  {
   "cell_type": "code",
   "execution_count": null,
   "metadata": {},
   "outputs": [],
   "source": []
  },
  {
   "cell_type": "code",
   "execution_count": null,
   "metadata": {},
   "outputs": [],
   "source": []
  },
  {
   "cell_type": "code",
   "execution_count": null,
   "metadata": {},
   "outputs": [],
   "source": []
  },
  {
   "cell_type": "code",
   "execution_count": null,
   "metadata": {},
   "outputs": [],
   "source": []
  },
  {
   "cell_type": "code",
   "execution_count": null,
   "metadata": {},
   "outputs": [],
   "source": []
  },
  {
   "cell_type": "code",
   "execution_count": null,
   "metadata": {},
   "outputs": [],
   "source": []
  },
  {
   "cell_type": "code",
   "execution_count": null,
   "metadata": {},
   "outputs": [],
   "source": []
  },
  {
   "cell_type": "code",
   "execution_count": null,
   "metadata": {},
   "outputs": [],
   "source": []
  },
  {
   "cell_type": "code",
   "execution_count": null,
   "metadata": {},
   "outputs": [],
   "source": []
  },
  {
   "cell_type": "code",
   "execution_count": null,
   "metadata": {},
   "outputs": [],
   "source": []
  },
  {
   "cell_type": "code",
   "execution_count": null,
   "metadata": {},
   "outputs": [],
   "source": []
  },
  {
   "cell_type": "code",
   "execution_count": null,
   "metadata": {},
   "outputs": [],
   "source": []
  },
  {
   "cell_type": "code",
   "execution_count": null,
   "metadata": {},
   "outputs": [],
   "source": []
  },
  {
   "cell_type": "code",
   "execution_count": null,
   "metadata": {},
   "outputs": [],
   "source": []
  },
  {
   "cell_type": "code",
   "execution_count": null,
   "metadata": {},
   "outputs": [],
   "source": []
  },
  {
   "cell_type": "code",
   "execution_count": null,
   "metadata": {},
   "outputs": [],
   "source": []
  },
  {
   "cell_type": "code",
   "execution_count": null,
   "metadata": {},
   "outputs": [],
   "source": []
  },
  {
   "cell_type": "code",
   "execution_count": null,
   "metadata": {},
   "outputs": [],
   "source": []
  },
  {
   "cell_type": "code",
   "execution_count": null,
   "metadata": {},
   "outputs": [],
   "source": []
  },
  {
   "cell_type": "code",
   "execution_count": null,
   "metadata": {},
   "outputs": [],
   "source": []
  },
  {
   "cell_type": "code",
   "execution_count": null,
   "metadata": {},
   "outputs": [],
   "source": []
  },
  {
   "cell_type": "code",
   "execution_count": null,
   "metadata": {},
   "outputs": [],
   "source": []
  },
  {
   "cell_type": "code",
   "execution_count": null,
   "metadata": {},
   "outputs": [],
   "source": []
  },
  {
   "cell_type": "code",
   "execution_count": null,
   "metadata": {},
   "outputs": [],
   "source": []
  },
  {
   "cell_type": "code",
   "execution_count": null,
   "metadata": {},
   "outputs": [],
   "source": []
  },
  {
   "cell_type": "code",
   "execution_count": null,
   "metadata": {},
   "outputs": [],
   "source": []
  },
  {
   "cell_type": "code",
   "execution_count": null,
   "metadata": {},
   "outputs": [],
   "source": []
  },
  {
   "cell_type": "code",
   "execution_count": null,
   "metadata": {},
   "outputs": [],
   "source": []
  },
  {
   "cell_type": "code",
   "execution_count": null,
   "metadata": {},
   "outputs": [],
   "source": []
  },
  {
   "cell_type": "code",
   "execution_count": null,
   "metadata": {},
   "outputs": [],
   "source": []
  },
  {
   "cell_type": "code",
   "execution_count": null,
   "metadata": {},
   "outputs": [],
   "source": []
  },
  {
   "cell_type": "code",
   "execution_count": null,
   "metadata": {},
   "outputs": [],
   "source": []
  },
  {
   "cell_type": "code",
   "execution_count": null,
   "metadata": {},
   "outputs": [],
   "source": []
  },
  {
   "cell_type": "code",
   "execution_count": null,
   "metadata": {},
   "outputs": [],
   "source": []
  },
  {
   "cell_type": "code",
   "execution_count": null,
   "metadata": {},
   "outputs": [],
   "source": []
  },
  {
   "cell_type": "code",
   "execution_count": null,
   "metadata": {},
   "outputs": [],
   "source": []
  },
  {
   "cell_type": "code",
   "execution_count": null,
   "metadata": {},
   "outputs": [],
   "source": []
  },
  {
   "cell_type": "code",
   "execution_count": null,
   "metadata": {},
   "outputs": [],
   "source": []
  },
  {
   "cell_type": "code",
   "execution_count": null,
   "metadata": {},
   "outputs": [],
   "source": []
  },
  {
   "cell_type": "code",
   "execution_count": null,
   "metadata": {},
   "outputs": [],
   "source": []
  },
  {
   "cell_type": "code",
   "execution_count": null,
   "metadata": {},
   "outputs": [],
   "source": []
  },
  {
   "cell_type": "code",
   "execution_count": null,
   "metadata": {},
   "outputs": [],
   "source": []
  },
  {
   "cell_type": "code",
   "execution_count": null,
   "metadata": {},
   "outputs": [],
   "source": []
  },
  {
   "cell_type": "code",
   "execution_count": null,
   "metadata": {},
   "outputs": [],
   "source": []
  },
  {
   "cell_type": "code",
   "execution_count": null,
   "metadata": {},
   "outputs": [],
   "source": []
  }
 ],
 "metadata": {
  "interpreter": {
   "hash": "8fcae832899945c066d7d4c73ed987eb1ba1081328930f6357afc48f48ee0072"
  },
  "kernelspec": {
   "display_name": "Python 3.9.7 ('base')",
   "language": "python",
   "name": "python3"
  },
  "language_info": {
   "codemirror_mode": {
    "name": "ipython",
    "version": 3
   },
   "file_extension": ".py",
   "mimetype": "text/x-python",
   "name": "python",
   "nbconvert_exporter": "python",
   "pygments_lexer": "ipython3",
   "version": "3.9.7"
  },
  "orig_nbformat": 4
 },
 "nbformat": 4,
 "nbformat_minor": 2
}
